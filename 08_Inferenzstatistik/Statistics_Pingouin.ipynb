{
 "cells": [
  {
   "cell_type": "markdown",
   "metadata": {},
   "source": [
    "# Statistische Analyse in Python mittels Pingouin"
   ]
  },
  {
   "cell_type": "code",
   "execution_count": 1,
   "metadata": {},
   "outputs": [],
   "source": [
    "import numpy as np\n",
    "import pandas as pd\n",
    "import pingouin as pg\n",
    "\n",
    "import matplotlib.pyplot as plt\n",
    "import seaborn as sns\n",
    "from statannot import add_stat_annotation\n",
    "\n",
    "import biopsykit as bp\n",
    "\n",
    "from IPython.display import Markdown\n",
    "\n",
    "%load_ext autoreload\n",
    "%autoreload 2\n",
    "%matplotlib widget"
   ]
  },
  {
   "cell_type": "markdown",
   "metadata": {},
   "source": [
    "**Pingouin**: Open-Source Bibliothek zur statistischen Analyse in Python, die auf *pandas* und *numpy* basiert.\n",
    "\n",
    "Installation: `pip install pingouin`  \n",
    "Link: https://pingouin-stats.org/  \n",
    "Tutorial: https://pingouin-stats.org/guidelines.html\n",
    "\n",
    "Import: `import pingouin as pg`"
   ]
  },
  {
   "cell_type": "code",
   "execution_count": 2,
   "metadata": {},
   "outputs": [],
   "source": [
    "sns.set_theme(style=\"ticks\")\n",
    "sns.set_palette(sns.color_palette(\"light:#003865\", n_colors=4)[::-1])\n",
    "plt.close('all')\n",
    "\n",
    "# parameter for add_stat_annotation\n",
    "pvalue_thres = [[1e-3, \"***\"], [1e-2, \"**\"], [0.05, \"*\"]]"
   ]
  },
  {
   "cell_type": "markdown",
   "metadata": {},
   "source": [
    "<div class=\"alert alert-block alert-info\">\n",
    "    <b>Hinweis:</b> Genauso wie Seaborn ist es auch bei Pingouin von Vorteil, wenn die Daten im <i>Long-Format</i> vorliegen!\n",
    "</div>"
   ]
  },
  {
   "cell_type": "markdown",
   "metadata": {},
   "source": [
    "## Daten importieren"
   ]
  },
  {
   "cell_type": "markdown",
   "metadata": {},
   "source": [
    "Datensatz aus Richer et al. \"Tackling Acute Stress: Evaluating the Cold Face Test as a Potential Mechanism for Stress-reducing Wearables\"\n",
    "HR(V), Cortisol und Fragebögen während der Durchführung des MIST mit zwei Gruppen: Kontrollgruppe und Interventionsgruppe\n",
    "* HR(V): Variablen Herzrate (HR), RMSSD, pNN50, SD1/SD2  pro MIST Phase (1-3) und pro MIST Subphase (Baseline (BL), Cold Face Intervention (CFI), Arithmetic Tasks (AT), Feedback (FB)), jeweils absolut und relativ (z.B. $\\text{HR}_{rel}$, normalisiert pro Subject vor Beginn des Stressors)\n",
    "* Fragebogen: MDBF (Multidimensionaler Bedindlichkeitsfragebogen, jeweils *pre* und *post* Stress)\n",
    "* Cortisol: 7 Speichelproben an den Zeitpunkten -27 (S0, zur Kontrolle für hohe Baseline), 0, 30, 40, 50, 60, 70 (min relativ zu MIST-Start)"
   ]
  },
  {
   "cell_type": "markdown",
   "metadata": {},
   "source": [
    "### HR(V)"
   ]
  },
  {
   "cell_type": "code",
   "execution_count": 3,
   "metadata": {},
   "outputs": [
    {
     "data": {
      "text/html": [
       "<div>\n",
       "<style scoped>\n",
       "    .dataframe tbody tr th:only-of-type {\n",
       "        vertical-align: middle;\n",
       "    }\n",
       "\n",
       "    .dataframe tbody tr th {\n",
       "        vertical-align: top;\n",
       "    }\n",
       "\n",
       "    .dataframe thead th {\n",
       "        text-align: right;\n",
       "    }\n",
       "</style>\n",
       "<table border=\"1\" class=\"dataframe\">\n",
       "  <thead>\n",
       "    <tr style=\"text-align: right;\">\n",
       "      <th></th>\n",
       "      <th></th>\n",
       "      <th></th>\n",
       "      <th></th>\n",
       "      <th>HR</th>\n",
       "      <th>RMSSD</th>\n",
       "      <th>pNN50</th>\n",
       "      <th>SD1/SD2</th>\n",
       "      <th>HR_rel</th>\n",
       "      <th>RMSSD_rel</th>\n",
       "      <th>pNN50_rel</th>\n",
       "      <th>SD1/SD2_rel</th>\n",
       "    </tr>\n",
       "    <tr>\n",
       "      <th>condition</th>\n",
       "      <th>subject</th>\n",
       "      <th>phase</th>\n",
       "      <th>subphase</th>\n",
       "      <th></th>\n",
       "      <th></th>\n",
       "      <th></th>\n",
       "      <th></th>\n",
       "      <th></th>\n",
       "      <th></th>\n",
       "      <th></th>\n",
       "      <th></th>\n",
       "    </tr>\n",
       "  </thead>\n",
       "  <tbody>\n",
       "    <tr>\n",
       "      <th rowspan=\"5\" valign=\"top\">Intervention</th>\n",
       "      <th rowspan=\"5\" valign=\"top\">1</th>\n",
       "      <th rowspan=\"4\" valign=\"top\">MIST1</th>\n",
       "      <th>BL</th>\n",
       "      <td>92.267432</td>\n",
       "      <td>22.554093</td>\n",
       "      <td>5.494505</td>\n",
       "      <td>0.320845</td>\n",
       "      <td>-4.601992</td>\n",
       "      <td>10.334854</td>\n",
       "      <td>51.865576</td>\n",
       "      <td>23.095973</td>\n",
       "    </tr>\n",
       "    <tr>\n",
       "      <th>AT</th>\n",
       "      <td>92.390654</td>\n",
       "      <td>31.981018</td>\n",
       "      <td>15.994550</td>\n",
       "      <td>0.322195</td>\n",
       "      <td>-4.474589</td>\n",
       "      <td>56.451465</td>\n",
       "      <td>342.081934</td>\n",
       "      <td>23.614102</td>\n",
       "    </tr>\n",
       "    <tr>\n",
       "      <th>CFI</th>\n",
       "      <td>85.288600</td>\n",
       "      <td>29.278240</td>\n",
       "      <td>10.236686</td>\n",
       "      <td>0.280812</td>\n",
       "      <td>-11.817612</td>\n",
       "      <td>43.229445</td>\n",
       "      <td>182.937251</td>\n",
       "      <td>7.737000</td>\n",
       "    </tr>\n",
       "    <tr>\n",
       "      <th>FB</th>\n",
       "      <td>91.236676</td>\n",
       "      <td>25.647301</td>\n",
       "      <td>8.947368</td>\n",
       "      <td>0.448421</td>\n",
       "      <td>-5.667722</td>\n",
       "      <td>25.466858</td>\n",
       "      <td>147.301102</td>\n",
       "      <td>72.042135</td>\n",
       "    </tr>\n",
       "    <tr>\n",
       "      <th>MIST2</th>\n",
       "      <th>BL</th>\n",
       "      <td>91.489228</td>\n",
       "      <td>20.316695</td>\n",
       "      <td>0.000000</td>\n",
       "      <td>0.297082</td>\n",
       "      <td>-5.406600</td>\n",
       "      <td>-0.610524</td>\n",
       "      <td>-100.000000</td>\n",
       "      <td>13.979008</td>\n",
       "    </tr>\n",
       "  </tbody>\n",
       "</table>\n",
       "</div>"
      ],
      "text/plain": [
       "                                            HR      RMSSD      pNN50  \\\n",
       "condition    subject phase subphase                                    \n",
       "Intervention 1       MIST1 BL        92.267432  22.554093   5.494505   \n",
       "                           AT        92.390654  31.981018  15.994550   \n",
       "                           CFI       85.288600  29.278240  10.236686   \n",
       "                           FB        91.236676  25.647301   8.947368   \n",
       "                     MIST2 BL        91.489228  20.316695   0.000000   \n",
       "\n",
       "                                      SD1/SD2     HR_rel  RMSSD_rel  \\\n",
       "condition    subject phase subphase                                   \n",
       "Intervention 1       MIST1 BL        0.320845  -4.601992  10.334854   \n",
       "                           AT        0.322195  -4.474589  56.451465   \n",
       "                           CFI       0.280812 -11.817612  43.229445   \n",
       "                           FB        0.448421  -5.667722  25.466858   \n",
       "                     MIST2 BL        0.297082  -5.406600  -0.610524   \n",
       "\n",
       "                                      pNN50_rel  SD1/SD2_rel  \n",
       "condition    subject phase subphase                           \n",
       "Intervention 1       MIST1 BL         51.865576    23.095973  \n",
       "                           AT        342.081934    23.614102  \n",
       "                           CFI       182.937251     7.737000  \n",
       "                           FB        147.301102    72.042135  \n",
       "                     MIST2 BL       -100.000000    13.979008  "
      ]
     },
     "execution_count": 3,
     "metadata": {},
     "output_type": "execute_result"
    }
   ],
   "source": [
    "df_hr = pd.read_csv(\"data/hr_sample.csv\", index_col=[\"condition\", \"subject\", \"phase\", \"subphase\"])\n",
    "df_hr.head()"
   ]
  },
  {
   "cell_type": "markdown",
   "metadata": {},
   "source": [
    "### Fragebögen"
   ]
  },
  {
   "cell_type": "code",
   "execution_count": 4,
   "metadata": {},
   "outputs": [
    {
     "data": {
      "text/html": [
       "<div>\n",
       "<style scoped>\n",
       "    .dataframe tbody tr th:only-of-type {\n",
       "        vertical-align: middle;\n",
       "    }\n",
       "\n",
       "    .dataframe tbody tr th {\n",
       "        vertical-align: top;\n",
       "    }\n",
       "\n",
       "    .dataframe thead th {\n",
       "        text-align: right;\n",
       "    }\n",
       "</style>\n",
       "<table border=\"1\" class=\"dataframe\">\n",
       "  <thead>\n",
       "    <tr style=\"text-align: right;\">\n",
       "      <th></th>\n",
       "      <th></th>\n",
       "      <th></th>\n",
       "      <th></th>\n",
       "      <th>MDBF</th>\n",
       "    </tr>\n",
       "    <tr>\n",
       "      <th>condition</th>\n",
       "      <th>subject</th>\n",
       "      <th>time</th>\n",
       "      <th>type</th>\n",
       "      <th></th>\n",
       "    </tr>\n",
       "  </thead>\n",
       "  <tbody>\n",
       "    <tr>\n",
       "      <th rowspan=\"5\" valign=\"top\">Intervention</th>\n",
       "      <th rowspan=\"5\" valign=\"top\">1</th>\n",
       "      <th rowspan=\"3\" valign=\"top\">pre</th>\n",
       "      <th>awake_tired</th>\n",
       "      <td>29</td>\n",
       "    </tr>\n",
       "    <tr>\n",
       "      <th>calm_nervous</th>\n",
       "      <td>32</td>\n",
       "    </tr>\n",
       "    <tr>\n",
       "      <th>good_bad</th>\n",
       "      <td>34</td>\n",
       "    </tr>\n",
       "    <tr>\n",
       "      <th rowspan=\"2\" valign=\"top\">post</th>\n",
       "      <th>awake_tired</th>\n",
       "      <td>30</td>\n",
       "    </tr>\n",
       "    <tr>\n",
       "      <th>calm_nervous</th>\n",
       "      <td>28</td>\n",
       "    </tr>\n",
       "  </tbody>\n",
       "</table>\n",
       "</div>"
      ],
      "text/plain": [
       "                                        MDBF\n",
       "condition    subject time type              \n",
       "Intervention 1       pre  awake_tired     29\n",
       "                          calm_nervous    32\n",
       "                          good_bad        34\n",
       "                     post awake_tired     30\n",
       "                          calm_nervous    28"
      ]
     },
     "execution_count": 4,
     "metadata": {},
     "output_type": "execute_result"
    }
   ],
   "source": [
    "df_mood = pd.read_csv(\"data/mood_sample.csv\", index_col=[\"condition\", \"subject\", \"time\", \"type\"])\n",
    "df_mood.head()"
   ]
  },
  {
   "cell_type": "markdown",
   "metadata": {},
   "source": [
    "### Cortisol"
   ]
  },
  {
   "cell_type": "code",
   "execution_count": 5,
   "metadata": {},
   "outputs": [
    {
     "data": {
      "text/html": [
       "<div>\n",
       "<style scoped>\n",
       "    .dataframe tbody tr th:only-of-type {\n",
       "        vertical-align: middle;\n",
       "    }\n",
       "\n",
       "    .dataframe tbody tr th {\n",
       "        vertical-align: top;\n",
       "    }\n",
       "\n",
       "    .dataframe thead th {\n",
       "        text-align: right;\n",
       "    }\n",
       "</style>\n",
       "<table border=\"1\" class=\"dataframe\">\n",
       "  <thead>\n",
       "    <tr style=\"text-align: right;\">\n",
       "      <th></th>\n",
       "      <th></th>\n",
       "      <th></th>\n",
       "      <th>cortisol</th>\n",
       "    </tr>\n",
       "    <tr>\n",
       "      <th>condition</th>\n",
       "      <th>subject</th>\n",
       "      <th>saliva_feature</th>\n",
       "      <th></th>\n",
       "    </tr>\n",
       "  </thead>\n",
       "  <tbody>\n",
       "    <tr>\n",
       "      <th rowspan=\"5\" valign=\"top\">Control</th>\n",
       "      <th rowspan=\"4\" valign=\"top\">3</th>\n",
       "      <th>auc_g</th>\n",
       "      <td>1110.809250</td>\n",
       "    </tr>\n",
       "    <tr>\n",
       "      <th>auc_i</th>\n",
       "      <td>587.154750</td>\n",
       "    </tr>\n",
       "    <tr>\n",
       "      <th>max_inc_percent</th>\n",
       "      <td>163.591738</td>\n",
       "    </tr>\n",
       "    <tr>\n",
       "      <th>slope14</th>\n",
       "      <td>0.014250</td>\n",
       "    </tr>\n",
       "    <tr>\n",
       "      <th>6</th>\n",
       "      <th>auc_g</th>\n",
       "      <td>884.624825</td>\n",
       "    </tr>\n",
       "  </tbody>\n",
       "</table>\n",
       "</div>"
      ],
      "text/plain": [
       "                                      cortisol\n",
       "condition subject saliva_feature              \n",
       "Control   3       auc_g            1110.809250\n",
       "                  auc_i             587.154750\n",
       "                  max_inc_percent   163.591738\n",
       "                  slope14             0.014250\n",
       "          6       auc_g             884.624825"
      ]
     },
     "execution_count": 5,
     "metadata": {},
     "output_type": "execute_result"
    }
   ],
   "source": [
    "df_cort_raw = pd.read_csv(\"data/cortisol_sample.csv\", index_col=[\"condition\", \"subject\"])\n",
    "saliva_times = [-27, 0, 30, 40, 50, 60, 70]\n",
    "\n",
    "# Umwandeln ins Long-Format\n",
    "df_cort_raw = pd.DataFrame(df_cort_raw.stack())\n",
    "df_cort_raw.columns = [\"cortisol\"]\n",
    "df_cort_raw.index = df_cort_raw.index.rename('sample', level=2)\n",
    "\n",
    "# Aufteilen der Cortisol-Werte in Wert davor (Sample 1) und maximaler Wert pro Subject danach (Samples 2 bis 6)\n",
    "cort_pre = df_cort_raw.unstack(level='sample').iloc[:, 1]\n",
    "cort_post = df_cort_raw.unstack(level='sample').iloc[:, 2:].max(axis=1)\n",
    "df_cort_inc = pd.concat([cort_pre, cort_post], axis=1, keys=['pre', 'post'], names=['time'])\n",
    "df_cort_inc = pd.DataFrame(df_cort_inc.stack(), columns=[\"cortisol\"])\n",
    "\n",
    "# Cortisol Features berechnen\n",
    "df_cort = bp.saliva.auc(df_cort_raw, sample_times=saliva_times)\n",
    "df_cort = df_cort.join(bp.saliva.max_increase(df_cort_raw, percent=True))\n",
    "df_cort = df_cort.join(bp.saliva.slope(df_cort_raw, sample_idx=[1, 4], sample_times=saliva_times))\n",
    "\n",
    "# Feature-Dataframe ins Long-Format umwandeln\n",
    "df_cort = bp.saliva.utils.saliva_feature_wide_to_long(df_cort, saliva_type=\"cortisol\")\n",
    "df_cort.head()"
   ]
  },
  {
   "cell_type": "markdown",
   "metadata": {},
   "source": [
    "## Reaktion auf den MIST"
   ]
  },
  {
   "cell_type": "markdown",
   "metadata": {},
   "source": [
    "### Fragestellung I: Erzeugt jede Phase des MIST eine signifikante kardiovaskuläre Stressreaktion?"
   ]
  },
  {
   "cell_type": "markdown",
   "metadata": {},
   "source": [
    "#### Untersuchung\n",
    "\n",
    "Bei der *Kontrollgruppe* wird für jede MIST-Phase gesondert untersucht, ob die Herzrate zwischen den Subphasen *BL* und *AT* signifikant ansteigt."
   ]
  },
  {
   "cell_type": "markdown",
   "metadata": {},
   "source": [
    "#### Statistik"
   ]
  },
  {
   "cell_type": "markdown",
   "metadata": {},
   "source": [
    "##### Analyse\n",
    "* Vorbereitende Analyse:\n",
    "    * Test auf Normalverteilung (Shapiro-Wilk-Test)\n",
    "* *Test*: t-tests für abhängige Stichproben\n",
    "* *AV*: HR\n",
    "* *Innersubjektfaktor*: Subphase\n",
    "* *Maß für Effektstärke*: Hedge's g\n",
    "\n",
    "=> Analoge Analyse für die weiteren HRV-Parameter (signifikante Verringerung der HRV während Stress?)"
   ]
  },
  {
   "cell_type": "code",
   "execution_count": 6,
   "metadata": {},
   "outputs": [
    {
     "data": {
      "text/html": [
       "<div>\n",
       "<style scoped>\n",
       "    .dataframe tbody tr th:only-of-type {\n",
       "        vertical-align: middle;\n",
       "    }\n",
       "\n",
       "    .dataframe tbody tr th {\n",
       "        vertical-align: top;\n",
       "    }\n",
       "\n",
       "    .dataframe thead th {\n",
       "        text-align: right;\n",
       "    }\n",
       "</style>\n",
       "<table border=\"1\" class=\"dataframe\">\n",
       "  <thead>\n",
       "    <tr style=\"text-align: right;\">\n",
       "      <th></th>\n",
       "      <th></th>\n",
       "      <th></th>\n",
       "      <th></th>\n",
       "      <th>HR</th>\n",
       "      <th>RMSSD</th>\n",
       "      <th>pNN50</th>\n",
       "      <th>SD1/SD2</th>\n",
       "      <th>HR_rel</th>\n",
       "      <th>RMSSD_rel</th>\n",
       "      <th>pNN50_rel</th>\n",
       "      <th>SD1/SD2_rel</th>\n",
       "    </tr>\n",
       "    <tr>\n",
       "      <th>condition</th>\n",
       "      <th>subject</th>\n",
       "      <th>phase</th>\n",
       "      <th>subphase</th>\n",
       "      <th></th>\n",
       "      <th></th>\n",
       "      <th></th>\n",
       "      <th></th>\n",
       "      <th></th>\n",
       "      <th></th>\n",
       "      <th></th>\n",
       "      <th></th>\n",
       "    </tr>\n",
       "  </thead>\n",
       "  <tbody>\n",
       "    <tr>\n",
       "      <th rowspan=\"5\" valign=\"top\">Intervention</th>\n",
       "      <th rowspan=\"5\" valign=\"top\">1</th>\n",
       "      <th rowspan=\"4\" valign=\"top\">MIST1</th>\n",
       "      <th>BL</th>\n",
       "      <td>92.267432</td>\n",
       "      <td>22.554093</td>\n",
       "      <td>5.494505</td>\n",
       "      <td>0.320845</td>\n",
       "      <td>-4.601992</td>\n",
       "      <td>10.334854</td>\n",
       "      <td>51.865576</td>\n",
       "      <td>23.095973</td>\n",
       "    </tr>\n",
       "    <tr>\n",
       "      <th>AT</th>\n",
       "      <td>92.390654</td>\n",
       "      <td>31.981018</td>\n",
       "      <td>15.994550</td>\n",
       "      <td>0.322195</td>\n",
       "      <td>-4.474589</td>\n",
       "      <td>56.451465</td>\n",
       "      <td>342.081934</td>\n",
       "      <td>23.614102</td>\n",
       "    </tr>\n",
       "    <tr>\n",
       "      <th>CFI</th>\n",
       "      <td>85.288600</td>\n",
       "      <td>29.278240</td>\n",
       "      <td>10.236686</td>\n",
       "      <td>0.280812</td>\n",
       "      <td>-11.817612</td>\n",
       "      <td>43.229445</td>\n",
       "      <td>182.937251</td>\n",
       "      <td>7.737000</td>\n",
       "    </tr>\n",
       "    <tr>\n",
       "      <th>FB</th>\n",
       "      <td>91.236676</td>\n",
       "      <td>25.647301</td>\n",
       "      <td>8.947368</td>\n",
       "      <td>0.448421</td>\n",
       "      <td>-5.667722</td>\n",
       "      <td>25.466858</td>\n",
       "      <td>147.301102</td>\n",
       "      <td>72.042135</td>\n",
       "    </tr>\n",
       "    <tr>\n",
       "      <th>MIST2</th>\n",
       "      <th>BL</th>\n",
       "      <td>91.489228</td>\n",
       "      <td>20.316695</td>\n",
       "      <td>0.000000</td>\n",
       "      <td>0.297082</td>\n",
       "      <td>-5.406600</td>\n",
       "      <td>-0.610524</td>\n",
       "      <td>-100.000000</td>\n",
       "      <td>13.979008</td>\n",
       "    </tr>\n",
       "  </tbody>\n",
       "</table>\n",
       "</div>"
      ],
      "text/plain": [
       "                                            HR      RMSSD      pNN50  \\\n",
       "condition    subject phase subphase                                    \n",
       "Intervention 1       MIST1 BL        92.267432  22.554093   5.494505   \n",
       "                           AT        92.390654  31.981018  15.994550   \n",
       "                           CFI       85.288600  29.278240  10.236686   \n",
       "                           FB        91.236676  25.647301   8.947368   \n",
       "                     MIST2 BL        91.489228  20.316695   0.000000   \n",
       "\n",
       "                                      SD1/SD2     HR_rel  RMSSD_rel  \\\n",
       "condition    subject phase subphase                                   \n",
       "Intervention 1       MIST1 BL        0.320845  -4.601992  10.334854   \n",
       "                           AT        0.322195  -4.474589  56.451465   \n",
       "                           CFI       0.280812 -11.817612  43.229445   \n",
       "                           FB        0.448421  -5.667722  25.466858   \n",
       "                     MIST2 BL        0.297082  -5.406600  -0.610524   \n",
       "\n",
       "                                      pNN50_rel  SD1/SD2_rel  \n",
       "condition    subject phase subphase                           \n",
       "Intervention 1       MIST1 BL         51.865576    23.095973  \n",
       "                           AT        342.081934    23.614102  \n",
       "                           CFI       182.937251     7.737000  \n",
       "                           FB        147.301102    72.042135  \n",
       "                     MIST2 BL       -100.000000    13.979008  "
      ]
     },
     "execution_count": 6,
     "metadata": {},
     "output_type": "execute_result"
    }
   ],
   "source": [
    "df_hr.head()"
   ]
  },
  {
   "cell_type": "code",
   "execution_count": 7,
   "metadata": {},
   "outputs": [
    {
     "data": {
      "text/html": [
       "<div>\n",
       "<style scoped>\n",
       "    .dataframe tbody tr th:only-of-type {\n",
       "        vertical-align: middle;\n",
       "    }\n",
       "\n",
       "    .dataframe tbody tr th {\n",
       "        vertical-align: top;\n",
       "    }\n",
       "\n",
       "    .dataframe thead th {\n",
       "        text-align: right;\n",
       "    }\n",
       "</style>\n",
       "<table border=\"1\" class=\"dataframe\">\n",
       "  <thead>\n",
       "    <tr style=\"text-align: right;\">\n",
       "      <th></th>\n",
       "      <th>condition</th>\n",
       "      <th>subject</th>\n",
       "      <th>phase</th>\n",
       "      <th>subphase</th>\n",
       "      <th>HR</th>\n",
       "    </tr>\n",
       "  </thead>\n",
       "  <tbody>\n",
       "    <tr>\n",
       "      <th>0</th>\n",
       "      <td>Control</td>\n",
       "      <td>3</td>\n",
       "      <td>MIST1</td>\n",
       "      <td>BL</td>\n",
       "      <td>98.815181</td>\n",
       "    </tr>\n",
       "    <tr>\n",
       "      <th>1</th>\n",
       "      <td>Control</td>\n",
       "      <td>3</td>\n",
       "      <td>MIST2</td>\n",
       "      <td>BL</td>\n",
       "      <td>94.558515</td>\n",
       "    </tr>\n",
       "    <tr>\n",
       "      <th>2</th>\n",
       "      <td>Control</td>\n",
       "      <td>3</td>\n",
       "      <td>MIST3</td>\n",
       "      <td>BL</td>\n",
       "      <td>104.853891</td>\n",
       "    </tr>\n",
       "    <tr>\n",
       "      <th>3</th>\n",
       "      <td>Control</td>\n",
       "      <td>6</td>\n",
       "      <td>MIST1</td>\n",
       "      <td>BL</td>\n",
       "      <td>89.528132</td>\n",
       "    </tr>\n",
       "    <tr>\n",
       "      <th>4</th>\n",
       "      <td>Control</td>\n",
       "      <td>6</td>\n",
       "      <td>MIST2</td>\n",
       "      <td>BL</td>\n",
       "      <td>86.974814</td>\n",
       "    </tr>\n",
       "    <tr>\n",
       "      <th>...</th>\n",
       "      <td>...</td>\n",
       "      <td>...</td>\n",
       "      <td>...</td>\n",
       "      <td>...</td>\n",
       "      <td>...</td>\n",
       "    </tr>\n",
       "    <tr>\n",
       "      <th>73</th>\n",
       "      <td>Control</td>\n",
       "      <td>32</td>\n",
       "      <td>MIST2</td>\n",
       "      <td>AT</td>\n",
       "      <td>77.965521</td>\n",
       "    </tr>\n",
       "    <tr>\n",
       "      <th>74</th>\n",
       "      <td>Control</td>\n",
       "      <td>32</td>\n",
       "      <td>MIST3</td>\n",
       "      <td>AT</td>\n",
       "      <td>101.925539</td>\n",
       "    </tr>\n",
       "    <tr>\n",
       "      <th>75</th>\n",
       "      <td>Control</td>\n",
       "      <td>33</td>\n",
       "      <td>MIST1</td>\n",
       "      <td>AT</td>\n",
       "      <td>59.906150</td>\n",
       "    </tr>\n",
       "    <tr>\n",
       "      <th>76</th>\n",
       "      <td>Control</td>\n",
       "      <td>33</td>\n",
       "      <td>MIST2</td>\n",
       "      <td>AT</td>\n",
       "      <td>58.200241</td>\n",
       "    </tr>\n",
       "    <tr>\n",
       "      <th>77</th>\n",
       "      <td>Control</td>\n",
       "      <td>33</td>\n",
       "      <td>MIST3</td>\n",
       "      <td>AT</td>\n",
       "      <td>59.219747</td>\n",
       "    </tr>\n",
       "  </tbody>\n",
       "</table>\n",
       "<p>78 rows × 5 columns</p>\n",
       "</div>"
      ],
      "text/plain": [
       "   condition  subject  phase subphase          HR\n",
       "0    Control        3  MIST1       BL   98.815181\n",
       "1    Control        3  MIST2       BL   94.558515\n",
       "2    Control        3  MIST3       BL  104.853891\n",
       "3    Control        6  MIST1       BL   89.528132\n",
       "4    Control        6  MIST2       BL   86.974814\n",
       "..       ...      ...    ...      ...         ...\n",
       "73   Control       32  MIST2       AT   77.965521\n",
       "74   Control       32  MIST3       AT  101.925539\n",
       "75   Control       33  MIST1       AT   59.906150\n",
       "76   Control       33  MIST2       AT   58.200241\n",
       "77   Control       33  MIST3       AT   59.219747\n",
       "\n",
       "[78 rows x 5 columns]"
      ]
     },
     "execution_count": 7,
     "metadata": {},
     "output_type": "execute_result"
    }
   ],
   "source": [
    "dv = \"HR\"\n",
    "subphases = [\"BL\", \"AT\"]\n",
    "# Selektieren der zu untersuchenden Daten: Kontrollgruppe, alle Subjects, alle MIST Phasen, Subphasen BL und AT\n",
    "df_analysis = df_hr[[dv]].loc[pd.IndexSlice[\"Control\", :, :, subphases]]\n",
    "\n",
    "df_analysis.reset_index()"
   ]
  },
  {
   "cell_type": "code",
   "execution_count": 8,
   "metadata": {},
   "outputs": [],
   "source": [
    "# Test auf Normalverteilung\n",
    "df_norm = df_analysis.reset_index().groupby(by=[\"phase\"]).apply(lambda df: pg.normality(data=df, dv=dv, group=\"subphase\"))\n",
    "\n",
    "# gepaarte t-tests pro MIST-Phase\n",
    "tt_phase = df_analysis.reset_index().groupby(by=[\"phase\"]).apply(lambda df: pg.pairwise_tests(data=df, dv=dv, within=\"subphase\", subject=\"subject\", effsize=\"hedges\"))"
   ]
  },
  {
   "cell_type": "code",
   "execution_count": 9,
   "metadata": {},
   "outputs": [
    {
     "data": {
      "text/markdown": [
       "Alle normalverteilt: **True**"
      ],
      "text/plain": [
       "<IPython.core.display.Markdown object>"
      ]
     },
     "metadata": {},
     "output_type": "display_data"
    },
    {
     "data": {
      "text/markdown": [
       "**Gepaarte t-tests**"
      ],
      "text/plain": [
       "<IPython.core.display.Markdown object>"
      ]
     },
     "metadata": {},
     "output_type": "display_data"
    },
    {
     "data": {
      "text/html": [
       "<div>\n",
       "<style scoped>\n",
       "    .dataframe tbody tr th:only-of-type {\n",
       "        vertical-align: middle;\n",
       "    }\n",
       "\n",
       "    .dataframe tbody tr th {\n",
       "        vertical-align: top;\n",
       "    }\n",
       "\n",
       "    .dataframe thead th {\n",
       "        text-align: right;\n",
       "    }\n",
       "</style>\n",
       "<table border=\"1\" class=\"dataframe\">\n",
       "  <thead>\n",
       "    <tr style=\"text-align: right;\">\n",
       "      <th></th>\n",
       "      <th></th>\n",
       "      <th>Contrast</th>\n",
       "      <th>A</th>\n",
       "      <th>B</th>\n",
       "      <th>Paired</th>\n",
       "      <th>Parametric</th>\n",
       "      <th>T</th>\n",
       "      <th>dof</th>\n",
       "      <th>alternative</th>\n",
       "      <th>p-unc</th>\n",
       "      <th>BF10</th>\n",
       "      <th>hedges</th>\n",
       "    </tr>\n",
       "    <tr>\n",
       "      <th>phase</th>\n",
       "      <th></th>\n",
       "      <th></th>\n",
       "      <th></th>\n",
       "      <th></th>\n",
       "      <th></th>\n",
       "      <th></th>\n",
       "      <th></th>\n",
       "      <th></th>\n",
       "      <th></th>\n",
       "      <th></th>\n",
       "      <th></th>\n",
       "      <th></th>\n",
       "    </tr>\n",
       "  </thead>\n",
       "  <tbody>\n",
       "    <tr>\n",
       "      <th>MIST1</th>\n",
       "      <th>0</th>\n",
       "      <td>subphase</td>\n",
       "      <td>AT</td>\n",
       "      <td>BL</td>\n",
       "      <td>True</td>\n",
       "      <td>True</td>\n",
       "      <td>3.273</td>\n",
       "      <td>12.0</td>\n",
       "      <td>two-sided</td>\n",
       "      <td>0.007</td>\n",
       "      <td>8.076</td>\n",
       "      <td>0.209</td>\n",
       "    </tr>\n",
       "    <tr>\n",
       "      <th>MIST2</th>\n",
       "      <th>0</th>\n",
       "      <td>subphase</td>\n",
       "      <td>AT</td>\n",
       "      <td>BL</td>\n",
       "      <td>True</td>\n",
       "      <td>True</td>\n",
       "      <td>3.961</td>\n",
       "      <td>12.0</td>\n",
       "      <td>two-sided</td>\n",
       "      <td>0.002</td>\n",
       "      <td>23.119</td>\n",
       "      <td>0.561</td>\n",
       "    </tr>\n",
       "    <tr>\n",
       "      <th>MIST3</th>\n",
       "      <th>0</th>\n",
       "      <td>subphase</td>\n",
       "      <td>AT</td>\n",
       "      <td>BL</td>\n",
       "      <td>True</td>\n",
       "      <td>True</td>\n",
       "      <td>3.679</td>\n",
       "      <td>12.0</td>\n",
       "      <td>two-sided</td>\n",
       "      <td>0.003</td>\n",
       "      <td>15.039</td>\n",
       "      <td>0.517</td>\n",
       "    </tr>\n",
       "  </tbody>\n",
       "</table>\n",
       "</div>"
      ],
      "text/plain": [
       "         Contrast   A   B  Paired  Parametric      T   dof alternative  p-unc  \\\n",
       "phase                                                                           \n",
       "MIST1 0  subphase  AT  BL    True        True  3.273  12.0   two-sided  0.007   \n",
       "MIST2 0  subphase  AT  BL    True        True  3.961  12.0   two-sided  0.002   \n",
       "MIST3 0  subphase  AT  BL    True        True  3.679  12.0   two-sided  0.003   \n",
       "\n",
       "           BF10  hedges  \n",
       "phase                    \n",
       "MIST1 0   8.076   0.209  \n",
       "MIST2 0  23.119   0.561  \n",
       "MIST3 0  15.039   0.517  "
      ]
     },
     "metadata": {},
     "output_type": "display_data"
    }
   ],
   "source": [
    "# Ausgabe\n",
    "display(Markdown(\"Alle normalverteilt: **{}**\".format(df_norm['normal'].all())))\n",
    "\n",
    "display(Markdown(\"**Gepaarte t-tests**\"))\n",
    "display(tt_phase.round(3))"
   ]
  },
  {
   "cell_type": "markdown",
   "metadata": {},
   "source": [
    "##### Interpretation\n",
    "\n",
    "\"Pairwise t-tests for each MIST phase individually revealed significant HR increases between *BL* and *AT* subphases indicating an effective sympathetic activation due to the stressor. Additionally, significant decreases of HRV measures occured in some, but not all, *MIST phases* (Table 2).\""
   ]
  },
  {
   "cell_type": "markdown",
   "metadata": {},
   "source": [
    "#### Boxplot"
   ]
  },
  {
   "cell_type": "code",
   "execution_count": 10,
   "metadata": {},
   "outputs": [
    {
     "data": {
      "application/vnd.jupyter.widget-view+json": {
       "model_id": "25b9bbfa342042c496e2fad844ecffa8",
       "version_major": 2,
       "version_minor": 0
      },
      "image/png": "[encoded data removed]",
      "text/html": [
       "\n",
       "            <div style=\"display: inline-block;\">\n",
       "                <div class=\"jupyter-widgets widget-label\" style=\"text-align: center;\">\n",
       "                    Figure\n",
       "                </div>\n",
       "                <img src='data:image/png;base64,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' width=640.0/>\n",
       "            </div>\n",
       "        "
      ],
      "text/plain": [
       "Canvas(toolbar=Toolbar(toolitems=[('Home', 'Reset original view', 'home', 'home'), ('Back', 'Back to previous …"
      ]
     },
     "metadata": {},
     "output_type": "display_data"
    }
   ],
   "source": [
    "fig, ax = plt.subplots()\n",
    "sns.boxplot(data=df_analysis.reset_index(), x=\"phase\", y=dv, hue=\"subphase\")\n",
    "ax.set_ylabel(\"HR [bpm]\")\n",
    "\n",
    "fig.tight_layout()"
   ]
  },
  {
   "cell_type": "markdown",
   "metadata": {},
   "source": [
    "**Hinzufügen von Signifikanzklammern**\n",
    "\n",
    "Mittels der Funktion `add_stat_annotation()` der Bibliothek `statannot` können den Boxplots \"Signifikanzklammern\" hinzugefügt werden.\n",
    "\n",
    "Installation: `pip install statannot`  \n",
    "Dokumentation: https://github.com/webermarcolivier/statannot  \n",
    "Beispiele: https://github.com/webermarcolivier/statannot/blob/master/example/example.ipynb\n",
    "\n",
    "`add_stat_annotation()` benötigt eine Liste mit Namen der Boxplot-Paare, über welche Klammern gesetzt werden sollen.  \n",
    "\n",
    "Listenformat => Aus Dokumentation der Funktion:\n",
    "* For non-grouped boxplot: `[(cat1, cat2), (cat3, cat4)]`\n",
    "* For boxplot grouped by hue: `[((cat1, hue1), (cat2, hue2)), ((cat3, hue3), (cat4, hue4))]`"
   ]
  },
  {
   "cell_type": "code",
   "execution_count": 11,
   "metadata": {},
   "outputs": [
    {
     "data": {
      "text/plain": [
       "(('MIST1', 'BL'), ('MIST1', 'AT'))"
      ]
     },
     "execution_count": 11,
     "metadata": {},
     "output_type": "execute_result"
    }
   ],
   "source": [
    "((\"MIST1\", \"BL\"), (\"MIST1\", \"AT\"))"
   ]
  },
  {
   "cell_type": "code",
   "execution_count": 12,
   "metadata": {},
   "outputs": [
    {
     "data": {
      "text/plain": [
       "[(('MIST1', 'BL'), ('MIST1', 'AT')),\n",
       " (('MIST2', 'BL'), ('MIST2', 'AT')),\n",
       " (('MIST3', 'BL'), ('MIST3', 'AT'))]"
      ]
     },
     "execution_count": 12,
     "metadata": {},
     "output_type": "execute_result"
    }
   ],
   "source": [
    "# Signifikante MIST-Phasen\n",
    "sig_list = [\"MIST1\", \"MIST2\", \"MIST3\"]\n",
    "# Konstruieren der Boxplot-Paare-Liste\n",
    "sig_pairs = [tuple([(sig, sub) for sub in subphases]) for sig in sig_list]\n",
    "sig_pairs"
   ]
  },
  {
   "cell_type": "markdown",
   "metadata": {},
   "source": [
    "#### Boxplot mit Signifikanzklammern"
   ]
  },
  {
   "cell_type": "code",
   "execution_count": 13,
   "metadata": {},
   "outputs": [
    {
     "name": "stdout",
     "output_type": "stream",
     "text": [
      "p-value annotation legend:\n",
      "*: 1.00e-02 < p <= 5.00e-02\n",
      "**: 1.00e-03 < p <= 1.00e-02\n",
      "***: p <= 1.00e-03\n",
      "\n",
      "MIST2_BL v.s. MIST2_AT: t-test paired samples, P_val=1.889e-03 stat=-3.961e+00\n",
      "MIST1_BL v.s. MIST1_AT: t-test paired samples, P_val=6.668e-03 stat=-3.273e+00\n",
      "MIST3_BL v.s. MIST3_AT: t-test paired samples, P_val=3.152e-03 stat=-3.679e+00\n"
     ]
    },
    {
     "data": {
      "application/vnd.jupyter.widget-view+json": {
       "model_id": "1ceaede56f044e45b390fbe2159b6506",
       "version_major": 2,
       "version_minor": 0
      },
      "image/png": "[encoded data removed]",
      "text/html": [
       "\n",
       "            <div style=\"display: inline-block;\">\n",
       "                <div class=\"jupyter-widgets widget-label\" style=\"text-align: center;\">\n",
       "                    Figure\n",
       "                </div>\n",
       "                <img src='data:image/png;base64,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' width=640.0/>\n",
       "            </div>\n",
       "        "
      ],
      "text/plain": [
       "Canvas(toolbar=Toolbar(toolitems=[('Home', 'Reset original view', 'home', 'home'), ('Back', 'Back to previous …"
      ]
     },
     "metadata": {},
     "output_type": "display_data"
    }
   ],
   "source": [
    "fig, ax = plt.subplots()\n",
    "sns.boxplot(data=df_analysis.reset_index(), x=\"phase\", y=dv, hue=\"subphase\")\n",
    "ax.set_ylabel(\"HR [bpm]\")\n",
    "\n",
    "add_stat_annotation(\n",
    "    ax=ax, data=df_analysis.reset_index(), \n",
    "    x=\"phase\", y=dv, hue=\"subphase\", \n",
    "    box_pairs=sig_pairs,\n",
    "    pvalue_thresholds=pvalue_thres,\n",
    "    test=\"t-test_paired\",\n",
    "    comparisons_correction=None\n",
    ")\n",
    "fig.tight_layout()"
   ]
  },
  {
   "cell_type": "markdown",
   "metadata": {},
   "source": [
    "#### Violinplot"
   ]
  },
  {
   "cell_type": "code",
   "execution_count": 14,
   "metadata": {},
   "outputs": [
    {
     "data": {
      "application/vnd.jupyter.widget-view+json": {
       "model_id": "dfe99e1689064568a78fc757e4506b14",
       "version_major": 2,
       "version_minor": 0
      },
      "image/png": "[encoded data removed]",
      "text/html": [
       "\n",
       "            <div style=\"display: inline-block;\">\n",
       "                <div class=\"jupyter-widgets widget-label\" style=\"text-align: center;\">\n",
       "                    Figure\n",
       "                </div>\n",
       "                <img src='data:image/png;base64,iVBORw0KGgoAAAANSUhEUgAAAoAAAAHgCAYAAAA10dzkAAAAOXRFWHRTb2Z0d2FyZQBNYXRwbG90bGliIHZlcnNpb24zLjcuMCwgaHR0cHM6Ly9tYXRwbG90bGliLm9yZy88F64QAAAACXBIWXMAAA9hAAAPYQGoP6dpAACb0klEQVR4nOzdd3iUZdbH8e8zPZNeSAg1SBGpooDoYllw7br2tVfsvbvKq65rQVcFRUTFVRBRiihrL6CCKCBFQHpLKCG9J5Ppz/vHZEYjLWVmninnc11eF2QmMz8wzJy5n/s+R1FVVUUIIYQQQsQNndYBhBBCCCFEeEkBKIQQQggRZ6QAFEIIIYSIM1IACiGEEELEGSkAhRBCCCHijBSAQgghhBBxRgpAIYQQQog4IwWgEEIIIUSckQJQCCGEECLOSAEohBBCCBFnpAAUQgghhIgzUgAKIYQQQsQZKQCFEEIIIeKMFIBCCCGEEHFGCkAhhBBCiDgjBaAQQgghRJyRAlAIIYQQIs5EVQH4xhtvcOWVVzb7WmlpKffeey9Dhw7lmGOO4b777qOysrLZfWbMmMHo0aMZNGgQl112GRs2bAhnbCGEEEKIiBI1BeCMGTOYMGFCs685nU6uu+469u7dy7vvvsubb77Jpk2beOihhwL3+fjjj3n++ee56667+Oijj+jSpQvXXnvtPkWiEEIIIUS8iPgCsKSkhJtvvpkXXniBvLy8Zrd99tlnFBYW8uqrr9KvXz8GDx7Mww8/TH5+PvX19QC8/vrrXHHFFZxzzjn06tWLZ555hoSEBObMmaPBn0YIIYQQQnsGrQMcyvr16zEajXzyySdMmjSJwsLCwG2LFy9mxIgRZGVlBb52/PHHM3/+fAAqKiooKCjg2GOPDdxuMBgYOnQoy5cv56abbmp1nqFDh+J0OunQoUM7/lRCCCGEEK1TVlaGyWRixYoV7X6siC8AR40axahRo/Z7W35+PkOHDmXSpEnMmzcPt9vNyJEjeeCBB0hJSaG4uBiA3NzcZt+XnZ3Npk2b2pTH4XDg8Xja9L1CCCGEEG3ldrtRVTUojxXxBeDB1NfXM2/ePI499lhefPFFampqePbZZ7n11luZPn06jY2NAJhMpmbfZzabcTgcB3zc0aNHH/A2j8dDbm4uCxYsCM4fQgghhBCiBQ5Wn7RWVBeABoMBq9XKiy++iNFoBCA1NZWLLrqI3377DYvFAvgOi/yRw+EgISEh7HmFEEIIISJBVBeAHTt2RFXVQPEH0Lt3bwD27NnDMcccA/haxfTs2TNwn9LSUnJycg74uAdb3Qtm9S2EEEIIoYWIPwV8MMOGDWPTpk3Y7fbA17Zs2QJA9+7dyczMpEePHixbtixwu9vtZsWKFQwbNizseYUQQgghIkFUF4CXXHIJer2e++67j61bt7Jy5UrGjh3LMcccQ//+/QG47rrreOedd/j444/Ztm0bjzzyCHa7nQsvvFDj9EIIIYQQ2ojqS8AZGRnMmDGDZ599losuugiTycTJJ5/Mww8/HLjPxRdfTF1dHRMmTKC6upoBAwbwzjvvkJGRoWFyIYQQQgjtKGqwzhPHCf8eQDkFLIQQQvzO4/Hgcrm0jhG1jEYjer3+oPcJZg0S1SuAQgghhNCWqqoUFxdTXV2tdZSol5aWRseOHVEUJeTPJQWgEEIIIdrMX/xlZ2djtVrDUrzEGlVVsdlslJaWAvsOsAgFKQCFEEII0SYejydQ/GVmZmodJ6r5+xOXlpaSnZ19yMvB7RXVp4CFEEIIoR3/nj+r1apxktjg/3sMx15KKQCFEEII0S5y2Tc4wvn3KAWgEEIIIUSckQJQCCGEEBHro48+4vDDD2fPnj3tfqxRo0Y16xUcz6QAFEIIIYSIM1IACiGEEELEGSkAhRBCCNFmqqpSUVFBYWEhhYWF1NTUNLt93bp1XH311Rx99NEMGTKEa665htWrVwNw5ZVXcuWVVza7/7Jlyzj88MNZtmxZs6+vWrWKc889lwEDBnDWWWfxxRdfBG7bs2cPhx9+OJ9//jk333wzgwcP5qSTTmLSpEl4vd5mj+NyuXj++ef5y1/+wpFHHsl1113Hzp07m91nzpw5nH/++Rx55JEMGjSIv//973z55ZeB271eL+PHj2fUqFEMGDCAUaNG8eKLLzY7vetwOHj++ec58cQTGTBgAGeffXazzFqTAlAIIYQQbeZwOCgvL6eiooKKigp27doVKLrq6+sZM2YM6enpTJw4kfHjx9PY2Mj1119PXV1dq57nscce4/TTT+e1116jd+/e3HPPPcyfP7/ZfZ544gmSkpKYOHEif//733n11Vd58cUXm93niy++YOvWrYwbN47HH3+cdevWcc899wRunzFjBo899hgnn3wyb7zxBi+88AImk4n777+f4uJiAKZMmcIHH3zAbbfdxttvv82ll17Kf//7XyZPngz4iuLbbruNmTNncu211zJ58mSGDBnCPffcw7x581r7VxwS0ghaCCGEEG2mqioAik6HqqqoqorT6cRisbBt2zaqqqq46qqrOOqoowA47LDDmDVrFg0NDa16njvuuIPrr78egBNOOIGCggJee+01Tj755MB9+vfvzwsvvBC4j81mY9q0adxyyy0kJSUBkJOTw2uvvYbRaARg586dTJ48mfr6epKSkti9ezfXX389t956a+BxO3fuzPnnn8/KlSs588wz+eWXXxgwYAAXXHABAMOHDychIYHk5GQAfv75Z3788UfGjx/PGWecAcDxxx9PY2MjL7zwAmeddRYGg7YlmKwACiGEEKLddDo9Op1veoXT6QSgd+/eZGRkcPPNN/PYY4/x7bffkpWVxQMPPEDHjh1b9fj+Qsrv5JNPZsOGDc0KyXPPPbfZfU499VRcLhe//vpr4GuDBg0KFH8AXbp0AaC2thaAhx9+mPvvv5/a2lpWr17N//73P2bMmNHsz3XMMcfw008/cdlll/HWW2+xbds2rrjiCv7+978DsGTJEhRF4cQTT8Ttdgf+GzVqFGVlZWzdurVVf/ZQkBVAIYQQQgSFTq/H63HjcDgASExMZMaMGUyePJkvv/ySWbNmYbFY+Pvf/87YsWNb9dhZWVnNfp+ZmYmqqtTX1we+lpOT0+w+GRkZAM32Jf55aolO51sL81+23rVrF4899hhLlizBaDRy2GGH0bdvX+D31c4xY8aQmJjI3LlzeeGFF/jPf/5D7969GTt2LCNGjKC6uhpVVQOrnn9WWlrKEUcc0ao/f7BJASiEEEKIoNDpDIAjUACC75Lvf/7zHzweD2vXruV///sfH3zwAd26dQN884T/yGaz7fexa2pqmhWB5eXl6PV6UlNTKS8vB6CqqqrZ91RUVAC0eE6x1+vlxhtvxGg08uGHH3LEEUdgMBjYtm0b//vf//7w59Rx+eWXc/nll1NRUcHChQt5/fXXueOOO/jpp59ITk7GarXy7rvv7vd5unfv3qI8oSSXgIUQQggRFIredwnYXwB+9dVXjBgxgrKyMvR6PUOGDOGJJ54gJSWFvXv3kpSUFDhY4bdy5cr9PvYPP/wQ+LXX6+Wrr75i8ODBWCyWwNf/fCjk66+/JiEhgcGDB7cof1VVFfn5+Vx44YUMHDgwsE9v0aJFgecFuOSSS3jqqacAX3F5/vnnc/nll1NbW0t9fT3Dhw/HZrOhqioDBw4M/LdlyxYmTZqE2+1uUZ5QkhVAIYQQQgSFTu8rK+x2e+ASqNfr5bbbbuPGG28kMTGRL7/8krq6Ok455RR27drFd999x7PPPsuoUaNYsWLFAU/JTpgwAY/HQ25uLh988AH5+fm88847ze7z5ZdfkpmZyYknnsgvv/zCjBkzuOeee/a57HsgmZmZdO7cmRkzZtCxY0dSUlL48ccfAyt5jY2NAAwbNoy3336brKwshgwZQklJCe+88w7Dhw8nIyODE088kWHDhnHrrbdy66230rNnT9auXcsrr7zC8ccfH7g0rSUpAIUQQggRFLqmFUCPx4Pb7SY7O5u33nqLl19+mUcffZTGxkZ69+7NxIkTGTFiBMOGDWPXrl18/PHHzJw5k2HDhvHKK69w6aWX7vPYzz77LOPGjWPnzp306dOHKVOmMHz48Gb3ueuuu/jll1+YNWsWubm5PPbYY/t9rIN57bXXePrpp3n44YcxmUz06tWLyZMn88wzz7BixQquvPJK7rrrLkwmE3PnzmXSpEkkJyczatQo7rvvPt/fg07Hm2++ycsvv8wbb7xBRUUFOTk5XHvttdx2221t/NsNLkX172gULTJ69GgAFixYoHESIYQQQlt2u50NGzag1+sxGE0kpKRjq6nA6/HQo0ePQFuUUNuzZw+jR4/m2Wef5fzzzw/Lc4aC3W4nPz+fHj16NLu07RfMGkT2AAohhBAiaHR6X4sV/+VSEZmkABRCCCFE0Pj3AUoBGNlkD6AQQgghgkZvCH8B2KVLFzZv3hy254sFsgIohBBCiKDRGXyXgJ1OJy6XS+M04kCkABRCiDB6//33Of300zn99NN56aWXtI4jRNApihK4DHygps5Ce1IACiFEGE2ZMoUNGzawYcMGXnnllWYTE4SIFfqmVcA/zukVkUUKQCGECCP/JAHwzRUtKSnRMI0QoaGTAjDiSQEohBAaKioq0jqCEEGnN5oA30GQP8/6FZFBCkAhhNCAovO9/BYWFmqcRIjg0+l06HS+qSCyChiZpA2MEEJowGxNwV5fzZ49e7SOIkRI6I0mvI5G6uvrSUlJCXzd4/E02woRLjqdDn3TqDohBaAQQmjCkuQrAHfv3q11FCFCQm804XI0UldXF/iax+Nh6LDhVFaUhz1PRmYWK5b/0qoicNSoUc1W6Y1GI507d+aiiy5izJgxADz88MMUFhYyffr0oGcOJSkAhRBCA+bEVAB27dqlcRIhQkNv8O0DdDgcOBwOzGYzXq+XyopyqjoeAyhhTKNC8TK8Xm+rVwGvu+46rrvuOsA3q3ft2rWMHTuWhIQELr/88lCEDQspAIUQQgOWJF8BuHPnTo2TCBEaik5BbzDicbuoq6vDbDb/8VZQwngMQW37JWer1UqHDh0Cv+/atSvLli1j7ty5UV0AyiEQIYTQQEJyGuA7BSzNckWs0ht9RV9tba3GSYLLYrFoHaHdpAAUQggNGEwWDCbfm0hBQYG2YYQIEYPJVwA2NDTgdrs1ThMca9eu5bPPPuOiiy7SOkq7yCVgIYTQSEJyGnUVxWzfvp1+/fppHUeIoNPp9ej0BrweN3V1dSQlJWkdqdXeeOMN3n77bQBcLhcul4vBgwdz9tlna5ysfWQFUAghNJKQkgHAli1bNE4iROj4VwFramo0TtI2l1xyCfPmzWPevHn873//Y/LkyTQ2NnL55ZfjdDq1jtdmsgIohBAasaZmAlIAithmMFlwNjZQV1cXlZeBU1NT6d69e+D3PXv2JDU1lcsuu4yff/5Zw2TtIyuAQgihESkARTzwXwZWVTVqVwH/TFVVAE0aWgeLrAAKIYRG/AVgfn4+NpsNq9WqcSIhQsO3ClhPdXW11lFazWazUVZWBvgKv127dvHMM8+QnZ3NscceyzfffEN1dTWLFi3a53uHDx8esSeGpQAUQgiNmBISMVqsuOw2Nm7cyNFHH611JCFCwmD2FYC/tzxS29Wbr/XUNn/n22+/HTgEotPpSEtLY+jQobzwwgskJCQAvlX8G264YZ/vXbBgAV26dGnzc4eSFIBCCKGhxPRsqosKWLdunRSAImbpdDr0RhMej4e09AwoXhb2DBmZWeh0rdv59t133x3yPuPGjWPcuHFtjaUZKQCFEEJDSekdqC4q4LffftM6ihAhZTQn4HE5eW/6u/Tp06fVxVh76XS6Vo+Bi2VSAAohhIaSMnIAWLNmjcZJhAgtvdGMotOher00NjaSlpamdaS4JqeAhRBCQ0mZHQHYunUrdXV1GqcRInQUhcD0m4qKCo3TCCkAhRBCQyaLFbM1GVVVZRVQxDyjxXfSvaGhgcbGRo3TxDcpAIUQQmPJWbkArFy5UuMkQoSWTqcLTAaRVUBtSQEoIpbNZuPll1/mscce46uvvtI6jhAh4y8Aly9frnESIULPaPatAlZVVUXlZJBYEVUF4BtvvMGVV155wNvHjh3LqFGjmn3N6/XyyiuvcPzxx3PkkUdyww03sHv37lBHFUHwzTff8NJLLzFt2jTuuOOOqJ65KMTBpHToDMCqVavkDVHEPJ3BGJgMIquA2omaAnDGjBlMmDDhgLfPnz+fOXPm7PP11157jffff59///vfzJw5E6/Xy5gxY6SYiAJ/3B/idDrlhULELGtKBnqjmYaGBtatW6d1HCFCSlHAZEkEoLy8PKrHqUWziC8AS0pKuPnmm3nhhRfIy8vb731KS0v5v//7P4YPH97s606nk7fffps777yTk046ib59+zJ+/HiKi4v55ptvwpBeBJN/FI8QsUbR6UjN9q0CLlmyROM0QoSWx+NB1enxeFUcDgclJSW4XK6Q/+fxeLT+o0eUiO8DuH79eoxGI5988gmTJk2isLCw2e2qqvLwww/z97//ncTERD7++OPAbZs2baKhoYFjjz028LWUlBT69evH8uXLOeuss8L25xDtV1JSonUEIUImNbsLlYU7+Omnn7jlllu0jiNESHg8Hi467xyqKsrD/txZHbL5ZdnSNjeDrq+v5y9/+QuJiYksXLgQo9HIww8/3Kzu2J/Nmze36flCLeILwFGjRu2zr++Ppk6dSllZGa+//jpvvPFGs9uKi4sByM3Nbfb17OzswG37M3r06APeVlRUtM/jifCQAlDEspTsroDvIIjD4cBsNmucSIjgU1WVqopyjrngFpQwTgJRvV6WzZ2M1+ttcwH4+eefk5mZSVlZGd9++y1nnHEGjz76KPfdd1/gPiNHjuSRRx7hjDPOCFb0kIn4AvBgNm3axKuvvsqMGTMwmUz73O7fQ/bn28xmMzU1NWHJKIKnqKhI6whChIw1NQOjxYrdbmP58uWMHDlS60hChIyi06HThW8sWzB2Gc6dO5fjjz+evXv3MnPmTM444wySk5NJTk5udr/k5GQ6dOgQhGcMragtAB0OB/fffz+33HILffv23e99LBZfx3Gn0xn4tf97ExISDvjYCxYsOOBtB1sdFKElBaCIZYqikNaxO2UFG1m0aJEUgEJEkO3bt7NmzRrGjBlDTU0NY8eOJT8/nx49emgdrc0i/hDIgaxZs4atW7fy6quvMmTIEIYMGcIbb7zB3r17GTJkCCtWrAhcqi0tLW32vaWlpeTk5GgRW7TDn/d/ChFr0jp2A2DhwoUaJxFC/NGHH36I1WrlhBNO4G9/+xtGo5GZM2dqHatdonYFcNCgQfuc5J0+fTrffPMN06dPJycnB51OR1JSEsuWLaNbN98La21tLRs2bOCKK67QIrZoA6M5AZejkT179mgdRYiQ8heAmzZtYu/evXTq1EnjREIIt9vNJ598wqhRo7BYLFgsFkaOHMm8efO49957o3a/btSuAFosFrp3797sv9TUVAwGA927d8disWAymbjiiit44YUXWLBgAZs2beKee+6hY8eOnHLKKVr/EUQLmRNTAN8lYJfLpXEaIULHaE4gOdN35eK7777TOI0QAnwr8uXl5Zx55pmBr5155plUV1fz5ZdfapisfaJ2BbCl7rzzTtxuN2PHjsVutzNs2DD++9//YjQatY4mWshosaLTG/B43Ozdu5fu3btrHUmIkEnvlEddRRELFiyQKxVCRICPPvoIgNtvv32f22bOnMm5554b5kTBEVUF4Lhx4w56+x133MEdd9zR7Gt6vZ4HHniABx54IJTRRAgpioIlKRVbTQUFBQVSAIqYlt7pMHb9toSffvoJm82G1WrVOpIQcauiooKFCxdy/vnnc+211za7berUqcydO5ctW7bQp08fjRK2XdReAhbxxZKUCsCOHTs0TiJEaFlTMzAnpuBwOFi0aJHWcYSIa5988glut5sbbriBPn36NPvv5ptvRqfTRe1hECkARVRISE4HpAAUsU9RFDI6HwbA119/rXEaIUJD9Xrxej1h+09t47zhjz76iOOOO47DDjtsn9u6devGySefzCeffILNZmvvX0nYRdUlYBG/ElIyANi2bZvGSYQIvcwuPSnaspr58+fjcrlkz7KIGYqikJ6ZxbK5k8P+3FkdstG1cvrIp59+etDbJ06c2Oz3kTr2bX+kABRRISHFtwK4detWjZMIEXrJmbkYzAnU1taydOlSjj/+eK0jCREUer2eOR9/gqqqB7yPx+2msbYSgMMOO4zExMSgPLdOp2vzGLhYJJeARVSwNq0AlpWVUVVVpXEaIUJL0enI7NwTgC+++ELjNEIEl16vx2AwHPA/s8WCJTEJg8FAeXk5BoMBo9HY7v+k+GtOCkARFfRGU6Af4KZNmzROI0ToZXbtBfj2Abrdbo3TCBFepoQkUBRsNhs1NTVax4lJUgCKqGFNzQSkABTR69NPP6WysrJF903J7ozBZKGiooJly5aFOJkQkUWn02Gy+FogFRcX423jIQ5xYFIAiqiRmJYFwIYNGzROIkTrlZeXc8cdd1BbW9ui++t0+sBpYLkMLOKR0WJF0elwOp2Ul5drHSfmSAEookZiejYA69at0ziJEK1XWFh40I3v+5PVrTcAX375pVwGFnFHURTfpWCgtLQ0LkaBtvY1oj2kABRRIzG9AwBbtmzB4XBonEaI1ikpKWn196RkdwlcBl66dGkIUgnRPkajEa/XG7LCxWCyoDP4nqO4uDgkzxFJ/P0Ew9H6SdrAiKhhtiZjMFlwO+1s3LiRI488UutIQrRYW968dDo9mV16UbJjHZ9++ikjR44MQTIh2m7VqlVs3ryZzp07k5mZhcflAiW4z2EwW3C4nFRWVpKUlERCQkJwnyACqKqKzWajtLSUtLS0sJxYlgJQRA1FUUjKzKG6aCdr1qyRAlBElb1797bp+7K69aZkxzq+/PJL/v3vf2MymYKcTIi22b17NxdffDGqqnLBBRfwt7+dgjW5AZQgV4CA29GIx+2iurqa7OzsoD9+pEhLS6Njx45heS4pAEVUScrwFYCrV6/m6quv1jqOEC1WWFjYpu9L6dAZo8VKTU0NP/74I6NHjw5yMiHaZv369YHTuR9++CELf17B8NP/gRKCAtDlaGD9wk9QPW4efvhhTjnllKA/h9bC3atQCkARVZIzfZ+MVq1apXESIVqnrQWgotOR1bU3RVvX8Mknn0gBKCLG9u3bAVBRUFCxOxxU1TeG6NkUdKmd2PXbEp5++mlOPvlkrFZriJ4rPsghEBFVkjNzASgoKJC2ACKq7Nq1q83fm9WtDwDffvstdrs9WJGEaBf/bHavPjzbEjodPgRzYgrFxcVMnhz+WcKxRgpAEVUMJjMJTWPhVq5cqXEaIVrGZrNRVlYGQFvOSiZldsRsTaahoYHvvvsuuOGEaKONGzcC4NVbwvJ8Or2BvCN9B6HeeOMN9uzZE5bnjVVSAIqok5LVCYDly5drnESIlikoKADAqxhoyxFJRVHIbFoF/OSTT4KYTIi2cTqdYV8BBMjo3JOU7C44HA6ee+65sD1vLJICUESk119//YD/uFM6+ApAGY8losWOHTsA8BravlLibwr93XffUV9fH5RcQrTVli1bcLlceBU9Xl3oe9b5KYpCjyOPB3wfhlasWBG25441UgCKiPTWW29RVVW139tSsjsDvokgdXV14YwlRJv4C0CPoe39yxLTOmBJSsPhcDB//vxgRROiTVavXg2Ax5gU9udOTO9Ado9+ADz55JMyJ7iNpAAUEcfhcAT2S+2P2ZqMOTEFr9crl4FFVPBfKmtPAagoSmAV8LPPPgtKLiHayl8Auk3Jmjx/t4HHojMYWbNmDfPmzdMkQ7STAlBEnJZMTEjN7gLAzz//HOo4QrTbli1bAPAa2te2IrOrbx/gwoULqa2tbXcuIdrKf+lVixVAAFNCIl2OGArACy+8IKfj20AKQBFxdu/efcj7pOZ0BeCnn34KdRwh2sXtdgf6pXnaWQAmpmWSkJKO0+mUy8BCMyUlJeTn56MCblOKZjly+xyJKSGJwsJCpk6dqlmOaCUFoIg4LSoAm1YAN27cSGVlZagjCdFm+fn5OJ1OVEWHV29u9+NldvVdBv7888/b/VhCtMXSpUsB8BgTUXXazZPQG4x0G3gsAK+++qq8F7SSFIAi4vgb5h6sX5opIRFraiaqqsoqoIho/l5pHoM1KDNSs5oKwEWLFsllYKGJRYsWAeA2pWqcBDp0P5zEtCzq6uqYNGmS1nGiihSAIuL4T0yqh2gtkJrTDfj9xUiISLRp0ybAt1oSDNbUTBKSfZeBpSm0CDev18vChQsBcJnTNU7jG5XYbdBfAHj33XfZu3evxomihxSAIuIEeqYdogBM6+grAH/88UdUtS3zFYQIvXXr1gHgNgSnAATI7NoLgK+++ipojylES6xbt46ysjJURafZCeA/S+vYjZTszjidTiZMmKB1nKghBaCIKG63+/epCbqDd5dP6dAZnV5PUVFR4JSlEJFEVdVAARisFUDwTUMA+OGHH2hsbAza4wpxKP4PHS5zGihNJYTGH8AVRaH7wOMAmDNnTqDtkjg4KQBFRCkoKAhsmD/U5mK9wUBKB99hkO+//z4c8YRoleLiYioqKlABj7F9J4D/KDG9A2ZrMo2NjbIFQoSNqqp88cUXADgtWf4vYrKXB27XSnJWLumdeuD1ennllVc0yxFNpAAUEWXz5s1AyzfMp+d2B3wrIUJEmrVr1wL+n2d90B5XURQyOh8GIO1gRNhs3Lixqf2L8vv+P9WL3utquoe2K4FdBxwD+EbEySrgoUkBKCJKYMN8C/ulpeXmAbB8+XI5ESkizpo1a4DQNMtNbyoAFyxYgMfjCfrjC/Fnc+fOBcBlSQdd8D7QBEtSejYZnQ9DVVVZBWwBKQBFRGntfqmE5DQsyWm43W4WL14cymhCtNpvv/0GgDsEBWBKh07ojSYqKioCY7mECBW3283//vc/AJwJ2RqnObAu/YcDvlXA/Px8jdNENikARUQJnJhsxRtmetMqoLTEEJFEVdVAYRaKFUCdTk9aR98WCNkDK0Lt+++/p6ysDK/O4DsAEqGS0rNJ75SHqqq8+eabWseJaFIAiohRVFREaWmpb8N8K0ZmZXTqAfgKQLkUJiJFQUEBtbW1qChBPQDyR/49sP6+bEKEyvTp04Gm1T8lskuHzn19M4LnfPghJSUlGqeJXJH9f1HElVWrVgHgMSS2an9JslwKExHo99W/xJC9YfpXANeuXUt5eXlInkOI/Px8Fi5ciAo4rB21jnNIKR06kZyZi8vp5J133tE6TsSSAlBEjF9//RUAt6l1l8t0On3gMrCciBSRwn8AxG0MXbNcU0IiiWkdAJmII0Jn6tSpALjNaXgNFm3DtFDnI44G4P3335demQcgBaCIGCtWrADAY0xp9femN10G/vbbb4OaSYi2CqwAtvIDTWulduwKwM8//xzS5xHxqbKykpkzZwJgT+ykcZqWS8/Nw5yYQk1NDfPmzdM6TkSSAlBEhIaGhsCJSZe5DQVgbh6KomPr1q2BSSJCaMXpdLJ+/XogNCeA/ygtx1cA/vTTTzISUQTdu+++i91ux21IxG1K1TpOiyk6HR17DQJg2rRp8m9jP6QAFBFh1apVuN1uPHoTqt7c6u83mMykZHcG4Jtvvgl2PCFaZfPmzTidTryKAa/+z5fMgvtGlJzVCUWnY+/evfLhRwRVbW0tb7/9NgD2pM4tas4fSbJ79EOnN7Bx48bAFSbxOykARUTw9/BrzydM/2QEKQCF1pq1f/njm+YfViGCtSKhNxhJzvRtzF+6dGlQHlMIgLfffpuamho8hgRclkyt47Sa0Wwhq1sfAGbNmqVxmsgjBaCICIECsB39pfwF4IoVK+REpNBU4ADIn/f/qV6UwC+D17IoOcu3N2v58uVBe0wR36qrq5ky5S0AGpO6Rt3qn192jyMA+Pzzz2loaNA4TWSRAlBorqKiIrBfytWOFUCzNZnE9GxUVZXDIEJTrZ1o014pHXzbH3755ZewPJ+Ifa+88gr19XW4DdaoXP3zS87qhCUpFZvNxhdffKF1nIgiBaDQ3MKFC1FVFbchEVVvatdj+VcBv/7662BEE6LV7HY7W7ZsAUJ/AMQvJSsXFIXdu3dL41vRbgUFBbz77rsANKZ0j9rVPwBFUcju0Q+Ajz/+WOM0kUUKQKE5/xirYIwXyuzSE/CdiKyvr2/34wnRWps2bcLj8eDVGVB17ftA01J6owlrSgaANEMX7fbss8/icrlwmdNwm9O1jtNu/n2AS5YsoaKiQuM0kUMKQKEpl8vFDz/84Pu1pf0vNAkpGViS0nA6nTIfVWhiw4YNAHgMSWFdOUlqOggiBaBoj0WLFvHVV1+hArbk7lrHCQpLUiqJ6R3wer1ydegPpAAUmlq2bBm1tbV4dQY8QZiYoChKYBVQ/qELLfj3s4Zq/u+BJGfkAL9P1BGitRwOB4899pjv19ZcvGHawxoOmV17A8g+wD+QAlBoyl+kucwZQVstyWgqAL///nscDkdQHlOIltq0aRMA7jC/eSY1FYDr16+XpreiTd544w3y8/Px6ow0JnfVOk5Q+RcGli5dKqeBm0gBKDTj9Xr56quvAHBZMoL2uEkZOZgSEqmvrw+0lxEiHFRVDRwA8RrCuwKYkJKBotNRW1vL7t27w/rcIvpt2bKFV155BQBbSh7oDNoGCjJLUhrmxBRcLhdLlizROk5EiKoC8I033uDKK69s9rXvvvuOCy64gCFDhjBq1Ciee+457HZ74HaHw8G//vUvjj32WIYMGcJ9991HZWVluKOL/VixYgWlpaV4FX1QDoD4KYpCRme5DCzCr7S0lNraWlTAY0gI63Pr9HqsKb52Hf7L0EK0hMfj4aGHHsLlcuE0p+OyZGkdKegURSE917en0b/vPN5FTQE4Y8YMJkyY0OxrK1as4Pbbb+dvf/sbH3/8MY8//jhffPEF//rXvwL3eeKJJ1i8eDETJ05k2rRp7NixgzvvvDPM6cX+fPrpp0DT6p8S3B9F/3L/t99+i9vtDupjC3EgW7duBcCrTwj6z3RLJKZ3AH4/iCJES7zzzjusWrUKVdFjSz0sqtu+HExaR18B+OOPP2qcJDJEfAFYUlLCzTffzAsvvEBeXl6z22bOnMkxxxzDzTffTF5eHieeeCL33HMPn376KU6nk5KSEubNm8fYsWMZOnQogwYN4qWXXmL58uWyUVpjLpeLzz//HABnCD5tpnTojMFkobKyUprjirDJz88HwGP48/zf8LCm+lYA/ZehhTiULVu28NxzzwG+U79tmcUeLfwN0wsKCigrK9M4jfYivgBcv349RqORTz75hMGDBze77brrruOhhx5q9jWdTofL5aK+vp6VK1cCMGLEiMDtPXr0ICcnR0YmaWzx4sVUVFTg1RnaNf7tQBSdTppCi7DzF4BeKQBFFHA6ndx99904nU5c5jSc1hytI4WUwWQO/BtZtWqVxmm0F/G7PEeNGsWoUaP2e1u/fv2a/d7lcjF16lQGDBhARkYGJSUlpKenYzY3/0STnZ1NcXHxAZ9z9OjRB7ytqKiI3NzcVvwJxP74O7I7LVkhu9yQ0aUnpfkb+Oqrr3j88cfR6SL+846Icrt27QLAq9eqAPQdpiooKMBut2OxaJNDRIfx48ezfv16vIqBhtReMXvp94+Ss3Kx1VSwYsUKTj31VK3jaCpm3hHdbjcPPvggW7du5fHHHwegsbERk2nfTvxms1nag2iotrY2sCrnTOgQsudJy+mKzmCkuLiYNWvWhOx5hPArLCwEwKNRAWi0JKI3mvB6vezcuVOTDCI6LF68mMmTJwNgSz2s3WM4o0Vypm8BZ+3atRon0V7ErwC2RH19PXfffTe//PILr776KoMGDQLAYrHgdDr3ub/D4SAh4cAn9BYsWHDA2w62Oiha5vPPP8dut+MxJOAJ4axUnd5Aem4eFbu38vXXXzNkyJCQPZcQAHv27AHAq9E+KkVRSEhOp76yhO3bt3P44YdrkkNEtoqKCu6++25UVcVhzcGVEHunfg8kMc33Z924cSOqqqLEwarngUT9CmBpaSmXX345q1ev5r///S8nnnhi4LaOHTtSXV29TxFYWlpKTk5s73WIZLNnzwbAkZAd8ksO/tPAX375pTTHFSFls9mora0FwKvhakpCchrw+35EIf7I4/Fw9913U1ZWhseQ4Ov5F0cSUtJBUaipqTnoVrB4ENUFYE1NDVdffTWVlZXMmDGDYcOGNbv96KOPxuv1Bg6DgO9FsaSkZJ/7ivDYsmWLr90ASkgv//ql5+ah6PQUFBSwefPmkD+fiF/l5eUAqOhA0WuWw5Lsm6ktBaDYn1dffZVFixahKjrq0/po+rOqBZ3eQELTv5GNGzdqnEZbUV0APvvss+zevZv//Oc/ZGRkUFZWFvjP4/GQk5PDmWeeydixY1m2bBlr167l3nvvZfjw4Rx55JFax49LH3zwAQAuc3pY9pzojSbSOnYD5DSwCK3S0lIAvHqjppvpLUmpwO8HUoTwW7x4MePHjwfAlnJYTM36bY2EFF8BGO/7ZKN2D6DH4+GLL77A5XJx9dVX73P7ggUL6NKlC//+97955plnuP322wE44YQTGDt2bLjjCsButzN37lwAHGFsN5DZpRdVe/P56quvuOuuu8L2vCK++CcMqTqjpjn8BWC8v7mJ5goLC7njjjt8+/4SsnFas7WOpBn5kOQTVQXguHHjAr/W6/UtOsVjtVp56qmneOqpp0IZTbTAp59+Sk1NDR69OSS9/w4kvVMPUBQ2bNjAzp076d69e9ieW8SPmpoaAFSNZ6j639yKi4ulFYwAfB++b775ZiorK3EbErGl9tA6kqYsiVIAQpRfAhbR5b333gOaVv/CeInMaLaQmt0FgK+++ipszyviS6AAVLQtAA0mCzqDbxVy7969mmYR2lNVlccee4y1a9f6+v2lHx53+/7+zJyYAvx+aj9eSQEowmLNmjWsXr266fBH+C89ZHT2nQaWAlCESkNDAwCqTts3V0VRsMgbnGgyffp0Zs2ahQo0pPfRbEpNJDFZrICvHU48kwJQhMXUqVMBcCZkadJwNLOLbyzcqlWrKCkpCfvzi9jX2NgIgKpo/7JqTkwGpACMd8uWLeNf//oXAI3J3cO69SaSGf9QAHo8Ho3TaEf7VyoR88rLy/n0088AcFg7apLBlJBEUqbvub/55htNMojYFigAI+Bl1WyVFcB4V1hYyC233ILb7cZpycKR2EnrSBHDaPYNgvB6vVRVVWmcRjvav1KJmDdjxgxcLiduYxIeU7JmOTKbLgNLOxgRCoGG85GwAmj1/TuTPYDxyWazMWbMGCoqKnAbEmlI6xkXc35bStHp0Bt9V6L8e3fjkfavVCKmORwOpk+fDoA9MVfTLBlNl4GXLFkS1//oRWi4XC7fLyLgjdZ/Cdg/m1jED6/Xy3333ceGDRvw6gzUZ/SN+0Mf+6M3+ApAm82mcRLtSAEoQurzzz+nrKwMr86Ey5KpaZaE5HQSUjJwu9189913mmYRsce/l0hF+wLQZJUCMF5NnDiRL774AhWF+vS+qBrNpY50+qaT8vX19Ron0Y4UgCJkVFVlypQpADgSO0bEpTH/bGDZByiC7fdZ09oXgGZrEuDrBRjPm9zjzRdffMFLL70EgC31MDymFI0TRS7/JWBZARQiBH7++Wc2bNiAqujCOvnjYDI6+y4D//DDD9jtdo3TCBEaJksiiqLD4/EERtSJ2LZ+/XruvfdewLfdxhkhr7mRStH5yp/A1o04JAWgCJk333wTAEdCtubjsfwS07MxJSRhs9n46aeftI4jREgoOh2mplVAOQkc+8rKyhgzZgyNjY24zGk0JudpHSniKU1XpOJ5hVwKQBESmzdv5ocffkCFiGo/oChKYBVQLgOLYFIChz/Ug94vXPyXgeUkcGxzOBzcdNNN7N27F4/eQkNan4g4iBTp/CuAbrdb4yTakQJQhIR/75/LkhFxnef9BeC3334b15/+RHDpdJH1ciqtYGKfqqo8+uijrFy5ElXRU59xhOazqKON1+vVOoJmIusVS8SEoqIi5s2bB4A9sbO2YfYjJbszeqOJiooKVq1apXUcESP8BaASKSuAMg4u5r3zzjvMmTMHFahPPxyvIUHrSFHDf2hLr4/fFjlSAIqg++9//4vL5cJlStG08fOB6HR60nPzAJg/f762YUTMCKwARkb9F1gBlFYwsWnx4sU89dRTADQm58mYt9ZSfSt/kbZyH07x+ycXIVFTU8P7778PBGH1Tw3dO+kfLwMLEQwGg//SW2RUgP4VwN27d2ucRATbrl27uO222/B4PDgSOuDQuMl+NPKvAEoBKESQTJ8+nYaGBjwGa/s+kaoqRmd10y+D/4aaltsdRadj+/bt7NixI+iPL+LP728kkVUA7tmzJyT/hoQ2GhsbufHGG6mursZtTMSWepgc+mgDtWnvn9kcv42ypQAUQWO323nnnXd8v07s3L4XJdWLztt0OisEb14Go5mUDr4VSrkMLIJBibA3Yf8lYLvdTllZmcZpRDCoqspDDz3Exo0b8eqM1KfLmLe28np87y9SAAoRBHPmzKG8vByP3owzQduxby2R0UkuA4vgibQCUKfXB0bC7dy5U+M0IhimTp3K//73P1QUGtL6yJi3dvA2dYCQAlCIdnK73bzxxhtAU9+/CBj7dijpnXsAsGLFCqqrq7UNI6JeoACMoMutCclpgBSAsWDlypW/H/pI6Y7bnKpxougmK4BSAIog+fzzz9m9ezdenQGHNVvrOC1iSUzBmpqJ1+vl+++/1zqOiHKBnpIRtBJoSfIVCQUFBdoGEe1SWVnJbbfdhtvtxmnJxGGVQx/t5fX4RsBZrVaNk2hHCkDRbqqqMnnyZADfC1MU7UlJ7+RbBVywYIHGSUS0+72peCQVgGkA5OfnaxtEtJnX6+Xuu++mqKjIN+kjtVdEfciIVh63FIBSAIp2++6779i4cSOqoou6dgQZTQXgDz/8ENdDwUX7BX5+IujNOSElHUBOukexKVOmsHDhQlRFR3364aCLng/Ykcrr9QROAUsBKEQ7vPbaawA4rB2jbgxRUkYOBrOFuro6Vq5cqXUcEcUaGxsBUCNo/2tCsq8A3L59e1yPvIpWa9eu5fn//AcAW0oPvMZEjRPFBu8f5v8mJMTv9JTIeaUSUWn58uWsWLECFQV7Yiet47SaotOR3jEPkMvAon1sNhsAagRtgbAkpqDodDgcDhkJF2UaGhq44447cLtcOC0ZOBOiY291NPC4nQAYjUY5BCJEW/lX/5wJ2ah6k8Zp2ia9Ux7gu5QtRFvV19cDkVUAKjpdYBVwy5YtGqcRrfHMM89QUFCAV2fCJvv+gsq//y8xMb5XVKUAFG22adMmvvvuO1TAnhR9q39+aR27gaKwbds2GZsl2qyiogIAVWfUOElz1tQswPfvVUSHRYsW8d577wHQkNYr6rbWRDqPy7cCGM/7/0AKQNEO/pO/LksmXkP07qMwmCykZPkOr/zwww/ahhFRq7KyEgBvhL1ZW9N8Tdk3b96scRLREnV1dTz44IMA2K0d2zdSU+yXV1YAASkARRvt3r2bTz/9FAB7UmeN07RfWm4eIJeBRds4HA6qqqoAUHWRtRUiMc23ArhhwwaNk4iWeP755wMtXxqTu2sdJybJJWAfKQBFm0yZMgWPx4PLlIbHmKR1nHZLbyoAf/75Z+x2u7ZhRNTZvXs3qqqiKrqIu1yXmNYB8LWC8R9UEZFp1apVTJ8+HQBbak9p+RIi0gPQRwpA0WoVFRXMmjULiI3VPwBraiamhETsdju//PKL1nFElPGPWvPoLRG3Wd+UkIjRkojX62Xjxo1axxEH4Ha7eeSRR1BVFUdCBxn1FkJeKQABKQBFG0ybNg273Y7bmIjblKJ1nKBQFIW0jr7LLTIWTrTW1q1bASJ2L2xSum8VcO3atRonEQfywQcfsHHjRryKgcaUPK3jxDT/HOB47gEIUgCKVrLZbEybNg0Ae2LniFvtaA//ZeCFCxdqG0REnXXr1gHgjtBGvUkZOQCsWbNG4yRif6qrq3nxxRcBsCd3jbiT5LHG01QAWiwWjZNoSwpA0SqzZ8+muroaj96My5KpdZygSs3pCorC9u3b2bVrl9ZxRBT57bffACJ2P2xSpq8AXL16tbZBxH5NnDiRqqoqPIYEHNaOWsdpOdVDYvXWwG/t9dWB/XWRzL8CGM9NoEEKQNEKbrebt956CwBHYqeYWv0DMJjMgXYwsgooWqqkpISCggJUIrgAzPAVFfn5+YHTyiIyFBUV8e677wJgS8mLqtfVxOptmByVgd+7nQ62/TJfw0Qto3o8gBSAUgCKFvv666/ZvXs3Xp0BhzU2xxL59wFKASha6scffwR8xV+knQD2M5otgYkgq1at0jiN+KNXXnkFp9OJy5SC25SmdZyWU70Y7ft+mKjauyOwwhap/HOxjcb4vtQuBaBosSlTpgD4LlFE0LirYErL9RWAP/30E06nU+M0IhosWrQIAJcpsk9tJjetbi9fvlzjJMJvz549gY4Kjcndomr1T+dxouDd5+tejwenPbLbDale3wpgvBeAQfm42p4XlGHDhgUjggixFStW8Ouvv6KiRNcelVZKTOuA0WLFZrOxfPly/vKXv2gdSUQwu93OggULAHBZ0jVOc3ApHTpRmr9B2hxFkN/7qabiiZGOCtFAVVUADIbIXLEPl6D86a+88kqUVn5yUVUVnU4n3emjxH//+18AnAkdUPWRNekgmHztYLpRVrCJhQsXSgEoDuq7776jvr4er86Ex5isdZyDSungm9e9du1a7HZ73J+A1FplZSUzZ84EYqefavTwFYCtrVtiTdDK3//7v/+jV69eLb7/1q1beeqpp4L19CKE9uzZw1dffQWAPTFX4zShl56bFygAH3nkEa3jiAg2b948AJwJWRF/+c6cmIopIRFnYwMrVqxg5MiRWkeKa++//76vn6ohEXeEbx8QsSloBeCAAQMYNGhQi+9vNpsDy7Aisk2bNg2v14vLlIo3QvucBVNqTlcANm3aRFFREbm5sV/0itbbs2cP3377LQCOhA4apzk0RVFIze5C2c7NLFmyRApADXk8Ht5//30AHIm5Ef/hQcSmoBwCWb9+fauKP4DBgwezfv36YDy9CCGbzRa4TOGIg9U/AKM5IdA494cfftA2jIhY7777btR9MErJ9n24+fnnnzVOEt++//57CgsL8SoG3+qxCDNfwe0/DRyvgrICqNc3PxH622+/8euvv1JbW7vPfRVF4bbbbtvv94nI8/HHH1NbW4tHb8FljuxN7sGU3imP+soSfvjhBy699FKt44gIU1tbywcffABE1wej1JwugG8iSF1dHcnJkb1vMVbNnj0bAKc1GxRpxhFuuqbaw+WK/KbVoRT0IzDTpk1j3LhxB7y8+8cCUEQ2VVUDY998rV/i5zJFWsc8dq9bxuLFi3E6nZhMsXvwRbTelClTfB+MDAlR9cHIkpiCJSkNe301S5Ys4ZRTTtE6Utyprq7mu+++A6Jj60AsUnS+AtDhcGicRFtBLwDfeecd/va3v/Hkk0+SlpYW7IcXYbRs2TI2b96Mquh8n1TjSFJGNkZzAvX19axYsYLjjjtO60giQpSVlQUm4jQmRVfvNoC0jl0p3lbNjz/+KAWgBr744gtcLhdugzVqtg7EGl1TARjvvV6DvvZcU1PD5ZdfLsVfDJg+fTrQ1PolQicchIqiKKTl5gEE+rwJATBhwgRsNhtuYxIuS4bWcVotNacb8HsDaxFen3/+OeB7XRXa0DX1/7PZIrthdagFvQAcOXKkNBqNAaWlpYHWL7Hc+Plg0jvlAb4N20IA/Prrr8yYMQOAxuTuUbf6B759gIqio6CggJ07d2odJ67U1NSwdOlSgKj88BAr9Abflp76+nqNk2gr6Ms6jz32GFdddRV79+5l4MCBWK3Wfe5z7rnntumx33jjDRYvXhxYmQLYuHEjTz/9NOvWrSMjI4NrrrmGq666KnC71+vl1VdfZc6cOdTV1TFs2DAee+wxunbt2qYM8WL27Nm43W7cxmQ8cXqZIi2nG4qiY/v27eTn59OjRw+tIwkNud1uHnnkEVRVxZHQAbc5Onu3GYxmkrNyqS0r5Pvvv+eaa67ROlLc+P7773G73XgMCXgNCVrHiVsGo68AbGho0DiJtoJeAP7www/s2rWL/Px8Pv74431uVxSlTQXgjBkzmDBhAkOHDg18raqqimuvvZZRo0bxr3/9i9WrV/Ovf/2LxMRELrjgAgBee+013n//fcaNG0fHjh35z3/+w5gxY/j0009lY/8BeDye3084WnM0TqMdg8lMSnZnakp2M3/+fG644QatIwkNvf7662zYsAGvYvCt/kWxtNzu1JYV8sMPP0gBGEb+tlIus6z+aUnfVADW1NRonERbQS8AX3vtNUaMGMFdd91FZmZmux+vpKSExx9/nGXLlpGXl9fsttmzZ2M0GnnyyScxGAz07NmTnTt38uabb3LBBRfgdDp5++23uf/++znppJMAGD9+PMcffzzffPMNZ511VrvzxaLFixezZ8+eph5V7f9/GM0yOvWgpmQ33377rRSAcWz16tWMHz8egMaUvKgfh5iem8eutT+zZMkSGQsXJqqqsnjxYgBc5jRtw8Q5o9m3+lpZWalxEm0FfQ9gZWUlN9xwA4MGDaJz5877/a811q9fj9Fo5JNPPmHw4MHNbluxYgXDhw9vNtB5xIgRFBQUUF5ezqZNm2hoaODYY48N3J6SkkK/fv1Yvnx5+/6gMczf+NmZ0AGU+O7VmN75MACWL19ORUWFxmmEFhoaGrjzzjtxu904LZkxsXnfmpqJKSEJu90uTaHDZPPmzZSVlaGiw22S/otaMkgBCISgABw8eDCbN28O2uONGjWKiRMn7nfPXnFxMR07Nj+gkJ3ta1dSVFREcXExwD6jvLKzswO3iebKy8t/H28VZ61f9seSmEJiWge8Xi/z58/XOo4IM1VVefDBB9m5cydenQlbas+oPPjxZ4qiBA45+XvSidBatmwZgK/4k+bPmvKvANpsNux2u8ZptBP0S8C33HIL999/P5WVlRx55JEkJSXtc59hw4YF5bnsdvs++/jMZjPga/DY2NgIsN/7HOza/+jRow94W6zPhv3oo498PaqMSdKjqklGl540VJfx5Zdf8o9//EPrOCKMXn/9dT777DNUFOrT+8RUO6T03DxKtq/j+++/R1VVlBgobCOZ/6qT25SicRKhN5rQ6Q14PW5KSkro3j269/S2VdBfza699lrAd2IXaPai4n+R2bhxY1Cey2Kx7NPI0d/Z22q1Bva1OJ3OZntcHA4HCQlyAuvPVFVlzpw5gKz+/VFm117sXreUxYsXU1NTQ2pqdJ7+FK3zww8/8NxzzwFgS+mBJ8beuFNzuqLT69mzZw9btmzh8MMP1zpSTJMCMHIoiuLbAlFfTVFRkRSAwfLuu+8G+yEPqGPHjpSWljb7mv/3OTk5uN3uwNe6devW7D4He7E7WOPfg60ORru1a9eyZcsW3+QPiwwo97OmZJCQkkFjbSXffvstF154odaRRIht2LCBW2+7ranlSzbOGDwNrzcYSc3uSlVRAQsWLJACMIT8W5JUwG3c96qYCD+z9fcCMF4FvQAcPnx4sB/ygIYNG8bMmTPxeDzom4Y7L126lB49epCZmUlycjJJSUksW7YsUADW1tayYcMGrrjiirDljBb+1T+nOQNi6FJXMGR1683udcv49NNPpQCMcXv27OHqq6+mob4elykFW+phMbHvb3/SO/WgqqiA+fPnc+utt2odJ2b9+uuvAHgMiaCL74N1kcJk9R3EKSws1DiJdkKyE3XTpk3cd999HH/88QwaNIi//vWvPPLII+zevTuoz3PBBRdQX1/Po48+yrZt2/joo4+YOnUqN910E+Db+3fFFVfwwgsvsGDBAjZt2sQ999xDx44dZQbmnzgcDj755BOAuJv72xJZXfsA8OOPP8pp4BhWVVXFVVddRWlpKR5DAg3pfWN6w77/IMivv/4a9yciQ2nNmjUAeEyy+hcpLEm+S/HxPA0n6K9sv/zyCxdddBHLli3jhBNO4JprruHYY49l0aJFnHvuuWzZsiVoz5WZmclbb71Ffn4+5513Hq+++ioPPvgg5513XuA+d955JxdeeCFjx47l0ksvRa/X89///hej0Ri0HLFg/vz51NTU4NWZcJtkj9ufJaSkk5iejcfj4bPPPtM6jgiBmpoarrzySrZv345XZ6Iuo19MHfrYH7M1GWtaFl6vN9CkWATf2rVrAbn8G0ksib73uV27dmmcRDtBf3V78cUXOfroo3njjTcCJ3LBd2J3zJgxPP/887z11ltteuxx48bt87VBgwYxa9asA36PXq/ngQce4IEHHmjTc8aLjz76CPD3/ovNy13t1aH74TRUlfLxxx9z9dVXax1HBFF9fT1XX301v/32G16dwVf86c2H/sYYkNGpB7bqchYsWMD555+vdZyYo6oq69atA4jbsZqRyJLkKwBlBTCINm/ezLXXXtus+APfid3rr7+elStXBvspRTtVVFQEPv07YqDJbahkdesDisKvv/7K1q1btY4jgqShoYHrrruOX3/9Fa9ioD6jP17jvjPMY1V6bh4ACxcuxOVyaRsmBu3atYva2lpUFDyG+Pm5inSW5DTAd0AnXmcCB70AzM3NZc+ePfu9rbKykowMmYEYaT799FPcbjduY2JcvfG1likhMfBm6T8wI6JbbW0tV155JcuWLUNV9NRn9ou7VZqkjBwMZgt1dXWsWLFC6zgx5/fVP2tM7yeNNkZzQmAiyPbt2zVOo42g/zQ+9NBDvPLKK3z66ad4vd7A13/66ScmTJjAI488EuynFO308ccfA8TEiKtQyzmsH/B7w2wRvaqqqrjssstYuXIlXkVPXUY/PHG4R0vR6UjvmAfA999/r22YGPTbb78BxOXPVqSzpvgWpLZt26ZxEm0EvQB88skncTqdPPjgg4ETwEOGDGHMmDGUlZVx++23c8QRR3DEEUfQr1+/YD+9aKUdO3awevVqVJDefy2QlpuH0WKlrKyMb775Rus4oo1KS0u59NJLA3v+6jMH4Inj+awyFi50/AWgO85WlqNBQlMBGMzDqdEk6IdAZBNxdPGv/rnNaah60yHuLXQ6PTmH9WfPhuVMnz6dM888U+tIopV27tzJFVdcwa5du/DqjNTF2Z6//Unr2A0Uha1bt1JYWEjnzp21jhQTVFWVFcAIZk3NBHyt6+JR0AvA22+/PdgPKUJEVdVAASiHP1oup+cA9mxcwZIlS9iyZQt9+vTROpJooXXr1nHVVVdRUVGBR2/2HfgwWA79jTHOYLKQnNmRuvIifvjhBy6//HKtI8WE3bt3U1NTIwdAIlRimu+qV7wWgCHZkWqz2ZgxYwb33HMP119/PQ888ABz587dZ26v0NbKlSvZvXs3qqLDZZHDOS1ltiaT0akHAFOnTtU2jGixxYsXc/E//kFFRQVuQyJ1mQOl+PuDP54GFsGxevVqoKn9ixwAiTjWNN8KYFFREdXV1dqG0UDQfyJ3797NWWedxb///W/WrVtHQ0MDq1at4tFHH+Wiiy6iqqoq2E8p2ihw+MOSCYqMJ2qN3D5DAPjwww9lgkIU+PDDD5uNd6vL7C9bHv4krWN3wFcoywGn4PCPgJMG0JHJYDRjTvRNBFm/fr3GacIv6AXguHHjUBSFefPm8e233zJz5kwWLFjArFmzqKqq4tlnnw32U4o2aDb6TS7/tlpKh04kpmfjcDh47733tI4jDkBVVV5++WXuu+8+3G43TksW9Rn9tJl1rXpIrP69f+SeDcvxuCOn0EpM74DBbKGhoSGwciXaZ9WqVQC44/iAUaRLTPe9/0kBGAQ///wz9913H3379m329cGDB3PvvffKKbMIsWDBAmpra2X0WxspikKnw32rgFOnTqWxsVHjROLPnE4nDzzwAC+99BIAjYmdaUjrrdmluMTqbZgcv68W15YVsu2X+Zpk2R9FUUjN7gr4Zl6L9mlsbPxDD0ApACNVUno28Hu/xngS9FdCq9V6wDm7GRkZ6PVyqTESzJ07F5DRb+2R1bU35sQUKioqmDlzptZxxB9UV1dz5ZVXMmfOHFSgIeUw7CndtftZV70Y7ftuf6nauwOvx61BoP1L69gNkAIwGFatWoXb7carM+GNk7GC0ci/AigFYBBcfvnlvPzyy5SWljb7en19PW+88QaXXHJJsJ9StFJZWVmg4avDKpd/20rR6ejc92gA3njjDRwOh8aJBEB+fj7nnnsuS5cu9U33SD8CZ2JHTTPpPE4UvPt83evx4LTbNEi0f6k5vhXAtWvXxu14rGBZtmwZAC5TinzIjmCJTSuAO3bsoL6+XuM04RWUjTBXXXVVs9/n5+fzt7/9jaOOOoqsrCxqamp83fa9Xjp16hSMpxTtMG/ePDweD25jEl5pTdAu2T2OYM+GXygqKmLWrFn7/FsQ4bVkyRJuvvlmqqur8ehN1KcfgVca8LaYJTEFc2IKjoZaVqxYwYknnqh1pKj1008/AeA2p2icRByMyWLFlJCEs7Ge9evXc8wxx2gdKWyCsgKoqmqz/4466igGDRqE2+2muLiYxsZG+vXrx4ABAygpKQnGU4o2UlWVWbNmAeBIyNY4TfTT6Q10PmIoAK+++ip2u13jRPFr5syZXHHFFVRXV+M2JlGXOUiKvzZI6eBrAr106VKNk0Sv2tra308Am9K0DSMOKSnD917ob9odL4KyAjh9+vRgPIwIg1WrVrF161ZURYczQUa/BUPOYf0p3LSKkpIS3nvvPcaMGaN1pLji8Xh49tlnmTJlCuBra9SQ1ktaG7VRanYXygo2SgHYDkuWLMHj8eDRW6TXZBRITM+msnAHa9eu1TpKWAVlBfCkk05qdSftjRs3ctJJJwXj6UUrfPDBB0BT7z8tWmHEIJ3eQNf+wwHfKmBtba3GieJHQ0MDN954Y6D4a0zqQkNaHyn+2iGlQy7g2xQvK9pts2DBAgBc5nSNk4iW8K8AxttBkKBUAMXFxRQWFpKS0vK9DoWFhXI5OMxqamr49NNPAXBYczROE1uy845g76ZVVFVV8frrr/Pggw9qHSnmFRYWMmbMGDZs2ICKQkNab1yyqt1u5sRUjBYrTruN3377jWHDhmkdKap4vd7fC0CLFIDR4M8HQZKS4qNxd9CWgFo7A1hVVRQ5GRVWH330EXa7HY/BKn2pgkzR6eg++C9sWvwZb731FldeeSW5ublax4pZv/76K2PGjKG8vByvzkh9el880mw3KBRFITkrl8o921mxYoUUgK20atUq38+losdtkgMg0SBeD4IEpQCU6R6Rz+v1BvZqOqw5kd2W4E8TE+qrSvG4XegN++8vGSnSO/UgpUMnasv2Mm7cOF5++WWtI8Wkzz//nHvuuQeHw4HbYKU+4whU6bMWVMmZHancs10mgrTBZ599BuCbry7zf6NGYnoHKQDb4rzzzgvGw4gQWrx4Mdu3b0dV9DgifPTbnycmuOw2tv0yn8OPO13DVIemKAp5R57A2m9nMm/ePK688kqGDh2qdayYoaoqr732Gs8//zwATnO6b7+fTvb7BVtShm+LSLydimwvr9fL559/DoDLkqlxGtEaiekdqNqbz4YNG7SOEjby8SROvPPOO0BT65dIPvwRJRMTDiQpI5vsHv0AeOKJJ/B6923+K1rPP9bNX/zZrbk0pPeV4i9E/OOxCgsLKS8v1zhN9Fi6dCmlpaV4FT0uc5rWcUQrJKbF30xgKQDjwLZt2wIzmB0aT0Q4lGiZmHAw3QYdh95o4rfffpMRcUFQW1vLNddcExjrZkvpQWNqj8jexhDl9EYTCcm+AwzxdjKyPfwjNl2WLLn8G2X8I+G2bNmC0+nUOE14yE9oHAj0RzNn4DUkaJwm9pksVroNGAHAuHHjZAWlHYqLi7n44ov56aefUBUd9elH4EiUwzXhYE3znahubYuveNXQ0MAXX3wByIjNaGS2JqM3mnC73eTn52sdJyykAIxxpaWlzJ37EQD2JBnDFy4dew0iMc03BlEOSbXNli1bOPfcc9m4cSNenZG6zAG4pa1G2CRKAdgqn332GTabDY/eIl0WopCiKFhTMgDfa088CGsBqKoqM2bMCOdTxr233noLl8uJ25iMR1oShI2i03HY0X8F4MMPP+Tnn3/WOFF0WbFiBRdccAFFRUV49AnUZQ7EY4yP3lyRwprqO8QgBWDL+JvsO6zZsj0hSiU0/cxv3rxZ4yThEbQCcNGiRdxzzz3ce++9LFy4cJ/bV6xYwXnnncdTTz0VrKcUh1BVVRVo/dKY1EXjNPEnOSuXnJ4DAfjnP/8pUxVaaOHChVxxxRXU1tbiNiZTlzVAxmlpwJrqWw3ZsWOHHGY6hA0bNvDrr7+iouCUGetRy78CuG3bNo2ThEdQCsBPPvmEG2+8kfnz57Nw4UJuvvlmvv32WwCqq6u5//77ufLKK9m2bRvXXnttMJ5StMBbb72FzWbDbUjELSfSNNF90HGYEhIpKCjglVde0TpOxPvss8+47rrraWxsxGVOoy6jH6ousvs/xiqzNQVFp8PhcLB3716t40S09957D/D1/lP1Jo3TiLayJKcBsHPnTm2DhElQCsBp06YxePBglixZwpIlSzjjjDOYNGkSBQUFnHfeeXz22WeMHDmSTz/9VEZkhUlFRUWg9Ys9qYtcktCIwWSmx1EnAfD666/LicqD+Oijj7jjjjtwu104LZnUS5sXTSk6HZbEVIC42RTfFjU1NXz0kW+ftcMa2V0WxMElJKUBUFBQgKqq2oYJg6AUgAUFBVx99dUkJSVhMpm4/fbb2bx5M7feeitOp5OXX36ZKVOm0KNHj2A8nWiB119/nYaGBtyGRF9HeqGZzC49yezSC4/HwwMPPBA3LQZa48MPP+Tee+/F6/XiSMjxNXiWNhqasyT7CsCCggJtg0SwDz/8kMbGRjwGq4x+i3LmxBRQFGw2G6WlpVrHCbmgvMLabLZmc087d+6MqqoYDAY++eQTTj311GA8jWihoqIipk2bBkBjcjdZ/YsAPY4+CYPJwoYNG5g8ebLWcSLK7Nmzuf/++1FVFbs1B1vqYfIzGyHMVl9BU1RUpHGSyOTxeAKvtXZrR/m5jXI6vR6TJRGIj5/5oBSAqqqi1/9+qcb/63vuuYfMTBmHE24vvfQSDocDlzFZ9v5FCJPFSo+jTgRg4sSJbNy4UeNEkcG/LcRX/HWkMUWKv0hitvramRQWFmqcJDJ9//337Ny5E6+ixxnhIzZFy5isvm4DUgC2U3a2nIYKt02bNjFnzhwAGlPy5M00gmR160N6px64XC7uvfdeXC6X1pE09cMPP3D33fegqioOaw6NKTLdI9KYE30FoBwC2T//PmunNUf2q8YIU4JvBbC4uFjjJKEX0gJQkRfzsFJVlaeffhpVVXFaMvGYpBlpJFEUhZ5DRwUuBU+aNEnrSJpZuXIlN910U9OBjyxssvIXkYwWK+A7VCaa27JlC4sXL0ZFDn/43+tj4T3flOBbASwrK9M4SegZgvVATzzxBElJvr84/+mZ//u//yMxMbHZ/RRFCeyZEMG1YMECFi1ahIri2/snIo4pIZHDjj6JLUu+YuLEiYwePZqBAwdqHSusdu3axZgxY7Db7bjMaTSk9ZLiL0L5C0AZZ7gv//uYy5IR130qFUXhkksu4YYbbmDKlCnMnDkTZ2MDlsToPBBjMJkB3+nuWBeUFcBhw4aRmJiIqqqB4m/YsGFYrdbA1/z/SUPR0HA6nYEm247ETjLzN4Jldu1NRpeeuN1u7rvvPhwOh9aRwqa+vp4xY8ZQWVmJ25BIfdrhcto3ghnNvteRmpoaOb3+BzU1NcydOxcAhzW+Z1OrqsoNN9xAz549ueGGG3xbOhpqtY7VZgajrwCsrY3eP0NLBWUF0D9tQmjnrbfeIj8/H6/OKFM/IpyiKPQ8+q/Ulu1l8+bNTJgwgYceekjrWCHn9Xq566672Lx5M16dkfoM6fMX6Qym31e2amtrycrK0jBN5PC3fnFL6xcURWHKlCmBFUBFUXztVKKUrACKqFJYWBiYMtGYnCdvqlHAaLHSc+gowNezceXKlRonCr0333yT+fPnoyo66tP7ourNWkcSh6AoCjqDbxJLQ0ODxmkig9frDSx6OKT1C6qqMnPmTEaNGsXMmTNRVTVwkCIa6fS+dbF4uDITlBXAf/7zny2+r6IoPPPMM8F4WtHkySef9I3OMqXgTJBP6NEis0tPOnQ/nLKdm7n//vv54osvSEiIzUv3a9as4T//+Q8AtpQeckApiugNRrxuF/X19VpHiQg///wz+fn5qNL6JcC/9SsWpmcoTVtSPB6PxklCLygF4LJly/b5WlFREVlZWRiNzed4xsIpoUgyf/58vvrqK1QUbNJGI+r0OOpEakr3sGPHDv7zn//w2GOPaR0p6BoaGppGvLlxWjJxJkh7qGiiN5hwYcNms2kdJSLMnj0bwPdhW662xBxF53sPdbvdGicJvaAUgN99912z37vdbgYMGMDrr79O//79g/EUYj8aGhoCBYMjMRevMXqX3eOVwWSh59DRbPzxE95++21OO+00hg8frnWsoBo/fjw7d+7EozdhS+0pH1KijKLzrYjEe99K8O0L+/LLLwFwJORonEaEhu/1KR4OrIZkD6Cs8oXHSy+9RGFhIR69mcakrlrHEW2U3imP7B79UFWVBx54gMbGRq0jBc2mTZt4++23AbCl9ETVBa3zVNSKtp5p8XRJ7FA+//xznE4nboMVj3zgjklej2/lz2KJ/dY+cggkSq1Zs+YPb6yHyaWIKJd35PGYEhIpKCgI7JWLdqqqMnbsWDweD05LBm5LutaRNOfvmfbdd99xySWXoCgKzsbIPlwRT5fEDuWzzz4Dmi7/RkkBL1rH0/RzHqv7sf9ICsAo5HK5eOihh/B6vTgsWfLGGgMMJjM9h44G4O23346JU8ELFy5k+fLlqIrOtz9VRHXPtFjY4N8e5eXlLFmyBACXRQ7bxSqvx7fVwWq1apwk9KQAjEJvvPEGGzduxKsYfPNTRUxI75RHh7y+qKrKww8/HNWNd1VVDbQmclg7SsuXJv6eadu3b4+anmlq014ok8mkcRJtLViwAK/Xi9uQGNeTP2Kd2+lr/5KcHPudCmQWcJTZtm0bEyZMAKAxJQ9Vbzz4N4ioknfk8RjMCWzZsoXJkydrHafNli5dysqVK1FRsCd20jpOxIjGnmn+AtBgiO/9mz/++CMALrniEtP8WzJycmL/kE9Q/kWPGjVqv8XezTffvN82MPPnzw/G08Ydr9fLgw8+iMvlwmVOkx5UMchoTqDHkBPYuvRrJk6cyNlnn81hhx2mdaxWe//99wFwWrNR9fG9cvRn0dYzzev1Hf7482t5PPF6vfz0008AuMxp2oYRIeWySwHYKsOHD5fVvjB49913fasqip4GaacRs7K69aGsYBPVxTt5/PHHeffdd6Pq31d9fT3ffPMNAA7p+Rf1PC7fVoR4uCR2INu2baOyshJV0eExJmkdR4SQw+ZreJ6dHfuvXUEpAMeNGxeMh2kzt9vNpEmTmDdvHtXV1fTr148HHniAI488EoCNGzfy9NNPs27dOjIyMrjmmmu46qqrNM3cWnv27OG5554DoDG5m+ypimGKotDjqBNZ/dUMFi1axJdffskZZ5yhdawW++abb7Db7Xj0FnmzjHKqqkoBCKxfvx4AjyERFNk6H6tUVcVeVwVAXl6etmHCICZ+kidPnsycOXP497//zbx58+jRowdjxoyhtLSUqqoqrr32Wrp168bcuXO57bbbeOGFF5g7d67WsVtMVVUeeeQRbDYbLmOyb/6kiGkJyWl07ns08Puov2ixaNEiQFplxAKvx42q+vYAJiXFbzHvLwDd0vsvpjkb6/G4Xej1eikAo8X8+fM566yzGDlyJN27d+fhhx+mrq6O1atXM3v2bIxGI08++SQ9e/bkggsu4JprruHNN9/UOnaLzZs3j4ULF/rGvaXJpd940fmIoZityRQVFfHWW29pHafFVqxYAYDbFNmnW8WhuR12wLf/L54LwIKCAgA8hthvDRLPGmsrAd/qXzyceo+JAjAzM5Pvv/+ePXv24PF4mDVrFiaTib59+7JixQqGDx/e7ATbiBEjKCgooLy8XMPULVNVVcWTTz4JgD2pK155AYobeoOBboOOA3yr3GVlZRonOrTS0lJ2796NCrjl8m/UczZtiO/QoUNU7UMNttLSUgA50BTjGqp9NUGfPn00ThIeMVEAPvrooxiNRkaPHs3AgQMZP348r7zyCt26daO4uJiOHZtfMvVv7iwqKtIibqs8/fTTVFZW4jFYsSdJO414k9WtD4np2TQ0NATa/0Qy/0qJV28BGfsW9Vx2G+ArAOOZ/8OXVxe/J6HjQV25rybwnx+IdTHxCr1t2zaSk5OZNGkSOTk5zJkzh/vvv5/33nsPu92+z1Ku2ew7QOFwOPb7eKNHjz7gcxUVFZGbmxu88AexdOlS5syZgwpNp35jol4XraAoCnlHjmT99x8xa9YsbrvtNjp1itwPAv6VEq+slMQEZ2P8nIg8mIYG30qoqsjIzVilqmqgADz66KM1ThMeUV8AFhUVcd999zF16lSGDh0KwMCBA9m2bRsTJ07EYrHsM1HBX/hF8qgXp9PJo48+6vu1NQePKX5P4MW71OwupGR3pra0kMmTJ/Pvf/9b60gHFLhUJislMcHeNKauS5cuGifR1u9biKKjd6NoPUdDDS5HI0ajkYEDB2odJyyivgBcs2YNLpdrn/9hgwcPZtGiRXTq1CnwpuTn//2BGj0uWLDggM93sNXBYHr77bfZtm0bXp2BxuTuYXlOEbm69hvO+tKP+WDmTG6//faIbVLqcvnmaKqyWh0T7PU1AHTr1k3jJNrS6Xw/z/G7CzL2VRfvBnyXfy2W+Bj1F/Wv0v79fZs3b2729S1btpCXl8ewYcNYuXIlHo8ncNvSpUvp0aMHmZmZYc3aUqWlpYE5qo3JeaiylyrupWR3ITkrF5fTyYwZM7SOc0D+7RVKU+sQEd0c9b4VwHgvAFNTUwFQvC6Nk4hQqSoqAOCkk07SNEc4RX0BOGjQII4++mgeeughli5dSkFBARMmTGDJkiXceOONXHDBBdTX1/Poo4+ybds2PvroI6ZOncpNN92kdfQDev7552loaMBtTJJxbwLw7QXM7XMkADNmzNhnW0Ok8BeASAEY9VRVpTGOmuIeTNeuXQHQefa/b1xEN6/HTU2JbwVQCsAootPpmDx5MiNGjOCf//wn559/PkuXLmXq1KkMHjyYzMxM3nrrLfLz8znvvPN49dVXefDBBznvvPO0jr5f69evZ86cOQDYUnpIzz8RkNH5MEwJiZSXl/PFF19oHWe//IcF5I0y+jkaavF63JhMprgvAP17IPVuu8ZJRCjUlO7B63HToUMH+vfvr3WcsImJa4upqak8/vjjPP744/u9fdCgQcyaNSvMqdrm+eefB8BpyZKDH6IZnU5P9mH92bP+Fz7++GPOPfdcrSPto3fv3gDo3Y2gqvIBJorZaioA6NmzZ7M+qvHIXxToXXUaJxGhUL5rKwCnnXZaXPW7jPoVwFiybNkyfvjhB1QUGpO7ah1HRKAO3Q4HYPHixVRVVWmcZl+dO3fGbDajoKLzyGpJNPMXgPHSFPdgRowYAYDBWQeq5xD3FtHE63FTWbgdgHPOOUfjNOElBWAEGT9+PABOazZeQ4LGaUQkSkhJx5qWhdvt5quvvtI6zj70ej1DhgwBwOio1jaMaJf6yhLAdwUl3uXl5ZGTk4OCisFRq3WciODVm1D3U0Lo9HpMlshtsfZnVUU78bic5ObmBlrJxQspACPEr7/+ypIlS3yrf0nx3XPLz78UH09L8i2R2aUXAAsXLtQ4yf6deOKJABikAIxqUgD+TlEUTj31VABMjZE/kjEsFB0uS/o+X07vdBg6ffRsGSjN3wDA2WefHWj3Ey/i608bwSZPngyAMyELVW/WOI32FEXhkksu4bvvvuOSSy5BURScjQ1ax4oIqdm+Dwi//PILqhp5jWn9p+iMzhrwurUNI9rE2diAs7EBnU7HgAEDtI4TES688EIATPZK+blu0pDWC6c5I/B7g8lMr+Ena5iodRy2+kD7l3/84x/ahtGAFIARYM+ePXzzzTcA2BM7a5wmMqiqyg033EDPnj254YYbUFUVR4NcegFIyshGp9dTUVHBtm3btI6zjyOOOIKePXuiqF5MjeVaxxFtUFu+F4C+fftG9MSkcBo0aBC9e/dGwYvZVnrob4gHip6GtN6B31qS0tAbomcKUGn+BlBVjjnmGHr16qV1nLCTAjACzJw5E1VVcZlS8RrlxRZ8K4BTpkxh+/btTJkyBUVRMCemaB0rIuj0BpIyfJNAfvvtN43T7EtRFC677DIAzLYS32lgEVVqSwsBGD58uMZJIoeiKFx//fUAWBoK5TBIlFO9Xkp2rAMIvF7FGykANeZ2u5k9ezYADmtkjvfSgqqqzJw5k1GjRgUKZFNCotaxIoYlKQ2AnTt3ahvkAC688EJMJhMGdwMGp6zcRpvaMt8KoBSAzV1wwQV07twZndfl+3AjolbFnm04bfVkZmZy2mmnaR1HE1IAamz58uWUlJTgVQy4LBmH/oY44t/fFon73LRmSU4DIrcATEtL4+KLLwbAUr9bVgGjiMtuw1bju3QvBWBzJpOJ22+/HQBL3R4ZDRelVFVl7+ZfAbjqqqviZvbvn0kBqLGvv/4awHeaSpH/HaJlzFZfk/CioiKNkxzYHXfcgclkwuisxeCs0TqOaKHqppFY/fr1o0MHGUX5ZxdddBF9+/ZFp7pJqI3MD2Di4OrKi6ivLMFkMnHllVdqHUczUnFoSFXVwOEPlyVT4zQimuibJjM4HJE7cq1jx45cccUVAFhrC2Q+cJSoLt4FwPHHH69xkshkNBp56qmnADA3lsoWhyhUuGkFAOeffz6ZmfH73isFoIb27NlDYWEhKgouc6rWcUQUUXSRXwCCbxUwPT0dvduGuSFyVyuFj6qqgQLwhBNO0DhN5Bo2bBiXXHIJANbqrSjSFiZq1FeVUrW3AJ1Ox80336x1HE1JAaihVatWAeAxJoKi1ziNiCb+3tiRvj8yIyODRx55BICE+t3o3DIeLpLVV5bgsjeQmJjIsGHDtI4T0caOHUvXrl3RexxYa7bLPtcosWfDcsDX+LlHjx4ap9GWFIAaWr16NQBuY7K2QUTUcdkbAUhP37cTf6S56KKLGD58OIrqxVqzLS7fKKNlbFZl4Q7A18zbbJaG9AeTnJzMxIkTMRgMmOwVmBqlN2Cka6iuoHLPdhRFCRzmiWdSAGooPz8fAI/0/hOt5HLYAMjKytI4yaEpisLzzz+P1WrF6KzF3LBX60jhFyVjs/wF4N/+9jeNk0SHIUOGcN999wFgrdmBXvYDRrTd65YAcMYZZ9CnTx+N02hPCkAN7dmzBwCvjH4TreRoqAeImlOaPXr04IknngAgoW4Xeme9toE08OexWSkdOkfU2KzG2ioaaysxGAyMGjVK6zhR4+abb+b0009HQSWpajOKJ7L35caruooSKgt3oNPpuOeee7SOExGkANSQv4WHFICiteqrfE1o+/fvr3GSlrv44osDb5SJ1Zvjr4fan8Zmdek3LKLGZpXv3gLAyJEjSU2VQ2ktpdPpeOmll+jXrx86r4ukyo0yKzgC+Vf/zj//fHr37n2Ie8cHKQA15D/BqUr/P9EKqtdLQ1UZ4JtPGi0UReG5554jLy8PvcdBYtWWuNwPGKnKd20FfJvjRetYrVamTJlCZmYmBreNpKrN0vYogtSU7Ka6eBdGo5G77rpL6zgRQyoPjaiqisvlXwFRNM0iokt9VSlej5vk5GR69uypdZxWSU1N5c0332zaD1hDQl2B1pEE0FBdTmNtJSaTiVNOOUXrOFGpS5cuTJs2jcTERIzOGhKrt8oHnAigqioFa34CfDN/u3XrpnGiyCEFoEZUVUVRpPATrVexZxvgO6mp00XfP+HDDz+cF154AQBLQxGmhmKNE4mygk0A/PWvfyUlJUXjNNFr4MCBvPnmmxiMRkz2Cqy1O6QI1Fj5ri00VJWSlJQkq39/En3vHjFCp9ORkeHbEB53e6EOIlraZWhFVVUqdvsKwNNPP13jNG135plncu+99wJgrd2BwV6lcaL4pXq9lO30FYAXXnihxmmi38iRI5kwfjw6nQ6zrYSE2nwpAjXi9bjZ9Ztv798tt9wS11M/9kcKQA35fxh1UgD+LkraZWilrnwvjoZaEhISov6k5p133slFF12EAiRVb0bvir+TwZGgumQXLruN9PR0TjrpJK3jxISzzz6b//znPyiKgsVWTELdTikCNVC0dQ2OhlpycnK4/vrrtY4TcaQA1FCnTp0A0LsbNU4SWf7cLsNosUZUuwwt7d38KwDnnnsuCQkJGqdpH0VRePbZZxk5ciSK6iWpcgM6t03rWHGndMcGAM455xxMJpPGaWLHhRdeyLPPPguApWGvFIFh5rTbAlM/Hnzwwah/vQwFKQA1NGDAAAD0rgaNk0SYP7XLSErPjqh2GVpprKsONOodM2aMxmmCw2g08vrrrzNw4EB0XjfJFRukj1oYOe02Kvf6fqb8s21F8Fx66aU89dRTQFMRKJeDw2b3umV4XE4GDBjA+eefr3WciCQFoIYGDhwIIJe+RIv4P82OGjWKXr16aZwmeJKTk5k2bRo9e/ZE53WSXLEexePUOlZcKCvYiOr1MnjwYPr166d1nJh05ZVXMm7cuMDlYDkYEnoN1RWU7FgHwGOPPRaVh+XCQf5WNDR06FAURcHgtsmqhzio+spSygo2AsTkSbbMzEzee+89OnfujN5jJ7lyPYpH9saGkqqqlGxfD/hWqkToXHrppYE9gWZbSdzOxA4HVVUpWL0IVJXTTjuNY445RutIEUsKQA1lZWVx9NFHA2CyV2qcRkSqwAsavr1/Rx55pLaBQqRTp068//775OTkoHc3klS5Xk7Ih1BNyW7s9dUkJSVJ8+cwuOiii5gwYQJ6vR5zYxmJ1dIsOhSq9uZTU7Ibo9HEo48+qnWciCYFoMb8Q9eN9gqNk4hIVb5zM7VlezGbzTz44INaxwmpvLw8PvjgA7KysnwTFSo3oMhYrZAo3rYWgAsuuICkpCSN08SHc889l9dffx2j0YjJXklS1SbwerSOFTO8HjcFq38E4IYbxkjT50OQAlBj55xzDnq9HqOzFp0cBhF/4mysZ8eqhQDccccddO7cWeNEodezZ08++OAD31gtVwNJFbISGGyOhjoq9+YDvj1qInxOOeUUpk6dSkJCAkZHNcnyISdoirauwV5fQ4cOHbjtttu0jhPxpADUWKdOnQKjl8w2mYggfqeqKtuXf4fH5WDgwIHccsstWkcKmz59+vxeBLobSKrYIEVgEBVtWwuqynHHHUfv3r0P/Q0iqEaOHMl7771HSkoKBlcdSRXr5OBTOzkbG9iz3ndQ7qGHHpJV7RaQAjACXH311QCYG8vkRUAEFG/7jaqiAoxGIy+99BIGQ3w1wj788MOZOXPmH4pAORgSDB63i5LtvhOS1113ncZp4tfQoUOZPXt2YLtDcsU6dG671rGi1q7fluBxOxk8eDAXXHCB1nGighSAEWDEiBEcddRRKKoXS/1ureOICFBXURw4+PHwww/Tp08fjRNpo0+fPsycOfP3N8lKWSlpr7KCTXhcDrp16xb102Si3RFHHMHcuXPp0qWL7/R7xTp0LmmG3lr1laWU5vsamj/++OPS9qWF5G8pAiiKwkMPPQSA2VaKTiaDxDWX3cbmn75A9Xo5/fTT436EUZ8+fZg9e3bgdLD0CWw7VVUp2rIagGuuuQa9Xq9tIEFeXh5z586ld+/eTX0w16F3Sm/YllJVlfxfffukzz333EBnDXFoUgBGiBEjRnDiiSeioGKVbvFxy+vxsHnJlzgb6znssMMCvcPiXc+ePZk9ezadOnVC72kkuWKd9M5sg6q9+TTWVZGcnMzFF1+sdRzRpGPHjsyZM4fBgwejU90kV67H4KjROlZUqNi9lbryIhISEnj44Ye1jhNVpACMII8//jhGoxGjo1rawsQhVVXZvmIBtaWFJCUl8frrr5OcnKx1rIiRl5fH7Nmzm18ukz1TreKfJX3ZZZfJz1aESU9P5/333+fYY49FUT0kVW3EYK/SOlZE87hdFKz5CYBbbrmF3NxcjRNFFykAI0jPnj254447ALDW5supxzizZ/0vlBVsQq/X89prr3H44YdrHSnidO3alTlz5pCXl4fe42gqAmXLREvUV5ZQW1aIwWDg2muv1TqO2I+kpCSmTp3KySefjKJ6SarahLGxXOtYEWvv5l9x2uro3LkzN910k9Zxoo4UgBHmlltuadoL4sJaLeOC4kXJjvXsXr8MgKeeeooTTzxR40SRq1OnTsyePZtevXoF9kzJxvlDK9y0EoCzzz5bVkoimMVi4fXXX+ecc85BQSWxegsmW6nWsSKOs7Gewo0rAN9BOYvFonGi6CMFYIQxmUy88sorvk7xjirpDRgHyndtYfvyBYDvA8Bll12mcaLIl5OTw6xZs+jbty86r4vkynXSSP0gGuuqqdizHYCbb75Z4zTiUIxGIxMmTOCyyy5DARJrtmGS94Jmdv22FK/HzVFHHSWjDNtICsAI1K9fPx555BEAEmoL0LvkRFisqioqYOuybwDfviz/aXBxaFlZWcycOZP+/fuj8/o2zsu/lf3bu/lXUFX++te/0rdvX63jiBbQ6/U888wzgcv1iTU7MDcUaZwqMtRX/d725f/+7//koFwbSQEYoa699lrfPhBUkio3SduLGFRdspvNP32O6vVyzjnn8NRTT8kLWSulp6fzwQcf+E5Pet0kVWyQIvBPnHYbZQW+N0tZ/YsuiqLw+OOPB/6/WWvzMdfv1TiVtlRVZefqxYBvlOpRRx2lcaLoJQVghFIUhfHjx9OzZ090XieJVZtB9WodSwRJdcluNv34CV6Ph5NPPpmXXnpJerK1UWpqKu+99x5DhgxBp7pJqpCVwD8q2vIrXo+HIUOGcMwxx2gdR7SSoig8/PDD3HnnnQBY6wriugisLtpJTekejEYTDz74oNZxopoUgBEsJSWFKVOmkJSUhNFVh7VmuxwKiQHVxbsCxd/o0aN57bXXMBqNWseKaikpKUyfPp2jjjoKneohuWI9emed1rE053Y6KN72GwC33XabrDBHKUVRuPfee5sXgQ3xVwSqXi8Fa3yrf9dddy1du3bVOFF0kwIwwvXs2ZNXX30VvV6PubFMRsVFuaqiAjYt/jSw8jd58mTMZrPWsWJCcnIy06dPZ+jQoSiqh+RKuRxcvP03PC4nvXv3ZvTo0VrHEe3gLwJvv/12AKy1BZga4utgSGnBRhprK0lLS+O2227TOk7UkwIwCvz1r3/l6aefBiChfk/c/aOPFRW7t7Fp8WeB4u+1116T4i/IkpKSmDZtGkcffbSvmW7FBvRxejrY43YFGj/feuutMh81BiiKwv3338+tt94KQGLtDky2Mo1ThYfH7Wb3uqUA3HHHHaSmpmqcKPrJK0KUuPTSS7nrrrsAsNbukOagUaa0YCObl3yJ6vVy9tln8/rrr0vxFyL+IjCwJ7ByfVz2CSzN34Db0UiXLl2kTUYMURSFBx98kGuuuQYAa822uJgcVbxtDc7GBjp37swVV1yhdZyYIAVgFLnnnnu4/PLLfX2hqrditFdqHUm0QNHWNWxb9i2oKhdffDEvv/yy7PkLseTkZKZNm8bAgQMDLWLiaWKI1+uhcNMqAG666Sb5eYsx/tPBF110ka9ZdNWWmJ4d7HY6Ak2f77nnHmn6HCRSAEYRRVF46qmnOPfcc5v+0W/G4KjWOpY4AFVV2b1uGfmrFgK+1j7PPfecnPYNE//pYH+z6KTKDSgeh9axwqJ85xactjqysrK4+OKLtY4jQkCn0/Hcc89x+umn+9qFVW2K2e0Oezevwu100Lt3b84//3yt48QMKQCjjE6n48UXX+TUU08N/KOXIjDyqKpK/qqFgfFu99xzD48//rjswwqztLQ0pk+f/ofZwRtQPLE9Y1v1egOrJWPGjJHVkhim1+uZMGECxxxzjG/Pa+UGdG671rGCyuVoZO+W1QDcd9998gE6iGLm3WjevHmcccYZDBw4kDPPPJMvv/wycNuePXu46aabOOqooxg5ciQTJkzA4/FomLZ9DAYDEydO/H1geOVGDI4qrWOJJl6Ph61Lv6Z421oUReHJJ5/k7rvvlhYcGsnOzmbGjBl06tQJvaeRpKqN4I3ef/+HUlm4g8a6KpKTk2WvVBywWCxMmTKFww8/3LfSXbURvG6tYwVN4aZVeN0u+vfvz2mnnaZ1nJgSEwXg//73Px599FEuv/xyPv/8c8466yzuvfdefv31V1wuF9dffz0AM2fO5IknnuCDDz5g0qRJGqduH7PZzOTJkznllFMC00IMdikCteZxOdn44yeU79qCwWDg5Zdf5uqrr9Y6Vtzr0qUL06dPJz09HYOrnqTq2Gysrqoqe5pW/6655hqSk5M1TiTCITU1lWnTppGdnY3e3UhS9ZaY6BnrtNso3roG8K3+yYfo4Ir6AlBVVV5++WWuuuoqLr/8crp168Ytt9zCcccdxy+//MLXX3/N3r17ef755+nTpw8nn3wy9957L9OmTcPpjO7xaiaTiUmTJjW7HCyng7XjtNtY9/1H1JTsxmq18vbbb/P3v/9d61iiSa9evXj77bexWCwYHdUx2Vi9pmQXDVWlJCQkBGbIiviQm5vb7Oc7oTZf60jttnfzKrweN4MHD2bUqFFax4k5UV8A5ufnU1hYuE+bg//+97/cdNNNrFixgv79+zfrGTRixAjq6+vZuHFjuOMGnb8IPOecc3wHQ6q3YLKVah0r7tjra1i3YA4NVaVkZGQwc+ZMTjzxRK1jiT856qijeO211/7QWH2P1pGCyr/6d+mll5KZmalxGhFuAwcOZMKECQBYbMVR/V7gcjQGptjcddddsvoXAgatA7RXfr7vU47NZuP6669nw4YNdOnShVtuuYVRo0ZRXFxMx44dm31PdnY2AEVFRQwePHifxzxYx/yioiJyc3OD+CdoP6PRyIQJE7BarcycOZPEmm0oqgdHYmTljFX1VaVsXPQJLrstcKnxsMMO0zqWOIDRo0fz9NNP8/DDD5NQvxuPwYIroYPWsdqtrryI2tJCjEYjN9xwg9ZxhEZOP/107r77bt97Qs12PEYrHmOS1rFabe/mXwN7/2T1LzSifgWwvt436umhhx7irLPO4u233+Yvf/kLt956K0uWLMFut2MymZp9j78Br8MROy0h9Ho948aNC+x3tNbmY6nbFXOXuCJNTclu1n/3ES67jX79+vHRRx9J8RcFLr30Um688UYAEqu3oXfWapyo/Qo3rQTg3HPPpVOnThqnEVq66667GD16dFO7sE0o3ug6+e6bYb0WgDvvvFNW/0Ik6lcA/Q1Or7/+es477zwAjjjiCDZs2MA777yDxWLZZ6+fv/CzWq37fcwFCxYc8PkieZ6moij83//9H2lpabz44osk1O9B8bppTOkB8g8o6Mp3bWHrsm9QvV5GjBjBlClTSElJ0TqWaKF//vOf7Ny5k6+//pqkqs3UZg1C1UfndBZbTQWVhTtQFIWbb75Z6zhCYzqdjvHjx3POOedQUFCAtXobDel9o+Z94I8zrE855RSt48SsqF8BzMnJAaBPnz7Nvt6rVy/27NlDx44dKS1tvg/C/3v/98YSRVG48847eeqpp1AUBYutmMTqLTF54lFLRVvXsGXJV6heL2eeeSbvvvuuFH9RRqfTMWHChN8bRVdF78lg/9SPU089lV69emmcRkSC1NRUXnvtNYxGIyZHFWZbkdaRWsTrcVPU1Pfv5ptvlt6pIRT1f7P9+/cnMTGRNWvWNPv6li1b6NatG8OGDWPDhg2BS8UAS5cuJTExkb59+4Y7bthceeWVTJw4EYPRiMleQVJlbPWG0oqqquz6bUlguof/71nm+kYnq9XKlClTSEtLw+Cqx1qzQ+tIreaw1VG+czMAt9xyi8ZpRCTp378/Y8eOBSChdid6V/0hvkN7ZQWbcNlt5Obmcs4552gdJ6ZFfQFosVgYM2YMkyZN4rPPPmPXrl1MnjyZn376iWuvvZaTTz6ZDh06cPfdd7Np0ybmz5/PSy+9xHXXXbfP3sBYc/bZZzNt6lQSExMxOmtIrliP4onu1jdaUr1edqz4nj0blgNw77338u9//1s600e5bt26MWnSJHQ6HebGUky2Eq0jtUrRltWoqm8bwpFHHql1HBFhrr766kCrsMTqrRG9yq2qKns3/wr4ptjE+nu01qK+AAS49dZbueOOOxg/fjxnnHEGX331FRMnTuSYY47BbDbz1ltv4fV6ufjii/nXv/7FZZddxq233qp17LAYOXIks2bNIjMzE4O7geSK39C5G7WOFXW8Hjdbln5FyY516HQ6nnnmGWlNEENGjhzJvffeC/gOUOmiZKaq2+mgZPs6AG666SaN04hIpCgKzz77LFlZWejdjSTU7dI60gFVF++ksa6KpKQk/vGPf2gdJ+ZF/SEQv2uvvfaAjU+7d+/O22+/HeZEkWPgwIF89NFHXHXVVezcuZPkit+oTz8Cj0mmBLSEx+1i80+fU128C6PRyMsvv8yZZ56pdSwRZLfddhvLly9n4cKFJFVtoTZrEOgie3W3ZPs6PG4Xffr04a9//avWcUSEyszMZNy4cYwZMwZzw16clgw8psjbs+zf+/ePf/xDptiEQUysAIpDy8vLY+7cuQwcOBCd101y5XoZHdcCbqedDT98THXxLqxWK++8844UfzHKf3KyY8eO6D2NWOsKtI50UF6Ph6KtqwG48cYbZTVaHNTf/vY3LrroIhQgsXp7xF0KttVWUl28C51OxzXXXKN1nLggBWAc6dChAzNnzuSEE05AUb0kVW2K6k7xoeay21j//UfUVRSTmprKjBkzOP7447WOJUIoMzOTF198EQCzrQSjvVLjRAdWsXsrzsYGOnToIJvlRYuMHTvWdynY0xhxU3D8Uz9OPvlkunXrpnGa+CAFYJxJSkriv//9L+edd55vU3DNNt8LQaQ1jFZ0eHVNOxQ0WNlwNtaz7vu5NFSXk5WVxezZsznqqKPCnkOE38iRIwOTNKw12yLy4JSqquzd4tssf/XVV8spdNEiaWlpPPnkkwBY6gvRuW3tf1BFh0fnP6zRttdqj8tJWYFvNOtVV13V/kyiRaQAjEMmk4mXXnopsGk8oW6Xb3B4JBWBioLLlNb0y/AWgPaGWtZ9N5fG2ipyc3OZM2dOTLcMEvt64IEHOOKII9B53Vhr87WOs4/asr00VJVhsVi44oortI4josgZZ5wRmBJirQnC676i4LRkNv2yba/VZTs343E56dGjB3/5y1/al0e0mBSAcUqn0/HII4/w2GOPAURmw2gNVv7sDbWs//4j7PU1dOvWjTlz5shotzhkNpt54YUXMBgMmOwVGBvLtY7UjH/v3/nnn096erq2YURUURSFxx9/HJPJhNFZg9FeEYwHbde3+0+yX3755dL4OYzkbzrOXX/99dIwuom/+HM01JKXl8fs2bPp2rWr1rGERgYMGBBorGyt3REx81TtDbVUFvoaVh+o84EQB9O9e/fAyMCEugJNP/jXV5bSUF2GyWTiwgsv1CxHPJICUHDOOecw9Z134rph9B+Lvx49ejBr1ixyc3O1jiU0dscdd9C7d290XnfE9E8r3rYWVJWRI0fuMwJTiJa69dZbyc3NRe9xYm7QbkxcyY71AJx22mmymh1mUgAKAI4//vg/NYxeh85t1zpWWDgb69nww8eB4m/mzJl07NhR61giApjNZp555hnfr20l6J11mubxuN2U7tgAIK0yRLskJCTwwAMP+H5dvwfFE/4Vbo/bRfku3xhDafwcflIAioCBAwfy4Ycf0rlzZ/Qeu68IdAXhlFgEc9ltrP9hXmDPnxR/4s+GDx/ORRddBIC1Znv7Ns0rOtTAL1vfZLpi91bcTjtdunRh1KhRbc8hBHDeeefRv39/FNWDpSH8bWEqC3fgcTnp0qULxx13XNifP95JASiaOeyww5g7dy69evVC53WSXLEuKgaIt4Xb6WDDwv/RWFtJx44def/996X4E/v1yCOPkJqaisFta9+s4D9slm/LicnibWsB32Z5mUEt2kun0/Hwww8DYG4oRvE4wvr8ZTs3Ab7DTHL4I/zkb1zsIzc3lw8//JDBgwejU90kV6xH76zVOlZQeT1uNi3+jIbqMjIzs3j//fflwIc4oIyMDO655x4AEup3obTroFTbTkzWV5ZSX1mCyWTi4osvbsfzC/G7448/nhEjRqCgklAXvlVAZ2MD1cW+fbXnn39+2J5X/E4KQLFf6enpvP/++74XBtVDcuUGDI5qrWMFhaqqbF32DbVlhSQlJTF9+rv07NlT61giwl1xxRVNK+NuTaYolOzwtco47bTTyMrKCvvzi9ikKAr3338/AKbG0rDt/S7ftQVUlSFDhtCjR4+wPKdoTgpAcUBJSUlMnTqVk046yTc6rnJj1M8PVlWVgl8XUbF7G0ajkTfffJP+/ftrHUtEAaPRyKOPPgqAuaEorJfLPC4n5Tt9m+UvvfTSsD2viA/Dhg1j5MiRKKhYGgrD8pzlu7YA8Pe//z0szyf2JQWgOKiEhASmTJnCqaeeioJKUtWmiJ6PeijFW9dStHUNAC+99JJ0nRet8te//vUPl8vC1xamfPdWPG4XeXl5HHvssWF7XhE/7rzzTgBMttKQf7ix19dQX1mCTqfjzDPPDOlziQOTAlAckslkYtKkSZxxxhm++cFVm6OyCKwu3kn+6kUA/POf/+Scc87ROJGINoqi8M9//hMAU2NZ2E7Jl+b75qRecsklYR+NKOLDMcccwzHHHNO0Crg3pM9VvnsrACNGjCA7OzukzyUOTApA0SJGo5GJEydyzjnnBIrAaLocbKutZPPPX4KqctFFFwXmIAvRWkceeWTTirivf1qoNdZVU1e+F51OJ5vlRUj5J9+YbSXtPOh0cBW7twFw1llnhew5xKFJAShazGAwMH78eM4666zA5eBoOBjicTnZvPhzPC4nw4YN4+mnn5ZVFNEud999NwBGe3nIVwHLCnyrfyeccAI5OTkhfS4R30466SQOP/xwFNWLyVYckudwNNTRUFWKoiiceuqpIXkO0TJSAIpWMRgMTJgwodmeQIOjRutYB6SqKtuWz6exrorc3Fxef/11zGaz1rFElOvXrx+nnXZayFcBVVWltMDXK03mpIpQUxSFG2+8EQBLQ3FIZgRXFG4HfA3W5TS7tqQAFK1mNBp59dVXGTVqlO90cNWmiG0WXbRlNRW7t2EwGJg0aZK84Iig8W+aN9rLQ9Y6o658L05bHcnJyfztb38LyXMI8Udnn302WVlZ6LzOkOz1rtzjKwBPO+20oD+2aB0pAEWbmEwmJk+e7Ns0rHpIqtyIzt2odaxm6itL2bnmJwDGjh3L0UcfrXEiEUv69+/PiSeeiAIha51R1tT65bTTTsNisYTkOYT4I7PZzOWXXw6ApaEoqI/tctipLfcdMJEPNNqTAlC0mcVi4a233qJ///7ovC6SKjegeJxaxwJ8Q8a3Lv0aVfVy2mmncc0112gdScSg2267DfC3zgjuz77X4wlslj/33HOD+thCHMwVV1yBwWDA4KpD72oI2uNWF+8EVeXwww+XyUsRQApA0S4pKSm8++675OXlofc4SKraCF6P1rHYuWYxjXVV5OTkMG7cODn0IUJi+PDhDB48GAUVc3tmBO9HTelu3E47HTp0kN5/Iqyys7MDBzSCeRikam8+AKNHjw7aY4q2kwJQtFtWVhbTpk0jIyMDg6uBxGrfiB+tVBfvonjbbwC8+OKLpKena5ZFxDZFUbj++usBMNuCu2nev/p3+umno9frg/a4QrSE/zKwubEsKB/qVa/XtwIIjBo1qt2PJ9pPCkARFHl5ebz11luYzWZMjioS6nZqksPjdrF9xXcAXH311Rx//PGa5BDx44wzzqBjx47ovC5MjeVBeUyvx0NF02Z5mZQgtHDcccfRo0cPX0sYe/t/rusrS3A7HSQnJzNkyJAgJBTtJQWgCJqjjz6a8ePHA2Bp2IvJVhr2DLvXLcPRUEunTp148MEHw/78Iv4YjcbfV0uCdBm4pnQPHpeDDh06MGzYsKA8phCtoSgKF198MQDmILyWVxf7RieOHDkSg8HQ7scT7ScFoAiqM888kzvuuAMAa8129M66sD13Q1UZe7f8CsBTTz1FUlJS2J5bxLdLLrkkqJvmKwt3AHDKKafI5V+hmQsuuACdTofBVdfuLg/+y78nnnhiMKKJIJACUATdvffey8knn+wbGVe9GcXrCvlzqqrqm/OrqpxxxhmyyViEVXZ2dqCvWXs3zauqStVeXwEorTKElnJycjjhhBMA3+zrtvK4nNRV+lbHR44cGZRsov2kABRBp9PpmDBhQtPJYCfW6m0hPxRSWbiD2tJCTCYTjz76aEifS4j9ufTSSwF8+wDVtm+ar68sxdnYQGJiIscdd1yw4gnRJueddx7QVAC28XW8tmwvqCrdunWT9i8RRApAERLJycm89tprmEwmTI4qzA17Q/ZcXq+HnWsWA3DjjTfSpUuXkD2XEAdy3HHH0aVLF3SqB1M7JihUFflaZZxwwgkytlBo7tRTTyUxMRG9x9HmiU81pbsB5ANNhJECUIRM//79eeKJJwBIqNsV1Iaif1SavxF7fQ1ZWVnceuutIXkOIQ5Fp9MF5vWabG2/XFZd5Nsr9de//jUouYRoj4SEhMBWhLaeBq4p9c3Lln6WkUUKQBFSl112GaeccgoKKtbqrUEfLu71uNmz4RfAN5UhMTExqI8vRGucf/75ABic1W2aDOKy26hv2it10kknBTOaEG121llnAWBqrGj1ZWC3y0FDta9wHDFiRNCzibaTAlCElKIoPPvss2RmZmJw20io2x3Uxy/ZsQGnrZ6OHTty2WWXBfWxhWit7t27c9RRR6FAm3oCVpf4/n3069ePnJycIKcTom1OOOEEkpOT0Xmd6F2t6+xQV14MqkrXrl3p2LFjiBKKtpACUIRcVlYW48aNA8DcsDdol4JVr5e9m1cBcMstt2CxWILyuEK0h39ub1sul9U0FYDSwFxEErPZHNiS0Nr9rXXlvv3fw4cPD3ou0T5SAIqwOOWUUzjzzDN9l4JrtgflVHBl4Q4cDbWkp6fzj3/8IwgphWi/008/HUVRMLjqUTyOFn+fqqpUl/zeLFeISOJvc2S0V7bq9bu2vAhAGppHICkARdg8/vjjJCcnY3DV++amtpN/9e+KK64gISGh3Y8nRDBkZ2cHVjtMjRUt/j57fQ1OWz0mk0neLEXEOemkkzCZTOg9dnSeljWFVr3ewJ7Wo446KpTxRBtIASjCJicnJzCezVK3G8XrbvNjNVSXU1dRjNFo5KqrrgpWRCGC4vTTTwfA6Gj55bLappOSRx55pHygEREnMTExcIjDaK9q0ffYaivxul0kJSXRq1evUMYTbSAFoAiryy67jD59+qBT3Vjq234gpGT7OsA3KSE7OztY8YQICn/bDIOztsWTcGrLfHuljjnmmJDlEqI9/PsAjY6WFYB1Fb4rPYMGDZKRhhFICkARVgaDgcceewwAc0MxOre91Y/hcbsp27kJQE7+iojUpUsXjjjiCBRavlpSW1YISAEoIpe/ADQ468B76Gk3DU2Xf4888shQxhJtJAWgCLvjjz+eE044AQUVS/2eVn9/VVE+HpeTLl268Je//CUECYVoP/88aqOj+pD3ddjqcNjq0Ov1sldKRKy8vDy6dOmCgorBWXvI+9dXlQIwcODAUEcTbSAFoNDEvffeC/jmS+rcLdtQ7FexaysAZ599Njqd/AiLyHTiiScCYHBUH/LUpP9SWd++faWZuYhYiqIETqgbndUHva/X48ZW4zsEJQVgZJJ3T6GJIUOGMGrUqKZVwMIWf5/H5QzMSj377LNDFU+IdhsyZAhJSUnoVPchZ6jWlfsKQFn9E5HOf9XF4Dj4CqCtphLV6yUtLU3ms0coKQCFZm677TbAtwrY0rFZ1cW78Ho85OXl0a9fv1DGE6JdjEZjYPbpoS6X1TetAA4ZMiTkuYRoD/8eVb274aCdHBqqffOw+/Xrh6IoYckmWkcKQKGZoUOHNo3NUlvcF7Byr2/17+STT5YXFRHx/AWg0VlzwPuoXm/gzXLw4MFhySVEW+Xk5NCjRw8UQH+QDza2at/l3yOOOCJMyURrSQEoNDVmzBgAzLYSUL0Hva+qqlQVFQC/b7AXIpI1WwE8wD5AW20VXo+bxMREDjvssHDGE6JNhg4dCjSdBj6AhhrfhxopACOXFIBCU6eccgodOnRA53X5RgwdRENVGW5HI0lJSTIpQUSFvn37kpKSgqJ60bv3PwO7oemkZP/+/eVQk4gKRx99NAAG14ELQP8BkL59+4Ylk2g9ebURmjIajYE5vmZbyUHvW9M0KWH48OEYjcaQZxOivXQ6XWBf34FWSxqqfCslAwYMCFsuIdrDf1jJ4Krf78q2y27D7bCjKIpMAIlgUgAKzfkLQIOz5qCHQWrLfAWg/7KaENHAv1qiP0ABaKspB+RSmYgevXr1wmq1oqje/bbxstX6ruZ07dpVxhpGsJgqAPPz8xkyZAgfffRR4GsbN27kiiuu4Mgjj2TUqFG8++67GiYU+9OtWzeGDBmCApjs5fu9j6qq1JYVAQTmUQoRDfwHOwz7aQWjqioN1VIAiuii1+vp378/sP+fa1uNrwDs06dPWHOJ1omZAtDlcnH//fdjs9kCX6uqquLaa6+lW7duzJ07l9tuu40XXniBuXPnaphU7M/f//53AEyN+y8A7XXVeFwOzGazvFGKqOJvgqv32OFPbTNcdhtupx2dTkfv3r21iCdEmwR+rl377m211/nGH/bs2TOsmUTrxEwBOHHiRJKSkpp9bfbs2RiNRp588kl69uzJBRdcwDXXXMObb76pUUpxIGeccQYAelf9fi8D+yclDBgwQPb/iaiSmZlJ586dATD86c2yselSWbdu3bBYLGHPJkRb+T+I6922fW5rrKsGoEePHuGMJFopJgrA5cuXM2vWLMaNG9fs6ytWrGD48OEYDIbA10aMGEFBQQHl5ftfaRLayMnJYeDAgSiA0VG1z+3+mZIyVFxEowO9Wfr3SslGeRFt/Kd793e6vbFpBVDaGkU2w6HvEtlqa2t58MEHGTt2LLm5uc1uKy4u3mcPQnZ2NgBFRUVkZWXt9zEP1mOuqKhon+cRwXHyySfz22+/YXRU4bTmNLvN1rRPSqZ/iGh0+OGHM3/+/H0KwMZauVQmolOfPn1QFAWd143i9QS+7vV4cNh8B57y8vI0SidaIupXAJ944gmGDBmy37mwdrsdk8nU7GtmsxkAh8MRlnyi5U444QSgacbkH1oLqKoqJyVFVAuslriaF4D2+mpAVkpE9LFYLHTt2hUAnff3bTsOWx2oKgkJCYEFFxGZonoFcN68eaxYsYJPP/10v7dbLBaczub7yfyFn9VqPeDjLliw4IC3yQSK0Bk0aBBJSUnU19c3u6zg2yjvQK/Xy6UyEZX8P7d/bpkhe6VENOvZsye7du1C5/l9QcVe7xt72K1bNxnXGeGiegVw7ty5VFRUcNJJJzFkyJBAw9XHH///9u49Jsv6/+P46+YkoiiiBhl8waHhATFmnAwSb00ljEmWbZpN0zxrak5RyHKZVoqHsDRTIS2jOTXLSp2H5WHDOc3TJm0urTlR1zxBX4439+8Pftxf8YBI4MXN9XxsbN7XdV+X7w/7jPt1fz7X9bne09ixY+Xv769r165VO6bqtZ+f3z3ng7Hc3NwcT/hwu+MZk1XXkwQGBjpGcAFnUhXwXOzlkipHt+0VTJXBuVWNXFvuGAG8MwCicXPqEcClS5equLi42rYBAwZo2rRpSk5O1o4dO5STkyObzSZXV1dJUm5urjp27Ki2bdsaUTIe4tlnn9WBAwfkVlogu6Xy+4mtrPKPC9NkcFbNmzdXhw4ddPnyZVWNiVRNlXl6ejJVBqcUFBQkSXK9Y3mjqi81AQEBhtSE2nPqEUA/Pz8FBQVV+5Eql13w8/PT0KFDVVhYqLS0NJ0/f17btm1Tdna2xo8fb3DleJCqUVzXsgLZ7+qeXP8HZ3b3iEjxP5Wj3IGBgUyVwSlVfebeqeT/+3XV0kdovJw6AD5M27ZttW7dOl24cEEpKSlatWqVZs+erZSUFKNLwwNUPTXB1VYqu2vlDTwhISFKS0sjuMOp3R0AS/5hpATO7X7TvFUjgATAxs+pp4Dv5/fff6/2Ojw8XN99951B1eBRtWzZUsHBwbp48aLjRpCQkBCNGzfO4MqAf6fqjskqJf9lpATOrUOHDvdsKyUAOo0mPQII51Q11etRfN3gSoD6c/eHZdUIIB+UcFaenp7Vrqe32ytUWly51JG/v79RZaGWCIBodF566SXH+o2urq6Ki4szuCLg37v7A7G0qHKEm4Xl4cwGDhzo+HdZ8X8lu12urq4PfNACGo8mNwUM55eUlKQBAwbIZrPJxcXlnsW8AWfUsWNHWSwW2e3/WwZGIgDCuS1evFgxMTGaNm2a40vNE0884Vh5A40XI4BolNzd3eXp6Un4Q5Px1FNPacOGDWrTpk217UyVwdl5enpKqpwClsSyRk6CAAgAj4nValXr1q2rbWvfvr1B1QANgz7tHAiAAGAQLy8vtWjRwugygHpFAHQOBEAAMAgflGiKuAHEORAAAcAgPJISTRH92jkQAAHAIHxQoiny9fU1ugTUAgEQAAzCByWaIr7YOAcCIAAY5O4lYYCmwMfHx+gSUAsEQAAwCAEQTRH92jkQAAHAIHevCQg0BYwAOgcCIAAYpFWrVkaXAPxrLi7/ixIeHh7y8vIysBrUFgEQAB6jpKQkNWvWTEFBQYqKijK6HOBfi46OVr9+/dStWzdNnz5dFovF6JJQCxZ71ZPJUSv9+vWTJO3bt8/gSgAAgJnUZwZhBBAAAMBkCIAAAAAmQwAEAAAwGQIgAACAyRAAAQAATIYACAAAYDIEQAAAAJMhAAIAAJgMARAAAMBkCIAAAAAmQwAEAAAwGQIgAACAyRAAAQAATIYACAAAYDJuRhfgbK5duyabzaZ+/foZXQoAADCR/Px8ubq61su5GAF8RM2aNZObG7n5ccjPz1d+fr7RZQD1in6NpoY+/fi4ubmpWbNm9XIui91ut9fLmYB6VjXKum/fPoMrAeoP/RpNDX3aOTECCAAAYDIEQAAAAJMhAAIAAJgMARAAAMBkCIAAAAAmQwAEAAAwGZaBAQAAMBlGAAEAAEyGAAgAAGAyBEAAAACTIQACAACYDAEQ9cZqtSo0NFRZWVn33T9//nyFhoYqMzNTkhQaGqpt27Y59peWlmrVqlUaNGiQwsLCFBkZqTFjxig3N9fxnpEjRyo0NPSBP1ar9Z7/d+fOnffdDtRGY+rXxcXFysjIkNVqVUREhF5++WWev4pH1pj6dFFRkT744APFxcWpZ8+eGjFihE6ePNlwjYeDm9EFoGlxd3fX7t27NXr06Grby8vLtWfPHlkslgcem56ertOnTys1NVWdOnVSQUGBcnJy9Oabb2r9+vWKjY1VZmamysrKJEn5+fl69dVXlZmZqYiICEmSq6trtXPu3btX8+bNU7t27eq5pTCTxtKvFy5cqMOHD2vBggUKDg7WTz/9pClTpig7O1vR0dEN1Ho0RY2lT6enp+vs2bNatmyZ/Pz8lJ2drdGjR2vXrl3y8/NroNZDIgCinsXGxurQoUO6cuWK/P39Hdtzc3Pl5eWl5s2b3/e4wsJC/fDDD8rMzFRCQoJj+4IFC5SXl6dvvvlGsbGx8vHxcewrKSmRJLVu3Vrt27e/53wLFy7Uzp07FRISooKCgvprJEynMfTroqIiff/991q0aJH69OkjSZo0aZKOHj2qrVu3EgDxSBpDn7bZbPLw8ND777+vqKgoSdLMmTO1efNmnThxQomJifXYYtyNKWDUq/DwcHXo0EG7du2qtv3nn39WYmJijd8qXVxcdPjwYZWXl1fb/umnn+rdd999pDouXbqk/Px8bdmyRf3793+kY4G7NYZ+bbFYtGbNGj3//PP3nP/27du1Pg8gNY4+7erqqsWLFys2NlZSZbhcu3atWrRooWeeeab2jUGdEABR7xITE6v9USktLdXevXuVlJT0wGNatmyp4cOHKycnR/Hx8XrnnXeUk5Ojv/76S35+fo88FdClSxd99dVX6tq1a53bAdzJ6H7t6empuLi4aiMrp0+fVm5uruLj4+vUJpib0X36TmvWrFGvXr305ZdfKi0tTU8++WSdzoPaIwCi3iUmJurkyZO6evWqJOnIkSPy9fVVt27dajwuPT1dGRkZ6tKli/bs2aP33ntPL7zwgsaMGeM4F2CUxtav//jjD02ePFnh4eEaNmxYnc8D82pMfToxMVHbt2/X2LFjlZ6ergMHDtTpPKg9AiDqXVhYmAIDA7V7925JlVMKNX2jvNPgwYOVlZWlY8eOKTs7WyNGjNDRo0c1derUhiwZeKjG1K9PnDih4cOHq23btlqzZo3c3d3rdB6YW2Pq00FBQerWrZtmzZql3r17P/AOZdQfAiAaRNXUQklJifbt26cXX3yxxvcfPXpUixcvdrz29PRUbGys5s+fr7lz5+rUqVO6fv16Q5cN1Kgx9Os9e/Zo1KhR6ty5szZt2qQ2bdrUqS2AZGyf/ueff7Rr1y7dvHmz2vann36aWZ/HgACIBpGYmKgTJ05o69atCgwMVEhISI3vLywsVHZ2tk6dOnXPPm9vb3l6eqply5YNVS5QK0b36/3792vGjBlKSEjQ+vXr5e3t/chtAO5kZJ+uqKjQzJkz77kR5fTp0+rUqVPtG4E6YRkYNIiuXbsqKChIGRkZGj9+/EPf37dvX0VFRWnixImaOnWqYmJiZLPZdObMGWVkZOitt96Sh4fHY6gceDAj+/WtW7c0Z84cde/eXWlpabp165Zjn7u7e7WbQ4DaMrJPe3t7a9iwYVq5cqX8/f31n//8Rzk5OTp16pRycnL+bdPwEARANJjExEStXr36oVMKUuWyAmvXrtX69eu1efNmffLJJ6qoqFBISIjefvttvfLKK4+hYuDhjOrXBw8e1O3bt3Xq1Kl7loKJiorSpk2bHrktgGTs3+p58+apdevWWrBggf7++291795d2dnZCgsLq2tzUEsWu91uN7oIAAAAPD5cAwgAAGAyBEAAAACTIQACAACYDAEQAADAZAiAAAAAJkMABAAAMBkCIAAAgMkQAAEAAEyGAAgAdZSamiqr1Wp0GQDwyAiAAAAAJkMABAAAMBkCIAA8gNVq1fLly7Vo0SJFRkYqOjpas2fP1s2bN6u9b9u2bRo4cKB69Oih5ORk/frrr9X2Hzt2TGPGjFFkZKTCwsJktVqVmZmpiooKx3t27typ5ORkhYeHKyYmRrNmzdLVq1ernWfLli1KSkpSWFiYEhISlJmZKZvN1mDtB9B0Wex2u93oIgCgMbJarSooKFBQUJAmTJig69evKyMjQ8HBwcrJydHcuXO1Y8cOBQUFadq0afLy8tLy5ct18eJF7d+/X23btlVeXp6GDh2qQYMGKSUlRXa7XT/++KN27NihZcuWKSkpScePH9fIkSM1adIkRUZG6sqVK1qyZImCg4P19ddfS5K++OILLV++XK+//roSEhJ07tw5ZWZmavDgwVq0aJHBvykAzsbN6AIAoDFzcXFRVlaWvL29JUm+vr6aPHmyDh06JEmqqKjQZ599ppCQEElSs2bNNGrUKJ08eVL9+vVTXl6eevfurSVLlsjFpXLS5bnnntP+/ft19OhRRwD09PTUuHHj5OHhIUny8fHRmTNnZLfbVVhYqM8//1yvvfaa0tPTJUlxcXHy8fFRenq6Ro8erc6dOz/uXw0AJ0YABIAaWK1WR/ireu3m5qZjx45Jktq0aeMIf5IUEBAgSSooKJAkDRkyREOGDFFJSYkuXLigP//8U+fOnZPNZlNZWZkkKTIyUsuXL9fgwYM1cOBA9enTR3FxcerTp48k6bffflNxcbGsVqvKy8ur1SJJR44cIQACeCQEQACogZ+fX7XXLi4uatOmjW7duiVJ8vLyqrbfYrFIkuP6vuLiYn3wwQfasWOHysvLFRAQoIiICLm5uanqCpyIiAitXbtW2dnZysrK0tq1a9WuXTtNmDBBI0eOdFxzOG7cuPvWeO3atXprLwBzIAACQA1u3LhR7bXNZtONGzfk6+urK1euPPT4Dz/8ULt379aKFSvUu3dvR2CMjY2t9r74+HjFx8erqKhIubm52rhxoxYuXKiePXuqVatWkqSlS5cqODj4nv+jXbt2dWwdALPiLmAAqMHBgwdVWlrqeL1v3z6Vl5ffE+Ae5Pjx44qOjlb//v0d4e/s2bO6fv26Y5Tw448/1tChQ2W329W8eXP17dtXc+bMkSRdvnxZPXv2lLu7u65evaoePXo4ftzc3LRs2TJdunSpnlsNoKljBBAAapCfn6+JEyfqjTfeUH5+vpYtW6b4+HhFR0dr+/btDz0+PDxcv/zyi7799luFhIQoLy9Pq1evlsViUVFRkSQpJiZGWVlZSk1NVXJyssrKyrRu3Tr5+PgoJiZGPj4+Gjt2rFauXKnCwkJFR0fr6tWrWrlypSwWi7p06dLQvwYATQwBEABqkJSUpFatWmn69Ony8vJSSkqKZsyYUevjU1NTVVZWphUrVqi0tFQBAQGaOHGizp8/r/3798tms6lPnz5aunSpNmzYoClTpshisahXr17auHGjfHx8JEnTp09X+/bttXnzZq1bt06tW7dWbGysZs6cWe0mFQCoDdYBBIAHsFqtioqK0kcffWR0KQBQr7gGEAAAwGQIgAAAACbDFDAAAIDJMAIIAABgMgRAAAAAkyEAAgAAmAwBEAAAwGQIgAAAACZDAAQAADAZAiAAAIDJEAABAABMhgAIAABgMgRAAAAAkyEAAgAAmAwBEAAAwGQIgAAAACZDAAQAADAZAiAAAIDJEAABAABMhgAIAABgMv8Hv8RdUoL3AhsAAAAASUVORK5CYII=' width=640.0/>\n",
       "            </div>\n",
       "        "
      ],
      "text/plain": [
       "Canvas(toolbar=Toolbar(toolitems=[('Home', 'Reset original view', 'home', 'home'), ('Back', 'Back to previous …"
      ]
     },
     "metadata": {},
     "output_type": "display_data"
    }
   ],
   "source": [
    "fig, ax = plt.subplots()\n",
    "sns.violinplot(data=df_analysis.reset_index(), x=\"phase\", y=dv, hue=\"subphase\", split=True)\n",
    "ax.set_ylabel(\"HR [bpm]\")\n",
    "\n",
    "fig.tight_layout()"
   ]
  },
  {
   "cell_type": "markdown",
   "metadata": {},
   "source": [
    "### Fragestellung II: Erhöht sich das Stresslevel im Laufe der drei MIST Phasen?"
   ]
  },
  {
   "cell_type": "markdown",
   "metadata": {},
   "source": [
    "#### Untersuchung\n",
    "\n",
    "Bei der *Kontrollgruppe* wird untersucht, ob die Herzrate jeweils in den *BL*, *AT* bzw. *FB*-Phasen im Laufe der Zeit (über die drei MIST-Phasen) signifikant ansteigt."
   ]
  },
  {
   "cell_type": "markdown",
   "metadata": {},
   "source": [
    "#### Statistik"
   ]
  },
  {
   "cell_type": "markdown",
   "metadata": {},
   "source": [
    "##### Analyse\n",
    "\n",
    "* Vorbereitende Analyse:\n",
    "    * Test auf Normalverteilung (Shapiro-Wilk-Test)\n",
    "    * Test auf Varianzgleichheit (Levene-Test)\n",
    "* *Test*: ANOVA mit Messwiederholung (rm-ANOVA)\n",
    "* *AV*: HR, jeweils für die Subphasen *BL*, *AT* und *FB* getrennt\n",
    "* *Innersubjektfaktor*: Phase\n",
    "* *Maß für Effektstärke*: $\\eta_p^{2}$ (partielles eta-quadrat)\n",
    "* Post-Hoc-Test: t-tests für abhängige Stichproben (einseitig) mit Bonferroni-Korrektur zur Neutralisierung der Alphafehler-Kumulierung bei multiplen Vergleichen\n",
    "\n",
    "=> Analoge Analyse für die weiteren HRV-Parameter"
   ]
  },
  {
   "cell_type": "code",
   "execution_count": 15,
   "metadata": {},
   "outputs": [
    {
     "data": {
      "text/markdown": [
       "Alle normalverteilt: **True**"
      ],
      "text/plain": [
       "<IPython.core.display.Markdown object>"
      ]
     },
     "metadata": {},
     "output_type": "display_data"
    },
    {
     "data": {
      "text/markdown": [
       "Alle Varianzen (in etwa) gleich: **True**"
      ],
      "text/plain": [
       "<IPython.core.display.Markdown object>"
      ]
     },
     "metadata": {},
     "output_type": "display_data"
    },
    {
     "data": {
      "text/markdown": [
       "**rm-ANOVA**"
      ],
      "text/plain": [
       "<IPython.core.display.Markdown object>"
      ]
     },
     "metadata": {},
     "output_type": "display_data"
    },
    {
     "data": {
      "text/html": [
       "<div>\n",
       "<style scoped>\n",
       "    .dataframe tbody tr th:only-of-type {\n",
       "        vertical-align: middle;\n",
       "    }\n",
       "\n",
       "    .dataframe tbody tr th {\n",
       "        vertical-align: top;\n",
       "    }\n",
       "\n",
       "    .dataframe thead th {\n",
       "        text-align: right;\n",
       "    }\n",
       "</style>\n",
       "<table border=\"1\" class=\"dataframe\">\n",
       "  <thead>\n",
       "    <tr style=\"text-align: right;\">\n",
       "      <th></th>\n",
       "      <th></th>\n",
       "      <th>Source</th>\n",
       "      <th>ddof1</th>\n",
       "      <th>ddof2</th>\n",
       "      <th>F</th>\n",
       "      <th>p-unc</th>\n",
       "      <th>ng2</th>\n",
       "      <th>eps</th>\n",
       "    </tr>\n",
       "    <tr>\n",
       "      <th>subphase</th>\n",
       "      <th></th>\n",
       "      <th></th>\n",
       "      <th></th>\n",
       "      <th></th>\n",
       "      <th></th>\n",
       "      <th></th>\n",
       "      <th></th>\n",
       "      <th></th>\n",
       "    </tr>\n",
       "  </thead>\n",
       "  <tbody>\n",
       "    <tr>\n",
       "      <th>AT</th>\n",
       "      <th>0</th>\n",
       "      <td>phase</td>\n",
       "      <td>2</td>\n",
       "      <td>24</td>\n",
       "      <td>8.432</td>\n",
       "      <td>0.002</td>\n",
       "      <td>0.080</td>\n",
       "      <td>0.948</td>\n",
       "    </tr>\n",
       "    <tr>\n",
       "      <th>BL</th>\n",
       "      <th>0</th>\n",
       "      <td>phase</td>\n",
       "      <td>2</td>\n",
       "      <td>24</td>\n",
       "      <td>7.635</td>\n",
       "      <td>0.003</td>\n",
       "      <td>0.043</td>\n",
       "      <td>0.877</td>\n",
       "    </tr>\n",
       "    <tr>\n",
       "      <th>FB</th>\n",
       "      <th>0</th>\n",
       "      <td>phase</td>\n",
       "      <td>2</td>\n",
       "      <td>24</td>\n",
       "      <td>8.360</td>\n",
       "      <td>0.002</td>\n",
       "      <td>0.039</td>\n",
       "      <td>0.774</td>\n",
       "    </tr>\n",
       "  </tbody>\n",
       "</table>\n",
       "</div>"
      ],
      "text/plain": [
       "           Source  ddof1  ddof2      F  p-unc    ng2    eps\n",
       "subphase                                                   \n",
       "AT       0  phase      2     24  8.432  0.002  0.080  0.948\n",
       "BL       0  phase      2     24  7.635  0.003  0.043  0.877\n",
       "FB       0  phase      2     24  8.360  0.002  0.039  0.774"
      ]
     },
     "metadata": {},
     "output_type": "display_data"
    },
    {
     "data": {
      "text/markdown": [
       "**Post-hoc Tests**"
      ],
      "text/plain": [
       "<IPython.core.display.Markdown object>"
      ]
     },
     "metadata": {},
     "output_type": "display_data"
    },
    {
     "data": {
      "text/html": [
       "<div>\n",
       "<style scoped>\n",
       "    .dataframe tbody tr th:only-of-type {\n",
       "        vertical-align: middle;\n",
       "    }\n",
       "\n",
       "    .dataframe tbody tr th {\n",
       "        vertical-align: top;\n",
       "    }\n",
       "\n",
       "    .dataframe thead th {\n",
       "        text-align: right;\n",
       "    }\n",
       "</style>\n",
       "<table border=\"1\" class=\"dataframe\">\n",
       "  <thead>\n",
       "    <tr style=\"text-align: right;\">\n",
       "      <th></th>\n",
       "      <th></th>\n",
       "      <th>Contrast</th>\n",
       "      <th>A</th>\n",
       "      <th>B</th>\n",
       "      <th>Paired</th>\n",
       "      <th>Parametric</th>\n",
       "      <th>T</th>\n",
       "      <th>dof</th>\n",
       "      <th>alternative</th>\n",
       "      <th>p-unc</th>\n",
       "      <th>p-corr</th>\n",
       "      <th>p-adjust</th>\n",
       "      <th>BF10</th>\n",
       "      <th>hedges</th>\n",
       "    </tr>\n",
       "    <tr>\n",
       "      <th>subphase</th>\n",
       "      <th></th>\n",
       "      <th></th>\n",
       "      <th></th>\n",
       "      <th></th>\n",
       "      <th></th>\n",
       "      <th></th>\n",
       "      <th></th>\n",
       "      <th></th>\n",
       "      <th></th>\n",
       "      <th></th>\n",
       "      <th></th>\n",
       "      <th></th>\n",
       "      <th></th>\n",
       "      <th></th>\n",
       "    </tr>\n",
       "  </thead>\n",
       "  <tbody>\n",
       "    <tr>\n",
       "      <th rowspan=\"3\" valign=\"top\">AT</th>\n",
       "      <th>0</th>\n",
       "      <td>phase</td>\n",
       "      <td>MIST1</td>\n",
       "      <td>MIST2</td>\n",
       "      <td>True</td>\n",
       "      <td>True</td>\n",
       "      <td>-2.673</td>\n",
       "      <td>12.0</td>\n",
       "      <td>two-sided</td>\n",
       "      <td>0.020</td>\n",
       "      <td>0.061</td>\n",
       "      <td>bonf</td>\n",
       "      <td>3.27</td>\n",
       "      <td>-0.401</td>\n",
       "    </tr>\n",
       "    <tr>\n",
       "      <th>1</th>\n",
       "      <td>phase</td>\n",
       "      <td>MIST1</td>\n",
       "      <td>MIST3</td>\n",
       "      <td>True</td>\n",
       "      <td>True</td>\n",
       "      <td>-3.962</td>\n",
       "      <td>12.0</td>\n",
       "      <td>two-sided</td>\n",
       "      <td>0.002</td>\n",
       "      <td>0.006</td>\n",
       "      <td>bonf</td>\n",
       "      <td>23.148</td>\n",
       "      <td>-0.683</td>\n",
       "    </tr>\n",
       "    <tr>\n",
       "      <th>2</th>\n",
       "      <td>phase</td>\n",
       "      <td>MIST2</td>\n",
       "      <td>MIST3</td>\n",
       "      <td>True</td>\n",
       "      <td>True</td>\n",
       "      <td>-1.618</td>\n",
       "      <td>12.0</td>\n",
       "      <td>two-sided</td>\n",
       "      <td>0.132</td>\n",
       "      <td>0.395</td>\n",
       "      <td>bonf</td>\n",
       "      <td>0.788</td>\n",
       "      <td>-0.270</td>\n",
       "    </tr>\n",
       "    <tr>\n",
       "      <th rowspan=\"3\" valign=\"top\">BL</th>\n",
       "      <th>0</th>\n",
       "      <td>phase</td>\n",
       "      <td>MIST1</td>\n",
       "      <td>MIST2</td>\n",
       "      <td>True</td>\n",
       "      <td>True</td>\n",
       "      <td>-0.586</td>\n",
       "      <td>12.0</td>\n",
       "      <td>two-sided</td>\n",
       "      <td>0.569</td>\n",
       "      <td>1.000</td>\n",
       "      <td>bonf</td>\n",
       "      <td>0.323</td>\n",
       "      <td>-0.071</td>\n",
       "    </tr>\n",
       "    <tr>\n",
       "      <th>1</th>\n",
       "      <td>phase</td>\n",
       "      <td>MIST1</td>\n",
       "      <td>MIST3</td>\n",
       "      <td>True</td>\n",
       "      <td>True</td>\n",
       "      <td>-4.285</td>\n",
       "      <td>12.0</td>\n",
       "      <td>two-sided</td>\n",
       "      <td>0.001</td>\n",
       "      <td>0.003</td>\n",
       "      <td>bonf</td>\n",
       "      <td>37.72</td>\n",
       "      <td>-0.438</td>\n",
       "    </tr>\n",
       "    <tr>\n",
       "      <th>2</th>\n",
       "      <td>phase</td>\n",
       "      <td>MIST2</td>\n",
       "      <td>MIST3</td>\n",
       "      <td>True</td>\n",
       "      <td>True</td>\n",
       "      <td>-2.634</td>\n",
       "      <td>12.0</td>\n",
       "      <td>two-sided</td>\n",
       "      <td>0.022</td>\n",
       "      <td>0.065</td>\n",
       "      <td>bonf</td>\n",
       "      <td>3.089</td>\n",
       "      <td>-0.384</td>\n",
       "    </tr>\n",
       "    <tr>\n",
       "      <th rowspan=\"3\" valign=\"top\">FB</th>\n",
       "      <th>0</th>\n",
       "      <td>phase</td>\n",
       "      <td>MIST1</td>\n",
       "      <td>MIST2</td>\n",
       "      <td>True</td>\n",
       "      <td>True</td>\n",
       "      <td>-1.792</td>\n",
       "      <td>12.0</td>\n",
       "      <td>two-sided</td>\n",
       "      <td>0.098</td>\n",
       "      <td>0.295</td>\n",
       "      <td>bonf</td>\n",
       "      <td>0.972</td>\n",
       "      <td>-0.151</td>\n",
       "    </tr>\n",
       "    <tr>\n",
       "      <th>1</th>\n",
       "      <td>phase</td>\n",
       "      <td>MIST1</td>\n",
       "      <td>MIST3</td>\n",
       "      <td>True</td>\n",
       "      <td>True</td>\n",
       "      <td>-3.374</td>\n",
       "      <td>12.0</td>\n",
       "      <td>two-sided</td>\n",
       "      <td>0.006</td>\n",
       "      <td>0.017</td>\n",
       "      <td>bonf</td>\n",
       "      <td>9.428</td>\n",
       "      <td>-0.443</td>\n",
       "    </tr>\n",
       "    <tr>\n",
       "      <th>2</th>\n",
       "      <td>phase</td>\n",
       "      <td>MIST2</td>\n",
       "      <td>MIST3</td>\n",
       "      <td>True</td>\n",
       "      <td>True</td>\n",
       "      <td>-2.606</td>\n",
       "      <td>12.0</td>\n",
       "      <td>two-sided</td>\n",
       "      <td>0.023</td>\n",
       "      <td>0.069</td>\n",
       "      <td>bonf</td>\n",
       "      <td>2.965</td>\n",
       "      <td>-0.294</td>\n",
       "    </tr>\n",
       "  </tbody>\n",
       "</table>\n",
       "</div>"
      ],
      "text/plain": [
       "           Contrast      A      B  Paired  Parametric      T   dof  \\\n",
       "subphase                                                             \n",
       "AT       0    phase  MIST1  MIST2    True        True -2.673  12.0   \n",
       "         1    phase  MIST1  MIST3    True        True -3.962  12.0   \n",
       "         2    phase  MIST2  MIST3    True        True -1.618  12.0   \n",
       "BL       0    phase  MIST1  MIST2    True        True -0.586  12.0   \n",
       "         1    phase  MIST1  MIST3    True        True -4.285  12.0   \n",
       "         2    phase  MIST2  MIST3    True        True -2.634  12.0   \n",
       "FB       0    phase  MIST1  MIST2    True        True -1.792  12.0   \n",
       "         1    phase  MIST1  MIST3    True        True -3.374  12.0   \n",
       "         2    phase  MIST2  MIST3    True        True -2.606  12.0   \n",
       "\n",
       "           alternative  p-unc  p-corr p-adjust    BF10  hedges  \n",
       "subphase                                                        \n",
       "AT       0   two-sided  0.020   0.061     bonf    3.27  -0.401  \n",
       "         1   two-sided  0.002   0.006     bonf  23.148  -0.683  \n",
       "         2   two-sided  0.132   0.395     bonf   0.788  -0.270  \n",
       "BL       0   two-sided  0.569   1.000     bonf   0.323  -0.071  \n",
       "         1   two-sided  0.001   0.003     bonf   37.72  -0.438  \n",
       "         2   two-sided  0.022   0.065     bonf   3.089  -0.384  \n",
       "FB       0   two-sided  0.098   0.295     bonf   0.972  -0.151  \n",
       "         1   two-sided  0.006   0.017     bonf   9.428  -0.443  \n",
       "         2   two-sided  0.023   0.069     bonf   2.965  -0.294  "
      ]
     },
     "metadata": {},
     "output_type": "display_data"
    }
   ],
   "source": [
    "dv = \"HR\"\n",
    "subphases = [\"BL\", \"AT\", \"FB\"]\n",
    "# Selektieren der zu untersuchenden Daten: Kontrollgruppe, alle Subjects, alle MIST Phasen, Subphasen BL, AT und FB\n",
    "df_analysis = df_hr[[dv]].loc[pd.IndexSlice[\"Control\", :, :, subphases]]\n",
    "\n",
    "# Test auf Normalverteilung\n",
    "df_norm = df_analysis.reset_index().groupby(by=[\"subphase\"]).apply(lambda df: pg.normality(data=df, dv=dv, group=\"phase\"))\n",
    "# Test auf Homoskedastizität\n",
    "df_hom = df_analysis.reset_index().groupby(by=[\"subphase\"]).apply(lambda df: pg.homoscedasticity(data=df, dv=dv, group=\"phase\"))\n",
    "\n",
    "# rm-ANOVA pro Subphase\n",
    "anova_subph = df_analysis.reset_index().groupby(by=[\"subphase\"]).apply(lambda df: pg.rm_anova(data=df, dv=dv, within=\"phase\", subject=\"subject\"))\n",
    "# post-hoc\n",
    "posthoc_subph = df_analysis.reset_index().groupby(by=[\"subphase\"]).apply(lambda df: pg.pairwise_tests(data=df, dv=dv, within=\"phase\", subject=\"subject\", effsize=\"hedges\", padjust='bonf'))\n",
    "\n",
    "# Ausgabe\n",
    "display(Markdown(\"Alle normalverteilt: **{}**\".format(df_norm['normal'].all())))\n",
    "display(Markdown(\"Alle Varianzen (in etwa) gleich: **{}**\".format(df_hom['equal_var'].all())))\n",
    "\n",
    "display(Markdown(\"**rm-ANOVA**\"))\n",
    "display(anova_subph.round(3))\n",
    "\n",
    "display(Markdown(\"**Post-hoc Tests**\"))\n",
    "display(posthoc_subph.round(3))\n",
    "\n",
    "# Optional: Filtern der signifikanten Post-Hoc-Tests\n",
    "#display(posthoc_subph[posthoc_subph['p-corr'] < 0.05].round(3))"
   ]
  },
  {
   "cell_type": "markdown",
   "metadata": {},
   "source": [
    "##### Interpretation\n",
    "\n",
    "Repeated-measures *ANOVA* of HR(V) measures during *MIST subphases* indicate increasing stress levels over time, shown by a significant main effect *MIST Phase* during *BL*, as well as in *FB* and *AT* (see Table 3). Post-hoc testing of HR changes showed significant differences during *BL* between *MIST1* and *MIST3* ($t(12) = −4.285, p = 0.002, g = −0.438$) and between *MIST1* and *MIST2* ($t(12) = −2.634, p = 0.030, g = −0.384$), respectively. […]"
   ]
  },
  {
   "cell_type": "markdown",
   "metadata": {},
   "source": [
    "#### Plots"
   ]
  },
  {
   "cell_type": "code",
   "execution_count": 16,
   "metadata": {},
   "outputs": [
    {
     "name": "stdout",
     "output_type": "stream",
     "text": [
      "p-value annotation legend:\n",
      "*: 1.00e-02 < p <= 5.00e-02\n",
      "**: 1.00e-03 < p <= 1.00e-02\n",
      "***: p <= 1.00e-03\n",
      "\n",
      "FB_MIST2 v.s. FB_MIST3: t-test paired samples, P_val=2.296e-02 stat=-2.606e+00\n",
      "AT_MIST1 v.s. AT_MIST2: t-test paired samples, P_val=2.031e-02 stat=-2.673e+00\n",
      "BL_MIST2 v.s. BL_MIST3: t-test paired samples, P_val=2.181e-02 stat=-2.634e+00\n",
      "FB_MIST1 v.s. FB_MIST3: t-test paired samples, P_val=5.527e-03 stat=-3.374e+00\n",
      "AT_MIST1 v.s. AT_MIST3: t-test paired samples, P_val=1.886e-03 stat=-3.962e+00\n",
      "BL_MIST1 v.s. BL_MIST3: t-test paired samples, P_val=1.059e-03 stat=-4.285e+00\n"
     ]
    },
    {
     "data": {
      "application/vnd.jupyter.widget-view+json": {
       "model_id": "e8e3f5f7aca34b55bef1d1fb66b97883",
       "version_major": 2,
       "version_minor": 0
      },
      "image/png": "[encoded data removed]",
      "text/html": [
       "\n",
       "            <div style=\"display: inline-block;\">\n",
       "                <div class=\"jupyter-widgets widget-label\" style=\"text-align: center;\">\n",
       "                    Figure\n",
       "                </div>\n",
       "                <img src='data:image/png;base64,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' width=640.0/>\n",
       "            </div>\n",
       "        "
      ],
      "text/plain": [
       "Canvas(toolbar=Toolbar(toolitems=[('Home', 'Reset original view', 'home', 'home'), ('Back', 'Back to previous …"
      ]
     },
     "metadata": {},
     "output_type": "display_data"
    }
   ],
   "source": [
    "fig, ax = plt.subplots()\n",
    "sns.boxplot(data=df_analysis.reset_index(), x=\"subphase\", y=dv, hue=\"phase\")\n",
    "\n",
    "sig_pairs = [\n",
    "    ((\"AT\", \"MIST1\"), (\"AT\", \"MIST2\")),\n",
    "    ((\"AT\", \"MIST1\"), (\"AT\", \"MIST3\")),\n",
    "    ((\"BL\", \"MIST1\"), (\"BL\", \"MIST3\")),\n",
    "    ((\"BL\", \"MIST2\"), (\"BL\", \"MIST3\")),\n",
    "    ((\"FB\", \"MIST1\"), (\"FB\", \"MIST3\")),\n",
    "    ((\"FB\", \"MIST2\"), (\"FB\", \"MIST3\")),\n",
    "]\n",
    "\n",
    "add_stat_annotation(\n",
    "    ax=ax, data=df_analysis.reset_index(), \n",
    "    x=\"subphase\", y=dv, hue=\"phase\", \n",
    "    box_pairs=sig_pairs,\n",
    "    pvalue_thresholds=pvalue_thres,\n",
    "    test=\"t-test_paired\",\n",
    "    comparisons_correction=None\n",
    ")\n",
    "\n",
    "ax.set_ylabel(\"HR [bpm]\")\n",
    "\n",
    "fig.tight_layout()"
   ]
  },
  {
   "cell_type": "markdown",
   "metadata": {},
   "source": [
    "### Fragestellung III: Verschlechtert der MIST die Stimmung?"
   ]
  },
  {
   "cell_type": "markdown",
   "metadata": {},
   "source": [
    "#### Untersuchung\n",
    "\n",
    "Bei der *Kontrollgruppe* wird untersucht, ob sich die Stimmung (gemessen mittels MDBF) als Reaktion auf den MIST signifikant verschlechtert hat."
   ]
  },
  {
   "cell_type": "markdown",
   "metadata": {},
   "source": [
    "#### Statistik"
   ]
  },
  {
   "cell_type": "markdown",
   "metadata": {},
   "source": [
    "##### Analyse\n",
    "* Vorbereitende Analyse:\n",
    "    * Test auf Normalverteilung (Shapiro-Wilk-Test)\n",
    "* *Test*: Gepaarte t-tests\n",
    "* *AV*: MDBF-Skalen\n",
    "* *Innersubjektfaktor*: Zeit (pre/post)\n",
    "* *Maß für Effektstärke*: Hedge's g"
   ]
  },
  {
   "cell_type": "code",
   "execution_count": 17,
   "metadata": {},
   "outputs": [
    {
     "data": {
      "text/html": [
       "<div>\n",
       "<style scoped>\n",
       "    .dataframe tbody tr th:only-of-type {\n",
       "        vertical-align: middle;\n",
       "    }\n",
       "\n",
       "    .dataframe tbody tr th {\n",
       "        vertical-align: top;\n",
       "    }\n",
       "\n",
       "    .dataframe thead th {\n",
       "        text-align: right;\n",
       "    }\n",
       "</style>\n",
       "<table border=\"1\" class=\"dataframe\">\n",
       "  <thead>\n",
       "    <tr style=\"text-align: right;\">\n",
       "      <th></th>\n",
       "      <th></th>\n",
       "      <th></th>\n",
       "      <th></th>\n",
       "      <th>MDBF</th>\n",
       "    </tr>\n",
       "    <tr>\n",
       "      <th>condition</th>\n",
       "      <th>subject</th>\n",
       "      <th>time</th>\n",
       "      <th>type</th>\n",
       "      <th></th>\n",
       "    </tr>\n",
       "  </thead>\n",
       "  <tbody>\n",
       "    <tr>\n",
       "      <th rowspan=\"5\" valign=\"top\">Intervention</th>\n",
       "      <th rowspan=\"5\" valign=\"top\">1</th>\n",
       "      <th rowspan=\"3\" valign=\"top\">pre</th>\n",
       "      <th>awake_tired</th>\n",
       "      <td>29</td>\n",
       "    </tr>\n",
       "    <tr>\n",
       "      <th>calm_nervous</th>\n",
       "      <td>32</td>\n",
       "    </tr>\n",
       "    <tr>\n",
       "      <th>good_bad</th>\n",
       "      <td>34</td>\n",
       "    </tr>\n",
       "    <tr>\n",
       "      <th rowspan=\"2\" valign=\"top\">post</th>\n",
       "      <th>awake_tired</th>\n",
       "      <td>30</td>\n",
       "    </tr>\n",
       "    <tr>\n",
       "      <th>calm_nervous</th>\n",
       "      <td>28</td>\n",
       "    </tr>\n",
       "  </tbody>\n",
       "</table>\n",
       "</div>"
      ],
      "text/plain": [
       "                                        MDBF\n",
       "condition    subject time type              \n",
       "Intervention 1       pre  awake_tired     29\n",
       "                          calm_nervous    32\n",
       "                          good_bad        34\n",
       "                     post awake_tired     30\n",
       "                          calm_nervous    28"
      ]
     },
     "execution_count": 17,
     "metadata": {},
     "output_type": "execute_result"
    }
   ],
   "source": [
    "df_mood.head()"
   ]
  },
  {
   "cell_type": "code",
   "execution_count": 18,
   "metadata": {},
   "outputs": [],
   "source": [
    "#df_analysis.unstack(level='time')"
   ]
  },
  {
   "cell_type": "code",
   "execution_count": 19,
   "metadata": {},
   "outputs": [
    {
     "data": {
      "text/markdown": [
       "Alle normalverteilt: **True**"
      ],
      "text/plain": [
       "<IPython.core.display.Markdown object>"
      ]
     },
     "metadata": {},
     "output_type": "display_data"
    },
    {
     "data": {
      "text/html": [
       "<div>\n",
       "<style scoped>\n",
       "    .dataframe tbody tr th:only-of-type {\n",
       "        vertical-align: middle;\n",
       "    }\n",
       "\n",
       "    .dataframe tbody tr th {\n",
       "        vertical-align: top;\n",
       "    }\n",
       "\n",
       "    .dataframe thead th {\n",
       "        text-align: right;\n",
       "    }\n",
       "</style>\n",
       "<table border=\"1\" class=\"dataframe\">\n",
       "  <thead>\n",
       "    <tr style=\"text-align: right;\">\n",
       "      <th></th>\n",
       "      <th></th>\n",
       "      <th>W</th>\n",
       "      <th>pval</th>\n",
       "      <th>normal</th>\n",
       "    </tr>\n",
       "    <tr>\n",
       "      <th>type</th>\n",
       "      <th>time</th>\n",
       "      <th></th>\n",
       "      <th></th>\n",
       "      <th></th>\n",
       "    </tr>\n",
       "  </thead>\n",
       "  <tbody>\n",
       "    <tr>\n",
       "      <th rowspan=\"2\" valign=\"top\">awake_tired</th>\n",
       "      <th>pre</th>\n",
       "      <td>0.920201</td>\n",
       "      <td>0.252422</td>\n",
       "      <td>True</td>\n",
       "    </tr>\n",
       "    <tr>\n",
       "      <th>post</th>\n",
       "      <td>0.930938</td>\n",
       "      <td>0.350563</td>\n",
       "      <td>True</td>\n",
       "    </tr>\n",
       "    <tr>\n",
       "      <th rowspan=\"2\" valign=\"top\">calm_nervous</th>\n",
       "      <th>pre</th>\n",
       "      <td>0.944346</td>\n",
       "      <td>0.515582</td>\n",
       "      <td>True</td>\n",
       "    </tr>\n",
       "    <tr>\n",
       "      <th>post</th>\n",
       "      <td>0.963465</td>\n",
       "      <td>0.806082</td>\n",
       "      <td>True</td>\n",
       "    </tr>\n",
       "    <tr>\n",
       "      <th rowspan=\"2\" valign=\"top\">good_bad</th>\n",
       "      <th>pre</th>\n",
       "      <td>0.942407</td>\n",
       "      <td>0.488819</td>\n",
       "      <td>True</td>\n",
       "    </tr>\n",
       "    <tr>\n",
       "      <th>post</th>\n",
       "      <td>0.908637</td>\n",
       "      <td>0.175675</td>\n",
       "      <td>True</td>\n",
       "    </tr>\n",
       "  </tbody>\n",
       "</table>\n",
       "</div>"
      ],
      "text/plain": [
       "                          W      pval  normal\n",
       "type         time                            \n",
       "awake_tired  pre   0.920201  0.252422    True\n",
       "             post  0.930938  0.350563    True\n",
       "calm_nervous pre   0.944346  0.515582    True\n",
       "             post  0.963465  0.806082    True\n",
       "good_bad     pre   0.942407  0.488819    True\n",
       "             post  0.908637  0.175675    True"
      ]
     },
     "metadata": {},
     "output_type": "display_data"
    },
    {
     "data": {
      "text/markdown": [
       "**Gepaarte t-tests**"
      ],
      "text/plain": [
       "<IPython.core.display.Markdown object>"
      ]
     },
     "metadata": {},
     "output_type": "display_data"
    },
    {
     "data": {
      "text/html": [
       "<div>\n",
       "<style scoped>\n",
       "    .dataframe tbody tr th:only-of-type {\n",
       "        vertical-align: middle;\n",
       "    }\n",
       "\n",
       "    .dataframe tbody tr th {\n",
       "        vertical-align: top;\n",
       "    }\n",
       "\n",
       "    .dataframe thead th {\n",
       "        text-align: right;\n",
       "    }\n",
       "</style>\n",
       "<table border=\"1\" class=\"dataframe\">\n",
       "  <thead>\n",
       "    <tr style=\"text-align: right;\">\n",
       "      <th></th>\n",
       "      <th></th>\n",
       "      <th>Contrast</th>\n",
       "      <th>A</th>\n",
       "      <th>B</th>\n",
       "      <th>Paired</th>\n",
       "      <th>Parametric</th>\n",
       "      <th>T</th>\n",
       "      <th>dof</th>\n",
       "      <th>alternative</th>\n",
       "      <th>p-unc</th>\n",
       "      <th>BF10</th>\n",
       "      <th>hedges</th>\n",
       "    </tr>\n",
       "    <tr>\n",
       "      <th>type</th>\n",
       "      <th></th>\n",
       "      <th></th>\n",
       "      <th></th>\n",
       "      <th></th>\n",
       "      <th></th>\n",
       "      <th></th>\n",
       "      <th></th>\n",
       "      <th></th>\n",
       "      <th></th>\n",
       "      <th></th>\n",
       "      <th></th>\n",
       "      <th></th>\n",
       "    </tr>\n",
       "  </thead>\n",
       "  <tbody>\n",
       "    <tr>\n",
       "      <th>awake_tired</th>\n",
       "      <th>0</th>\n",
       "      <td>time</td>\n",
       "      <td>post</td>\n",
       "      <td>pre</td>\n",
       "      <td>True</td>\n",
       "      <td>True</td>\n",
       "      <td>-3.169</td>\n",
       "      <td>12.0</td>\n",
       "      <td>two-sided</td>\n",
       "      <td>0.008</td>\n",
       "      <td>6.89</td>\n",
       "      <td>-0.615</td>\n",
       "    </tr>\n",
       "    <tr>\n",
       "      <th>calm_nervous</th>\n",
       "      <th>0</th>\n",
       "      <td>time</td>\n",
       "      <td>post</td>\n",
       "      <td>pre</td>\n",
       "      <td>True</td>\n",
       "      <td>True</td>\n",
       "      <td>-5.094</td>\n",
       "      <td>12.0</td>\n",
       "      <td>two-sided</td>\n",
       "      <td>0.000</td>\n",
       "      <td>124.047</td>\n",
       "      <td>-1.855</td>\n",
       "    </tr>\n",
       "    <tr>\n",
       "      <th>good_bad</th>\n",
       "      <th>0</th>\n",
       "      <td>time</td>\n",
       "      <td>post</td>\n",
       "      <td>pre</td>\n",
       "      <td>True</td>\n",
       "      <td>True</td>\n",
       "      <td>-5.761</td>\n",
       "      <td>12.0</td>\n",
       "      <td>two-sided</td>\n",
       "      <td>0.000</td>\n",
       "      <td>315.833</td>\n",
       "      <td>-2.105</td>\n",
       "    </tr>\n",
       "  </tbody>\n",
       "</table>\n",
       "</div>"
      ],
      "text/plain": [
       "               Contrast     A    B  Paired  Parametric      T   dof  \\\n",
       "type                                                                  \n",
       "awake_tired  0     time  post  pre    True        True -3.169  12.0   \n",
       "calm_nervous 0     time  post  pre    True        True -5.094  12.0   \n",
       "good_bad     0     time  post  pre    True        True -5.761  12.0   \n",
       "\n",
       "               alternative  p-unc     BF10  hedges  \n",
       "type                                                \n",
       "awake_tired  0   two-sided  0.008     6.89  -0.615  \n",
       "calm_nervous 0   two-sided  0.000  124.047  -1.855  \n",
       "good_bad     0   two-sided  0.000  315.833  -2.105  "
      ]
     },
     "metadata": {},
     "output_type": "display_data"
    },
    {
     "data": {
      "text/markdown": [
       "**Verschlechterung der Stimmung (Mean ± SD)**"
      ],
      "text/plain": [
       "<IPython.core.display.Markdown object>"
      ]
     },
     "metadata": {},
     "output_type": "display_data"
    },
    {
     "data": {
      "text/html": [
       "<div>\n",
       "<style scoped>\n",
       "    .dataframe tbody tr th:only-of-type {\n",
       "        vertical-align: middle;\n",
       "    }\n",
       "\n",
       "    .dataframe tbody tr th {\n",
       "        vertical-align: top;\n",
       "    }\n",
       "\n",
       "    .dataframe thead th {\n",
       "        text-align: right;\n",
       "    }\n",
       "</style>\n",
       "<table border=\"1\" class=\"dataframe\">\n",
       "  <thead>\n",
       "    <tr style=\"text-align: right;\">\n",
       "      <th></th>\n",
       "      <th>type</th>\n",
       "      <th>awake_tired</th>\n",
       "      <th>calm_nervous</th>\n",
       "      <th>good_bad</th>\n",
       "    </tr>\n",
       "  </thead>\n",
       "  <tbody>\n",
       "    <tr>\n",
       "      <th rowspan=\"2\" valign=\"top\">decrease_percent</th>\n",
       "      <th>mean</th>\n",
       "      <td>-12.45</td>\n",
       "      <td>-35.44</td>\n",
       "      <td>-36.93</td>\n",
       "    </tr>\n",
       "    <tr>\n",
       "      <th>std</th>\n",
       "      <td>13.28</td>\n",
       "      <td>23.92</td>\n",
       "      <td>22.26</td>\n",
       "    </tr>\n",
       "  </tbody>\n",
       "</table>\n",
       "</div>"
      ],
      "text/plain": [
       "type                   awake_tired  calm_nervous  good_bad\n",
       "decrease_percent mean       -12.45        -35.44    -36.93\n",
       "                 std         13.28         23.92     22.26"
      ]
     },
     "metadata": {},
     "output_type": "display_data"
    }
   ],
   "source": [
    "dv = \"MDBF\"\n",
    "# Selektieren der zu untersuchenden Daten: Kontrollgruppe\n",
    "df_analysis = df_mood.xs(\"Control\")\n",
    "\n",
    "# Test auf Normalverteilung\n",
    "df_norm = df_analysis.reset_index().groupby(by=[\"type\"]).apply(lambda df: pg.normality(data=df, dv=dv, group=\"time\"))\n",
    "\n",
    "# gepaarte t-tests pro MDBF Subskala\n",
    "ttests = df_analysis.reset_index().groupby([\"type\"]).apply(lambda df: pg.pairwise_tests(data=df.reset_index(), within=\"time\", dv=dv, subject=\"subject\", effsize=\"hedges\"))\n",
    "\n",
    "# Berechnen der prozentualen Verschlechterung der Stimmung\n",
    "df_decrease = pd.DataFrame(df_analysis.unstack(level='time').groupby(\"type\").apply(lambda x: (x[(\"MDBF\", 'post')] / x[(\"MDBF\", 'pre')] - 1.0) * 100.0), columns=[\"decrease_percent\"])\n",
    "df_decrease = df_decrease.groupby(\"type\").agg(['mean', 'std'])\n",
    "\n",
    "# Ausgabe\n",
    "display(Markdown(\"Alle normalverteilt: **{}**\".format(df_norm['normal'].all())))\n",
    "display(df_norm)\n",
    "\n",
    "display(Markdown(\"**Gepaarte t-tests**\"))\n",
    "display(ttests.round(3))\n",
    "\n",
    "display(Markdown(\"**Verschlechterung der Stimmung (Mean ± SD)**\"))\n",
    "display(df_decrease.T.round(2))"
   ]
  },
  {
   "cell_type": "markdown",
   "metadata": {},
   "source": [
    "##### Interpretation\n",
    "\n",
    "\"The stress-inducing effects of the *MIST* in the *Control* group were further confirmed by the MDBF questionnaire. Mood worsened significantly in all MDBF dimensions as indicated by pairwise t-tests (*Good-Bad*: $t(12) = 5.761, p < 0.001, g = 2.105$, decrease: $36.93\\%±22.26\\%~(\\text{M}±\\text{SD})$; *Awake-Tired*: $t(12) = 3.169, p = 0.008, g = 0.615$, decrease: $12.45\\% ± 13.28\\%$; *Calm-Nervous*: $t(12) = 5.094, p < 0.001, g = 1.855$, decrease: $35.44\\% ± 23.92\\%$).\""
   ]
  },
  {
   "cell_type": "markdown",
   "metadata": {},
   "source": [
    "#### Plots"
   ]
  },
  {
   "cell_type": "code",
   "execution_count": 20,
   "metadata": {},
   "outputs": [
    {
     "name": "stdout",
     "output_type": "stream",
     "text": [
      "p-value annotation legend:\n",
      "*: 1.00e-02 < p <= 5.00e-02\n",
      "**: 1.00e-03 < p <= 1.00e-02\n",
      "***: p <= 1.00e-03\n",
      "\n",
      "awake_tired_pre v.s. awake_tired_post: t-test paired samples, P_val=8.089e-03 stat=3.169e+00\n",
      "good_bad_pre v.s. good_bad_post: t-test paired samples, P_val=9.008e-05 stat=5.761e+00\n",
      "calm_nervous_pre v.s. calm_nervous_post: t-test paired samples, P_val=2.643e-04 stat=5.094e+00\n"
     ]
    },
    {
     "data": {
      "application/vnd.jupyter.widget-view+json": {
       "model_id": "59f33e22c8864f13a9906289ab229189",
       "version_major": 2,
       "version_minor": 0
      },
      "image/png": "[encoded data removed]",
      "text/html": [
       "\n",
       "            <div style=\"display: inline-block;\">\n",
       "                <div class=\"jupyter-widgets widget-label\" style=\"text-align: center;\">\n",
       "                    Figure\n",
       "                </div>\n",
       "                <img src='data:image/png;base64,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' width=640.0/>\n",
       "            </div>\n",
       "        "
      ],
      "text/plain": [
       "Canvas(toolbar=Toolbar(toolitems=[('Home', 'Reset original view', 'home', 'home'), ('Back', 'Back to previous …"
      ]
     },
     "metadata": {},
     "output_type": "display_data"
    }
   ],
   "source": [
    "fig, ax = plt.subplots()\n",
    "x_order = [\"good_bad\", \"awake_tired\", \"calm_nervous\"]\n",
    "sns.boxplot(data=df_analysis.reset_index(), x=\"type\", y=dv, hue=\"time\", order=x_order)\n",
    "\n",
    "sig_pairs = [\n",
    "    ((\"good_bad\", \"pre\"), (\"good_bad\", \"post\")),\n",
    "    ((\"awake_tired\", \"pre\"), (\"awake_tired\", \"post\")),\n",
    "    ((\"calm_nervous\", \"pre\"), (\"calm_nervous\", \"post\")),\n",
    "]\n",
    "\n",
    "add_stat_annotation(\n",
    "    ax=ax, data=df_analysis.reset_index(), \n",
    "    x=\"type\", y=dv, hue=\"time\", \n",
    "    order=x_order,\n",
    "    box_pairs=sig_pairs,\n",
    "    pvalue_thresholds=pvalue_thres,\n",
    "    test=\"t-test_paired\",\n",
    "    comparisons_correction=None\n",
    ")\n",
    "\n",
    "fig.tight_layout()"
   ]
  },
  {
   "cell_type": "markdown",
   "metadata": {},
   "source": [
    "### Fragestellung IV: Erzeugt der MIST eine signifikante endokrine Stressreaktion?"
   ]
  },
  {
   "cell_type": "markdown",
   "metadata": {},
   "source": [
    "#### Untersuchung\n",
    "\n",
    "Bei der *Kontrollgruppe* wird untersucht, ob sich der Cortisolspiegel vor (S1) und nach dem Stressor (S2-S6) signifikant erhöht hat."
   ]
  },
  {
   "cell_type": "markdown",
   "metadata": {},
   "source": [
    "#### Statistik"
   ]
  },
  {
   "cell_type": "markdown",
   "metadata": {},
   "source": [
    "##### Analyse\n",
    "* Vorbereitende Analyse:\n",
    "    * Test auf Normalverteilung (Shapiro-Wilk-Test)\n",
    "* *Test*: Gepaarte t-tests\n",
    "* *AV*: Cortisol\n",
    "* *Innersubjektfaktor*: Zeit (pre/post)\n",
    "* *Maß für Effektstärke*: Hedge's g"
   ]
  },
  {
   "cell_type": "code",
   "execution_count": 21,
   "metadata": {},
   "outputs": [
    {
     "data": {
      "text/html": [
       "<div>\n",
       "<style scoped>\n",
       "    .dataframe tbody tr th:only-of-type {\n",
       "        vertical-align: middle;\n",
       "    }\n",
       "\n",
       "    .dataframe tbody tr th {\n",
       "        vertical-align: top;\n",
       "    }\n",
       "\n",
       "    .dataframe thead th {\n",
       "        text-align: right;\n",
       "    }\n",
       "</style>\n",
       "<table border=\"1\" class=\"dataframe\">\n",
       "  <thead>\n",
       "    <tr style=\"text-align: right;\">\n",
       "      <th></th>\n",
       "      <th></th>\n",
       "      <th></th>\n",
       "      <th>cortisol</th>\n",
       "    </tr>\n",
       "    <tr>\n",
       "      <th>condition</th>\n",
       "      <th>subject</th>\n",
       "      <th>time</th>\n",
       "      <th></th>\n",
       "    </tr>\n",
       "  </thead>\n",
       "  <tbody>\n",
       "    <tr>\n",
       "      <th rowspan=\"5\" valign=\"top\">Control</th>\n",
       "      <th rowspan=\"2\" valign=\"top\">3</th>\n",
       "      <th>pre</th>\n",
       "      <td>13.27400</td>\n",
       "    </tr>\n",
       "    <tr>\n",
       "      <th>post</th>\n",
       "      <td>14.23000</td>\n",
       "    </tr>\n",
       "    <tr>\n",
       "      <th rowspan=\"2\" valign=\"top\">6</th>\n",
       "      <th>pre</th>\n",
       "      <td>6.20725</td>\n",
       "    </tr>\n",
       "    <tr>\n",
       "      <th>post</th>\n",
       "      <td>15.65350</td>\n",
       "    </tr>\n",
       "    <tr>\n",
       "      <th>8</th>\n",
       "      <th>pre</th>\n",
       "      <td>2.49575</td>\n",
       "    </tr>\n",
       "  </tbody>\n",
       "</table>\n",
       "</div>"
      ],
      "text/plain": [
       "                        cortisol\n",
       "condition subject time          \n",
       "Control   3       pre   13.27400\n",
       "                  post  14.23000\n",
       "          6       pre    6.20725\n",
       "                  post  15.65350\n",
       "          8       pre    2.49575"
      ]
     },
     "execution_count": 21,
     "metadata": {},
     "output_type": "execute_result"
    }
   ],
   "source": [
    "df_cort_inc.head()"
   ]
  },
  {
   "cell_type": "code",
   "execution_count": 22,
   "metadata": {},
   "outputs": [
    {
     "data": {
      "text/markdown": [
       "Alle normalverteilt: **True**"
      ],
      "text/plain": [
       "<IPython.core.display.Markdown object>"
      ]
     },
     "metadata": {},
     "output_type": "display_data"
    },
    {
     "data": {
      "text/markdown": [
       "**Gepaarte t-tests**"
      ],
      "text/plain": [
       "<IPython.core.display.Markdown object>"
      ]
     },
     "metadata": {},
     "output_type": "display_data"
    },
    {
     "data": {
      "text/html": [
       "<div>\n",
       "<style scoped>\n",
       "    .dataframe tbody tr th:only-of-type {\n",
       "        vertical-align: middle;\n",
       "    }\n",
       "\n",
       "    .dataframe tbody tr th {\n",
       "        vertical-align: top;\n",
       "    }\n",
       "\n",
       "    .dataframe thead th {\n",
       "        text-align: right;\n",
       "    }\n",
       "</style>\n",
       "<table border=\"1\" class=\"dataframe\">\n",
       "  <thead>\n",
       "    <tr style=\"text-align: right;\">\n",
       "      <th></th>\n",
       "      <th>Contrast</th>\n",
       "      <th>A</th>\n",
       "      <th>B</th>\n",
       "      <th>Paired</th>\n",
       "      <th>Parametric</th>\n",
       "      <th>T</th>\n",
       "      <th>dof</th>\n",
       "      <th>alternative</th>\n",
       "      <th>p-unc</th>\n",
       "      <th>BF10</th>\n",
       "      <th>hedges</th>\n",
       "    </tr>\n",
       "  </thead>\n",
       "  <tbody>\n",
       "    <tr>\n",
       "      <th>0</th>\n",
       "      <td>time</td>\n",
       "      <td>post</td>\n",
       "      <td>pre</td>\n",
       "      <td>True</td>\n",
       "      <td>True</td>\n",
       "      <td>2.284</td>\n",
       "      <td>12.0</td>\n",
       "      <td>two-sided</td>\n",
       "      <td>0.041</td>\n",
       "      <td>1.869</td>\n",
       "      <td>0.623</td>\n",
       "    </tr>\n",
       "  </tbody>\n",
       "</table>\n",
       "</div>"
      ],
      "text/plain": [
       "  Contrast     A    B  Paired  Parametric      T   dof alternative  p-unc  \\\n",
       "0     time  post  pre    True        True  2.284  12.0   two-sided  0.041   \n",
       "\n",
       "    BF10  hedges  \n",
       "0  1.869   0.623  "
      ]
     },
     "metadata": {},
     "output_type": "display_data"
    },
    {
     "data": {
      "text/markdown": [
       "**Cortisolanstieg**"
      ],
      "text/plain": [
       "<IPython.core.display.Markdown object>"
      ]
     },
     "metadata": {},
     "output_type": "display_data"
    },
    {
     "data": {
      "text/plain": [
       "increase_percent    75.38\n",
       "dtype: float64"
      ]
     },
     "metadata": {},
     "output_type": "display_data"
    }
   ],
   "source": [
    "dv = \"cortisol\"\n",
    "# Selektieren der zu untersuchenden Daten: Kontrollgruppe\n",
    "df_analysis = df_cort_inc.xs(\"Control\")\n",
    "\n",
    "# Test auf Normalverteilung\n",
    "df_norm = pg.normality(data=df_analysis.reset_index(), dv=dv, group=\"time\")\n",
    "\n",
    "# gepaarte t-tests\n",
    "ttests = pg.pairwise_tests(data=df_analysis.reset_index(), dv=dv, within=\"time\", subject=\"subject\", effsize=\"hedges\")\n",
    "\n",
    "# Berechnen des prozentualen Cortisolanstiegs\n",
    "df_increase = df_analysis.unstack(level='time')\n",
    "df_increase = pd.DataFrame((df_increase[(\"cortisol\", \"post\")] / df_increase[(\"cortisol\", \"pre\")] - 1.0) * 100, columns=[\"increase_percent\"])\n",
    "\n",
    "# Ausgabe\n",
    "display(Markdown(\"Alle normalverteilt: **{}**\".format(df_norm['normal'].all())))\n",
    "\n",
    "display(Markdown(\"**Gepaarte t-tests**\"))\n",
    "display(ttests.round(3))\n",
    "\n",
    "display(Markdown(\"**Cortisolanstieg**\"))\n",
    "display(df_increase.mean().round(2))"
   ]
  },
  {
   "cell_type": "markdown",
   "metadata": {},
   "source": [
    "##### Interpretation\n",
    "\n",
    "\"Analysis of saliva samples showed that the *Control* group overall responded to the stressor. On average, cortisol levels increased significantly after the *MIST* ($t(12) = -2.284, p = 0.041, g = -0.623$) with an maximum increase of $75.4\\%$ compared to S1.\""
   ]
  },
  {
   "cell_type": "markdown",
   "metadata": {},
   "source": [
    "## Effekt der Intervention auf akute Stressreaktionen"
   ]
  },
  {
   "cell_type": "markdown",
   "metadata": {},
   "source": [
    "### Fragestellung I: Induziert der MIST auch in der Interventionsgruppe eine signifikante kardiovaskuläre Stressreaktion?"
   ]
  },
  {
   "cell_type": "markdown",
   "metadata": {},
   "source": [
    "#### Untersuchung\n",
    "\n",
    "Bei der *Interventionsgruppe* wird für jede MIST-Phase gesondert untersucht, ob die Herzrate zwischen den Subphasen *BL* und *AT* signifikant ansteigt."
   ]
  },
  {
   "cell_type": "markdown",
   "metadata": {},
   "source": [
    "#### Statistik"
   ]
  },
  {
   "cell_type": "markdown",
   "metadata": {},
   "source": [
    "##### Analyse\n",
    "\n",
    "* Vorbereitende Analyse:\n",
    "    * Test auf Normalverteilung (Shapiro-Wilk-Test)\n",
    "* *Test*: Gepaarte t-tests\n",
    "* *AV*: HR\n",
    "* *Innersubjektfaktor*: Subphase\n",
    "* *Maß für Effektstärke*: Hedge's g (bzw. Common Language Effect Size (CLES) bei Wilcoxon-Test)\n",
    "\n",
    "=> Analoge Analyse für die weiteren HRV-Parameter (signifikante Verringerung der HRV während Stress?)"
   ]
  },
  {
   "cell_type": "code",
   "execution_count": 23,
   "metadata": {},
   "outputs": [
    {
     "data": {
      "text/markdown": [
       "Alle normalverteilt: **False**"
      ],
      "text/plain": [
       "<IPython.core.display.Markdown object>"
      ]
     },
     "metadata": {},
     "output_type": "display_data"
    },
    {
     "data": {
      "text/html": [
       "<div>\n",
       "<style scoped>\n",
       "    .dataframe tbody tr th:only-of-type {\n",
       "        vertical-align: middle;\n",
       "    }\n",
       "\n",
       "    .dataframe tbody tr th {\n",
       "        vertical-align: top;\n",
       "    }\n",
       "\n",
       "    .dataframe thead th {\n",
       "        text-align: right;\n",
       "    }\n",
       "</style>\n",
       "<table border=\"1\" class=\"dataframe\">\n",
       "  <thead>\n",
       "    <tr style=\"text-align: right;\">\n",
       "      <th></th>\n",
       "      <th></th>\n",
       "      <th>W</th>\n",
       "      <th>pval</th>\n",
       "      <th>normal</th>\n",
       "    </tr>\n",
       "    <tr>\n",
       "      <th>phase</th>\n",
       "      <th>subphase</th>\n",
       "      <th></th>\n",
       "      <th></th>\n",
       "      <th></th>\n",
       "    </tr>\n",
       "  </thead>\n",
       "  <tbody>\n",
       "    <tr>\n",
       "      <th rowspan=\"2\" valign=\"top\">MIST1</th>\n",
       "      <th>BL</th>\n",
       "      <td>0.916817</td>\n",
       "      <td>0.227160</td>\n",
       "      <td>True</td>\n",
       "    </tr>\n",
       "    <tr>\n",
       "      <th>AT</th>\n",
       "      <td>0.899550</td>\n",
       "      <td>0.131842</td>\n",
       "      <td>True</td>\n",
       "    </tr>\n",
       "    <tr>\n",
       "      <th rowspan=\"2\" valign=\"top\">MIST2</th>\n",
       "      <th>BL</th>\n",
       "      <td>0.912692</td>\n",
       "      <td>0.199600</td>\n",
       "      <td>True</td>\n",
       "    </tr>\n",
       "    <tr>\n",
       "      <th>AT</th>\n",
       "      <td>0.938626</td>\n",
       "      <td>0.439357</td>\n",
       "      <td>True</td>\n",
       "    </tr>\n",
       "    <tr>\n",
       "      <th rowspan=\"2\" valign=\"top\">MIST3</th>\n",
       "      <th>BL</th>\n",
       "      <td>0.840716</td>\n",
       "      <td>0.021646</td>\n",
       "      <td>False</td>\n",
       "    </tr>\n",
       "    <tr>\n",
       "      <th>AT</th>\n",
       "      <td>0.944529</td>\n",
       "      <td>0.518142</td>\n",
       "      <td>True</td>\n",
       "    </tr>\n",
       "  </tbody>\n",
       "</table>\n",
       "</div>"
      ],
      "text/plain": [
       "                       W      pval  normal\n",
       "phase subphase                            \n",
       "MIST1 BL        0.916817  0.227160    True\n",
       "      AT        0.899550  0.131842    True\n",
       "MIST2 BL        0.912692  0.199600    True\n",
       "      AT        0.938626  0.439357    True\n",
       "MIST3 BL        0.840716  0.021646   False\n",
       "      AT        0.944529  0.518142    True"
      ]
     },
     "metadata": {},
     "output_type": "display_data"
    },
    {
     "data": {
      "text/markdown": [
       "Normalverteilung **nicht** für **alle** Verteilungen gegeben => *Wilcoxon-Test* statt gepaartem t-test"
      ],
      "text/plain": [
       "<IPython.core.display.Markdown object>"
      ]
     },
     "metadata": {},
     "output_type": "display_data"
    },
    {
     "data": {
      "text/markdown": [
       "**Wilcoxon-Tests**"
      ],
      "text/plain": [
       "<IPython.core.display.Markdown object>"
      ]
     },
     "metadata": {},
     "output_type": "display_data"
    },
    {
     "data": {
      "text/html": [
       "<div>\n",
       "<style scoped>\n",
       "    .dataframe tbody tr th:only-of-type {\n",
       "        vertical-align: middle;\n",
       "    }\n",
       "\n",
       "    .dataframe tbody tr th {\n",
       "        vertical-align: top;\n",
       "    }\n",
       "\n",
       "    .dataframe thead th {\n",
       "        text-align: right;\n",
       "    }\n",
       "</style>\n",
       "<table border=\"1\" class=\"dataframe\">\n",
       "  <thead>\n",
       "    <tr style=\"text-align: right;\">\n",
       "      <th></th>\n",
       "      <th></th>\n",
       "      <th>W-val</th>\n",
       "      <th>alternative</th>\n",
       "      <th>p-val</th>\n",
       "      <th>RBC</th>\n",
       "      <th>CLES</th>\n",
       "    </tr>\n",
       "    <tr>\n",
       "      <th>phase</th>\n",
       "      <th></th>\n",
       "      <th></th>\n",
       "      <th></th>\n",
       "      <th></th>\n",
       "      <th></th>\n",
       "      <th></th>\n",
       "    </tr>\n",
       "  </thead>\n",
       "  <tbody>\n",
       "    <tr>\n",
       "      <th>MIST1</th>\n",
       "      <th>Wilcoxon</th>\n",
       "      <td>32.0</td>\n",
       "      <td>two-sided</td>\n",
       "      <td>0.376</td>\n",
       "      <td>-0.297</td>\n",
       "      <td>0.432</td>\n",
       "    </tr>\n",
       "    <tr>\n",
       "      <th>MIST2</th>\n",
       "      <th>Wilcoxon</th>\n",
       "      <td>5.0</td>\n",
       "      <td>two-sided</td>\n",
       "      <td>0.002</td>\n",
       "      <td>-0.890</td>\n",
       "      <td>0.254</td>\n",
       "    </tr>\n",
       "    <tr>\n",
       "      <th>MIST3</th>\n",
       "      <th>Wilcoxon</th>\n",
       "      <td>0.0</td>\n",
       "      <td>two-sided</td>\n",
       "      <td>0.000</td>\n",
       "      <td>-1.000</td>\n",
       "      <td>0.160</td>\n",
       "    </tr>\n",
       "  </tbody>\n",
       "</table>\n",
       "</div>"
      ],
      "text/plain": [
       "                W-val alternative  p-val    RBC   CLES\n",
       "phase                                                 \n",
       "MIST1 Wilcoxon   32.0   two-sided  0.376 -0.297  0.432\n",
       "MIST2 Wilcoxon    5.0   two-sided  0.002 -0.890  0.254\n",
       "MIST3 Wilcoxon    0.0   two-sided  0.000 -1.000  0.160"
      ]
     },
     "metadata": {},
     "output_type": "display_data"
    },
    {
     "data": {
      "text/markdown": [
       "**Zum Vergleich: gepaarte t-tests** (liefert vergleichbare Ergebnisse)"
      ],
      "text/plain": [
       "<IPython.core.display.Markdown object>"
      ]
     },
     "metadata": {},
     "output_type": "display_data"
    },
    {
     "data": {
      "text/html": [
       "<div>\n",
       "<style scoped>\n",
       "    .dataframe tbody tr th:only-of-type {\n",
       "        vertical-align: middle;\n",
       "    }\n",
       "\n",
       "    .dataframe tbody tr th {\n",
       "        vertical-align: top;\n",
       "    }\n",
       "\n",
       "    .dataframe thead th {\n",
       "        text-align: right;\n",
       "    }\n",
       "</style>\n",
       "<table border=\"1\" class=\"dataframe\">\n",
       "  <thead>\n",
       "    <tr style=\"text-align: right;\">\n",
       "      <th></th>\n",
       "      <th></th>\n",
       "      <th>Contrast</th>\n",
       "      <th>A</th>\n",
       "      <th>B</th>\n",
       "      <th>Paired</th>\n",
       "      <th>Parametric</th>\n",
       "      <th>T</th>\n",
       "      <th>dof</th>\n",
       "      <th>alternative</th>\n",
       "      <th>p-unc</th>\n",
       "      <th>BF10</th>\n",
       "      <th>hedges</th>\n",
       "    </tr>\n",
       "    <tr>\n",
       "      <th>phase</th>\n",
       "      <th></th>\n",
       "      <th></th>\n",
       "      <th></th>\n",
       "      <th></th>\n",
       "      <th></th>\n",
       "      <th></th>\n",
       "      <th></th>\n",
       "      <th></th>\n",
       "      <th></th>\n",
       "      <th></th>\n",
       "      <th></th>\n",
       "      <th></th>\n",
       "    </tr>\n",
       "  </thead>\n",
       "  <tbody>\n",
       "    <tr>\n",
       "      <th>MIST1</th>\n",
       "      <th>0</th>\n",
       "      <td>subphase</td>\n",
       "      <td>AT</td>\n",
       "      <td>BL</td>\n",
       "      <td>True</td>\n",
       "      <td>True</td>\n",
       "      <td>0.733</td>\n",
       "      <td>12.0</td>\n",
       "      <td>two-sided</td>\n",
       "      <td>0.477</td>\n",
       "      <td>0.351</td>\n",
       "      <td>0.082</td>\n",
       "    </tr>\n",
       "    <tr>\n",
       "      <th>MIST2</th>\n",
       "      <th>0</th>\n",
       "      <td>subphase</td>\n",
       "      <td>AT</td>\n",
       "      <td>BL</td>\n",
       "      <td>True</td>\n",
       "      <td>True</td>\n",
       "      <td>2.796</td>\n",
       "      <td>12.0</td>\n",
       "      <td>two-sided</td>\n",
       "      <td>0.016</td>\n",
       "      <td>3.929</td>\n",
       "      <td>0.792</td>\n",
       "    </tr>\n",
       "    <tr>\n",
       "      <th>MIST3</th>\n",
       "      <th>0</th>\n",
       "      <td>subphase</td>\n",
       "      <td>AT</td>\n",
       "      <td>BL</td>\n",
       "      <td>True</td>\n",
       "      <td>True</td>\n",
       "      <td>4.466</td>\n",
       "      <td>12.0</td>\n",
       "      <td>two-sided</td>\n",
       "      <td>0.001</td>\n",
       "      <td>49.46</td>\n",
       "      <td>1.091</td>\n",
       "    </tr>\n",
       "  </tbody>\n",
       "</table>\n",
       "</div>"
      ],
      "text/plain": [
       "         Contrast   A   B  Paired  Parametric      T   dof alternative  p-unc  \\\n",
       "phase                                                                           \n",
       "MIST1 0  subphase  AT  BL    True        True  0.733  12.0   two-sided  0.477   \n",
       "MIST2 0  subphase  AT  BL    True        True  2.796  12.0   two-sided  0.016   \n",
       "MIST3 0  subphase  AT  BL    True        True  4.466  12.0   two-sided  0.001   \n",
       "\n",
       "          BF10  hedges  \n",
       "phase                   \n",
       "MIST1 0  0.351   0.082  \n",
       "MIST2 0  3.929   0.792  \n",
       "MIST3 0  49.46   1.091  "
      ]
     },
     "metadata": {},
     "output_type": "display_data"
    }
   ],
   "source": [
    "dv = \"HR\"\n",
    "subphases = [\"BL\", \"AT\"]\n",
    "# Selektieren der zu untersuchenden Daten: Kontrollgruppe, alle Subjects, alle MIST Phasen, Subphasen BL und AT\n",
    "df_analysis = df_hr[[dv]].loc[pd.IndexSlice[\"Intervention\", :, :, subphases]]\n",
    "\n",
    "# Test auf Normalverteilung\n",
    "df_norm = df_analysis.reset_index().groupby(\"phase\").apply(\n",
    "    lambda df: pg.normality(data=df, dv=dv, group=\"subphase\")\n",
    ")\n",
    "\n",
    "# Wilcoxon-Tests pro MIST-Phase\n",
    "wilc_phase = df_analysis[dv].groupby(\"phase\").apply(\n",
    "    lambda df: pg.wilcoxon(\n",
    "        x=df.xs(\"BL\", level=\"subphase\"), \n",
    "        y=df.xs(\"AT\", level=\"subphase\"),\n",
    "    )\n",
    ")\n",
    "\n",
    "# Zum Vergleich: gepaarte t-tests pro MIST-Phase\n",
    "tt_phase = df_analysis.reset_index().groupby(\"phase\").apply(\n",
    "    lambda df: pg.pairwise_tests(\n",
    "        data=df, dv=dv, within=\"subphase\", \n",
    "        subject=\"subject\", effsize=\"hedges\"\n",
    "    )\n",
    ")\n",
    "\n",
    "# Ausgabe\n",
    "display(Markdown(\"Alle normalverteilt: **{}**\".format(df_norm['normal'].all())))\n",
    "display(df_norm)\n",
    "display(Markdown(\"Normalverteilung **nicht** für **alle** Verteilungen gegeben => *Wilcoxon-Test* statt gepaartem t-test\"))\n",
    "\n",
    "display(Markdown(\"**Wilcoxon-Tests**\"))\n",
    "display(wilc_phase.round(3))\n",
    "display(Markdown(\"**Zum Vergleich: gepaarte t-tests** (liefert vergleichbare Ergebnisse)\"))\n",
    "display(tt_phase.round(3))"
   ]
  },
  {
   "cell_type": "markdown",
   "metadata": {},
   "source": [
    "##### Interpretation\n",
    "\n",
    "\"Even though the HR of the Intervention group was slightly decreased compared to the *Control* group during the *AT* and *FB* sub-phases both groups reached comparable stress levels especially during *MIST2* and *MIST3*. This finding is supported by significant HR increases during *AT* in each *MIST* phase for both groups (*Control*: Table 2, *Intervention*: Table 5). […] Thus, the MIST successfully caused sympathetic activation during *AT* and *FB* regardless of the condition.\""
   ]
  },
  {
   "cell_type": "markdown",
   "metadata": {},
   "source": [
    "### Fragestellung II: Zeigt die Intervention einen Effekt auf die kardiovaskuläre Stressreaktion?"
   ]
  },
  {
   "cell_type": "markdown",
   "metadata": {},
   "source": [
    "#### Untersuchung – I\n",
    "\n",
    "Es wird untersucht, ob die Intervention signifikante Unterschiede zwischen den beiden Gruppen während des MIST während der *BL*-Subphase verursacht."
   ]
  },
  {
   "cell_type": "markdown",
   "metadata": {},
   "source": [
    "#### Statistik"
   ]
  },
  {
   "cell_type": "markdown",
   "metadata": {},
   "source": [
    "##### Analyse\n",
    "\n",
    "* Vorbereitende Analyse:\n",
    "    * Test auf Normalverteilung (Shapiro-Wilk-Test)\n",
    "    * Test auf Varianzgleichheit (Levene-Test)\n",
    "* *Test*: Mixed ANOVA\n",
    "* *AV*: $\\text{HR}_{rel}$ (normalisierte Herzrate) während *BL* => da in dieser Analyse nicht mehr ausschließlich Innersubjektfaktoren (Messwiederholung) betrachtet werden, sondern Gruppenvergleiche\n",
    "* *Innersubjektfaktor*: Phase\n",
    "* *Zwischensubjektfaktor*: Gruppe\n",
    "* *Maß für Effektstärke*: $\\eta_p^2$\n",
    "\n",
    "=> Analoge Analyse für die weiteren HRV-Parameter"
   ]
  },
  {
   "cell_type": "markdown",
   "metadata": {},
   "source": [
    "**Baseline**"
   ]
  },
  {
   "cell_type": "code",
   "execution_count": 24,
   "metadata": {},
   "outputs": [
    {
     "data": {
      "text/markdown": [
       "Alle normalverteilt: **False**"
      ],
      "text/plain": [
       "<IPython.core.display.Markdown object>"
      ]
     },
     "metadata": {},
     "output_type": "display_data"
    },
    {
     "data": {
      "text/html": [
       "<div>\n",
       "<style scoped>\n",
       "    .dataframe tbody tr th:only-of-type {\n",
       "        vertical-align: middle;\n",
       "    }\n",
       "\n",
       "    .dataframe tbody tr th {\n",
       "        vertical-align: top;\n",
       "    }\n",
       "\n",
       "    .dataframe thead th {\n",
       "        text-align: right;\n",
       "    }\n",
       "</style>\n",
       "<table border=\"1\" class=\"dataframe\">\n",
       "  <thead>\n",
       "    <tr style=\"text-align: right;\">\n",
       "      <th></th>\n",
       "      <th></th>\n",
       "      <th>W</th>\n",
       "      <th>pval</th>\n",
       "      <th>normal</th>\n",
       "    </tr>\n",
       "    <tr>\n",
       "      <th>phase</th>\n",
       "      <th>condition</th>\n",
       "      <th></th>\n",
       "      <th></th>\n",
       "      <th></th>\n",
       "    </tr>\n",
       "  </thead>\n",
       "  <tbody>\n",
       "    <tr>\n",
       "      <th rowspan=\"2\" valign=\"top\">MIST1</th>\n",
       "      <th>Intervention</th>\n",
       "      <td>0.974</td>\n",
       "      <td>0.941</td>\n",
       "      <td>True</td>\n",
       "    </tr>\n",
       "    <tr>\n",
       "      <th>Control</th>\n",
       "      <td>0.956</td>\n",
       "      <td>0.697</td>\n",
       "      <td>True</td>\n",
       "    </tr>\n",
       "    <tr>\n",
       "      <th rowspan=\"2\" valign=\"top\">MIST2</th>\n",
       "      <th>Intervention</th>\n",
       "      <td>0.954</td>\n",
       "      <td>0.665</td>\n",
       "      <td>True</td>\n",
       "    </tr>\n",
       "    <tr>\n",
       "      <th>Control</th>\n",
       "      <td>0.983</td>\n",
       "      <td>0.991</td>\n",
       "      <td>True</td>\n",
       "    </tr>\n",
       "    <tr>\n",
       "      <th rowspan=\"2\" valign=\"top\">MIST3</th>\n",
       "      <th>Intervention</th>\n",
       "      <td>0.845</td>\n",
       "      <td>0.025</td>\n",
       "      <td>False</td>\n",
       "    </tr>\n",
       "    <tr>\n",
       "      <th>Control</th>\n",
       "      <td>0.888</td>\n",
       "      <td>0.092</td>\n",
       "      <td>True</td>\n",
       "    </tr>\n",
       "  </tbody>\n",
       "</table>\n",
       "</div>"
      ],
      "text/plain": [
       "                        W   pval  normal\n",
       "phase condition                         \n",
       "MIST1 Intervention  0.974  0.941    True\n",
       "      Control       0.956  0.697    True\n",
       "MIST2 Intervention  0.954  0.665    True\n",
       "      Control       0.983  0.991    True\n",
       "MIST3 Intervention  0.845  0.025   False\n",
       "      Control       0.888  0.092    True"
      ]
     },
     "metadata": {},
     "output_type": "display_data"
    },
    {
     "data": {
      "text/markdown": [
       "Alle Varianzen (in etwa) gleich: **True**"
      ],
      "text/plain": [
       "<IPython.core.display.Markdown object>"
      ]
     },
     "metadata": {},
     "output_type": "display_data"
    },
    {
     "data": {
      "text/markdown": [
       "**Mixed ANOVA**"
      ],
      "text/plain": [
       "<IPython.core.display.Markdown object>"
      ]
     },
     "metadata": {},
     "output_type": "display_data"
    },
    {
     "data": {
      "text/html": [
       "<div>\n",
       "<style scoped>\n",
       "    .dataframe tbody tr th:only-of-type {\n",
       "        vertical-align: middle;\n",
       "    }\n",
       "\n",
       "    .dataframe tbody tr th {\n",
       "        vertical-align: top;\n",
       "    }\n",
       "\n",
       "    .dataframe thead th {\n",
       "        text-align: right;\n",
       "    }\n",
       "</style>\n",
       "<table border=\"1\" class=\"dataframe\">\n",
       "  <thead>\n",
       "    <tr style=\"text-align: right;\">\n",
       "      <th></th>\n",
       "      <th>Source</th>\n",
       "      <th>SS</th>\n",
       "      <th>DF1</th>\n",
       "      <th>DF2</th>\n",
       "      <th>MS</th>\n",
       "      <th>F</th>\n",
       "      <th>p-unc</th>\n",
       "      <th>np2</th>\n",
       "      <th>eps</th>\n",
       "    </tr>\n",
       "  </thead>\n",
       "  <tbody>\n",
       "    <tr>\n",
       "      <th>0</th>\n",
       "      <td>condition</td>\n",
       "      <td>924.742</td>\n",
       "      <td>1</td>\n",
       "      <td>24</td>\n",
       "      <td>924.742</td>\n",
       "      <td>9.071</td>\n",
       "      <td>0.006</td>\n",
       "      <td>0.274</td>\n",
       "      <td>NaN</td>\n",
       "    </tr>\n",
       "    <tr>\n",
       "      <th>1</th>\n",
       "      <td>phase</td>\n",
       "      <td>394.020</td>\n",
       "      <td>2</td>\n",
       "      <td>48</td>\n",
       "      <td>197.010</td>\n",
       "      <td>6.692</td>\n",
       "      <td>0.003</td>\n",
       "      <td>0.218</td>\n",
       "      <td>0.934</td>\n",
       "    </tr>\n",
       "    <tr>\n",
       "      <th>2</th>\n",
       "      <td>Interaction</td>\n",
       "      <td>304.265</td>\n",
       "      <td>2</td>\n",
       "      <td>48</td>\n",
       "      <td>152.132</td>\n",
       "      <td>5.167</td>\n",
       "      <td>0.009</td>\n",
       "      <td>0.177</td>\n",
       "      <td>NaN</td>\n",
       "    </tr>\n",
       "  </tbody>\n",
       "</table>\n",
       "</div>"
      ],
      "text/plain": [
       "        Source       SS  DF1  DF2       MS      F  p-unc    np2    eps\n",
       "0    condition  924.742    1   24  924.742  9.071  0.006  0.274    NaN\n",
       "1        phase  394.020    2   48  197.010  6.692  0.003  0.218  0.934\n",
       "2  Interaction  304.265    2   48  152.132  5.167  0.009  0.177    NaN"
      ]
     },
     "metadata": {},
     "output_type": "display_data"
    },
    {
     "data": {
      "text/markdown": [
       "**Post-hoc Tests**"
      ],
      "text/plain": [
       "<IPython.core.display.Markdown object>"
      ]
     },
     "metadata": {},
     "output_type": "display_data"
    },
    {
     "data": {
      "text/markdown": [
       "Signifikanter Interaktionseffekt => Betrachten der Gruppenunterschiede zu jedem Zeitpunkt (phase * condition))"
      ],
      "text/plain": [
       "<IPython.core.display.Markdown object>"
      ]
     },
     "metadata": {},
     "output_type": "display_data"
    },
    {
     "data": {
      "text/html": [
       "<div>\n",
       "<style scoped>\n",
       "    .dataframe tbody tr th:only-of-type {\n",
       "        vertical-align: middle;\n",
       "    }\n",
       "\n",
       "    .dataframe tbody tr th {\n",
       "        vertical-align: top;\n",
       "    }\n",
       "\n",
       "    .dataframe thead th {\n",
       "        text-align: right;\n",
       "    }\n",
       "</style>\n",
       "<table border=\"1\" class=\"dataframe\">\n",
       "  <thead>\n",
       "    <tr style=\"text-align: right;\">\n",
       "      <th></th>\n",
       "      <th>Contrast</th>\n",
       "      <th>phase</th>\n",
       "      <th>A</th>\n",
       "      <th>B</th>\n",
       "      <th>Paired</th>\n",
       "      <th>Parametric</th>\n",
       "      <th>T</th>\n",
       "      <th>dof</th>\n",
       "      <th>alternative</th>\n",
       "      <th>p-unc</th>\n",
       "      <th>p-corr</th>\n",
       "      <th>p-adjust</th>\n",
       "      <th>BF10</th>\n",
       "      <th>hedges</th>\n",
       "    </tr>\n",
       "  </thead>\n",
       "  <tbody>\n",
       "    <tr>\n",
       "      <th>0</th>\n",
       "      <td>phase</td>\n",
       "      <td>-</td>\n",
       "      <td>MIST1</td>\n",
       "      <td>MIST2</td>\n",
       "      <td>True</td>\n",
       "      <td>True</td>\n",
       "      <td>-0.206</td>\n",
       "      <td>25.0</td>\n",
       "      <td>two-sided</td>\n",
       "      <td>0.838</td>\n",
       "      <td>1.000</td>\n",
       "      <td>bonf</td>\n",
       "      <td>0.211</td>\n",
       "      <td>-0.045</td>\n",
       "    </tr>\n",
       "    <tr>\n",
       "      <th>1</th>\n",
       "      <td>phase</td>\n",
       "      <td>-</td>\n",
       "      <td>MIST1</td>\n",
       "      <td>MIST3</td>\n",
       "      <td>True</td>\n",
       "      <td>True</td>\n",
       "      <td>-2.952</td>\n",
       "      <td>25.0</td>\n",
       "      <td>two-sided</td>\n",
       "      <td>0.007</td>\n",
       "      <td>0.020</td>\n",
       "      <td>bonf</td>\n",
       "      <td>6.565</td>\n",
       "      <td>-0.532</td>\n",
       "    </tr>\n",
       "    <tr>\n",
       "      <th>2</th>\n",
       "      <td>phase</td>\n",
       "      <td>-</td>\n",
       "      <td>MIST2</td>\n",
       "      <td>MIST3</td>\n",
       "      <td>True</td>\n",
       "      <td>True</td>\n",
       "      <td>-2.589</td>\n",
       "      <td>25.0</td>\n",
       "      <td>two-sided</td>\n",
       "      <td>0.016</td>\n",
       "      <td>0.047</td>\n",
       "      <td>bonf</td>\n",
       "      <td>3.215</td>\n",
       "      <td>-0.506</td>\n",
       "    </tr>\n",
       "    <tr>\n",
       "      <th>3</th>\n",
       "      <td>condition</td>\n",
       "      <td>-</td>\n",
       "      <td>Control</td>\n",
       "      <td>Intervention</td>\n",
       "      <td>False</td>\n",
       "      <td>True</td>\n",
       "      <td>3.012</td>\n",
       "      <td>24.0</td>\n",
       "      <td>two-sided</td>\n",
       "      <td>0.006</td>\n",
       "      <td>NaN</td>\n",
       "      <td>NaN</td>\n",
       "      <td>7.498</td>\n",
       "      <td>1.144</td>\n",
       "    </tr>\n",
       "    <tr>\n",
       "      <th>4</th>\n",
       "      <td>phase * condition</td>\n",
       "      <td>MIST1</td>\n",
       "      <td>Control</td>\n",
       "      <td>Intervention</td>\n",
       "      <td>False</td>\n",
       "      <td>True</td>\n",
       "      <td>1.109</td>\n",
       "      <td>24.0</td>\n",
       "      <td>two-sided</td>\n",
       "      <td>0.279</td>\n",
       "      <td>0.836</td>\n",
       "      <td>bonf</td>\n",
       "      <td>0.569</td>\n",
       "      <td>0.421</td>\n",
       "    </tr>\n",
       "    <tr>\n",
       "      <th>5</th>\n",
       "      <td>phase * condition</td>\n",
       "      <td>MIST2</td>\n",
       "      <td>Control</td>\n",
       "      <td>Intervention</td>\n",
       "      <td>False</td>\n",
       "      <td>True</td>\n",
       "      <td>2.535</td>\n",
       "      <td>24.0</td>\n",
       "      <td>two-sided</td>\n",
       "      <td>0.018</td>\n",
       "      <td>0.055</td>\n",
       "      <td>bonf</td>\n",
       "      <td>3.314</td>\n",
       "      <td>0.963</td>\n",
       "    </tr>\n",
       "    <tr>\n",
       "      <th>6</th>\n",
       "      <td>phase * condition</td>\n",
       "      <td>MIST3</td>\n",
       "      <td>Control</td>\n",
       "      <td>Intervention</td>\n",
       "      <td>False</td>\n",
       "      <td>True</td>\n",
       "      <td>3.343</td>\n",
       "      <td>24.0</td>\n",
       "      <td>two-sided</td>\n",
       "      <td>0.003</td>\n",
       "      <td>0.008</td>\n",
       "      <td>bonf</td>\n",
       "      <td>13.882</td>\n",
       "      <td>1.270</td>\n",
       "    </tr>\n",
       "  </tbody>\n",
       "</table>\n",
       "</div>"
      ],
      "text/plain": [
       "            Contrast  phase        A             B Paired  Parametric      T  \\\n",
       "0              phase      -    MIST1         MIST2   True        True -0.206   \n",
       "1              phase      -    MIST1         MIST3   True        True -2.952   \n",
       "2              phase      -    MIST2         MIST3   True        True -2.589   \n",
       "3          condition      -  Control  Intervention  False        True  3.012   \n",
       "4  phase * condition  MIST1  Control  Intervention  False        True  1.109   \n",
       "5  phase * condition  MIST2  Control  Intervention  False        True  2.535   \n",
       "6  phase * condition  MIST3  Control  Intervention  False        True  3.343   \n",
       "\n",
       "    dof alternative  p-unc  p-corr p-adjust    BF10  hedges  \n",
       "0  25.0   two-sided  0.838   1.000     bonf   0.211  -0.045  \n",
       "1  25.0   two-sided  0.007   0.020     bonf   6.565  -0.532  \n",
       "2  25.0   two-sided  0.016   0.047     bonf   3.215  -0.506  \n",
       "3  24.0   two-sided  0.006     NaN      NaN   7.498   1.144  \n",
       "4  24.0   two-sided  0.279   0.836     bonf   0.569   0.421  \n",
       "5  24.0   two-sided  0.018   0.055     bonf   3.314   0.963  \n",
       "6  24.0   two-sided  0.003   0.008     bonf  13.882   1.270  "
      ]
     },
     "metadata": {},
     "output_type": "display_data"
    }
   ],
   "source": [
    "dv = \"HR_rel\"\n",
    "\n",
    "df_analysis = df_hr.xs(\"BL\", level='subphase')\n",
    "\n",
    "# Test auf Normalverteilung\n",
    "df_norm = df_analysis.reset_index().groupby(by=[\"phase\"]).apply(lambda df: pg.normality(data=df, dv=dv, group=\"condition\"))\n",
    "# Test auf Homoskedastizität\n",
    "df_hom = df_analysis.reset_index().groupby(by=[\"phase\"]).apply(lambda df: pg.homoscedasticity(data=df, dv=dv, group=\"condition\"))\n",
    "\n",
    "# Mixed ANOVA\n",
    "anova_mixed = pg.mixed_anova(data=df_analysis.reset_index(), dv=dv, within=\"phase\", between=\"condition\", subject=\"subject\")\n",
    "# Post-hoc Tests\n",
    "posthoc_mixed = pg.pairwise_tests(data=df_analysis.reset_index(), dv=dv, within=\"phase\", between=\"condition\", subject=\"subject\", effsize=\"hedges\", padjust='bonf')\n",
    "\n",
    "# Ausgaben\n",
    "display(Markdown(\"Alle normalverteilt: **{}**\".format(df_norm['normal'].all())))\n",
    "display(df_norm.round(3))\n",
    "display(Markdown(\"Alle Varianzen (in etwa) gleich: **{}**\".format(df_hom['equal_var'].all())))\n",
    "\n",
    "display(Markdown(\"**Mixed ANOVA**\"))\n",
    "display(anova_mixed.round(3))\n",
    "\n",
    "display(Markdown(\"**Post-hoc Tests**\"))\n",
    "display(Markdown(\"Signifikanter Interaktionseffekt => Betrachten der Gruppenunterschiede zu jedem Zeitpunkt (phase * condition))\"))\n",
    "display(posthoc_mixed.round(3))"
   ]
  },
  {
   "cell_type": "markdown",
   "metadata": {},
   "source": [
    "##### Interpretation\n",
    "\n",
    "\"Over the three *MIST* phases the *HR* during *BL* of the *Intervention* group remained roughly constant, whereas it showed strong increases over time in the *Control* group (Figure 5). This drift of baseline levels in the *Control* group is reflected by a significant interaction of *condition* and *MIST Phase* in HR and (Table 6). Post-hoc tests in Table 7 revealed that baselines started to significantly differ in *MIST2* and continued for *MIST3*.\""
   ]
  },
  {
   "cell_type": "markdown",
   "metadata": {},
   "source": [
    "#### Plots"
   ]
  },
  {
   "cell_type": "code",
   "execution_count": 25,
   "metadata": {},
   "outputs": [
    {
     "name": "stdout",
     "output_type": "stream",
     "text": [
      "p-value annotation legend:\n",
      "*: 1.00e-02 < p <= 5.00e-02\n",
      "**: 1.00e-03 < p <= 1.00e-02\n",
      "***: p <= 1.00e-03\n",
      "\n",
      "MIST2_Control v.s. MIST2_Intervention: t-test independent samples with Bonferroni correction, P_val=3.634e-02 stat=2.535e+00\n",
      "MIST3_Control v.s. MIST3_Intervention: t-test independent samples with Bonferroni correction, P_val=5.425e-03 stat=3.343e+00\n"
     ]
    },
    {
     "data": {
      "application/vnd.jupyter.widget-view+json": {
       "model_id": "2aad7db4ce254a27807be8d709b37809",
       "version_major": 2,
       "version_minor": 0
      },
      "image/png": "[encoded data removed]",
      "text/html": [
       "\n",
       "            <div style=\"display: inline-block;\">\n",
       "                <div class=\"jupyter-widgets widget-label\" style=\"text-align: center;\">\n",
       "                    Figure\n",
       "                </div>\n",
       "                <img src='data:image/png;base64,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' width=640.0/>\n",
       "            </div>\n",
       "        "
      ],
      "text/plain": [
       "Canvas(toolbar=Toolbar(toolitems=[('Home', 'Reset original view', 'home', 'home'), ('Back', 'Back to previous …"
      ]
     },
     "metadata": {},
     "output_type": "display_data"
    }
   ],
   "source": [
    "fig, ax = plt.subplots()\n",
    "sns.boxplot(data=df_analysis.reset_index(), x=\"phase\", y=dv, hue=\"condition\", hue_order=[\"Control\", \"Intervention\"], ax=ax)\n",
    "\n",
    "sig_pairs = [\n",
    "    ((\"MIST2\", \"Control\"), (\"MIST2\", \"Intervention\")),\n",
    "    ((\"MIST3\", \"Control\"), (\"MIST3\", \"Intervention\")),\n",
    "]\n",
    "\n",
    "add_stat_annotation(\n",
    "    ax=ax, data=df_analysis.reset_index(), \n",
    "    x=\"phase\", y=dv, hue=\"condition\", \n",
    "    box_pairs=sig_pairs,\n",
    "    pvalue_thresholds=pvalue_thres,\n",
    "    test=\"t-test_ind\",\n",
    "    hue_order=[\"Control\", \"Intervention\"],\n",
    "    comparisons_correction='bonferroni'\n",
    ")\n",
    "\n",
    "ax.set_title(\"Relative Heart Rate during BL\")\n",
    "ax.set_ylabel(\"$\\Delta HR~[\\%]$\")\n",
    "fig.tight_layout()"
   ]
  },
  {
   "cell_type": "markdown",
   "metadata": {},
   "source": [
    "#### Untersuchung – II\n",
    "\n",
    "Es wird untersucht, ob die Intervention signifikante Unterschiede zwischen den beiden Gruppen während des MIST während der *CFI*-Subphase verursacht."
   ]
  },
  {
   "cell_type": "markdown",
   "metadata": {},
   "source": [
    "#### Statistik"
   ]
  },
  {
   "cell_type": "markdown",
   "metadata": {},
   "source": [
    "##### Analyse\n",
    "\n",
    "* Vorbereitende Analyse:\n",
    "    * Test auf Normalverteilung (Shapiro-Wilk-Test)\n",
    "    * Test auf Varianzgleichheit (Levene-Test)\n",
    "* *Test*: Mixed ANOVA\n",
    "* *AV*: $\\text{HR}_{rel}$ (normalisierte Herzrate) während *CFI* => da in dieser Analyse nicht mehr ausschließlich Innersubjektfaktoren (Messwiederholung) betrachtet werden, sondern Gruppenvergleiche\n",
    "* *Innersubjektfaktor*: Phase\n",
    "* *Zwischensubjektfaktor*: Gruppe\n",
    "* *Maß für Effektstärke*: $\\eta_p^2$\n",
    "\n",
    "=> Analoge Analyse für die weiteren HRV-Parameter"
   ]
  },
  {
   "cell_type": "code",
   "execution_count": 26,
   "metadata": {},
   "outputs": [
    {
     "data": {
      "text/markdown": [
       "Alle normalverteilt: **False**"
      ],
      "text/plain": [
       "<IPython.core.display.Markdown object>"
      ]
     },
     "metadata": {},
     "output_type": "display_data"
    },
    {
     "data": {
      "text/html": [
       "<div>\n",
       "<style scoped>\n",
       "    .dataframe tbody tr th:only-of-type {\n",
       "        vertical-align: middle;\n",
       "    }\n",
       "\n",
       "    .dataframe tbody tr th {\n",
       "        vertical-align: top;\n",
       "    }\n",
       "\n",
       "    .dataframe thead th {\n",
       "        text-align: right;\n",
       "    }\n",
       "</style>\n",
       "<table border=\"1\" class=\"dataframe\">\n",
       "  <thead>\n",
       "    <tr style=\"text-align: right;\">\n",
       "      <th></th>\n",
       "      <th></th>\n",
       "      <th>W</th>\n",
       "      <th>pval</th>\n",
       "      <th>normal</th>\n",
       "    </tr>\n",
       "    <tr>\n",
       "      <th>phase</th>\n",
       "      <th>condition</th>\n",
       "      <th></th>\n",
       "      <th></th>\n",
       "      <th></th>\n",
       "    </tr>\n",
       "  </thead>\n",
       "  <tbody>\n",
       "    <tr>\n",
       "      <th rowspan=\"2\" valign=\"top\">MIST1</th>\n",
       "      <th>Intervention</th>\n",
       "      <td>0.890</td>\n",
       "      <td>0.098</td>\n",
       "      <td>True</td>\n",
       "    </tr>\n",
       "    <tr>\n",
       "      <th>Control</th>\n",
       "      <td>0.910</td>\n",
       "      <td>0.185</td>\n",
       "      <td>True</td>\n",
       "    </tr>\n",
       "    <tr>\n",
       "      <th rowspan=\"2\" valign=\"top\">MIST2</th>\n",
       "      <th>Intervention</th>\n",
       "      <td>0.892</td>\n",
       "      <td>0.104</td>\n",
       "      <td>True</td>\n",
       "    </tr>\n",
       "    <tr>\n",
       "      <th>Control</th>\n",
       "      <td>0.756</td>\n",
       "      <td>0.002</td>\n",
       "      <td>False</td>\n",
       "    </tr>\n",
       "    <tr>\n",
       "      <th rowspan=\"2\" valign=\"top\">MIST3</th>\n",
       "      <th>Intervention</th>\n",
       "      <td>0.819</td>\n",
       "      <td>0.011</td>\n",
       "      <td>False</td>\n",
       "    </tr>\n",
       "    <tr>\n",
       "      <th>Control</th>\n",
       "      <td>0.824</td>\n",
       "      <td>0.013</td>\n",
       "      <td>False</td>\n",
       "    </tr>\n",
       "  </tbody>\n",
       "</table>\n",
       "</div>"
      ],
      "text/plain": [
       "                        W   pval  normal\n",
       "phase condition                         \n",
       "MIST1 Intervention  0.890  0.098    True\n",
       "      Control       0.910  0.185    True\n",
       "MIST2 Intervention  0.892  0.104    True\n",
       "      Control       0.756  0.002   False\n",
       "MIST3 Intervention  0.819  0.011   False\n",
       "      Control       0.824  0.013   False"
      ]
     },
     "metadata": {},
     "output_type": "display_data"
    },
    {
     "data": {
      "text/markdown": [
       "Alle Varianzen (in etwa) gleich: **True**"
      ],
      "text/plain": [
       "<IPython.core.display.Markdown object>"
      ]
     },
     "metadata": {},
     "output_type": "display_data"
    },
    {
     "data": {
      "text/markdown": [
       "**Mixed ANOVA**"
      ],
      "text/plain": [
       "<IPython.core.display.Markdown object>"
      ]
     },
     "metadata": {},
     "output_type": "display_data"
    },
    {
     "data": {
      "text/html": [
       "<div>\n",
       "<style scoped>\n",
       "    .dataframe tbody tr th:only-of-type {\n",
       "        vertical-align: middle;\n",
       "    }\n",
       "\n",
       "    .dataframe tbody tr th {\n",
       "        vertical-align: top;\n",
       "    }\n",
       "\n",
       "    .dataframe thead th {\n",
       "        text-align: right;\n",
       "    }\n",
       "</style>\n",
       "<table border=\"1\" class=\"dataframe\">\n",
       "  <thead>\n",
       "    <tr style=\"text-align: right;\">\n",
       "      <th></th>\n",
       "      <th>Source</th>\n",
       "      <th>SS</th>\n",
       "      <th>DF1</th>\n",
       "      <th>DF2</th>\n",
       "      <th>MS</th>\n",
       "      <th>F</th>\n",
       "      <th>p-unc</th>\n",
       "      <th>p-GG-corr</th>\n",
       "      <th>np2</th>\n",
       "      <th>eps</th>\n",
       "      <th>sphericity</th>\n",
       "      <th>W-spher</th>\n",
       "      <th>p-spher</th>\n",
       "    </tr>\n",
       "  </thead>\n",
       "  <tbody>\n",
       "    <tr>\n",
       "      <th>0</th>\n",
       "      <td>condition</td>\n",
       "      <td>2357.976</td>\n",
       "      <td>1</td>\n",
       "      <td>24</td>\n",
       "      <td>2357.976</td>\n",
       "      <td>24.973</td>\n",
       "      <td>0.000</td>\n",
       "      <td>NaN</td>\n",
       "      <td>0.510</td>\n",
       "      <td>NaN</td>\n",
       "      <td>NaN</td>\n",
       "      <td>NaN</td>\n",
       "      <td>NaN</td>\n",
       "    </tr>\n",
       "    <tr>\n",
       "      <th>1</th>\n",
       "      <td>phase</td>\n",
       "      <td>921.377</td>\n",
       "      <td>2</td>\n",
       "      <td>48</td>\n",
       "      <td>460.688</td>\n",
       "      <td>16.721</td>\n",
       "      <td>0.000</td>\n",
       "      <td>0.0</td>\n",
       "      <td>0.411</td>\n",
       "      <td>0.713</td>\n",
       "      <td>False</td>\n",
       "      <td>0.598</td>\n",
       "      <td>0.002</td>\n",
       "    </tr>\n",
       "    <tr>\n",
       "      <th>2</th>\n",
       "      <td>Interaction</td>\n",
       "      <td>97.731</td>\n",
       "      <td>2</td>\n",
       "      <td>48</td>\n",
       "      <td>48.866</td>\n",
       "      <td>1.774</td>\n",
       "      <td>0.181</td>\n",
       "      <td>NaN</td>\n",
       "      <td>0.069</td>\n",
       "      <td>NaN</td>\n",
       "      <td>NaN</td>\n",
       "      <td>NaN</td>\n",
       "      <td>NaN</td>\n",
       "    </tr>\n",
       "  </tbody>\n",
       "</table>\n",
       "</div>"
      ],
      "text/plain": [
       "        Source        SS  DF1  DF2        MS       F  p-unc  p-GG-corr    np2  \\\n",
       "0    condition  2357.976    1   24  2357.976  24.973  0.000        NaN  0.510   \n",
       "1        phase   921.377    2   48   460.688  16.721  0.000        0.0  0.411   \n",
       "2  Interaction    97.731    2   48    48.866   1.774  0.181        NaN  0.069   \n",
       "\n",
       "     eps sphericity  W-spher  p-spher  \n",
       "0    NaN        NaN      NaN      NaN  \n",
       "1  0.713      False    0.598    0.002  \n",
       "2    NaN        NaN      NaN      NaN  "
      ]
     },
     "metadata": {},
     "output_type": "display_data"
    }
   ],
   "source": [
    "dv = \"HR_rel\"\n",
    "\n",
    "df_analysis = df_hr.xs(\"CFI\", level='subphase')\n",
    "\n",
    "# Test auf Normalverteilung\n",
    "df_norm = df_analysis.reset_index().groupby(by=[\"phase\"]).apply(lambda df: pg.normality(data=df, dv=dv, group=\"condition\"))\n",
    "# Test auf Homoskedastizität\n",
    "df_hom = df_analysis.reset_index().groupby(by=[\"phase\"]).apply(lambda df: pg.homoscedasticity(data=df, dv=dv, group=\"condition\"))\n",
    "\n",
    "# Mixed ANOVA\n",
    "anova_mixed = pg.mixed_anova(data=df_analysis.reset_index(), dv=dv, within=\"phase\", between=\"condition\", subject=\"subject\")\n",
    "\n",
    "# Ausgaben\n",
    "display(Markdown(\"Alle normalverteilt: **{}**\".format(df_norm['normal'].all())))\n",
    "display(df_norm.round(3))\n",
    "display(Markdown(\"Alle Varianzen (in etwa) gleich: **{}**\".format(df_hom['equal_var'].all())))\n",
    "\n",
    "display(Markdown(\"**Mixed ANOVA**\"))\n",
    "display(anova_mixed.round(3))"
   ]
  },
  {
   "cell_type": "markdown",
   "metadata": {},
   "source": [
    "##### Interpretation\n",
    "\n",
    "\"For the *CFI/RP* sub-phase ANOVA revealed no significant interaction effects, but significant main effects for *condition* (Table 6). These findings indicate that the Intervention group recovered better from acute stress than the Control group.\""
   ]
  },
  {
   "cell_type": "markdown",
   "metadata": {},
   "source": [
    "#### Plots"
   ]
  },
  {
   "cell_type": "code",
   "execution_count": 27,
   "metadata": {},
   "outputs": [
    {
     "data": {
      "application/vnd.jupyter.widget-view+json": {
       "model_id": "ddcec414deff4a1499aad4d84426f766",
       "version_major": 2,
       "version_minor": 0
      },
      "image/png": "[encoded data removed]",
      "text/html": [
       "\n",
       "            <div style=\"display: inline-block;\">\n",
       "                <div class=\"jupyter-widgets widget-label\" style=\"text-align: center;\">\n",
       "                    Figure\n",
       "                </div>\n",
       "                <img src='data:image/png;base64,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' width=1000.0/>\n",
       "            </div>\n",
       "        "
      ],
      "text/plain": [
       "Canvas(toolbar=Toolbar(toolitems=[('Home', 'Reset original view', 'home', 'home'), ('Back', 'Back to previous …"
      ]
     },
     "metadata": {},
     "output_type": "display_data"
    }
   ],
   "source": [
    "dv = \"HR_rel\"\n",
    "df_plot = df_hr.loc[pd.IndexSlice[:, :, :, [\"BL\", \"CFI\"]]]\n",
    "fig, axs = plt.subplots(figsize=(10, 5), ncols=2)\n",
    "\n",
    "for (key, df), ax in zip(df_plot.reset_index().groupby(\"subphase\"), axs):\n",
    "    sns.violinplot(data=df, x=\"phase\", y=dv, hue=\"condition\", hue_order=[\"Control\", \"Intervention\"], split=True, ax=ax)\n",
    "    ax.set_title(\"Relative Heart Rate during {}\".format(key))\n",
    "    ax.set_ylabel(\"$\\Delta HR~[\\%]$\")\n",
    "\n",
    "fig.tight_layout()"
   ]
  },
  {
   "cell_type": "markdown",
   "metadata": {},
   "source": [
    "### Fragestellung III: Zeigt die Intervention einen Effekt auf die Stimmungsverschlechterung?"
   ]
  },
  {
   "cell_type": "markdown",
   "metadata": {},
   "source": [
    "#### Untersuchung\n",
    "\n",
    "Es wird untersucht, ob die Intervention signifikante Unterschiede zwischen den beiden Gruppen hinsichtlich der stressinduzierten Verschlechterung der Stimmung erzeugt."
   ]
  },
  {
   "cell_type": "markdown",
   "metadata": {},
   "source": [
    "#### Statistik"
   ]
  },
  {
   "cell_type": "markdown",
   "metadata": {},
   "source": [
    "##### Analyse\n",
    "* Vorbereitende Analyse:\n",
    "    * Test auf Normalverteilung (Shapiro-Wilk-Test)\n",
    "    * Test auf Varianzgleichheit (Levene-Test)\n",
    "* *Test*: Mixed ANOVA\n",
    "* *AV*: MDBF-Subskalen\n",
    "* *Innersubjektfaktor*: Zeit\n",
    "* *Zwischensubjektfaktor*: Gruppe\n",
    "* *Maß für Effektstärke*: $\\eta_p^2$"
   ]
  },
  {
   "cell_type": "code",
   "execution_count": 28,
   "metadata": {},
   "outputs": [
    {
     "data": {
      "text/html": [
       "<div>\n",
       "<style scoped>\n",
       "    .dataframe tbody tr th:only-of-type {\n",
       "        vertical-align: middle;\n",
       "    }\n",
       "\n",
       "    .dataframe tbody tr th {\n",
       "        vertical-align: top;\n",
       "    }\n",
       "\n",
       "    .dataframe thead th {\n",
       "        text-align: right;\n",
       "    }\n",
       "</style>\n",
       "<table border=\"1\" class=\"dataframe\">\n",
       "  <thead>\n",
       "    <tr style=\"text-align: right;\">\n",
       "      <th></th>\n",
       "      <th></th>\n",
       "      <th></th>\n",
       "      <th></th>\n",
       "      <th>MDBF</th>\n",
       "    </tr>\n",
       "    <tr>\n",
       "      <th>condition</th>\n",
       "      <th>subject</th>\n",
       "      <th>time</th>\n",
       "      <th>type</th>\n",
       "      <th></th>\n",
       "    </tr>\n",
       "  </thead>\n",
       "  <tbody>\n",
       "    <tr>\n",
       "      <th rowspan=\"5\" valign=\"top\">Intervention</th>\n",
       "      <th rowspan=\"5\" valign=\"top\">1</th>\n",
       "      <th rowspan=\"3\" valign=\"top\">pre</th>\n",
       "      <th>awake_tired</th>\n",
       "      <td>29</td>\n",
       "    </tr>\n",
       "    <tr>\n",
       "      <th>calm_nervous</th>\n",
       "      <td>32</td>\n",
       "    </tr>\n",
       "    <tr>\n",
       "      <th>good_bad</th>\n",
       "      <td>34</td>\n",
       "    </tr>\n",
       "    <tr>\n",
       "      <th rowspan=\"2\" valign=\"top\">post</th>\n",
       "      <th>awake_tired</th>\n",
       "      <td>30</td>\n",
       "    </tr>\n",
       "    <tr>\n",
       "      <th>calm_nervous</th>\n",
       "      <td>28</td>\n",
       "    </tr>\n",
       "  </tbody>\n",
       "</table>\n",
       "</div>"
      ],
      "text/plain": [
       "                                        MDBF\n",
       "condition    subject time type              \n",
       "Intervention 1       pre  awake_tired     29\n",
       "                          calm_nervous    32\n",
       "                          good_bad        34\n",
       "                     post awake_tired     30\n",
       "                          calm_nervous    28"
      ]
     },
     "execution_count": 28,
     "metadata": {},
     "output_type": "execute_result"
    }
   ],
   "source": [
    "df_mood.head()"
   ]
  },
  {
   "cell_type": "code",
   "execution_count": 29,
   "metadata": {},
   "outputs": [
    {
     "data": {
      "text/markdown": [
       "Alle normalverteilt: **True**"
      ],
      "text/plain": [
       "<IPython.core.display.Markdown object>"
      ]
     },
     "metadata": {},
     "output_type": "display_data"
    },
    {
     "data": {
      "text/markdown": [
       "Alle Varianzen (in etwa) gleich: **True**"
      ],
      "text/plain": [
       "<IPython.core.display.Markdown object>"
      ]
     },
     "metadata": {},
     "output_type": "display_data"
    },
    {
     "data": {
      "text/markdown": [
       "**Mixed ANOVA**"
      ],
      "text/plain": [
       "<IPython.core.display.Markdown object>"
      ]
     },
     "metadata": {},
     "output_type": "display_data"
    },
    {
     "data": {
      "text/html": [
       "<div>\n",
       "<style scoped>\n",
       "    .dataframe tbody tr th:only-of-type {\n",
       "        vertical-align: middle;\n",
       "    }\n",
       "\n",
       "    .dataframe tbody tr th {\n",
       "        vertical-align: top;\n",
       "    }\n",
       "\n",
       "    .dataframe thead th {\n",
       "        text-align: right;\n",
       "    }\n",
       "</style>\n",
       "<table border=\"1\" class=\"dataframe\">\n",
       "  <thead>\n",
       "    <tr style=\"text-align: right;\">\n",
       "      <th></th>\n",
       "      <th></th>\n",
       "      <th>Source</th>\n",
       "      <th>SS</th>\n",
       "      <th>DF1</th>\n",
       "      <th>DF2</th>\n",
       "      <th>MS</th>\n",
       "      <th>F</th>\n",
       "      <th>p-unc</th>\n",
       "      <th>np2</th>\n",
       "      <th>eps</th>\n",
       "    </tr>\n",
       "    <tr>\n",
       "      <th>type</th>\n",
       "      <th></th>\n",
       "      <th></th>\n",
       "      <th></th>\n",
       "      <th></th>\n",
       "      <th></th>\n",
       "      <th></th>\n",
       "      <th></th>\n",
       "      <th></th>\n",
       "      <th></th>\n",
       "      <th></th>\n",
       "    </tr>\n",
       "  </thead>\n",
       "  <tbody>\n",
       "    <tr>\n",
       "      <th rowspan=\"3\" valign=\"top\">awake_tired</th>\n",
       "      <th>0</th>\n",
       "      <td>condition</td>\n",
       "      <td>66.942</td>\n",
       "      <td>1</td>\n",
       "      <td>24</td>\n",
       "      <td>66.942</td>\n",
       "      <td>1.480</td>\n",
       "      <td>0.236</td>\n",
       "      <td>0.058</td>\n",
       "      <td>NaN</td>\n",
       "    </tr>\n",
       "    <tr>\n",
       "      <th>1</th>\n",
       "      <td>time</td>\n",
       "      <td>126.173</td>\n",
       "      <td>1</td>\n",
       "      <td>24</td>\n",
       "      <td>126.173</td>\n",
       "      <td>9.461</td>\n",
       "      <td>0.005</td>\n",
       "      <td>0.283</td>\n",
       "      <td>1.0</td>\n",
       "    </tr>\n",
       "    <tr>\n",
       "      <th>2</th>\n",
       "      <td>Interaction</td>\n",
       "      <td>3.250</td>\n",
       "      <td>1</td>\n",
       "      <td>24</td>\n",
       "      <td>3.250</td>\n",
       "      <td>0.244</td>\n",
       "      <td>0.626</td>\n",
       "      <td>0.010</td>\n",
       "      <td>NaN</td>\n",
       "    </tr>\n",
       "    <tr>\n",
       "      <th rowspan=\"3\" valign=\"top\">calm_nervous</th>\n",
       "      <th>0</th>\n",
       "      <td>condition</td>\n",
       "      <td>58.173</td>\n",
       "      <td>1</td>\n",
       "      <td>24</td>\n",
       "      <td>58.173</td>\n",
       "      <td>1.183</td>\n",
       "      <td>0.288</td>\n",
       "      <td>0.047</td>\n",
       "      <td>NaN</td>\n",
       "    </tr>\n",
       "    <tr>\n",
       "      <th>1</th>\n",
       "      <td>time</td>\n",
       "      <td>1310.019</td>\n",
       "      <td>1</td>\n",
       "      <td>24</td>\n",
       "      <td>1310.019</td>\n",
       "      <td>50.472</td>\n",
       "      <td>0.000</td>\n",
       "      <td>0.678</td>\n",
       "      <td>1.0</td>\n",
       "    </tr>\n",
       "    <tr>\n",
       "      <th>2</th>\n",
       "      <td>Interaction</td>\n",
       "      <td>23.558</td>\n",
       "      <td>1</td>\n",
       "      <td>24</td>\n",
       "      <td>23.558</td>\n",
       "      <td>0.908</td>\n",
       "      <td>0.350</td>\n",
       "      <td>0.036</td>\n",
       "      <td>NaN</td>\n",
       "    </tr>\n",
       "    <tr>\n",
       "      <th rowspan=\"3\" valign=\"top\">good_bad</th>\n",
       "      <th>0</th>\n",
       "      <td>condition</td>\n",
       "      <td>33.923</td>\n",
       "      <td>1</td>\n",
       "      <td>24</td>\n",
       "      <td>33.923</td>\n",
       "      <td>0.722</td>\n",
       "      <td>0.404</td>\n",
       "      <td>0.029</td>\n",
       "      <td>NaN</td>\n",
       "    </tr>\n",
       "    <tr>\n",
       "      <th>1</th>\n",
       "      <td>time</td>\n",
       "      <td>2043.769</td>\n",
       "      <td>1</td>\n",
       "      <td>24</td>\n",
       "      <td>2043.769</td>\n",
       "      <td>64.455</td>\n",
       "      <td>0.000</td>\n",
       "      <td>0.729</td>\n",
       "      <td>1.0</td>\n",
       "    </tr>\n",
       "    <tr>\n",
       "      <th>2</th>\n",
       "      <td>Interaction</td>\n",
       "      <td>1.231</td>\n",
       "      <td>1</td>\n",
       "      <td>24</td>\n",
       "      <td>1.231</td>\n",
       "      <td>0.039</td>\n",
       "      <td>0.845</td>\n",
       "      <td>0.002</td>\n",
       "      <td>NaN</td>\n",
       "    </tr>\n",
       "  </tbody>\n",
       "</table>\n",
       "</div>"
      ],
      "text/plain": [
       "                     Source        SS  DF1  DF2        MS       F  p-unc  \\\n",
       "type                                                                       \n",
       "awake_tired  0    condition    66.942    1   24    66.942   1.480  0.236   \n",
       "             1         time   126.173    1   24   126.173   9.461  0.005   \n",
       "             2  Interaction     3.250    1   24     3.250   0.244  0.626   \n",
       "calm_nervous 0    condition    58.173    1   24    58.173   1.183  0.288   \n",
       "             1         time  1310.019    1   24  1310.019  50.472  0.000   \n",
       "             2  Interaction    23.558    1   24    23.558   0.908  0.350   \n",
       "good_bad     0    condition    33.923    1   24    33.923   0.722  0.404   \n",
       "             1         time  2043.769    1   24  2043.769  64.455  0.000   \n",
       "             2  Interaction     1.231    1   24     1.231   0.039  0.845   \n",
       "\n",
       "                  np2  eps  \n",
       "type                        \n",
       "awake_tired  0  0.058  NaN  \n",
       "             1  0.283  1.0  \n",
       "             2  0.010  NaN  \n",
       "calm_nervous 0  0.047  NaN  \n",
       "             1  0.678  1.0  \n",
       "             2  0.036  NaN  \n",
       "good_bad     0  0.029  NaN  \n",
       "             1  0.729  1.0  \n",
       "             2  0.002  NaN  "
      ]
     },
     "metadata": {},
     "output_type": "display_data"
    }
   ],
   "source": [
    "dv = \"MDBF\"\n",
    "# Selektieren der zu untersuchenden Daten\n",
    "df_analysis = df_mood\n",
    "\n",
    "\n",
    "# Test auf Normalverteilung\n",
    "df_norm = df_analysis.reset_index().groupby(by=[\"type\", \"time\"]).apply(lambda df: pg.normality(data=df, dv=dv, group=\"condition\"))\n",
    "# Test auf Homoskedastizität\n",
    "df_homo = df_analysis.reset_index().groupby(by=[\"type\", \"time\"]).apply(lambda df: pg.homoscedasticity(data=df, dv=dv, group=\"condition\"))\n",
    "\n",
    "# Mixed ANOVA pro MDBF-Subskala\n",
    "anova_mixed = df_analysis.reset_index().groupby(by=[\"type\"]).apply(lambda df: pg.mixed_anova(data=df, dv=dv, within=\"time\", between=\"condition\", subject=\"subject\"))\n",
    "\n",
    "# Ausgabe\n",
    "display(Markdown(\"Alle normalverteilt: **{}**\".format(df_norm['normal'].all())))\n",
    "display(Markdown(\"Alle Varianzen (in etwa) gleich: **{}**\".format(df_hom['equal_var'].all())))\n",
    "\n",
    "display(Markdown(\"**Mixed ANOVA**\"))\n",
    "display(anova_mixed.round(3))"
   ]
  },
  {
   "cell_type": "markdown",
   "metadata": {},
   "source": [
    "##### Interpretation\n",
    "\n",
    "\"Subjects in the Intervention group experienced slightly decreased mood worsening compared to the Control group, especially in the *Awake-Tired* dimension (Control: $12.45\\% ± 13.28\\%$; Intervention: $7.84\\% ± 20.38\\%$). However, ANOVA revealed no significant interaction effects (*condition* by *time*) and no significant main effects for *conditon*.\""
   ]
  },
  {
   "cell_type": "markdown",
   "metadata": {},
   "source": [
    "### Fragestellung IV: Zeigt die Intervention einen Effekt auf die endokrine Stressreaktion?"
   ]
  },
  {
   "cell_type": "markdown",
   "metadata": {},
   "source": [
    "#### Untersuchung – I\n",
    "\n",
    "Es wird untersucht, ob die Intervention signifikante Unterschiede zwischen den beiden Gruppen hinsichtlich der endokrinen Stressreaktion erzeugt."
   ]
  },
  {
   "cell_type": "markdown",
   "metadata": {},
   "source": [
    "#### Statistik"
   ]
  },
  {
   "cell_type": "markdown",
   "metadata": {},
   "source": [
    "##### Analyse\n",
    "* Vorbereitende Analyse:\n",
    "    * Test auf Normalverteilung (Shapiro-Wilk-Test)\n",
    "* *Test*: Unabhängiger t-test (beidseitig)\n",
    "* *AVs*: \n",
    "    * $\\text{max_inc}$ (maximaler Cortisolanstieg in Prozent)\n",
    "    * $AUC_g$\n",
    "    * $AUC_i$\n",
    "    * $a_{S1S4}$\n",
    "* *Maß für Effektstärke*: Hedge's g\n",
    "\n",
    "=> Analog für andere Cortisol-Parameter ($\\text{AUC}_g$, $\\text{AUC}_i$, slope $a_{s1s4}$, ...)"
   ]
  },
  {
   "cell_type": "code",
   "execution_count": 30,
   "metadata": {},
   "outputs": [
    {
     "data": {
      "text/html": [
       "<div>\n",
       "<style scoped>\n",
       "    .dataframe tbody tr th:only-of-type {\n",
       "        vertical-align: middle;\n",
       "    }\n",
       "\n",
       "    .dataframe tbody tr th {\n",
       "        vertical-align: top;\n",
       "    }\n",
       "\n",
       "    .dataframe thead th {\n",
       "        text-align: right;\n",
       "    }\n",
       "</style>\n",
       "<table border=\"1\" class=\"dataframe\">\n",
       "  <thead>\n",
       "    <tr style=\"text-align: right;\">\n",
       "      <th></th>\n",
       "      <th></th>\n",
       "      <th></th>\n",
       "      <th>cortisol</th>\n",
       "    </tr>\n",
       "    <tr>\n",
       "      <th>condition</th>\n",
       "      <th>subject</th>\n",
       "      <th>saliva_feature</th>\n",
       "      <th></th>\n",
       "    </tr>\n",
       "  </thead>\n",
       "  <tbody>\n",
       "    <tr>\n",
       "      <th rowspan=\"5\" valign=\"top\">Control</th>\n",
       "      <th rowspan=\"4\" valign=\"top\">3</th>\n",
       "      <th>auc_g</th>\n",
       "      <td>1110.809250</td>\n",
       "    </tr>\n",
       "    <tr>\n",
       "      <th>auc_i</th>\n",
       "      <td>587.154750</td>\n",
       "    </tr>\n",
       "    <tr>\n",
       "      <th>max_inc_percent</th>\n",
       "      <td>163.591738</td>\n",
       "    </tr>\n",
       "    <tr>\n",
       "      <th>slope14</th>\n",
       "      <td>0.014250</td>\n",
       "    </tr>\n",
       "    <tr>\n",
       "      <th>6</th>\n",
       "      <th>auc_g</th>\n",
       "      <td>884.624825</td>\n",
       "    </tr>\n",
       "    <tr>\n",
       "      <th>...</th>\n",
       "      <th>...</th>\n",
       "      <th>...</th>\n",
       "      <td>...</td>\n",
       "    </tr>\n",
       "    <tr>\n",
       "      <th rowspan=\"5\" valign=\"top\">Intervention</th>\n",
       "      <th>27</th>\n",
       "      <th>slope14</th>\n",
       "      <td>0.074584</td>\n",
       "    </tr>\n",
       "    <tr>\n",
       "      <th rowspan=\"4\" valign=\"top\">28</th>\n",
       "      <th>auc_g</th>\n",
       "      <td>491.018225</td>\n",
       "    </tr>\n",
       "    <tr>\n",
       "      <th>auc_i</th>\n",
       "      <td>-73.250175</td>\n",
       "    </tr>\n",
       "    <tr>\n",
       "      <th>max_inc_percent</th>\n",
       "      <td>-0.645500</td>\n",
       "    </tr>\n",
       "    <tr>\n",
       "      <th>slope14</th>\n",
       "      <td>0.008629</td>\n",
       "    </tr>\n",
       "  </tbody>\n",
       "</table>\n",
       "<p>104 rows × 1 columns</p>\n",
       "</div>"
      ],
      "text/plain": [
       "                                         cortisol\n",
       "condition    subject saliva_feature              \n",
       "Control      3       auc_g            1110.809250\n",
       "                     auc_i             587.154750\n",
       "                     max_inc_percent   163.591738\n",
       "                     slope14             0.014250\n",
       "             6       auc_g             884.624825\n",
       "...                                           ...\n",
       "Intervention 27      slope14             0.074584\n",
       "             28      auc_g             491.018225\n",
       "                     auc_i             -73.250175\n",
       "                     max_inc_percent    -0.645500\n",
       "                     slope14             0.008629\n",
       "\n",
       "[104 rows x 1 columns]"
      ]
     },
     "execution_count": 30,
     "metadata": {},
     "output_type": "execute_result"
    }
   ],
   "source": [
    "df_cort"
   ]
  },
  {
   "cell_type": "code",
   "execution_count": 31,
   "metadata": {},
   "outputs": [
    {
     "data": {
      "text/html": [
       "<div>\n",
       "<style scoped>\n",
       "    .dataframe tbody tr th:only-of-type {\n",
       "        vertical-align: middle;\n",
       "    }\n",
       "\n",
       "    .dataframe tbody tr th {\n",
       "        vertical-align: top;\n",
       "    }\n",
       "\n",
       "    .dataframe thead th {\n",
       "        text-align: right;\n",
       "    }\n",
       "</style>\n",
       "<table border=\"1\" class=\"dataframe\">\n",
       "  <thead>\n",
       "    <tr style=\"text-align: right;\">\n",
       "      <th></th>\n",
       "      <th></th>\n",
       "      <th></th>\n",
       "      <th></th>\n",
       "      <th>MDBF</th>\n",
       "    </tr>\n",
       "    <tr>\n",
       "      <th>condition</th>\n",
       "      <th>subject</th>\n",
       "      <th>time</th>\n",
       "      <th>type</th>\n",
       "      <th></th>\n",
       "    </tr>\n",
       "  </thead>\n",
       "  <tbody>\n",
       "    <tr>\n",
       "      <th rowspan=\"5\" valign=\"top\">Intervention</th>\n",
       "      <th rowspan=\"5\" valign=\"top\">1</th>\n",
       "      <th rowspan=\"3\" valign=\"top\">pre</th>\n",
       "      <th>awake_tired</th>\n",
       "      <td>29</td>\n",
       "    </tr>\n",
       "    <tr>\n",
       "      <th>calm_nervous</th>\n",
       "      <td>32</td>\n",
       "    </tr>\n",
       "    <tr>\n",
       "      <th>good_bad</th>\n",
       "      <td>34</td>\n",
       "    </tr>\n",
       "    <tr>\n",
       "      <th rowspan=\"2\" valign=\"top\">post</th>\n",
       "      <th>awake_tired</th>\n",
       "      <td>30</td>\n",
       "    </tr>\n",
       "    <tr>\n",
       "      <th>calm_nervous</th>\n",
       "      <td>28</td>\n",
       "    </tr>\n",
       "    <tr>\n",
       "      <th>...</th>\n",
       "      <th>...</th>\n",
       "      <th>...</th>\n",
       "      <th>...</th>\n",
       "      <td>...</td>\n",
       "    </tr>\n",
       "    <tr>\n",
       "      <th rowspan=\"5\" valign=\"top\">Control</th>\n",
       "      <th rowspan=\"5\" valign=\"top\">33</th>\n",
       "      <th rowspan=\"2\" valign=\"top\">pre</th>\n",
       "      <th>calm_nervous</th>\n",
       "      <td>28</td>\n",
       "    </tr>\n",
       "    <tr>\n",
       "      <th>good_bad</th>\n",
       "      <td>34</td>\n",
       "    </tr>\n",
       "    <tr>\n",
       "      <th rowspan=\"3\" valign=\"top\">post</th>\n",
       "      <th>awake_tired</th>\n",
       "      <td>30</td>\n",
       "    </tr>\n",
       "    <tr>\n",
       "      <th>calm_nervous</th>\n",
       "      <td>18</td>\n",
       "    </tr>\n",
       "    <tr>\n",
       "      <th>good_bad</th>\n",
       "      <td>24</td>\n",
       "    </tr>\n",
       "  </tbody>\n",
       "</table>\n",
       "<p>156 rows × 1 columns</p>\n",
       "</div>"
      ],
      "text/plain": [
       "                                        MDBF\n",
       "condition    subject time type              \n",
       "Intervention 1       pre  awake_tired     29\n",
       "                          calm_nervous    32\n",
       "                          good_bad        34\n",
       "                     post awake_tired     30\n",
       "                          calm_nervous    28\n",
       "...                                      ...\n",
       "Control      33      pre  calm_nervous    28\n",
       "                          good_bad        34\n",
       "                     post awake_tired     30\n",
       "                          calm_nervous    18\n",
       "                          good_bad        24\n",
       "\n",
       "[156 rows x 1 columns]"
      ]
     },
     "execution_count": 31,
     "metadata": {},
     "output_type": "execute_result"
    }
   ],
   "source": [
    "df_analysis"
   ]
  },
  {
   "cell_type": "code",
   "execution_count": 32,
   "metadata": {},
   "outputs": [
    {
     "data": {
      "text/html": [
       "<div>\n",
       "<style scoped>\n",
       "    .dataframe tbody tr th:only-of-type {\n",
       "        vertical-align: middle;\n",
       "    }\n",
       "\n",
       "    .dataframe tbody tr th {\n",
       "        vertical-align: top;\n",
       "    }\n",
       "\n",
       "    .dataframe thead th {\n",
       "        text-align: right;\n",
       "    }\n",
       "</style>\n",
       "<table border=\"1\" class=\"dataframe\">\n",
       "  <thead>\n",
       "    <tr style=\"text-align: right;\">\n",
       "      <th></th>\n",
       "      <th></th>\n",
       "      <th>W</th>\n",
       "      <th>pval</th>\n",
       "      <th>normal</th>\n",
       "    </tr>\n",
       "    <tr>\n",
       "      <th>saliva_feature</th>\n",
       "      <th>condition</th>\n",
       "      <th></th>\n",
       "      <th></th>\n",
       "      <th></th>\n",
       "    </tr>\n",
       "  </thead>\n",
       "  <tbody>\n",
       "    <tr>\n",
       "      <th rowspan=\"2\" valign=\"top\">auc_g</th>\n",
       "      <th>Control</th>\n",
       "      <td>0.907978</td>\n",
       "      <td>0.172058</td>\n",
       "      <td>True</td>\n",
       "    </tr>\n",
       "    <tr>\n",
       "      <th>Intervention</th>\n",
       "      <td>0.924859</td>\n",
       "      <td>0.291481</td>\n",
       "      <td>True</td>\n",
       "    </tr>\n",
       "    <tr>\n",
       "      <th rowspan=\"2\" valign=\"top\">auc_i</th>\n",
       "      <th>Control</th>\n",
       "      <td>0.934122</td>\n",
       "      <td>0.385404</td>\n",
       "      <td>True</td>\n",
       "    </tr>\n",
       "    <tr>\n",
       "      <th>Intervention</th>\n",
       "      <td>0.930669</td>\n",
       "      <td>0.347747</td>\n",
       "      <td>True</td>\n",
       "    </tr>\n",
       "    <tr>\n",
       "      <th rowspan=\"2\" valign=\"top\">max_inc_percent</th>\n",
       "      <th>Control</th>\n",
       "      <td>0.885961</td>\n",
       "      <td>0.085924</td>\n",
       "      <td>True</td>\n",
       "    </tr>\n",
       "    <tr>\n",
       "      <th>Intervention</th>\n",
       "      <td>0.637620</td>\n",
       "      <td>0.000141</td>\n",
       "      <td>False</td>\n",
       "    </tr>\n",
       "    <tr>\n",
       "      <th rowspan=\"2\" valign=\"top\">slope14</th>\n",
       "      <th>Control</th>\n",
       "      <td>0.857235</td>\n",
       "      <td>0.035428</td>\n",
       "      <td>False</td>\n",
       "    </tr>\n",
       "    <tr>\n",
       "      <th>Intervention</th>\n",
       "      <td>0.965331</td>\n",
       "      <td>0.833045</td>\n",
       "      <td>True</td>\n",
       "    </tr>\n",
       "  </tbody>\n",
       "</table>\n",
       "</div>"
      ],
      "text/plain": [
       "                                     W      pval  normal\n",
       "saliva_feature  condition                               \n",
       "auc_g           Control       0.907978  0.172058    True\n",
       "                Intervention  0.924859  0.291481    True\n",
       "auc_i           Control       0.934122  0.385404    True\n",
       "                Intervention  0.930669  0.347747    True\n",
       "max_inc_percent Control       0.885961  0.085924    True\n",
       "                Intervention  0.637620  0.000141   False\n",
       "slope14         Control       0.857235  0.035428   False\n",
       "                Intervention  0.965331  0.833045    True"
      ]
     },
     "metadata": {},
     "output_type": "display_data"
    },
    {
     "data": {
      "text/html": [
       "<div>\n",
       "<style scoped>\n",
       "    .dataframe tbody tr th:only-of-type {\n",
       "        vertical-align: middle;\n",
       "    }\n",
       "\n",
       "    .dataframe tbody tr th {\n",
       "        vertical-align: top;\n",
       "    }\n",
       "\n",
       "    .dataframe thead th {\n",
       "        text-align: right;\n",
       "    }\n",
       "</style>\n",
       "<table border=\"1\" class=\"dataframe\">\n",
       "  <thead>\n",
       "    <tr style=\"text-align: right;\">\n",
       "      <th>saliva_feature</th>\n",
       "      <th>auc_g</th>\n",
       "      <th>auc_i</th>\n",
       "      <th>max_inc_percent</th>\n",
       "      <th>slope14</th>\n",
       "    </tr>\n",
       "  </thead>\n",
       "  <tbody>\n",
       "    <tr>\n",
       "      <th>0</th>\n",
       "      <td>True</td>\n",
       "      <td>True</td>\n",
       "      <td>False</td>\n",
       "      <td>False</td>\n",
       "    </tr>\n",
       "  </tbody>\n",
       "</table>\n",
       "</div>"
      ],
      "text/plain": [
       "saliva_feature  auc_g  auc_i  max_inc_percent  slope14\n",
       "0                True   True            False    False"
      ]
     },
     "metadata": {},
     "output_type": "display_data"
    },
    {
     "name": "stderr",
     "output_type": "stream",
     "text": [
      "/Users/abelluc/Code/ma-luca-abel/Code/empkins-d03-macro-analysis-luca/.venv/lib/python3.9/site-packages/pingouin/pairwise.py:28: UserWarning: pairwise_ttests is deprecated, use pairwise_tests instead.\n",
      "  warnings.warn(\"pairwise_ttests is deprecated, use pairwise_tests instead.\", UserWarning)\n"
     ]
    },
    {
     "data": {
      "text/markdown": [
       "Alle normalverteilt: **False**"
      ],
      "text/plain": [
       "<IPython.core.display.Markdown object>"
      ]
     },
     "metadata": {},
     "output_type": "display_data"
    },
    {
     "data": {
      "text/markdown": [
       "Normalverteilung **nicht** für **alle** Verteilungen gegeben => *Mann-Whitney-U-Test* statt t-test bei den nicht-normalverteilten Variablen"
      ],
      "text/plain": [
       "<IPython.core.display.Markdown object>"
      ]
     },
     "metadata": {},
     "output_type": "display_data"
    },
    {
     "data": {
      "text/markdown": [
       "* *max_inc_percent* => Normal: **False**"
      ],
      "text/plain": [
       "<IPython.core.display.Markdown object>"
      ]
     },
     "metadata": {},
     "output_type": "display_data"
    },
    {
     "data": {
      "text/html": [
       "<div>\n",
       "<style scoped>\n",
       "    .dataframe tbody tr th:only-of-type {\n",
       "        vertical-align: middle;\n",
       "    }\n",
       "\n",
       "    .dataframe tbody tr th {\n",
       "        vertical-align: top;\n",
       "    }\n",
       "\n",
       "    .dataframe thead th {\n",
       "        text-align: right;\n",
       "    }\n",
       "</style>\n",
       "<table border=\"1\" class=\"dataframe\">\n",
       "  <thead>\n",
       "    <tr style=\"text-align: right;\">\n",
       "      <th></th>\n",
       "      <th>U-val</th>\n",
       "      <th>alternative</th>\n",
       "      <th>p-val</th>\n",
       "      <th>RBC</th>\n",
       "      <th>CLES</th>\n",
       "    </tr>\n",
       "  </thead>\n",
       "  <tbody>\n",
       "    <tr>\n",
       "      <th>MWU</th>\n",
       "      <td>141.0</td>\n",
       "      <td>two-sided</td>\n",
       "      <td>0.004081</td>\n",
       "      <td>-0.668639</td>\n",
       "      <td>0.83432</td>\n",
       "    </tr>\n",
       "  </tbody>\n",
       "</table>\n",
       "</div>"
      ],
      "text/plain": [
       "     U-val alternative     p-val       RBC     CLES\n",
       "MWU  141.0   two-sided  0.004081 -0.668639  0.83432"
      ]
     },
     "metadata": {},
     "output_type": "display_data"
    },
    {
     "data": {
      "text/markdown": [
       "* *auc_g* => Normal: **True**"
      ],
      "text/plain": [
       "<IPython.core.display.Markdown object>"
      ]
     },
     "metadata": {},
     "output_type": "display_data"
    },
    {
     "data": {
      "text/html": [
       "<div>\n",
       "<style scoped>\n",
       "    .dataframe tbody tr th:only-of-type {\n",
       "        vertical-align: middle;\n",
       "    }\n",
       "\n",
       "    .dataframe tbody tr th {\n",
       "        vertical-align: top;\n",
       "    }\n",
       "\n",
       "    .dataframe thead th {\n",
       "        text-align: right;\n",
       "    }\n",
       "</style>\n",
       "<table border=\"1\" class=\"dataframe\">\n",
       "  <thead>\n",
       "    <tr style=\"text-align: right;\">\n",
       "      <th></th>\n",
       "      <th>Contrast</th>\n",
       "      <th>A</th>\n",
       "      <th>B</th>\n",
       "      <th>Paired</th>\n",
       "      <th>Parametric</th>\n",
       "      <th>T</th>\n",
       "      <th>dof</th>\n",
       "      <th>alternative</th>\n",
       "      <th>p-unc</th>\n",
       "      <th>BF10</th>\n",
       "      <th>hedges</th>\n",
       "    </tr>\n",
       "  </thead>\n",
       "  <tbody>\n",
       "    <tr>\n",
       "      <th>0</th>\n",
       "      <td>condition</td>\n",
       "      <td>Control</td>\n",
       "      <td>Intervention</td>\n",
       "      <td>False</td>\n",
       "      <td>True</td>\n",
       "      <td>0.514951</td>\n",
       "      <td>24.0</td>\n",
       "      <td>two-sided</td>\n",
       "      <td>0.611298</td>\n",
       "      <td>0.4</td>\n",
       "      <td>0.195602</td>\n",
       "    </tr>\n",
       "  </tbody>\n",
       "</table>\n",
       "</div>"
      ],
      "text/plain": [
       "    Contrast        A             B  Paired  Parametric         T   dof  \\\n",
       "0  condition  Control  Intervention   False        True  0.514951  24.0   \n",
       "\n",
       "  alternative     p-unc BF10    hedges  \n",
       "0   two-sided  0.611298  0.4  0.195602  "
      ]
     },
     "metadata": {},
     "output_type": "display_data"
    },
    {
     "data": {
      "text/markdown": [
       "* *auc_i* => Normal: **True**"
      ],
      "text/plain": [
       "<IPython.core.display.Markdown object>"
      ]
     },
     "metadata": {},
     "output_type": "display_data"
    },
    {
     "data": {
      "text/html": [
       "<div>\n",
       "<style scoped>\n",
       "    .dataframe tbody tr th:only-of-type {\n",
       "        vertical-align: middle;\n",
       "    }\n",
       "\n",
       "    .dataframe tbody tr th {\n",
       "        vertical-align: top;\n",
       "    }\n",
       "\n",
       "    .dataframe thead th {\n",
       "        text-align: right;\n",
       "    }\n",
       "</style>\n",
       "<table border=\"1\" class=\"dataframe\">\n",
       "  <thead>\n",
       "    <tr style=\"text-align: right;\">\n",
       "      <th></th>\n",
       "      <th>Contrast</th>\n",
       "      <th>A</th>\n",
       "      <th>B</th>\n",
       "      <th>Paired</th>\n",
       "      <th>Parametric</th>\n",
       "      <th>T</th>\n",
       "      <th>dof</th>\n",
       "      <th>alternative</th>\n",
       "      <th>p-unc</th>\n",
       "      <th>BF10</th>\n",
       "      <th>hedges</th>\n",
       "    </tr>\n",
       "  </thead>\n",
       "  <tbody>\n",
       "    <tr>\n",
       "      <th>0</th>\n",
       "      <td>condition</td>\n",
       "      <td>Control</td>\n",
       "      <td>Intervention</td>\n",
       "      <td>False</td>\n",
       "      <td>True</td>\n",
       "      <td>2.410028</td>\n",
       "      <td>24.0</td>\n",
       "      <td>two-sided</td>\n",
       "      <td>0.023977</td>\n",
       "      <td>2.718</td>\n",
       "      <td>0.915439</td>\n",
       "    </tr>\n",
       "  </tbody>\n",
       "</table>\n",
       "</div>"
      ],
      "text/plain": [
       "    Contrast        A             B  Paired  Parametric         T   dof  \\\n",
       "0  condition  Control  Intervention   False        True  2.410028  24.0   \n",
       "\n",
       "  alternative     p-unc   BF10    hedges  \n",
       "0   two-sided  0.023977  2.718  0.915439  "
      ]
     },
     "metadata": {},
     "output_type": "display_data"
    },
    {
     "data": {
      "text/markdown": [
       "* *slope14* => Normal: **False**"
      ],
      "text/plain": [
       "<IPython.core.display.Markdown object>"
      ]
     },
     "metadata": {},
     "output_type": "display_data"
    },
    {
     "data": {
      "text/html": [
       "<div>\n",
       "<style scoped>\n",
       "    .dataframe tbody tr th:only-of-type {\n",
       "        vertical-align: middle;\n",
       "    }\n",
       "\n",
       "    .dataframe tbody tr th {\n",
       "        vertical-align: top;\n",
       "    }\n",
       "\n",
       "    .dataframe thead th {\n",
       "        text-align: right;\n",
       "    }\n",
       "</style>\n",
       "<table border=\"1\" class=\"dataframe\">\n",
       "  <thead>\n",
       "    <tr style=\"text-align: right;\">\n",
       "      <th></th>\n",
       "      <th>U-val</th>\n",
       "      <th>alternative</th>\n",
       "      <th>p-val</th>\n",
       "      <th>RBC</th>\n",
       "      <th>CLES</th>\n",
       "    </tr>\n",
       "  </thead>\n",
       "  <tbody>\n",
       "    <tr>\n",
       "      <th>MWU</th>\n",
       "      <td>126.0</td>\n",
       "      <td>two-sided</td>\n",
       "      <td>0.035504</td>\n",
       "      <td>-0.491124</td>\n",
       "      <td>0.745562</td>\n",
       "    </tr>\n",
       "  </tbody>\n",
       "</table>\n",
       "</div>"
      ],
      "text/plain": [
       "     U-val alternative     p-val       RBC      CLES\n",
       "MWU  126.0   two-sided  0.035504 -0.491124  0.745562"
      ]
     },
     "metadata": {},
     "output_type": "display_data"
    }
   ],
   "source": [
    "dv = \"cortisol\"\n",
    "biomarker = [\"max_inc_percent\", \"auc_g\", \"auc_i\", \"slope14\"]\n",
    "df_analysis = df_cort.loc[pd.IndexSlice[:, :, biomarker]]\n",
    "\n",
    "# Test auf Normalverteilung\n",
    "df_norm = df_analysis.reset_index().groupby(\"saliva_feature\").apply(lambda df: pg.normality(data=df, dv=dv, group=\"condition\"))\n",
    "df_norm_grp = pd.DataFrame(df_norm.reset_index().groupby(\"saliva_feature\").apply(lambda df: df['normal'].all())).T\n",
    "\n",
    "display(df_norm)\n",
    "display(df_norm_grp)\n",
    "\n",
    "# t-tests pro Biomarker\n",
    "ttest_group = df_analysis.reset_index().groupby(\"saliva_feature\").apply(lambda df: pg.pairwise_ttests(data=df, dv=dv, between=\"condition\", subject=\"subject\", effsize=\"hedges\"))\n",
    "# Mann-Whitney-U-Tests pro Biomarker\n",
    "mwu_group = df_analysis[dv].groupby(by=\"saliva_feature\").apply(lambda df: pg.mwu(x=df.xs(\"Control\", level=\"condition\"), y=df.xs(\"Intervention\", level=\"condition\")))\n",
    "\n",
    "# Ausgaben\n",
    "display(Markdown(\"Alle normalverteilt: **{}**\".format(df_norm['normal'].all())))\n",
    "display(Markdown(\"Normalverteilung **nicht** für **alle** Verteilungen gegeben => *Mann-Whitney-U-Test* statt t-test bei den nicht-normalverteilten Variablen\"))\n",
    "\n",
    "for bm in biomarker:\n",
    "    is_normal = df_norm_grp[bm].all()\n",
    "    display(Markdown(\"* *{}* => Normal: **{}**\".format(bm, is_normal)))\n",
    "    if is_normal:\n",
    "        display(ttest_group.loc[bm])\n",
    "    else:\n",
    "        display(mwu_group.loc[bm])\n",
    "\n",
    "#display(Markdown(\"**Mann-Whitney-U-Tests**\"))\n",
    "#display(mwu_group.round(3))\n",
    "#display(Markdown(\"**t-tests**\"))\n",
    "#display(ttest_group.round(3))"
   ]
  },
  {
   "cell_type": "markdown",
   "metadata": {},
   "source": [
    "##### Interpretation\n",
    "\n",
    "\"Subjects in the Intervention group had significantly lower maximum cortisol responses compared to the Control group ($t(24) = 2.505, p = 0.019, d = 0.952$).\""
   ]
  },
  {
   "cell_type": "markdown",
   "metadata": {},
   "source": [
    "#### Plots"
   ]
  },
  {
   "cell_type": "code",
   "execution_count": 33,
   "metadata": {},
   "outputs": [
    {
     "name": "stdout",
     "output_type": "stream",
     "text": [
      "p-value annotation legend:\n",
      "*: 1.00e-02 < p <= 5.00e-02\n",
      "**: 1.00e-03 < p <= 1.00e-02\n",
      "***: p <= 1.00e-03\n",
      "\n",
      "Control v.s. Intervention: t-test independent samples with Bonferroni correction, P_val=9.033e-03 stat=2.841e+00\n",
      "p-value annotation legend:\n",
      "*: 1.00e-02 < p <= 5.00e-02\n",
      "**: 1.00e-03 < p <= 1.00e-02\n",
      "***: p <= 1.00e-03\n",
      "\n",
      "Control v.s. Intervention: Mann-Whitney-Wilcoxon test two-sided with Bonferroni correction, P_val=3.550e-02 U_stat=1.260e+02\n"
     ]
    },
    {
     "data": {
      "application/vnd.jupyter.widget-view+json": {
       "model_id": "cd6190c7f2b348019ce18e499de78565",
       "version_major": 2,
       "version_minor": 0
      },
      "image/png": "[encoded data removed]",
      "text/html": [
       "\n",
       "            <div style=\"display: inline-block;\">\n",
       "                <div class=\"jupyter-widgets widget-label\" style=\"text-align: center;\">\n",
       "                    Figure\n",
       "                </div>\n",
       "                <img src='data:image/png;base64,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' width=1200.0/>\n",
       "            </div>\n",
       "        "
      ],
      "text/plain": [
       "Canvas(toolbar=Toolbar(toolitems=[('Home', 'Reset original view', 'home', 'home'), ('Back', 'Back to previous …"
      ]
     },
     "metadata": {},
     "output_type": "display_data"
    }
   ],
   "source": [
    "fig, axs = plt.subplots(ncols=len(biomarker), figsize=(12,5))\n",
    "xlabel_map = {\n",
    "    'auc_g': r\"$AUC_G$\",\n",
    "    'auc_i': r\"$AUC_I$\",\n",
    "    'max_inc_percent': r\"$Inc_{max}$\",\n",
    "    'slope14': r\"$a_{S1S4}$\",\n",
    "}\n",
    "ylabel_map = {\n",
    "    'auc_g': r\"Cortisol AUC $\\left[\\frac{nmol \\cdot min}{l}\\right]$\",\n",
    "    'auc_i': r\"Cortisol AUC $\\left[\\frac{nmol \\cdot min}{l}\\right]$\",\n",
    "    'max_inc_percent': r\"Cortisol Change $[\\%]$\",\n",
    "    'slope14': r\"Cortisol Change $\\left[\\frac{nmol}{l \\cdot min}\\right]$\",\n",
    "}\n",
    "\n",
    "for (key, df), ax in zip(df_analysis.reset_index().groupby(\"saliva_feature\"), axs):\n",
    "    sns.boxplot(data=df, x=\"condition\", y=\"cortisol\", ax=ax)\n",
    "    ax.set_xlabel(xlabel_map[key])\n",
    "    ax.set_ylabel(ylabel_map[key])\n",
    "    \n",
    "\n",
    "# stat annotation for significant features\n",
    "for bm, i, test in zip([\"max_inc_percent\", \"slope14\"], [2, 3], [\"t-test_ind\", \"Mann-Whitney\"]):   \n",
    "    add_stat_annotation(\n",
    "        ax=axs[i], data=df_analysis.xs(bm, level=\"saliva_feature\").reset_index(),\n",
    "        x=\"condition\", y=dv, \n",
    "        box_pairs=[(\"Control\", \"Intervention\")],\n",
    "        pvalue_thresholds=pvalue_thres,\n",
    "        test=test,\n",
    "        order=[\"Control\", \"Intervention\"]\n",
    "    )\n",
    "\n",
    "fig.tight_layout()"
   ]
  },
  {
   "cell_type": "markdown",
   "metadata": {},
   "source": [
    "#### Untersuchung – II\n",
    "Es wird untersucht, ob die Intervention den Cortisolverlauf beeinflusst."
   ]
  },
  {
   "cell_type": "markdown",
   "metadata": {},
   "source": [
    "#### Statistik"
   ]
  },
  {
   "cell_type": "markdown",
   "metadata": {},
   "source": [
    "##### Analyse\n",
    "* Vorbereitende Analyse:\n",
    "    * Test auf Normalverteilung (Shapiro-Wilk-Test)\n",
    "    * Test auf Varianzgleichheit (Levene-Test)\n",
    "* *Test*: Mixed ANOVA\n",
    "* *AV*: Cortisol-Rohwerte\n",
    "* *Maß für Effektstärke*: $\\eta_p^2$"
   ]
  },
  {
   "cell_type": "code",
   "execution_count": 34,
   "metadata": {},
   "outputs": [
    {
     "data": {
      "text/markdown": [
       "Alle normalverteilt: **False**"
      ],
      "text/plain": [
       "<IPython.core.display.Markdown object>"
      ]
     },
     "metadata": {},
     "output_type": "display_data"
    },
    {
     "data": {
      "text/html": [
       "<div>\n",
       "<style scoped>\n",
       "    .dataframe tbody tr th:only-of-type {\n",
       "        vertical-align: middle;\n",
       "    }\n",
       "\n",
       "    .dataframe tbody tr th {\n",
       "        vertical-align: top;\n",
       "    }\n",
       "\n",
       "    .dataframe thead th {\n",
       "        text-align: right;\n",
       "    }\n",
       "</style>\n",
       "<table border=\"1\" class=\"dataframe\">\n",
       "  <thead>\n",
       "    <tr style=\"text-align: right;\">\n",
       "      <th></th>\n",
       "      <th></th>\n",
       "      <th>W</th>\n",
       "      <th>pval</th>\n",
       "      <th>normal</th>\n",
       "    </tr>\n",
       "    <tr>\n",
       "      <th>sample</th>\n",
       "      <th>condition</th>\n",
       "      <th></th>\n",
       "      <th></th>\n",
       "      <th></th>\n",
       "    </tr>\n",
       "  </thead>\n",
       "  <tbody>\n",
       "    <tr>\n",
       "      <th rowspan=\"2\" valign=\"top\">1</th>\n",
       "      <th>Intervention</th>\n",
       "      <td>0.929</td>\n",
       "      <td>0.331</td>\n",
       "      <td>True</td>\n",
       "    </tr>\n",
       "    <tr>\n",
       "      <th>Control</th>\n",
       "      <td>0.903</td>\n",
       "      <td>0.148</td>\n",
       "      <td>True</td>\n",
       "    </tr>\n",
       "    <tr>\n",
       "      <th rowspan=\"2\" valign=\"top\">2</th>\n",
       "      <th>Intervention</th>\n",
       "      <td>0.941</td>\n",
       "      <td>0.470</td>\n",
       "      <td>True</td>\n",
       "    </tr>\n",
       "    <tr>\n",
       "      <th>Control</th>\n",
       "      <td>0.880</td>\n",
       "      <td>0.071</td>\n",
       "      <td>True</td>\n",
       "    </tr>\n",
       "    <tr>\n",
       "      <th rowspan=\"2\" valign=\"top\">3</th>\n",
       "      <th>Intervention</th>\n",
       "      <td>0.877</td>\n",
       "      <td>0.065</td>\n",
       "      <td>True</td>\n",
       "    </tr>\n",
       "    <tr>\n",
       "      <th>Control</th>\n",
       "      <td>0.893</td>\n",
       "      <td>0.107</td>\n",
       "      <td>True</td>\n",
       "    </tr>\n",
       "    <tr>\n",
       "      <th rowspan=\"2\" valign=\"top\">4</th>\n",
       "      <th>Intervention</th>\n",
       "      <td>0.829</td>\n",
       "      <td>0.015</td>\n",
       "      <td>False</td>\n",
       "    </tr>\n",
       "    <tr>\n",
       "      <th>Control</th>\n",
       "      <td>0.885</td>\n",
       "      <td>0.084</td>\n",
       "      <td>True</td>\n",
       "    </tr>\n",
       "    <tr>\n",
       "      <th rowspan=\"2\" valign=\"top\">5</th>\n",
       "      <th>Intervention</th>\n",
       "      <td>0.812</td>\n",
       "      <td>0.009</td>\n",
       "      <td>False</td>\n",
       "    </tr>\n",
       "    <tr>\n",
       "      <th>Control</th>\n",
       "      <td>0.849</td>\n",
       "      <td>0.027</td>\n",
       "      <td>False</td>\n",
       "    </tr>\n",
       "    <tr>\n",
       "      <th rowspan=\"2\" valign=\"top\">6</th>\n",
       "      <th>Intervention</th>\n",
       "      <td>0.830</td>\n",
       "      <td>0.016</td>\n",
       "      <td>False</td>\n",
       "    </tr>\n",
       "    <tr>\n",
       "      <th>Control</th>\n",
       "      <td>0.867</td>\n",
       "      <td>0.048</td>\n",
       "      <td>False</td>\n",
       "    </tr>\n",
       "  </tbody>\n",
       "</table>\n",
       "</div>"
      ],
      "text/plain": [
       "                         W   pval  normal\n",
       "sample condition                         \n",
       "1      Intervention  0.929  0.331    True\n",
       "       Control       0.903  0.148    True\n",
       "2      Intervention  0.941  0.470    True\n",
       "       Control       0.880  0.071    True\n",
       "3      Intervention  0.877  0.065    True\n",
       "       Control       0.893  0.107    True\n",
       "4      Intervention  0.829  0.015   False\n",
       "       Control       0.885  0.084    True\n",
       "5      Intervention  0.812  0.009   False\n",
       "       Control       0.849  0.027   False\n",
       "6      Intervention  0.830  0.016   False\n",
       "       Control       0.867  0.048   False"
      ]
     },
     "metadata": {},
     "output_type": "display_data"
    },
    {
     "data": {
      "text/markdown": [
       "Alle Varianzen (in etwa) gleich: **True**"
      ],
      "text/plain": [
       "<IPython.core.display.Markdown object>"
      ]
     },
     "metadata": {},
     "output_type": "display_data"
    },
    {
     "data": {
      "text/html": [
       "<div>\n",
       "<style scoped>\n",
       "    .dataframe tbody tr th:only-of-type {\n",
       "        vertical-align: middle;\n",
       "    }\n",
       "\n",
       "    .dataframe tbody tr th {\n",
       "        vertical-align: top;\n",
       "    }\n",
       "\n",
       "    .dataframe thead th {\n",
       "        text-align: right;\n",
       "    }\n",
       "</style>\n",
       "<table border=\"1\" class=\"dataframe\">\n",
       "  <thead>\n",
       "    <tr style=\"text-align: right;\">\n",
       "      <th></th>\n",
       "      <th>Source</th>\n",
       "      <th>SS</th>\n",
       "      <th>DF1</th>\n",
       "      <th>DF2</th>\n",
       "      <th>MS</th>\n",
       "      <th>F</th>\n",
       "      <th>p-unc</th>\n",
       "      <th>p-GG-corr</th>\n",
       "      <th>np2</th>\n",
       "      <th>eps</th>\n",
       "      <th>sphericity</th>\n",
       "      <th>W-spher</th>\n",
       "      <th>p-spher</th>\n",
       "    </tr>\n",
       "  </thead>\n",
       "  <tbody>\n",
       "    <tr>\n",
       "      <th>0</th>\n",
       "      <td>condition</td>\n",
       "      <td>83.883</td>\n",
       "      <td>1</td>\n",
       "      <td>24</td>\n",
       "      <td>83.883</td>\n",
       "      <td>1.127</td>\n",
       "      <td>0.299</td>\n",
       "      <td>NaN</td>\n",
       "      <td>0.045</td>\n",
       "      <td>NaN</td>\n",
       "      <td>NaN</td>\n",
       "      <td>NaN</td>\n",
       "      <td>NaN</td>\n",
       "    </tr>\n",
       "    <tr>\n",
       "      <th>1</th>\n",
       "      <td>sample</td>\n",
       "      <td>30.756</td>\n",
       "      <td>5</td>\n",
       "      <td>120</td>\n",
       "      <td>6.151</td>\n",
       "      <td>2.412</td>\n",
       "      <td>0.040</td>\n",
       "      <td>0.137</td>\n",
       "      <td>0.091</td>\n",
       "      <td>0.321</td>\n",
       "      <td>False</td>\n",
       "      <td>0.003</td>\n",
       "      <td>0.0</td>\n",
       "    </tr>\n",
       "    <tr>\n",
       "      <th>2</th>\n",
       "      <td>Interaction</td>\n",
       "      <td>48.966</td>\n",
       "      <td>5</td>\n",
       "      <td>120</td>\n",
       "      <td>9.793</td>\n",
       "      <td>3.839</td>\n",
       "      <td>0.003</td>\n",
       "      <td>NaN</td>\n",
       "      <td>0.138</td>\n",
       "      <td>NaN</td>\n",
       "      <td>NaN</td>\n",
       "      <td>NaN</td>\n",
       "      <td>NaN</td>\n",
       "    </tr>\n",
       "  </tbody>\n",
       "</table>\n",
       "</div>"
      ],
      "text/plain": [
       "        Source      SS  DF1  DF2      MS      F  p-unc  p-GG-corr    np2  \\\n",
       "0    condition  83.883    1   24  83.883  1.127  0.299        NaN  0.045   \n",
       "1       sample  30.756    5  120   6.151  2.412  0.040      0.137  0.091   \n",
       "2  Interaction  48.966    5  120   9.793  3.839  0.003        NaN  0.138   \n",
       "\n",
       "     eps sphericity  W-spher  p-spher  \n",
       "0    NaN        NaN      NaN      NaN  \n",
       "1  0.321      False    0.003      0.0  \n",
       "2    NaN        NaN      NaN      NaN  "
      ]
     },
     "metadata": {},
     "output_type": "display_data"
    }
   ],
   "source": [
    "dv = \"cortisol\"\n",
    "# Entfernen von S0\n",
    "df_analysis = df_cort_raw.drop('0', level='sample')\n",
    "\n",
    "# Test auf Normalverteilung\n",
    "df_norm = df_analysis.reset_index().groupby(\"sample\").apply(lambda df: pg.normality(data=df, dv=dv, group=\"condition\"))\n",
    "# Test auf Homoskedastizität\n",
    "df_hom = df_analysis.reset_index().groupby(\"sample\").apply(lambda df: pg.homoscedasticity(data=df, dv=dv, group=\"condition\"))\n",
    "\n",
    "anova_mixed = pg.mixed_anova(data=df_analysis.reset_index(), dv=dv, between=\"condition\", within=\"sample\", subject=\"subject\")\n",
    "\n",
    "# Ausgaben\n",
    "display(Markdown(\"Alle normalverteilt: **{}**\".format(df_norm['normal'].all())))\n",
    "display(df_norm.round(3))\n",
    "display(Markdown(\"Alle Varianzen (in etwa) gleich: **{}**\".format(df_hom['equal_var'].all())))\n",
    "\n",
    "display(anova_mixed.round(3))"
   ]
  },
  {
   "cell_type": "markdown",
   "metadata": {},
   "source": [
    "##### Interpretation\n",
    "\n",
    "ANOVA further showed a significant interaction of *condition* by *time* for raw cortisol samples ($F(5,120) = 3.839, p = 0.003, \\eta_p^2 = 0.138$)."
   ]
  },
  {
   "cell_type": "code",
   "execution_count": null,
   "metadata": {},
   "outputs": [],
   "source": []
  }
 ],
 "metadata": {
  "kernelspec": {
   "display_name": "empkins-d03-macro-analysis-luca",
   "language": "python",
   "name": "empkins-d03-macro-analysis-luca"
  },
  "language_info": {
   "codemirror_mode": {
    "name": "ipython",
    "version": 3
   },
   "file_extension": ".py",
   "mimetype": "text/x-python",
   "name": "python",
   "nbconvert_exporter": "python",
   "pygments_lexer": "ipython3",
   "version": "3.9.8"
  },
  "toc-autonumbering": false,
  "toc-showmarkdowntxt": false
 },
 "nbformat": 4,
 "nbformat_minor": 4
}
