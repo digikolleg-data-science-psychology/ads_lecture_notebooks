{
 "cells": [
  {
   "cell_type": "markdown",
   "metadata": {},
   "source": [
    "# Statistical analysis in Python using Pingouin"
   ]
  },
  {
   "cell_type": "code",
   "execution_count": null,
   "metadata": {},
   "outputs": [],
   "source": [
    "import numpy as np\n",
    "import pandas as pd\n",
    "import pingouin as pg\n",
    "\n",
    "import matplotlib.pyplot as plt\n",
    "import seaborn as sns\n",
    "from statannot import add_stat_annotation\n",
    "\n",
    "import biopsykit as bp\n",
    "\n",
    "from IPython.display import Markdown\n",
    "\n",
    "%load_ext autoreload\n",
    "%autoreload 2\n",
    "%matplotlib widget"
   ]
  },
  {
   "cell_type": "markdown",
   "metadata": {},
   "source": [
    "**Pingouin**: Open source library for statistical analyses in Python, based on *pandas* and *numpy*.\n",
    "\n",
    "Installation: `pip install pingouin`  \n",
    "Link: https://pingouin-stats.org/  \n",
    "Tutorial: https://pingouin-stats.org/guidelines.html\n",
    "\n",
    "Import: `import pingouin as pg`"
   ]
  },
  {
   "cell_type": "code",
   "execution_count": null,
   "metadata": {},
   "outputs": [],
   "source": [
    "sns.set_theme(style=\"ticks\")\n",
    "sns.set_palette(sns.color_palette(\"light:#003865\", n_colors=4)[::-1])\n",
    "plt.close('all')\n",
    "\n",
    "# parameter for add_stat_annotation\n",
    "pvalue_thres = [[1e-3, \"***\"], [1e-2, \"**\"], [0.05, \"*\"]]"
   ]
  },
  {
   "cell_type": "markdown",
   "metadata": {},
   "source": [
    "<div class=\"alert alert-block alert-info\">\n",
    "    <b>Note:<b> Just like Seaborn, it is also advantageous for Pingouin if the data is in <i>long format<i>!\n",
    "</div>"
   ]
  },
  {
   "attachments": {},
   "cell_type": "markdown",
   "metadata": {},
   "source": [
    "## Importing data"
   ]
  },
  {
   "attachments": {},
   "cell_type": "markdown",
   "metadata": {},
   "source": [
    "Dataset from Richer et al. \"Tackling Acute Stress: Evaluating the Cold Face Test as a Potential Mechanism for Stress-reducing Wearables\"\n",
    "HR(V), cortisol and questionnaires during the implementation of MIST with two groups: Control group and intervention group\n",
    "* HR(V): Heart rate (HR), RMSSD, pNN50, SD1/SD2 variables per MIST phase (1-3) and per MIST subphase (baseline (BL), cold face intervention (CFI), arithmetic tasks (AT), feedback (FB)), each absolute and relative (e.g., $\\text{HR}_{rel}$, normalized per subject before beginning of the stressor)\n",
    "* Questionnaire: MDBF (Multidimensional Sensitivity Questionnaire, both *pre* and *post* stress)\n",
    "* Cortisol: 7 saliva samples at time points -27 (S0, to control for high baseline), 0, 30, 40, 50, 60, 70 (min relative to MIST start)"
   ]
  },
  {
   "cell_type": "markdown",
   "metadata": {},
   "source": [
    "### HR(V)"
   ]
  },
  {
   "cell_type": "code",
   "execution_count": null,
   "metadata": {},
   "outputs": [],
   "source": [
    "df_hr = pd.read_csv(\"data/hr_sample.csv\", index_col=[\"condition\", \"subject\", \"phase\", \"subphase\"])\n",
    "df_hr.head()"
   ]
  },
  {
   "attachments": {},
   "cell_type": "markdown",
   "metadata": {},
   "source": [
    "### Questionnaires"
   ]
  },
  {
   "cell_type": "code",
   "execution_count": null,
   "metadata": {},
   "outputs": [],
   "source": [
    "df_mood = pd.read_csv(\"data/mood_sample.csv\", index_col=[\"condition\", \"subject\", \"time\", \"type\"])\n",
    "df_mood.head()"
   ]
  },
  {
   "cell_type": "markdown",
   "metadata": {},
   "source": [
    "### Cortisol"
   ]
  },
  {
   "cell_type": "code",
   "execution_count": null,
   "metadata": {},
   "outputs": [],
   "source": [
    "df_cort_raw = pd.read_csv(\"data/cortisol_sample.csv\", index_col=[\"condition\", \"subject\"])\n",
    "saliva_times = [-27, 0, 30, 40, 50, 60, 70]\n",
    "\n",
    "# Convert to long format\n",
    "df_cort_raw = pd.DataFrame(df_cort_raw.stack())\n",
    "df_cort_raw.columns = [\"cortisol\"]\n",
    "df_cort_raw.index = df_cort_raw.index.rename('sample', level=2)\n",
    "\n",
    "# Splitting of cortisol values into value before (sample 1) and maximum value per subject after (samples 2 to 6)\n",
    "cort_pre = df_cort_raw.unstack(level='sample').iloc[:, 1]\n",
    "cort_post = df_cort_raw.unstack(level='sample').iloc[:, 2:].max(axis=1)\n",
    "df_cort_inc = pd.concat([cort_pre, cort_post], axis=1, keys=['pre', 'post'], names=['time'])\n",
    "df_cort_inc = pd.DataFrame(df_cort_inc.stack(), columns=[\"cortisol\"])\n",
    "\n",
    "# Calculating cortisol features\n",
    "df_cort = bp.saliva.auc(df_cort_raw, saliva_times=saliva_times)\n",
    "df_cort = df_cort.join(bp.saliva.max_increase(df_cort_raw, percent=True))\n",
    "df_cort = df_cort.join(bp.saliva.slope(df_cort_raw, sample_idx=[1, 4], saliva_times=saliva_times))\n",
    "\n",
    "# Convert feature dataframe to long format\n",
    "df_cort = bp.saliva.wide_to_long(df_cort)\n",
    "df_cort.head()"
   ]
  },
  {
   "attachments": {},
   "cell_type": "markdown",
   "metadata": {},
   "source": [
    "## Reaction to the MIST"
   ]
  },
  {
   "attachments": {},
   "cell_type": "markdown",
   "metadata": {},
   "source": [
    "### Question I: Does each phase of the MIST produce a significant cardiovascular stress response?"
   ]
  },
  {
   "attachments": {},
   "cell_type": "markdown",
   "metadata": {},
   "source": [
    "#### Examination\n",
    "\n",
    "In the *control group*, each MIST phase is examined separately to determine whether the heart rate increases significantly between the *BL* and *AT* subphases."
   ]
  },
  {
   "attachments": {},
   "cell_type": "markdown",
   "metadata": {},
   "source": [
    "#### Statistics"
   ]
  },
  {
   "attachments": {},
   "cell_type": "markdown",
   "metadata": {},
   "source": [
    "##### Analysis\n",
    "* Preparatory analysis:\n",
    "    * Test for normal distribution (Shapiro-Wilk test).\n",
    "* *Test*: t-tests for dependent samples\n",
    "* *DV*: HR\n",
    "* *Inner subject factor*: Subphase\n",
    "* *Measure of effect size*: Hedge's g\n",
    "\n",
    "=> Analogous analysis for the other HRV parameters (significant reduction of HRV during stress?)"
   ]
  },
  {
   "cell_type": "code",
   "execution_count": null,
   "metadata": {},
   "outputs": [],
   "source": [
    "df_hr.head()"
   ]
  },
  {
   "cell_type": "code",
   "execution_count": null,
   "metadata": {},
   "outputs": [],
   "source": [
    "dv = \"HR\"\n",
    "subphases = [\"BL\", \"AT\"]\n",
    "# Selecting the data to be examined: Control group, all subjects, all MIST phases, subphases BL and AT\n",
    "df_analysis = df_hr[[dv]].loc[pd.IndexSlice[\"Control\", :, :, subphases]]\n",
    "\n",
    "df_analysis.reset_index()"
   ]
  },
  {
   "cell_type": "code",
   "execution_count": null,
   "metadata": {},
   "outputs": [],
   "source": [
    "# Test for normal distribution\n",
    "df_norm = df_analysis.reset_index().groupby(by=[\"phase\"]).apply(lambda df: pg.normality(data=df, dv=dv, group=\"subphase\"))\n",
    "\n",
    "# paired t-tests per MIST phase\n",
    "tt_phase = df_analysis.reset_index().groupby(by=[\"phase\"]).apply(lambda df: pg.pairwise_ttests(data=df, dv=dv, within=\"subphase\", subject=\"subject\", effsize=\"hedges\"))"
   ]
  },
  {
   "cell_type": "code",
   "execution_count": null,
   "metadata": {},
   "outputs": [],
   "source": [
    "# Output\n",
    "display(Markdown(\"All normally distributed: **{}**\".format(df_norm['normal'].all())))\n",
    "\n",
    "display(Markdown(\"**paired t-tests**\"))\n",
    "display(tt_phase.round(3))"
   ]
  },
  {
   "cell_type": "markdown",
   "metadata": {},
   "source": [
    "##### Interpretation\n",
    "\n",
    "\"Pairwise t-tests for each MIST phase individually revealed significant HR increases between *BL* and *AT* subphases indicating an effective sympathetic activation due to the stressor. Additionally, significant decreases of HRV measures occured in some, but not all, *MIST phases* (Table 2).\""
   ]
  },
  {
   "cell_type": "markdown",
   "metadata": {},
   "source": [
    "#### Boxplot"
   ]
  },
  {
   "cell_type": "code",
   "execution_count": null,
   "metadata": {},
   "outputs": [],
   "source": [
    "fig, ax = plt.subplots()\n",
    "sns.boxplot(data=df_analysis.reset_index(), x=\"phase\", y=dv, hue=\"subphase\")\n",
    "ax.set_ylabel(\"HR [bpm]\")\n",
    "\n",
    "fig.tight_layout()"
   ]
  },
  {
   "attachments": {},
   "cell_type": "markdown",
   "metadata": {},
   "source": [
    "**Adding significance brackets**\n",
    "\n",
    "By means of the function `add_stat_annotation()` of the library `statannot` \"significance brackets\" can be added to the boxplots.\n",
    "\n",
    "Installation: `pip install statannot`  \n",
    "Documentation: https://github.com/webermarcolivier/statannot  \n",
    "Examples: https://github.com/webermarcolivier/statannot/blob/master/example/example.ipynb\n",
    "\n",
    "`add_stat_annotation()` requires a list of names of boxplot pairs over which brackets are to be placed.\n",
    "\n",
    "List format => From documentation of the function:\n",
    "* For non-grouped boxplot: `[(cat1, cat2), (cat3, cat4)]`\n",
    "* For boxplot grouped by hue: `[((cat1, hue1), (cat2, hue2)), ((cat3, hue3), (cat4, hue4))]`"
   ]
  },
  {
   "cell_type": "code",
   "execution_count": null,
   "metadata": {},
   "outputs": [],
   "source": [
    "((\"MIST1\", \"BL\"), (\"MIST1\", \"AT\"))"
   ]
  },
  {
   "cell_type": "code",
   "execution_count": null,
   "metadata": {},
   "outputs": [],
   "source": [
    "# Significant MIST phases\n",
    "sig_list = [\"MIST1\", \"MIST2\", \"MIST3\"]\n",
    "# Constructing the boxplot pairs list\n",
    "sig_pairs = [tuple([(sig, sub) for sub in subphases]) for sig in sig_list]\n",
    "sig_pairs"
   ]
  },
  {
   "attachments": {},
   "cell_type": "markdown",
   "metadata": {},
   "source": [
    "#### Boxplot with significance brackets"
   ]
  },
  {
   "cell_type": "code",
   "execution_count": null,
   "metadata": {},
   "outputs": [],
   "source": [
    "fig, ax = plt.subplots()\n",
    "sns.boxplot(data=df_analysis.reset_index(), x=\"phase\", y=dv, hue=\"subphase\")\n",
    "ax.set_ylabel(\"HR [bpm]\")\n",
    "\n",
    "add_stat_annotation(\n",
    "    ax=ax, data=df_analysis.reset_index(), \n",
    "    x=\"phase\", y=dv, hue=\"subphase\", \n",
    "    box_pairs=sig_pairs,\n",
    "    pvalue_thresholds=pvalue_thres,\n",
    "    test=\"t-test_paired\",\n",
    "    comparisons_correction=None\n",
    ")\n",
    "fig.tight_layout()"
   ]
  },
  {
   "cell_type": "markdown",
   "metadata": {},
   "source": [
    "#### Violinplot"
   ]
  },
  {
   "cell_type": "code",
   "execution_count": null,
   "metadata": {},
   "outputs": [],
   "source": [
    "fig, ax = plt.subplots()\n",
    "sns.violinplot(data=df_analysis.reset_index(), x=\"phase\", y=dv, hue=\"subphase\", split=True)\n",
    "ax.set_ylabel(\"HR [bpm]\")\n",
    "\n",
    "fig.tight_layout()"
   ]
  },
  {
   "attachments": {},
   "cell_type": "markdown",
   "metadata": {},
   "source": [
    "### Question II: Does the stress level increase over the course of the three MIST phases?"
   ]
  },
  {
   "attachments": {},
   "cell_type": "markdown",
   "metadata": {},
   "source": [
    "#### Examination\n",
    "\n",
    "In the *control group*, it is examined whether the heart rate in each of the *BL*, *AT*, and *FB* phases, respectively, increases significantly over time (over the three MIST phases)."
   ]
  },
  {
   "attachments": {},
   "cell_type": "markdown",
   "metadata": {},
   "source": [
    "#### Statistics"
   ]
  },
  {
   "attachments": {},
   "cell_type": "markdown",
   "metadata": {},
   "source": [
    "##### Analysis\n",
    "\n",
    "* Preparatory analysis:\n",
    "    * Test for normal distribution (Shapiro-Wilk test)\n",
    "    * Test for equality of variance (Levene test)\n",
    "* * Test: ANOVA with repeated measurements (rm-ANOVA)\n",
    "* *DV*: HR, separately for each of the subphases *BL*, *AT* and *FB*\n",
    "* *Inner subject factor*: Phase\n",
    "* *Measure of effect size*: $\\eta_p^{2}$ (partial eta-squared)\n",
    "* Post hoc test: t-tests for dependent samples (one-sided) with Bonferroni correction to neutralize alpha error accumulation in multiple comparisons\n",
    "\n",
    "=> Analogous analysis for the other HRV parameters"
   ]
  },
  {
   "cell_type": "code",
   "execution_count": null,
   "metadata": {},
   "outputs": [],
   "source": [
    "dv = \"HR\"\n",
    "subphases = [\"BL\", \"AT\", \"FB\"]\n",
    "# Selecting the data to be examined: Control group, all subjects, all MIST phases, subphases BL, AT and FB\n",
    "df_analysis = df_hr[[dv]].loc[pd.IndexSlice[\"Control\", :, :, subphases]]\n",
    "\n",
    "# Test for normal distribution\n",
    "df_norm = df_analysis.reset_index().groupby(by=[\"subphase\"]).apply(lambda df: pg.normality(data=df, dv=dv, group=\"phase\"))\n",
    "# Test for homoscedasticity\n",
    "df_hom = df_analysis.reset_index().groupby(by=[\"subphase\"]).apply(lambda df: pg.homoscedasticity(data=df, dv=dv, group=\"phase\"))\n",
    "\n",
    "# rm-ANOVA per subphase\n",
    "anova_subph = df_analysis.reset_index().groupby(by=[\"subphase\"]).apply(lambda df: pg.rm_anova(data=df, dv=dv, within=\"phase\", subject=\"subject\"))\n",
    "# post-hoc\n",
    "posthoc_subph = df_analysis.reset_index().groupby(by=[\"subphase\"]).apply(lambda df: pg.pairwise_ttests(data=df, dv=dv, within=\"phase\", subject=\"subject\", effsize=\"hedges\", tail='one-sided', padjust='bonf'))\n",
    "\n",
    "# Output\n",
    "display(Markdown(\"All normally distributed: **{}**\".format(df_norm['normal'].all())))\n",
    "display(Markdown(\"All variances (approximately) equal: **{}**\".format(df_hom['equal_var'].all())))\n",
    "\n",
    "display(Markdown(\"**rm-ANOVA**\"))\n",
    "display(anova_subph.round(3))\n",
    "\n",
    "display(Markdown(\"**Post-hoc tests**\"))\n",
    "display(posthoc_subph.round(3))\n",
    "\n",
    "# Optional: filtering of the significant post hoc tests\n",
    "#display(posthoc_subph[posthoc_subph['p-corr'] < 0.05].round(3))"
   ]
  },
  {
   "cell_type": "markdown",
   "metadata": {},
   "source": [
    "##### Interpretation\n",
    "\n",
    "Repeated-measures *ANOVA* of HR(V) measures during *MIST subphases* indicate increasing stress levels over time, shown by a significant main effect *MIST Phase* during *BL*, as well as in *FB* and *AT* (see Table 3). Post-hoc testing of HR changes showed significant differences during *BL* between *MIST1* and *MIST3* ($t(12) = −4.285, p = 0.002, g = −0.438$) and between *MIST1* and *MIST2* ($t(12) = −2.634, p = 0.030, g = −0.384$), respectively. […]"
   ]
  },
  {
   "cell_type": "markdown",
   "metadata": {},
   "source": [
    "#### Plots"
   ]
  },
  {
   "cell_type": "code",
   "execution_count": null,
   "metadata": {},
   "outputs": [],
   "source": [
    "fig, ax = plt.subplots()\n",
    "sns.boxplot(data=df_analysis.reset_index(), x=\"subphase\", y=dv, hue=\"phase\")\n",
    "\n",
    "sig_pairs = [\n",
    "    ((\"AT\", \"MIST1\"), (\"AT\", \"MIST2\")),\n",
    "    ((\"AT\", \"MIST1\"), (\"AT\", \"MIST3\")),\n",
    "    ((\"BL\", \"MIST1\"), (\"BL\", \"MIST3\")),\n",
    "    ((\"BL\", \"MIST2\"), (\"BL\", \"MIST3\")),\n",
    "    ((\"FB\", \"MIST1\"), (\"FB\", \"MIST3\")),\n",
    "    ((\"FB\", \"MIST2\"), (\"FB\", \"MIST3\")),\n",
    "]\n",
    "\n",
    "add_stat_annotation(\n",
    "    ax=ax, data=df_analysis.reset_index(), \n",
    "    x=\"subphase\", y=dv, hue=\"phase\", \n",
    "    box_pairs=sig_pairs,\n",
    "    pvalue_thresholds=pvalue_thres,\n",
    "    test=\"t-test_paired\",\n",
    "    comparisons_correction=None\n",
    ")\n",
    "\n",
    "ax.set_ylabel(\"HR [bpm]\")\n",
    "\n",
    "fig.tight_layout()"
   ]
  },
  {
   "attachments": {},
   "cell_type": "markdown",
   "metadata": {},
   "source": [
    "### Question III: Does the MIST worsen the mood?"
   ]
  },
  {
   "attachments": {},
   "cell_type": "markdown",
   "metadata": {},
   "source": [
    "#### Examination\n",
    "\n",
    "The *control group* will be examined to determine if the mood (measured by MDBF) significantly worsened in response to the MIST."
   ]
  },
  {
   "attachments": {},
   "cell_type": "markdown",
   "metadata": {},
   "source": [
    "#### Statistics"
   ]
  },
  {
   "attachments": {},
   "cell_type": "markdown",
   "metadata": {},
   "source": [
    "##### Analysis\n",
    "* Preparatory analysis:\n",
    "    * Test for normal distribution (Shapiro-Wilk test)\n",
    "* *Test*: Paired t-tests\n",
    "* *DV*: MDBF scales\n",
    "* *Inner subject factor*: Time (pre/post)\n",
    "* *Measure of effect size*: Hedge's g"
   ]
  },
  {
   "cell_type": "code",
   "execution_count": null,
   "metadata": {},
   "outputs": [],
   "source": [
    "df_mood.head()"
   ]
  },
  {
   "cell_type": "code",
   "execution_count": null,
   "metadata": {},
   "outputs": [],
   "source": [
    "#df_analysis.unstack(level='time')"
   ]
  },
  {
   "cell_type": "code",
   "execution_count": null,
   "metadata": {},
   "outputs": [],
   "source": [
    "dv = \"MDBF\"\n",
    "# Selecting the data to be studied: control group\n",
    "df_analysis = df_mood.xs(\"Control\")\n",
    "\n",
    "# Test for normal distribution\n",
    "df_norm = df_analysis.reset_index().groupby(by=[\"type\"]).apply(lambda df: pg.normality(data=df, dv=dv, group=\"time\"))\n",
    "\n",
    "# paired t-tests per MDBF subscale\n",
    "ttests = df_analysis.reset_index().groupby([\"type\"]).apply(lambda df: pg.pairwise_ttests(data=df.reset_index(), within=\"time\", dv=dv, subject=\"subject\", effsize=\"hedges\"))\n",
    "\n",
    "# Calculating the worsening of the mood in percent\n",
    "df_decrease = pd.DataFrame(df_analysis.unstack(level='time').groupby(\"type\").apply(lambda x: (x[(\"MDBF\", 'post')] / x[(\"MDBF\", 'pre')] - 1.0) * 100.0), columns=[\"decrease_percent\"])\n",
    "df_decrease = df_decrease.groupby(\"type\").agg(['mean', 'std'])\n",
    "\n",
    "# Output\n",
    "display(Markdown(\"All normally distributed: **{}**\".format(df_norm['normal'].all())))\n",
    "display(df_norm)\n",
    "\n",
    "display(Markdown(\"**Paired t-tests**\"))\n",
    "display(ttests.round(3))\n",
    "\n",
    "display(Markdown(\"**Worsening of the mood (Mean ± SD)**\"))\n",
    "display(df_decrease.T.round(2))"
   ]
  },
  {
   "cell_type": "markdown",
   "metadata": {},
   "source": [
    "##### Interpretation\n",
    "\n",
    "\"The stress-inducing effects of the *MIST* in the *Control* group were further confirmed by the MDBF questionnaire. Mood worsened significantly in all MDBF dimensions as indicated by pairwise t-tests (*Good-Bad*: $t(12) = 5.761, p < 0.001, g = 2.105$, decrease: $36.93\\%±22.26\\%~(\\text{M}±\\text{SD})$; *Awake-Tired*: $t(12) = 3.169, p = 0.008, g = 0.615$, decrease: $12.45\\% ± 13.28\\%$; *Calm-Nervous*: $t(12) = 5.094, p < 0.001, g = 1.855$, decrease: $35.44\\% ± 23.92\\%$).\""
   ]
  },
  {
   "cell_type": "markdown",
   "metadata": {},
   "source": [
    "#### Plots"
   ]
  },
  {
   "cell_type": "code",
   "execution_count": null,
   "metadata": {},
   "outputs": [],
   "source": [
    "fig, ax = plt.subplots()\n",
    "x_order = [\"good_bad\", \"awake_tired\", \"calm_nervous\"]\n",
    "sns.boxplot(data=df_analysis.reset_index(), x=\"type\", y=dv, hue=\"time\", order=x_order)\n",
    "\n",
    "sig_pairs = [\n",
    "    ((\"good_bad\", \"pre\"), (\"good_bad\", \"post\")),\n",
    "    ((\"awake_tired\", \"pre\"), (\"awake_tired\", \"post\")),\n",
    "    ((\"calm_nervous\", \"pre\"), (\"calm_nervous\", \"post\")),\n",
    "]\n",
    "\n",
    "add_stat_annotation(\n",
    "    ax=ax, data=df_analysis.reset_index(), \n",
    "    x=\"type\", y=dv, hue=\"time\", \n",
    "    order=x_order,\n",
    "    box_pairs=sig_pairs,\n",
    "    pvalue_thresholds=pvalue_thres,\n",
    "    test=\"t-test_paired\",\n",
    "    comparisons_correction=None\n",
    ")\n",
    "\n",
    "fig.tight_layout()"
   ]
  },
  {
   "attachments": {},
   "cell_type": "markdown",
   "metadata": {},
   "source": [
    "### Question IV: Does the MIST produce a significant endocrine stress response?"
   ]
  },
  {
   "attachments": {},
   "cell_type": "markdown",
   "metadata": {},
   "source": [
    "#### Examination\n",
    "\n",
    "In the *control group* it is examined, whether the cortisol level significantly increased before (S1) and after the stressor (S2-S6)."
   ]
  },
  {
   "attachments": {},
   "cell_type": "markdown",
   "metadata": {},
   "source": [
    "#### Statistics"
   ]
  },
  {
   "attachments": {},
   "cell_type": "markdown",
   "metadata": {},
   "source": [
    "##### Analysis\n",
    "* Preparatory analysis:\n",
    "    * Test for normal distribution (Shapiro-Wilk test)\n",
    "* *Test*: Paired t-tests\n",
    "* *DV*: Cortisol\n",
    "* *Inner subject factor*: Time (pre/post)\n",
    "* *Measure of effect size*: Hedge's g"
   ]
  },
  {
   "cell_type": "code",
   "execution_count": null,
   "metadata": {},
   "outputs": [],
   "source": [
    "df_cort_inc.head()"
   ]
  },
  {
   "cell_type": "code",
   "execution_count": null,
   "metadata": {},
   "outputs": [],
   "source": [
    "dv = \"cortisol\"\n",
    "# Selecting the data to be studied: control group\n",
    "df_analysis = df_cort_inc.xs(\"Control\")\n",
    "\n",
    "# Test for normal distribution\n",
    "df_norm = pg.normality(data=df_analysis.reset_index(), dv=dv, group=\"time\")\n",
    "\n",
    "# paired t-tests\n",
    "ttests = pg.pairwise_ttests(data=df_analysis.reset_index(), dv=dv, within=\"time\", subject=\"subject\", effsize=\"hedges\")\n",
    "\n",
    "# Calculating the cortisol increase in percent\n",
    "df_increase = df_analysis.unstack(level='time')\n",
    "df_increase = pd.DataFrame((df_increase[(\"cortisol\", \"post\")] / df_increase[(\"cortisol\", \"pre\")] - 1.0) * 100, columns=[\"increase_percent\"])\n",
    "\n",
    "# Output\n",
    "display(Markdown(\"All normally distributed: **{}**\".format(df_norm['normal'].all())))\n",
    "\n",
    "display(Markdown(\"**paired t-tests**\"))\n",
    "display(ttests.round(3))\n",
    "\n",
    "display(Markdown(\"**Cortisol increase**\"))\n",
    "display(df_increase.mean().round(2))"
   ]
  },
  {
   "cell_type": "markdown",
   "metadata": {},
   "source": [
    "##### Interpretation\n",
    "\n",
    "\"Analysis of saliva samples showed that the *Control* group overall responded to the stressor. On average, cortisol levels increased significantly after the *MIST* ($t(12) = -2.284, p = 0.041, g = -0.623$) with an maximum increase of $75.4\\%$ compared to S1.\""
   ]
  },
  {
   "attachments": {},
   "cell_type": "markdown",
   "metadata": {},
   "source": [
    "## Effect of intervention on acute stress responses"
   ]
  },
  {
   "attachments": {},
   "cell_type": "markdown",
   "metadata": {},
   "source": [
    "### Question I: Does the MIST induce a significant cardiovascular stress response in the intervention group as well?"
   ]
  },
  {
   "attachments": {},
   "cell_type": "markdown",
   "metadata": {},
   "source": [
    "#### Examination\n",
    "\n",
    "In the *intervention group* each MIST phase is examined separately to determine whether the heart rate increases significantly between the *BL* and *AT* subphases."
   ]
  },
  {
   "attachments": {},
   "cell_type": "markdown",
   "metadata": {},
   "source": [
    "#### Statistics"
   ]
  },
  {
   "attachments": {},
   "cell_type": "markdown",
   "metadata": {},
   "source": [
    "##### Analysis\n",
    "\n",
    "* Preparatory analysis:\n",
    "    * Test for normal distribution (Shapiro-Wilk test)\n",
    "* *Test*: Paired t-tests\n",
    "* *DV*: HR\n",
    "* *Inner subject factor*: Subphase\n",
    "* *Measure of effect size*: Hedge's g (or Common Language Effect Size (CLES) for Wilcoxon test)\n",
    "\n",
    "=> Analogous analysis for the other HRV parameters (significant reduction of HRV during stress?)"
   ]
  },
  {
   "cell_type": "code",
   "execution_count": null,
   "metadata": {},
   "outputs": [],
   "source": [
    "dv = \"HR\"\n",
    "subphases = [\"BL\", \"AT\"]\n",
    "# Selecting the data to be examined: Control group, all subjects, all MIST phases, subphases BL and AT\n",
    "df_analysis = df_hr[[dv]].loc[pd.IndexSlice[\"Intervention\", :, :, subphases]]\n",
    "\n",
    "# Test for normal distribution\n",
    "df_norm = df_analysis.reset_index().groupby(\"phase\").apply(\n",
    "    lambda df: pg.normality(data=df, dv=dv, group=\"subphase\")\n",
    ")\n",
    "\n",
    "# Wilcoxon tests per MIST phase\n",
    "wilc_phase = df_analysis[dv].groupby(\"phase\").apply(\n",
    "    lambda df: pg.wilcoxon(\n",
    "        x=df.xs(\"BL\", level=\"subphase\"), \n",
    "        y=df.xs(\"AT\", level=\"subphase\"), tail='one-sided'\n",
    "    )\n",
    ")\n",
    "\n",
    "# For comparison: paired t-tests per MIST phase\n",
    "tt_phase = df_analysis.reset_index().groupby(\"phase\").apply(\n",
    "    lambda df: pg.pairwise_ttests(\n",
    "        data=df, dv=dv, within=\"subphase\", \n",
    "        subject=\"subject\", effsize=\"hedges\", \n",
    "        tail='one-sided'\n",
    "    )\n",
    ")\n",
    "\n",
    "# Output\n",
    "display(Markdown(\"All normally distributed: **{}**\".format(df_norm['normal'].all())))\n",
    "display(df_norm)\n",
    "display(Markdown(\"Normal distribution **not** given for **all** distributions => *Wilcoxon test* instead of paired t-test\"))\n",
    "\n",
    "display(Markdown(\"**Wilcoxon tests**\"))\n",
    "display(wilc_phase.round(3))\n",
    "display(Markdown(\"**For comparison: paired t-tests** (provides comparable results)\"))\n",
    "display(tt_phase.round(3))"
   ]
  },
  {
   "cell_type": "markdown",
   "metadata": {},
   "source": [
    "##### Interpretation\n",
    "\n",
    "\"Even though the HR of the Intervention group was slightly decreased compared to the *Control* group during the *AT* and *FB* sub-phases both groups reached comparable stress levels especially during *MIST2* and *MIST3*. This finding is supported by significant HR increases during *AT* in each *MIST* phase for both groups (*Control*: Table 2, *Intervention*: Table 5). […] Thus, the MIST successfully caused sympathetic activation during *AT* and *FB* regardless of the condition.\""
   ]
  },
  {
   "attachments": {},
   "cell_type": "markdown",
   "metadata": {},
   "source": [
    "### Question II: Does the intervention show an effect on the cardiovascular stress response?"
   ]
  },
  {
   "attachments": {},
   "cell_type": "markdown",
   "metadata": {},
   "source": [
    "#### Examination – I\n",
    "\n",
    "It is examined whether the intervention causes significant differences between the two groups during the MIST during the *BL* subphase."
   ]
  },
  {
   "attachments": {},
   "cell_type": "markdown",
   "metadata": {},
   "source": [
    "#### Statistics"
   ]
  },
  {
   "attachments": {},
   "cell_type": "markdown",
   "metadata": {},
   "source": [
    "##### Analysis\n",
    "\n",
    "* Preparatory analysis:\n",
    "    * Test for normal distribution (Shapiro-Wilk test)\n",
    "    * Test for equality of variance (Levene test)\n",
    "* * Test*: Mixed ANOVA\n",
    "* *DV*: $\\text{HR}_{rel}$ (normalized heart rate) during *BL* => since in this analysis no longer exclusively inner subject factors (repeated measurements) are considered, but rather group comparisons\n",
    "* *Inner subject factor*: Phase\n",
    "* *Inter subject factor*: Group\n",
    "* *Measure of effect size*: $\\eta_p^2$\n",
    "\n",
    "=> Analogous analysis for the other HRV parameters"
   ]
  },
  {
   "cell_type": "markdown",
   "metadata": {},
   "source": [
    "**Baseline**"
   ]
  },
  {
   "cell_type": "code",
   "execution_count": null,
   "metadata": {},
   "outputs": [],
   "source": [
    "dv = \"HR_rel\"\n",
    "\n",
    "df_analysis = df_hr.xs(\"BL\", level='subphase')\n",
    "\n",
    "# Test for normal distribution\n",
    "df_norm = df_analysis.reset_index().groupby(by=[\"phase\"]).apply(lambda df: pg.normality(data=df, dv=dv, group=\"condition\"))\n",
    "# Test for homoscedasticity\n",
    "df_hom = df_analysis.reset_index().groupby(by=[\"phase\"]).apply(lambda df: pg.homoscedasticity(data=df, dv=dv, group=\"condition\"))\n",
    "\n",
    "# Mixed ANOVA\n",
    "anova_mixed = pg.mixed_anova(data=df_analysis.reset_index(), dv=dv, within=\"phase\", between=\"condition\", subject=\"subject\")\n",
    "# Post-hoc tests\n",
    "posthoc_mixed = pg.pairwise_ttests(data=df_analysis.reset_index(), dv=dv, within=\"phase\", between=\"condition\", subject=\"subject\", effsize=\"hedges\", tail='one-sided', padjust='bonf')\n",
    "\n",
    "# Output\n",
    "display(Markdown(\"All normally distributed: **{}**\".format(df_norm['normal'].all())))\n",
    "display(df_norm.round(3))\n",
    "display(Markdown(\"All variances (approximately) equal: **{}**\".format(df_hom['equal_var'].all())))\n",
    "\n",
    "display(Markdown(\"**Mixed ANOVA**\"))\n",
    "display(anova_mixed.round(3))\n",
    "\n",
    "display(Markdown(\"**Post-hoc tests**\"))\n",
    "display(Markdown(\"Significant interaction effect => Considering group differences at each time point (phase * condition))\"))\n",
    "display(posthoc_mixed.round(3))"
   ]
  },
  {
   "cell_type": "markdown",
   "metadata": {},
   "source": [
    "##### Interpretation\n",
    "\n",
    "\"Over the three *MIST* phases the *HR* during *BL* of the *Intervention* group remained roughly constant, whereas it showed strong increases over time in the *Control* group (Figure 5). This drift of baseline levels in the *Control* group is reflected by a significant interaction of *condition* and *MIST Phase* in HR and (Table 6). Post-hoc tests in Table 7 revealed that baselines started to significantly differ in *MIST2* and continued for *MIST3*.\""
   ]
  },
  {
   "cell_type": "markdown",
   "metadata": {},
   "source": [
    "#### Plots"
   ]
  },
  {
   "cell_type": "code",
   "execution_count": null,
   "metadata": {},
   "outputs": [],
   "source": [
    "fig, ax = plt.subplots()\n",
    "sns.boxplot(data=df_analysis.reset_index(), x=\"phase\", y=dv, hue=\"condition\", hue_order=[\"Control\", \"Intervention\"], ax=ax)\n",
    "\n",
    "sig_pairs = [\n",
    "    ((\"MIST2\", \"Control\"), (\"MIST2\", \"Intervention\")),\n",
    "    ((\"MIST3\", \"Control\"), (\"MIST3\", \"Intervention\")),\n",
    "]\n",
    "\n",
    "add_stat_annotation(\n",
    "    ax=ax, data=df_analysis.reset_index(), \n",
    "    x=\"phase\", y=dv, hue=\"condition\", \n",
    "    box_pairs=sig_pairs,\n",
    "    pvalue_thresholds=pvalue_thres,\n",
    "    test=\"t-test_ind\",\n",
    "    hue_order=[\"Control\", \"Intervention\"],\n",
    "    comparisons_correction='bonferroni'\n",
    ")\n",
    "\n",
    "ax.set_title(\"Relative Heart Rate during BL\")\n",
    "ax.set_ylabel(\"$\\Delta HR~[\\%]$\")\n",
    "fig.tight_layout()"
   ]
  },
  {
   "attachments": {},
   "cell_type": "markdown",
   "metadata": {},
   "source": [
    "#### Examination – II\n",
    "\n",
    "It is investigated whether the intervention causes significant differences between the two groups during the MIST during the *CFI* subphase."
   ]
  },
  {
   "attachments": {},
   "cell_type": "markdown",
   "metadata": {},
   "source": [
    "#### Statistics"
   ]
  },
  {
   "attachments": {},
   "cell_type": "markdown",
   "metadata": {},
   "source": [
    "##### Analysis\n",
    "\n",
    "* Preparatory analysis:\n",
    "    * Test for normal distribution (Shapiro-Wilk test)\n",
    "    * Test for equality of variance (Levene test)\n",
    "* *Test*: Mixed ANOVA\n",
    "* *DV*: $\\text{HR}_{rel}$ (normalized heart rate) during *CFI* => since in this analysis not only inner subject factors (repeated measurements) are considered, but rather group comparisons\n",
    "* *Inner-subject factor*: Phase\n",
    "* *Inter-subject factor*: Group\n",
    "* *Measure of effect size*: $\\eta_p^2$\n",
    "\n",
    "=> Analogous analysis for the other HRV parameters"
   ]
  },
  {
   "cell_type": "code",
   "execution_count": null,
   "metadata": {},
   "outputs": [],
   "source": [
    "dv = \"HR_rel\"\n",
    "\n",
    "df_analysis = df_hr.xs(\"CFI\", level='subphase')\n",
    "\n",
    "# Test for normal distribution\n",
    "df_norm = df_analysis.reset_index().groupby(by=[\"phase\"]).apply(lambda df: pg.normality(data=df, dv=dv, group=\"condition\"))\n",
    "# Test for homoscedasticity\n",
    "df_hom = df_analysis.reset_index().groupby(by=[\"phase\"]).apply(lambda df: pg.homoscedasticity(data=df, dv=dv, group=\"condition\"))\n",
    "\n",
    "# Mixed ANOVA\n",
    "anova_mixed = pg.mixed_anova(data=df_analysis.reset_index(), dv=dv, within=\"phase\", between=\"condition\", subject=\"subject\")\n",
    "\n",
    "# Output\n",
    "display(Markdown(\"Alle normalverteilt: **{}**\".format(df_norm['normal'].all())))\n",
    "display(df_norm.round(3))\n",
    "display(Markdown(\"Alle Varianzen (in etwa) gleich: **{}**\".format(df_hom['equal_var'].all())))\n",
    "\n",
    "display(Markdown(\"**Mixed ANOVA**\"))\n",
    "display(anova_mixed.round(3))"
   ]
  },
  {
   "cell_type": "markdown",
   "metadata": {},
   "source": [
    "##### Interpretation\n",
    "\n",
    "\"For the *CFI/RP* sub-phase ANOVA revealed no significant interaction effects, but significant main effects for *condition* (Table 6). These findings indicate that the Intervention group recovered better from acute stress than the Control group.\""
   ]
  },
  {
   "cell_type": "markdown",
   "metadata": {},
   "source": [
    "#### Plots"
   ]
  },
  {
   "cell_type": "code",
   "execution_count": null,
   "metadata": {},
   "outputs": [],
   "source": [
    "dv = \"HR_rel\"\n",
    "df_plot = df_hr.loc[pd.IndexSlice[:, :, :, [\"BL\", \"CFI\"]]]\n",
    "fig, axs = plt.subplots(figsize=(10, 5), ncols=2)\n",
    "\n",
    "for (key, df), ax in zip(df_plot.reset_index().groupby(\"subphase\"), axs):\n",
    "    sns.violinplot(data=df, x=\"phase\", y=dv, hue=\"condition\", hue_order=[\"Control\", \"Intervention\"], split=True, ax=ax)\n",
    "    ax.set_title(\"Relative Heart Rate during {}\".format(key))\n",
    "    ax.set_ylabel(\"$\\Delta HR~[\\%]$\")\n",
    "\n",
    "fig.tight_layout()"
   ]
  },
  {
   "attachments": {},
   "cell_type": "markdown",
   "metadata": {},
   "source": [
    "### Question III: Does the intervention show an effect on mood worsening?"
   ]
  },
  {
   "attachments": {},
   "cell_type": "markdown",
   "metadata": {},
   "source": [
    "#### Examination\n",
    "\n",
    "It is examined whether the intervention creates significant differences between the two groups in terms of stress-induced worsening of the mood."
   ]
  },
  {
   "attachments": {},
   "cell_type": "markdown",
   "metadata": {},
   "source": [
    "#### Statistics"
   ]
  },
  {
   "attachments": {},
   "cell_type": "markdown",
   "metadata": {},
   "source": [
    "##### Analysis\n",
    "* Preparatory analysis:\n",
    "    * Test for normal distribution (Shapiro-Wilk test)\n",
    "    * Test for equality of variance (Levene test)\n",
    "* * Test*: Mixed ANOVA\n",
    "* *DV*: MDBF subscales\n",
    "* *Inner-subject factor*: Time\n",
    "* *Inter-subject factor*: Group\n",
    "* *Measure of effect size*: $\\eta_p^2$"
   ]
  },
  {
   "cell_type": "code",
   "execution_count": null,
   "metadata": {},
   "outputs": [],
   "source": [
    "df_mood.head()"
   ]
  },
  {
   "cell_type": "code",
   "execution_count": null,
   "metadata": {},
   "outputs": [],
   "source": [
    "dv = \"MDBF\"\n",
    "# Selecting the data to be examined\n",
    "df_analysis = df_mood\n",
    "\n",
    "\n",
    "# Test for normal distribution\n",
    "df_norm = df_analysis.reset_index().groupby(by=[\"type\", \"time\"]).apply(lambda df: pg.normality(data=df, dv=dv, group=\"condition\"))\n",
    "# Test for homoscedasticity\n",
    "df_homo = df_analysis.reset_index().groupby(by=[\"type\", \"time\"]).apply(lambda df: pg.homoscedasticity(data=df, dv=dv, group=\"condition\"))\n",
    "\n",
    "# Mixed ANOVA per MDBF subscale\n",
    "anova_mixed = df_analysis.reset_index().groupby(by=[\"type\"]).apply(lambda df: pg.mixed_anova(data=df, dv=dv, within=\"time\", between=\"condition\", subject=\"subject\"))\n",
    "\n",
    "# Output\n",
    "display(Markdown(\"All normally distributed: **{}**\".format(df_norm['normal'].all())))\n",
    "display(Markdown(\"All variances (approximately) equal: **{}**\".format(df_hom['equal_var'].all())))\n",
    "\n",
    "display(Markdown(\"**Mixed ANOVA**\"))\n",
    "display(anova_mixed.round(3))"
   ]
  },
  {
   "cell_type": "markdown",
   "metadata": {},
   "source": [
    "##### Interpretation\n",
    "\n",
    "\"Subjects in the Intervention group experienced slightly decreased mood worsening compared to the Control group, especially in the *Awake-Tired* dimension (Control: $12.45\\% ± 13.28\\%$; Intervention: $7.84\\% ± 20.38\\%$). However, ANOVA revealed no significant interaction effects (*condition* by *time*) and no significant main effects for *conditon*.\""
   ]
  },
  {
   "attachments": {},
   "cell_type": "markdown",
   "metadata": {},
   "source": [
    "### Question IV: Does the intervention show an effect on the endocrine stress response?"
   ]
  },
  {
   "attachments": {},
   "cell_type": "markdown",
   "metadata": {},
   "source": [
    "#### Examination – I\n",
    "\n",
    "It is examined whether the intervention creates significant differences between the two groups in terms of endocrine stress response."
   ]
  },
  {
   "attachments": {},
   "cell_type": "markdown",
   "metadata": {},
   "source": [
    "#### Statistics"
   ]
  },
  {
   "attachments": {},
   "cell_type": "markdown",
   "metadata": {},
   "source": [
    "##### Analysis\n",
    "* Preparatory analysis:\n",
    "    * Test for normal distribution (Shapiro-Wilk test)\n",
    "* *Test*: Independent t-test (two-sided)\n",
    "* *DVs*: \n",
    "    * $\\text{max_inc}$ (maximum cortisol increase in percent)\n",
    "    * $AUC_g$\n",
    "    * $AUC_i$\n",
    "    * $a_{S1S4}$\n",
    "* *Measure of effect size*: Hedge's g\n",
    "\n",
    "=> Analogous for other cortisol parameters ($\\text{AUC}_g$, $\\text{AUC}_i$, slope $a_{s1s4}$, ...)"
   ]
  },
  {
   "cell_type": "code",
   "execution_count": null,
   "metadata": {},
   "outputs": [],
   "source": [
    "df_cort"
   ]
  },
  {
   "cell_type": "code",
   "execution_count": null,
   "metadata": {},
   "outputs": [],
   "source": [
    "dv = \"cortisol\"\n",
    "biomarker = [\"max_inc_percent\", \"auc_g\", \"auc_i\", \"slope14\"]\n",
    "df_analysis = df_cort.loc[pd.IndexSlice[:, :, biomarker]]\n",
    "\n",
    "# Test for normal distribution\n",
    "df_norm = df_analysis.reset_index().groupby(\"biomarker\").apply(lambda df: pg.normality(data=df, dv=dv, group=\"condition\"))\n",
    "df_norm_grp = pd.DataFrame(df_norm.reset_index().groupby(\"biomarker\").apply(lambda df: df['normal'].all())).T\n",
    "\n",
    "display(df_norm)\n",
    "display(df_norm_grp)\n",
    "\n",
    "# t-tests per biomarker\n",
    "ttest_group = df_analysis.reset_index().groupby(\"biomarker\").apply(lambda df: pg.pairwise_ttests(data=df, dv=dv, between=\"condition\", subject=\"subject\", effsize=\"hedges\"))\n",
    "# Mann-Whitney U tests per biomarker\n",
    "mwu_group = df_analysis[dv].groupby(by=\"biomarker\").apply(lambda df: pg.mwu(x=df.xs(\"Control\", level=\"condition\"), y=df.xs(\"Intervention\", level=\"condition\")))\n",
    "\n",
    "# Output\n",
    "display(Markdown(\"All normally distributed: **{}**\".format(df_norm['normal'].all())))\n",
    "display(Markdown(\"Normal distribution **not** given for **all** distributions => *Mann-Whitney-U-Test* instead of t-test for the non-normally distributed variables\"))\n",
    "\n",
    "for bm in biomarker:\n",
    "    is_normal = df_norm_grp[bm].all()\n",
    "    display(Markdown(\"* *{}* => Normal: **{}**\".format(bm, is_normal)))\n",
    "    if is_normal:\n",
    "        display(ttest_group.loc[bm])\n",
    "    else:\n",
    "        display(mwu_group.loc[bm])\n",
    "\n",
    "#display(Markdown(\"**Mann-Whitney-U-Tests**\"))\n",
    "#display(mwu_group.round(3))\n",
    "#display(Markdown(\"**t-tests**\"))\n",
    "#display(ttest_group.round(3))"
   ]
  },
  {
   "cell_type": "markdown",
   "metadata": {},
   "source": [
    "##### Interpretation\n",
    "\n",
    "\"Subjects in the Intervention group had significantly lower maximum cortisol responses compared to the Control group ($t(24) = 2.505, p = 0.019, d = 0.952$).\""
   ]
  },
  {
   "cell_type": "markdown",
   "metadata": {},
   "source": [
    "#### Plots"
   ]
  },
  {
   "cell_type": "code",
   "execution_count": null,
   "metadata": {},
   "outputs": [],
   "source": [
    "fig, axs = plt.subplots(ncols=len(biomarker), figsize=(12,5))\n",
    "xlabel_map = {\n",
    "    'auc_g': r\"$AUC_G$\",\n",
    "    'auc_i': r\"$AUC_I$\",\n",
    "    'max_inc_percent': r\"$Inc_{max}$\",\n",
    "    'slope14': r\"$a_{S1S4}$\",\n",
    "}\n",
    "ylabel_map = {\n",
    "    'auc_g': r\"Cortisol AUC $\\left[\\frac{nmol \\cdot min}{l}\\right]$\",\n",
    "    'auc_i': r\"Cortisol AUC $\\left[\\frac{nmol \\cdot min}{l}\\right]$\",\n",
    "    'max_inc_percent': r\"Cortisol Change $[\\%]$\",\n",
    "    'slope14': r\"Cortisol Change $\\left[\\frac{nmol}{l \\cdot min}\\right]$\",\n",
    "}\n",
    "\n",
    "for (key, df), ax in zip(df_analysis.reset_index().groupby(\"biomarker\"), axs):\n",
    "    sns.boxplot(data=df, x=\"condition\", y=\"cortisol\", ax=ax)\n",
    "    ax.set_xlabel(xlabel_map[key])\n",
    "    ax.set_ylabel(ylabel_map[key])\n",
    "    \n",
    "\n",
    "# stat annotation for significant features\n",
    "for bm, i, test in zip([\"max_inc_percent\", \"slope14\"], [2, 3], [\"t-test_ind\", \"Mann-Whitney\"]):   \n",
    "    add_stat_annotation(\n",
    "        ax=axs[i], data=df_analysis.xs(bm, level=\"biomarker\").reset_index(),\n",
    "        x=\"condition\", y=dv, \n",
    "        box_pairs=[(\"Control\", \"Intervention\")],\n",
    "        pvalue_thresholds=pvalue_thres,\n",
    "        test=test,\n",
    "        order=[\"Control\", \"Intervention\"]\n",
    "    )\n",
    "\n",
    "fig.tight_layout()"
   ]
  },
  {
   "cell_type": "markdown",
   "metadata": {},
   "source": [
    "#### Untersuchung – II\n",
    "Es wird untersucht, ob die Intervention den Cortisolverlauf beeinflusst."
   ]
  },
  {
   "cell_type": "markdown",
   "metadata": {},
   "source": [
    "#### Statistik"
   ]
  },
  {
   "cell_type": "markdown",
   "metadata": {},
   "source": [
    "##### Analyse\n",
    "* Vorbereitende Analyse:\n",
    "    * Test auf Normalverteilung (Shapiro-Wilk-Test)\n",
    "    * Test auf Varianzgleichheit (Levene-Test)\n",
    "* *Test*: Mixed ANOVA\n",
    "* *AV*: Cortisol-Rohwerte\n",
    "* *Maß für Effektstärke*: $\\eta_p^2$"
   ]
  },
  {
   "cell_type": "code",
   "execution_count": null,
   "metadata": {},
   "outputs": [],
   "source": [
    "dv = \"cortisol\"\n",
    "# Entfernen von S0\n",
    "df_analysis = df_cort_raw.drop('0', level='sample')\n",
    "\n",
    "# Test auf Normalverteilung\n",
    "df_norm = df_analysis.reset_index().groupby(\"sample\").apply(lambda df: pg.normality(data=df, dv=dv, group=\"condition\"))\n",
    "# Test auf Homoskedastizität\n",
    "df_hom = df_analysis.reset_index().groupby(\"sample\").apply(lambda df: pg.homoscedasticity(data=df, dv=dv, group=\"condition\"))\n",
    "\n",
    "anova_mixed = pg.mixed_anova(data=df_analysis.reset_index(), dv=dv, between=\"condition\", within=\"sample\", subject=\"subject\")\n",
    "\n",
    "# Ausgaben\n",
    "display(Markdown(\"Alle normalverteilt: **{}**\".format(df_norm['normal'].all())))\n",
    "display(df_norm.round(3))\n",
    "display(Markdown(\"Alle Varianzen (in etwa) gleich: **{}**\".format(df_hom['equal_var'].all())))\n",
    "\n",
    "display(anova_mixed.round(3))"
   ]
  },
  {
   "cell_type": "markdown",
   "metadata": {},
   "source": [
    "##### Interpretation\n",
    "\n",
    "ANOVA further showed a significant interaction of *condition* by *time* for raw cortisol samples ($F(5,120) = 3.839, p = 0.003, \\eta_p^2 = 0.138$)."
   ]
  },
  {
   "cell_type": "code",
   "execution_count": null,
   "metadata": {},
   "outputs": [],
   "source": []
  }
 ],
 "metadata": {
  "kernelspec": {
   "display_name": "Python 3",
   "language": "python",
   "name": "python3"
  },
  "language_info": {
   "codemirror_mode": {
    "name": "ipython",
    "version": 3
   },
   "file_extension": ".py",
   "mimetype": "text/x-python",
   "name": "python",
   "nbconvert_exporter": "python",
   "pygments_lexer": "ipython3",
   "version": "3.8.3"
  },
  "toc-autonumbering": false,
  "toc-showmarkdowntxt": false
 },
 "nbformat": 4,
 "nbformat_minor": 4
}
