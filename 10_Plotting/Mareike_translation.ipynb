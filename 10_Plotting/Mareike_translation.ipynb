{
 "cells": [
  {
   "cell_type": "markdown",
   "metadata": {},
   "source": [
    "# Plotten mittels Matplotlib und Seaborn"
   ]
  },
  {
   "cell_type": "code",
   "execution_count": null,
   "metadata": {},
   "outputs": [],
   "source": [
    "from pathlib import Path\n",
    "\n",
    "import pandas as pd\n",
    "import numpy as np\n",
    "\n",
    "import matplotlib.pyplot as plt\n",
    "import seaborn as sns\n",
    "\n",
    "import biopsykit as bp\n",
    "import biopsykit.saliva as saliva\n",
    "\n",
    "%matplotlib widget\n",
    "%load_ext autoreload\n",
    "%autoreload 2"
   ]
  },
  {
   "cell_type": "code",
   "execution_count": null,
   "metadata": {},
   "outputs": [],
   "source": [
    "plt.close('all')"
   ]
  },
  {
   "cell_type": "markdown",
   "metadata": {},
   "source": [
    "## Matplotlib"
   ]
  },
  {
   "cell_type": "markdown",
   "metadata": {},
   "source": [
    "Importieren des `pyplot`-Interfaces von Matplotlib:  \n",
    "`import matplotlib.pyplot as plt`\n",
    "\n",
    "`pyplot`: Prozedurale Schnittstelle zur objektorientierten Plot-Bibliothek von Matplotlib. Die Kommandos von `pyplot` sind so gewählt, dass sie sowohl in den Namen als auch in ihren Argumenten *MATLAB* ähnlich sind.\n",
    "\n",
    "Damit Matplotlib Plots innerhalb des Notebooks angezeigt werden, und man mit ihnen interagieren (zoomen, etc.) kann, muss man das JupyterLab-Matplotlib-Widget aktivieren:  \n",
    "`%matplotlib widget`"
   ]
  },
  {
   "cell_type": "markdown",
   "metadata": {},
   "source": [
    "### Einführung"
   ]
  },
  {
   "cell_type": "markdown",
   "metadata": {},
   "source": [
    "Ein Plot besteht aus einer `Figure` (z.B. ein Fenster, ein Jupyter-Widget, etc.) mit einer oder mehreren `Axes` (eine Fläche, in der Daten geplottet werden).\n",
    "\n",
    "Usage Guide: https://matplotlib.org/tutorials/introductory/usage.html#sphx-glr-tutorials-introductory-usage-py"
   ]
  },
  {
   "cell_type": "markdown",
   "metadata": {},
   "source": [
    "*Matplotlib* unterstützt sowohl eine *objektorientierte* als auch eine *imperative* Syntax für das Plotten. Die imperative Syntax wurde bewusst so konzipiert, dass sie der *MATLAB*-Syntax sehr nahe kommt und arbeitet auf dem globalen `plt`-Modul (\"state machine\"). Die objektorientierte Syntax ist der imperativen sehr ähnlich, arbeitet aber im Gegensatz zur imperativen Syntax auf `Figure`- und `Axes`-Objekten, die zum jeweiligen Plot gehören."
   ]
  },
  {
   "cell_type": "markdown",
   "metadata": {},
   "source": [
    "<div class=\"alert alert-block alert-info\">\n",
    "    <b>Hinweis:</b> Die objektorientierte Syntax ist normalerweise intuitiver zu verwenden, da sich die Plot-Funktionen auf ein bestimmtes Objekt auswirken und nicht auf das globale <code>plt</code>-Modul.\n",
    "</div>"
   ]
  },
  {
   "cell_type": "code",
   "execution_count": null,
   "metadata": {},
   "outputs": [],
   "source": [
    "x = np.arange(0, 2, 0.01)\n",
    "y = np.sin(4 * np.pi * x)"
   ]
  },
  {
   "cell_type": "markdown",
   "metadata": {},
   "source": [
    "#### Imperative Syntax"
   ]
  },
  {
   "cell_type": "code",
   "execution_count": null,
   "metadata": {},
   "outputs": [],
   "source": [
    "plt.figure() # Erzeugen einer neuen Figure\n",
    "plt.plot(x, y)\n",
    "plt.xlabel('Zeit [s]')\n",
    "plt.ylabel('Amplitude [V]')\n",
    "plt.title('Einfacher Plot – Imperative Syntax')\n",
    "plt.grid(True)"
   ]
  },
  {
   "cell_type": "markdown",
   "metadata": {},
   "source": [
    "#### Objektorientierte Syntax"
   ]
  },
  {
   "cell_type": "code",
   "execution_count": null,
   "metadata": {},
   "outputs": [],
   "source": [
    "fig, ax = plt.subplots() # Erzeugen eines Figure-Objekts und einer zugehörigen Axes\n",
    "ax.plot(x, y)\n",
    "ax.set_xlabel(\"x-Achse\")\n",
    "ax.set_ylabel(\"y-Achse\")\n",
    "ax.set_title(\"Einfacher Plot – Objektorientierte Syntax\")\n",
    "ax.grid(True)\n",
    "\n",
    "fig.tight_layout()"
   ]
  },
  {
   "cell_type": "markdown",
   "metadata": {},
   "source": [
    "<div class=\"alert alert-block alert-info\">\n",
    "    <b>Hinweis:</b> Wenn die Warnung\n",
    "    <p><code>RuntimeWarning: More than 20 figures have been opened. Figures created through the pyplot interface (matplotlib.pyplot.figure) are retained until explicitly closed and may consume too much memory.</code></p>\n",
    "    erscheint, dann bedeutet das lediglich, dass im Laufe der Ausführung des Notebooks immer neue Figures erzeugt wurden (z.B. indem man immer neu <code>plt.figure()</code> oder <code>plt.subplots()</code> aufgerufen hat). Durch das einmalige Aufrufen von <code>plt.close('all')</code> (das z.B. am Anfang des Notebooks in der Zelle, in der auch externe Bibliotheken importiert werden, steht) schließt man alle im Hintergrund geöffneten Figures.\n",
    "</div>"
   ]
  },
  {
   "cell_type": "markdown",
   "metadata": {},
   "source": [
    "### Einfache Plots"
   ]
  },
  {
   "cell_type": "markdown",
   "metadata": {},
   "source": [
    "Daten laden und Mittelwert pro Gruppe berechnen:"
   ]
  },
  {
   "cell_type": "code",
   "execution_count": null,
   "metadata": {},
   "outputs": [],
   "source": [
    "data = pd.read_csv('data/cortisol_sample.csv', index_col='subject')\n",
    "data_mean = data.groupby('condition').mean()\n",
    "data_mean"
   ]
  },
  {
   "cell_type": "code",
   "execution_count": null,
   "metadata": {},
   "outputs": [],
   "source": [
    "#fig, ax = plt.subplots() # Erzeugen einer Figure und einer dazugehörigen Axes\n",
    "fig, ax = plt.subplots(figsize=(8, 5)) # Größe der Figure (und Seitenverhältnis) spezifizieren\n",
    "ax.plot(data_mean.xs('Control'), 'o-') # Plotten der Control-Gruppe. Hier: 'o-', um Linie und Marker der Daten zu plotten\n",
    "ax.set_xlabel(\"Cortisol Sample\") # Titel der x-Achse\n",
    "ax.set_ylabel(\"Cortisol [nmol/l]\") # Titel der y-Achse\n",
    "ax.set_ylim([5, 8]) # y-Achsen-Limit\n",
    "ax.tick_params(bottom=True, left=True) # Ticks der x- und y-Achsen aktivieren"
   ]
  },
  {
   "cell_type": "markdown",
   "metadata": {},
   "source": [
    "Mehrere Linien in einer Axes:"
   ]
  },
  {
   "cell_type": "code",
   "execution_count": null,
   "metadata": {},
   "outputs": [],
   "source": [
    "fig, ax = plt.subplots(figsize=(8, 5)) # Größe der Figure (und Seitenverhältnis) spezifizieren\n",
    "ax.plot(data_mean.xs('Control'), 'o-', label=\"Control\") # Plotten der Control-Gruppe\n",
    "ax.plot(data_mean.xs('Intervention'), 'o--', label=\"Intervention\") # Plotten der Intervention-Gruppe; -- = Gestrichelte Lniie\n",
    "ax.set_xlabel(\"Cortisol Sample\") # Titel der x-Achse\n",
    "ax.set_ylabel(\"Cortisol [nmol/l]\") # Titel der y-Achse\n",
    "ax.set_ylim([3, 8]) # y-Achsen-Limit\n",
    "ax.tick_params(bottom=True, left=True) # Ticks der x- und y-Achsen aktivieren\n",
    "ax.legend() # Legende zur Unterscheidung der beiden Gruppen"
   ]
  },
  {
   "cell_type": "markdown",
   "metadata": {},
   "source": [
    "### Mehrere *Subplots* in einer *Figure*"
   ]
  },
  {
   "cell_type": "markdown",
   "metadata": {},
   "source": [
    "`plt.subplots` kann auch mehrere *Axes* in einer *Figure* erzeugen und in einem Raster anlegen (Parameter: `nrows` bzw. `ncols`). Anstelle eines *Figure* und eines *Axes* Objektes gibt die Funktion jetzt eine *Figure* und ein Array aus *Axes* zurück:"
   ]
  },
  {
   "cell_type": "code",
   "execution_count": null,
   "metadata": {},
   "outputs": [],
   "source": [
    "fig, axs = plt.subplots(nrows=2, ncols=1, sharex=True, sharey=True)\n",
    "print(type(axs))\n",
    "print(len(axs))\n",
    "axs[0].plot(data_mean.xs('Control'))\n",
    "axs[0].set_title('Control')\n",
    "axs[0].set_ylabel('Cortisol [nmol/l]')\n",
    "axs[1].plot(data_mean.xs('Intervention'))\n",
    "axs[1].set_title('Intervention')\n",
    "axs[1].set_ylabel('Cortisol [nmol/l]')\n",
    "axs[1].set_xlabel('Samples')\n",
    "fig.tight_layout() # tight_layout() passt am Ende des Plottens noch Abstände zwischen Subplots, Achsen-Labels etc. an"
   ]
  },
  {
   "cell_type": "markdown",
   "metadata": {},
   "source": [
    "### Verwenden der `plot`-Methode von DataFrames\n",
    "Pandas Dataframes (und auch GroupBy-Objekte) besitzen eine `plot` methode, die direkt aufgerufen werden kann. Der Index wird dabei zur x-Achse, die Spalten zur y-Achse."
   ]
  },
  {
   "cell_type": "code",
   "execution_count": null,
   "metadata": {},
   "outputs": [],
   "source": [
    "data_mean.T"
   ]
  },
  {
   "cell_type": "markdown",
   "metadata": {},
   "source": [
    "Transponieren des Dataframes, damit Samples zum Index (-> x-Achse) werden und Gruppen zu Spalten (-> y-Achse).\n",
    "`plot()` gibt ein `Axes`-Objekt (oder ein Array aus `Axes`-Objekten) zurück, mit dem im Anschluss weitergearbeitet werden kann."
   ]
  },
  {
   "cell_type": "code",
   "execution_count": null,
   "metadata": {},
   "outputs": [],
   "source": [
    "ax = data_mean.T.plot()\n",
    "# weitere Operationen auf Axes-Objekt\n",
    "ax.set_xlabel(\"Sample\")\n",
    "ax.set_ylabel(\"Cortisol [nmol/l]\")\n",
    "ax.tick_params(bottom=True, left=True) # Ticks der x- und y-Achsen aktivieren"
   ]
  },
  {
   "cell_type": "markdown",
   "metadata": {},
   "source": [
    "Der `plot()`-Methode kann auch ein bereits erzeuges `Axes`-Objekt übergeben werden, in welches dann hineingeplottet wird:"
   ]
  },
  {
   "cell_type": "code",
   "execution_count": null,
   "metadata": {},
   "outputs": [],
   "source": [
    "fig, ax = plt.subplots()\n",
    "data_mean.T.plot(ax=ax)\n",
    "# weitere Operationen..."
   ]
  },
  {
   "cell_type": "markdown",
   "metadata": {},
   "source": [
    "Konfiguration der `plot()`-Methode:"
   ]
  },
  {
   "cell_type": "code",
   "execution_count": null,
   "metadata": {},
   "outputs": [],
   "source": [
    "ax = data_mean.T.plot(kind='bar') # Plot-Art"
   ]
  },
  {
   "cell_type": "code",
   "execution_count": null,
   "metadata": {},
   "outputs": [],
   "source": [
    "axs = data_mean.T.plot(figsize=(8, 3), subplots=True, layout=(1,2), sharey=True) # Jede Spalte wird als eigener Subplot geplottet, 'layout' spezifiziert das Plot-Layout (Anzahl der Zeilen/Spalten)"
   ]
  },
  {
   "cell_type": "markdown",
   "metadata": {},
   "source": [
    "### **Linksammlung**: Relevante Funktionen von Matplotlib"
   ]
  },
  {
   "cell_type": "markdown",
   "metadata": {},
   "source": [
    "* Matplotlib Sample Plots: \n",
    "    * https://matplotlib.org/tutorials/introductory/sample_plots.html#sphx-glr-tutorials-introductory-sample-plots-py\n",
    "    * https://matplotlib.org/gallery/index.html\n",
    "* Artists: https://matplotlib.org/tutorials/intermediate/artists.html#sphx-glr-tutorials-intermediate-artists-py\n",
    "    * Annotations: https://matplotlib.org/tutorials/text/annotations.html#sphx-glr-tutorials-text-annotations-py\n",
    "    * Text: https://matplotlib.org/tutorials/text/text_intro.html#sphx-glr-tutorials-text-text-intro-py\n",
    "* Legends: https://matplotlib.org/tutorials/intermediate/legend_guide.html#sphx-glr-tutorials-intermediate-legend-guide-py"
   ]
  },
  {
   "cell_type": "code",
   "execution_count": null,
   "metadata": {},
   "outputs": [],
   "source": [
    "plt.close('all')"
   ]
  },
  {
   "cell_type": "markdown",
   "metadata": {},
   "source": [
    "### **Beispiel**: Veränderung / Erweiterung von bestehenden Plots"
   ]
  },
  {
   "cell_type": "markdown",
   "metadata": {},
   "source": [
    "Plots von Funktionen aus Bibliotheken (also Funktionen, die ein Axes-Objekt zurückliefern oder denen man ein Axes-Objekt übergibt, in welches dann geplottet wird), kann man – wie selbst erzeugte Plots – flexibel erweitern und verändern."
   ]
  },
  {
   "cell_type": "code",
   "execution_count": null,
   "metadata": {},
   "outputs": [],
   "source": [
    "import biopsykit.signals.ecg as ecg\n",
    "from biopsykit.protocols import CFT\n",
    "\n",
    "plt.rcParams['timezone'] = \"Europe/Berlin\" # Spezifikation der Zeitzone in den Matplotlib-Einstellungen, falls Plots mit Datetime-Achsen geplottet werden\n",
    "cft = CFT()\n",
    "# Laden der zu plottenden Daten\n",
    "hr_dict = ecg.io.load_hr_subject_dict(\"data/hr_sample_mist.xlsx\")\n",
    "df_hr = hr_dict['MIST3']\n",
    "\n",
    "# CFT-parameter berechnen (mehr dazu im nächsten Video):\n",
    "params = cft.compute_cft_parameter(df_hr, return_dict=True)\n",
    "params"
   ]
  },
  {
   "cell_type": "code",
   "execution_count": null,
   "metadata": {},
   "outputs": [],
   "source": [
    "fig, ax = cft.cft_plot(data=df_hr, figsize=(10,5))"
   ]
  },
  {
   "cell_type": "markdown",
   "metadata": {},
   "source": [
    "#### Manuelles Erstellen des Grund-Plots"
   ]
  },
  {
   "cell_type": "markdown",
   "metadata": {},
   "source": [
    "CFT-Daten bestehen aus 3 Phasen:\n",
    "* Baseline (0s - 60s)\n",
    "* Cold Face Test-Intervention (60s - 180s)\n",
    "* Recovery (180s - 240s)\n",
    "\n",
    "\n",
    "Zuwerst wird der Index von absoluter Zeit (`datetime`) in relative Zeit (Beginn des Plots:`0 s`) umgewandelt.\n",
    "Da der Datensatz länger als 240s ist (ab 240s beginnt der Stress-Test), wird der Rest abgeschnitten"
   ]
  },
  {
   "cell_type": "code",
   "execution_count": null,
   "metadata": {},
   "outputs": [],
   "source": [
    "df_cft = df_hr.copy()\n",
    "df_cft.index = (df_hr.index - df_hr.index[0]).total_seconds()\n",
    "\n",
    "# Start and end times of CFT phases\n",
    "plot_start = 0\n",
    "cft_start = 60\n",
    "cft_end = 180\n",
    "plot_end = 240\n",
    "df_cft = df_cft.loc[plot_start:plot_end]\n",
    "\n",
    "df_cft.head()"
   ]
  },
  {
   "cell_type": "code",
   "execution_count": null,
   "metadata": {},
   "outputs": [],
   "source": [
    "fig, ax = plt.subplots(figsize=(10,5))\n",
    "ax.plot(df_cft, color=\"#8D1429\", lw=1.5)\n",
    "ax.set_xlabel(\"Time [s]\")\n",
    "ax.set_ylabel(\"Heart Rate [bpm]\")\n",
    "ax.tick_params(left=True, bottom=True)\n",
    "ax.margins(x=0, y=0.1)\n",
    "fig.tight_layout()"
   ]
  },
  {
   "cell_type": "markdown",
   "metadata": {},
   "source": [
    "#### Implementierung einzelner Erweiterungen"
   ]
  },
  {
   "cell_type": "markdown",
   "metadata": {},
   "source": [
    "Plot-Parameter:\n",
    "* `ls` = linestyle\n",
    "* `lw` = linewidth\n",
    "* `alpha` = Transparenz\n",
    "* `ha` = horizontal Alignment\n",
    "* `va` = vertical Alignment\n",
    "* `s` = Text"
   ]
  },
  {
   "cell_type": "markdown",
   "metadata": {},
   "source": [
    "**Markieren der einzelnen Phasen mittels `axvspan` (Hintergrund) und `text` (Beschriftung)**"
   ]
  },
  {
   "cell_type": "markdown",
   "metadata": {},
   "source": [
    "Mehr zu Plot-Koordinaten und Achsen-Transformationen: https://matplotlib.org/3.1.1/tutorials/advanced/transforms_tutorial.html"
   ]
  },
  {
   "cell_type": "code",
   "execution_count": null,
   "metadata": {},
   "outputs": [],
   "source": [
    "ax.axvspan(xmin=plot_start, xmax=cft_start, color='#e0e0e0', alpha=0.5) # Baseline\n",
    "ax.axvspan(xmin=cft_start, xmax=cft_end, color='#9e9e9e', alpha=0.5) # CFT\n",
    "ax.axvspan(xmin=cft_end, xmax=plot_end, color='#757575', alpha=0.5) # Recovery"
   ]
  },
  {
   "cell_type": "code",
   "execution_count": null,
   "metadata": {},
   "outputs": [],
   "source": [
    "ax.text(\n",
    "    x=plot_start + 0.5 * (cft_start - plot_start), y=0.95, \n",
    "    transform=ax.get_xaxis_transform(), s=\"Baseline\", ha='center', va='center', fontsize=14\n",
    ")\n",
    "ax.text(\n",
    "    x=cft_start + 0.5 * (cft_end - cft_start), y=0.95, \n",
    "    transform=ax.get_xaxis_transform(), s=\"CFT\", ha='center', va='center', fontsize=14\n",
    ")\n",
    "ax.text(\n",
    "    x=cft_end + 0.5 * (plot_end - cft_end), y=0.95, \n",
    "    transform=ax.get_xaxis_transform(), s=\"Recovery\", ha='center', va='center', fontsize=14\n",
    ");"
   ]
  },
  {
   "cell_type": "markdown",
   "metadata": {},
   "source": [
    "**Baseline-Herzrate**  \n",
    "Horizontale Linie (`ax.hlines()` von `plot_start` bis `cft_end`)"
   ]
  },
  {
   "cell_type": "code",
   "execution_count": null,
   "metadata": {},
   "outputs": [],
   "source": [
    "ax.hlines(y=params['baseline_hr'], xmin=plot_start, xmax=cft_end, ls='--', lw=2, alpha=0.6, color='#98a4ae');"
   ]
  },
  {
   "cell_type": "markdown",
   "metadata": {},
   "source": [
    "**Peak Bradycardia** (niedrigste Herzrate)  \n",
    "* Vertikale Linie an Zeitpunkt $x_{peak}$\n",
    "* Marker an Stelle $(x_{peak}, y_{peak})$"
   ]
  },
  {
   "cell_type": "code",
   "execution_count": null,
   "metadata": {},
   "outputs": [],
   "source": [
    "x_peak_idx = params['cft_start_idx'] + params['peak_brady_idx']\n",
    "# Vertikale Linie\n",
    "ax.axvline(x=df_cft.index[x_peak_idx], ls='--', lw=2, alpha=0.6, color='#003865');"
   ]
  },
  {
   "cell_type": "code",
   "execution_count": null,
   "metadata": {},
   "outputs": [],
   "source": [
    "# Marker an einem Punkt\n",
    "ax.plot(df_cft.index[x_peak_idx], df_cft.iloc[x_peak_idx], color='#003865', marker='o', markersize=7);"
   ]
  },
  {
   "cell_type": "code",
   "execution_count": null,
   "metadata": {},
   "outputs": [],
   "source": [
    "# Viele, viele weitere Erweiterungsmöglichkeiten..."
   ]
  },
  {
   "cell_type": "markdown",
   "metadata": {},
   "source": [
    "### Exportieren von Plots"
   ]
  },
  {
   "cell_type": "markdown",
   "metadata": {},
   "source": [
    "Exportieren von Plots als Datei: `Figure.savefig(<filename>)`  \n",
    "Wichtige Parameter:\n",
    "* `format`: Dateiformat:\n",
    "    * Pixelgrafik: png, jpeg (Angabe von `dpi` steuert die Auflösung)\n",
    "    * Vektorgrafik (empfohlen, da Vektorgrafiken beim Heranzoomen nicht verpixeln und sich diese auch gut in Latex-Dokumenten einbinden lassen): `pdf`, `svg`. Empfohlen: `pdf`  \n",
    "    => falls nicht spezifiziert wird Dateiformat aus dem Dateinamen erschlossen\n",
    "* `dpi`: Auflösung der exportierten Grafik (bei Pixelgrafiken)\n",
    "* `transparent`: `True`, falls weißer Figure-Hintergrund transparent exportiert werden soll, `False`, falls Hintergrund weiß sein soll\n",
    "* ..."
   ]
  },
  {
   "cell_type": "code",
   "execution_count": null,
   "metadata": {},
   "outputs": [],
   "source": [
    "fig.savefig(\"img/cft_test.pdf\", format='pdf', transparent=True)\n",
    "fig.savefig(\"img/cft_test.png\", format='png', transparent=True, dpi=300)"
   ]
  },
  {
   "cell_type": "markdown",
   "metadata": {},
   "source": [
    "## Seaborn"
   ]
  },
  {
   "cell_type": "markdown",
   "metadata": {},
   "source": [
    "Seaborn (https://seaborn.pydata.org/): Python-Visualisierungsbibliothek, die auf Matplotlib aufbaut. Seaborn bietet viele *high-level* Plot-Funktionen, die die *low-level* Funktionen von Matplotlib wrappen und ist vor allem für die Visualisierung von statistischen Daten geeignet."
   ]
  },
  {
   "cell_type": "markdown",
   "metadata": {},
   "source": [
    "Import: `import seaborn as sns`"
   ]
  },
  {
   "cell_type": "markdown",
   "metadata": {},
   "source": [
    "Seaborn bietet verschiedenste Plot-Funktionen für verschiedene Datentypen:\n",
    "* Beziehungen von Daten: `sns.relplot()` (`scatterplot`, `lineplot`, ...)\n",
    "* Verteilungen von Daten: `sns.distplot()` (`histplot`, `kdeplot`, `rugplot`, ...)\n",
    "* Kategorien von Daten: `sns.catplot()` (`barplot`, `swarmplot`, `boxplot`, `violinplot`, ...)"
   ]
  },
  {
   "cell_type": "markdown",
   "metadata": {},
   "source": [
    "### Seaborn Styles und Context"
   ]
  },
  {
   "cell_type": "markdown",
   "metadata": {},
   "source": [
    "Seaborn bietet viele Funktionen, um das Aussehen eines Plots schnell und einfach zu verändern (https://seaborn.pydata.org/tutorial/aesthetics.html):\n",
    "* Context: Kontrolliert die Linienstärke, Textgröße, etc.  \n",
    "    Vordefinierte Contexts: `notebook` (default), `paper`, `talk`, `poster`  \n",
    "    => Ideal, um schnell verschieden skalierte Plots für Paper und Präsentation zu erzeugen\n",
    "* Style:  \n",
    "    Vordefinierte Styles: `darkgrid`, `whitegrid`, `dark`, `white`, und `ticks`  \n",
    "    => Abstrahiert verschiedene Style-Ästhetiken (Ticks, Schriftart, Grid, etc.), die in Matplotlib sonst \"manuell\" zu jedem Plot hinzugefügt werden müssen (oder in der Matplotlib-Konfiguration definiert werden müssen)\n",
    "* Color Palette:\n",
    "    Vordefinierte Farbpaletten und Funktionen, um Farbpaletten zu erzeugen: https://seaborn.pydata.org/tutorial/color_palettes.html"
   ]
  },
  {
   "cell_type": "code",
   "execution_count": null,
   "metadata": {},
   "outputs": [],
   "source": [
    "sns.set_theme(context='notebook', style='ticks')\n",
    "# Eine der vordefinierten Farbpaletten\n",
    "# palette = sns.color_palette(\"Paired\")\n",
    "# Alternative: Erstellen einer Farb-Palette mit dem FAU-Blau als Grundfarbe und weiteren, helleren Farbabstufungen.\n",
    "# Achtung: Diese Palette ist von \"hell\" nach \"dunkel angeordnet\" => Umkehren der Reihenfolge, damit FAU-blau erste Farbe ist\n",
    "palette = sns.color_palette(\"light:#003865\", n_colors=4)[::-1]\n",
    "\n",
    "# Setzen der Palette\n",
    "sns.set_palette(palette)\n",
    "# Anzeigen der Palettenfarben\n",
    "sns.color_palette(palette)"
   ]
  },
  {
   "cell_type": "markdown",
   "metadata": {},
   "source": [
    "<div class=\"alert alert-block alert-info\">\n",
    "    <b>Hinweis:</b> Das Setzen von Context-, Style- oder anderer Parameter mittels Seaborn oder Matplotlib wirkt sich auf <b>alle</b> Plots im Notebook aus, auch auf bereits erstelle, sobald diese aktualisiert werden!\n",
    "</div>"
   ]
  },
  {
   "cell_type": "markdown",
   "metadata": {},
   "source": [
    "Beispiel von Anfang:"
   ]
  },
  {
   "cell_type": "code",
   "execution_count": null,
   "metadata": {},
   "outputs": [],
   "source": [
    "fig, ax = plt.subplots() # Erzeugen eines Figure-Objekts und einer zugehörigen Axes\n",
    "ax.plot(x, y)\n",
    "ax.set_xlabel(\"x-Achse\")\n",
    "ax.set_ylabel(\"y-Achse\")\n",
    "ax.set_title(\"Einfacher Plot – Seaborn-Style\")\n",
    "fig.tight_layout()"
   ]
  },
  {
   "cell_type": "markdown",
   "metadata": {},
   "source": [
    "### Datenformat"
   ]
  },
  {
   "cell_type": "markdown",
   "metadata": {},
   "source": [
    "(Fast) alle Seaborn-Funktionen funktionieren am besten mit pandas Dataframes im *Long-Format*. Dadurch können einzelne Index-Spalten spezifiziert werden, um verschiedene Plots zwischen Gruppen, Zeitpunkten, Variablen, etc. zu erzeugen"
   ]
  },
  {
   "cell_type": "markdown",
   "metadata": {},
   "source": [
    "Laden der Beispiel-Cortisol-Daten und Berechnen von Standard-Features"
   ]
  },
  {
   "cell_type": "code",
   "execution_count": null,
   "metadata": {},
   "outputs": [],
   "source": [
    "data = bp.example_data.get_saliva_example()\n",
    "data_features = bp.saliva.standard_features(data)\n",
    "data_features.head()"
   ]
  },
  {
   "cell_type": "markdown",
   "metadata": {},
   "source": [
    "Umwandeln der beiden DataFrames ins *Long-Format*"
   ]
  },
  {
   "cell_type": "code",
   "execution_count": null,
   "metadata": {},
   "outputs": [],
   "source": [
    "data_long = pd.wide_to_long(\n",
    "    data_features.reset_index(), \n",
    "    stubnames=\"cortisol\", \n",
    "    sep='_', \n",
    "    i=['subject', 'condition'], \n",
    "    j='feature', \n",
    "    suffix=r\"\\w+\"\n",
    ")\n",
    "display(data.head())\n",
    "display(data_long.head())"
   ]
  },
  {
   "cell_type": "markdown",
   "metadata": {},
   "source": [
    "### Beziehungen von Daten"
   ]
  },
  {
   "cell_type": "markdown",
   "metadata": {},
   "source": [
    "#### Lineplot"
   ]
  },
  {
   "cell_type": "markdown",
   "metadata": {},
   "source": [
    "https://seaborn.pydata.org/generated/seaborn.lineplot.html#seaborn.lineplot"
   ]
  },
  {
   "cell_type": "markdown",
   "metadata": {},
   "source": [
    "Plotten des mittleren Cortisol-Verlaufs ± 95% CI als Error-Band"
   ]
  },
  {
   "cell_type": "code",
   "execution_count": null,
   "metadata": {},
   "outputs": [],
   "source": [
    "data"
   ]
  },
  {
   "cell_type": "code",
   "execution_count": null,
   "metadata": {},
   "outputs": [],
   "source": [
    "fig, ax = plt.subplots(figsize=(8, 5))\n",
    "sns.lineplot(data=data.reset_index(), x='sample', y='cortisol', ax=ax)\n",
    "fig.tight_layout()"
   ]
  },
  {
   "cell_type": "markdown",
   "metadata": {},
   "source": [
    "Standardabweichung statt 95%-CI als Errorband: `ci='sd'`, Deaktivieren des Errorbands: `ci=None`"
   ]
  },
  {
   "cell_type": "code",
   "execution_count": null,
   "metadata": {},
   "outputs": [],
   "source": [
    "fig, ax = plt.subplots(figsize=(8, 5))\n",
    "sns.lineplot(data=data.reset_index(), x='sample', y='cortisol', ax=ax, ci='sd')\n",
    "fig.tight_layout()"
   ]
  },
  {
   "cell_type": "markdown",
   "metadata": {},
   "source": [
    "Beide Gruppen separat geplottet: `hue` Parameter (verschiedene Farben) (alternativ: `style` Parameter für verschiedene Styles oder `hue` *und* `style` für Kombination)"
   ]
  },
  {
   "cell_type": "code",
   "execution_count": null,
   "metadata": {},
   "outputs": [],
   "source": [
    "fig, ax = plt.subplots(figsize=(8, 5))\n",
    "sns.lineplot(data=data.reset_index(), x='sample', y='cortisol', hue='condition', ax=ax)\n",
    "fig.tight_layout()"
   ]
  },
  {
   "cell_type": "code",
   "execution_count": null,
   "metadata": {},
   "outputs": [],
   "source": [
    "fig, ax = plt.subplots(figsize=(8, 5))\n",
    "sns.lineplot(data=data.reset_index(), x='sample', y='cortisol', hue='condition', style='condition', ax=ax)\n",
    "ax.set_ylabel(r\"Cortisol $\\left[\\frac{nmol}{l}\\right]$\")\n",
    "fig.tight_layout()"
   ]
  },
  {
   "cell_type": "markdown",
   "metadata": {},
   "source": [
    "Beide Gruppen in separaten Subplots: Figure-Level Funktion `sns.relplot(kind='line')` mit Parameter `col`\n",
    "\n",
    "Unterschied Figure-Level vs. Axes-Level Funktionen: https://seaborn.pydata.org/tutorial/function_overview.html#figure-level-vs-axes-level-functions"
   ]
  },
  {
   "cell_type": "markdown",
   "metadata": {},
   "source": [
    "<div class=\"alert alert-block alert-info\">\n",
    "    <b>Hinweis:</b> <code>sns.relplot()</code> ist eine <i>Figure-Level</i> Funktion und liefert daher ein Objekt vom Typ <code>seaborn.FacetGrid</code> zurück.\n",
    "</div>"
   ]
  },
  {
   "cell_type": "code",
   "execution_count": null,
   "metadata": {},
   "outputs": [],
   "source": [
    "g = sns.relplot(data=data.reset_index(), x='sample', y='cortisol', col='condition', kind='line')\n",
    "g.fig.tight_layout()"
   ]
  },
  {
   "cell_type": "markdown",
   "metadata": {},
   "source": [
    "#### Scatterplot"
   ]
  },
  {
   "cell_type": "markdown",
   "metadata": {},
   "source": [
    "https://seaborn.pydata.org/generated/seaborn.scatterplot.html#seaborn.scatterplot"
   ]
  },
  {
   "cell_type": "code",
   "execution_count": null,
   "metadata": {},
   "outputs": [],
   "source": [
    "fig, ax = plt.subplots(figsize=(8, 5))\n",
    "sns.scatterplot(data=data_features.reset_index(), x='cortisol_mean', y='cortisol_std', hue='condition', ax=ax)\n",
    "fig.tight_layout()"
   ]
  },
  {
   "cell_type": "markdown",
   "metadata": {},
   "source": [
    "### Verteilungen von Daten"
   ]
  },
  {
   "cell_type": "markdown",
   "metadata": {},
   "source": [
    "Verteilung des Ortes des Cortisol-Maximums, aufgeteilt auf die beiden Gruppen"
   ]
  },
  {
   "cell_type": "markdown",
   "metadata": {},
   "source": [
    "#### Histogramm"
   ]
  },
  {
   "cell_type": "code",
   "execution_count": null,
   "metadata": {},
   "outputs": [],
   "source": [
    "fig, ax = plt.subplots(figsize=(8, 5))\n",
    "sns.histplot(data=data_features.reset_index(), x='cortisol_argmax', hue='condition', ax=ax)\n",
    "fig.tight_layout()"
   ]
  },
  {
   "cell_type": "markdown",
   "metadata": {},
   "source": [
    "Verteilung der Herzrate in einem Zeitintervall"
   ]
  },
  {
   "cell_type": "code",
   "execution_count": null,
   "metadata": {},
   "outputs": [],
   "source": [
    "df_hr = pd.read_excel(\"data/hr_sample_mist.xlsx\", sheet_name=1, index_col='time')\n",
    "df_hr.head()"
   ]
  },
  {
   "cell_type": "code",
   "execution_count": null,
   "metadata": {},
   "outputs": [],
   "source": [
    "fig, ax = plt.subplots(figsize=(8, 5))\n",
    "sns.histplot(data=df_hr, x='ECG_Rate', ax=ax)\n",
    "fig.tight_layout()"
   ]
  },
  {
   "cell_type": "markdown",
   "metadata": {},
   "source": [
    "Feste Größe an Behältern (z.B. 10)"
   ]
  },
  {
   "cell_type": "code",
   "execution_count": null,
   "metadata": {},
   "outputs": [],
   "source": [
    "fig, ax = plt.subplots(figsize=(8, 5))\n",
    "sns.histplot(data=df_hr, x='ECG_Rate', bins=10, ax=ax)\n",
    "fig.tight_layout()"
   ]
  },
  {
   "cell_type": "markdown",
   "metadata": {},
   "source": [
    "Kumulative Häufigkeit"
   ]
  },
  {
   "cell_type": "code",
   "execution_count": null,
   "metadata": {},
   "outputs": [],
   "source": [
    "fig, ax = plt.subplots(figsize=(8, 5))\n",
    "sns.histplot(data=df_hr, x='ECG_Rate', cumulative=True, ax=ax)\n",
    "fig.tight_layout()"
   ]
  },
  {
   "cell_type": "markdown",
   "metadata": {},
   "source": [
    "y-Achse: Wahrscheinlichkeit des Behälters (statt absoluter Anzahl)"
   ]
  },
  {
   "cell_type": "code",
   "execution_count": null,
   "metadata": {},
   "outputs": [],
   "source": [
    "fig, ax = plt.subplots(figsize=(8, 5))\n",
    "sns.histplot(data=df_hr, x='ECG_Rate', stat='probability', ax=ax)\n",
    "fig.tight_layout()"
   ]
  },
  {
   "cell_type": "markdown",
   "metadata": {},
   "source": [
    "#### Kernel Density Estimation (KDE)"
   ]
  },
  {
   "cell_type": "markdown",
   "metadata": {},
   "source": [
    "Histogramm + KDE-Plot (KDE = Schätzung der den Daten zugrundeliegenden Wahrscheinlichkeitsdichteverteilung)"
   ]
  },
  {
   "cell_type": "code",
   "execution_count": null,
   "metadata": {},
   "outputs": [],
   "source": [
    "fig, ax = plt.subplots(figsize=(8, 5))\n",
    "sns.histplot(data=df_hr, x='ECG_Rate', stat='probability', alpha=0.5, ax=ax)\n",
    "sns.kdeplot(data=df_hr, x='ECG_Rate', ax=ax)\n",
    "fig.tight_layout()"
   ]
  },
  {
   "cell_type": "markdown",
   "metadata": {},
   "source": [
    "Generieren einer willkürlichen Gruppe (Gruppe 0 = Daten von Minute 0 bis Minute 3, Gruppe 1 = Daten von Minute 3 bis Ende) zur Illustration:"
   ]
  },
  {
   "cell_type": "code",
   "execution_count": null,
   "metadata": {},
   "outputs": [],
   "source": [
    "df_hr['group'] = df_hr.index.isin(df_hr.first(\"3min\").index).astype(int)"
   ]
  },
  {
   "cell_type": "markdown",
   "metadata": {},
   "source": [
    "Plotten zweier Histogramme + KDE"
   ]
  },
  {
   "cell_type": "code",
   "execution_count": null,
   "metadata": {},
   "outputs": [],
   "source": [
    "df_hr"
   ]
  },
  {
   "cell_type": "code",
   "execution_count": null,
   "metadata": {},
   "outputs": [],
   "source": [
    "fig, ax = plt.subplots(figsize=(8, 5))\n",
    "sns.histplot(data=df_hr, x='ECG_Rate', stat='probability', hue='group', alpha=0.5, ax=ax)\n",
    "sns.kdeplot(data=df_hr, x='ECG_Rate', hue='group', ax=ax)\n",
    "fig.tight_layout()"
   ]
  },
  {
   "cell_type": "markdown",
   "metadata": {},
   "source": [
    "### Kategorien von Daten"
   ]
  },
  {
   "cell_type": "markdown",
   "metadata": {},
   "source": [
    "#### Barplot"
   ]
  },
  {
   "cell_type": "code",
   "execution_count": null,
   "metadata": {},
   "outputs": [],
   "source": [
    "fig, ax = plt.subplots(figsize=(8, 5))\n",
    "sns.barplot(data=data_features.reset_index(), x='condition', y='cortisol_mean', ax=ax, order=['Control', 'Intervention'])\n",
    "fig.tight_layout()"
   ]
  },
  {
   "cell_type": "markdown",
   "metadata": {},
   "source": [
    "#### Boxplot"
   ]
  },
  {
   "cell_type": "markdown",
   "metadata": {},
   "source": [
    "Bedeutung der einzelnen Boxplot-Komponenten:"
   ]
  },
  {
   "cell_type": "code",
   "execution_count": null,
   "metadata": {},
   "outputs": [],
   "source": [
    "from IPython.display import Image\n",
    "Image(\"img/img_boxplot_explanation.jpg\")"
   ]
  },
  {
   "cell_type": "code",
   "execution_count": null,
   "metadata": {},
   "outputs": [],
   "source": [
    "fig, ax = plt.subplots(figsize=(8, 5))\n",
    "sns.boxplot(data=data_features.reset_index(), x='condition', y='cortisol_mean', ax=ax)\n",
    "fig.tight_layout()"
   ]
  },
  {
   "cell_type": "markdown",
   "metadata": {},
   "source": [
    "Boxplots können auch mit Notch (Parameter `notch=True`) geplottet werden. Der Notch kennzeichnet das **95%-CI des Medians** und kann daher als schnelle Orientierungshilfe herangezogen werden, ob ein signifikanter Unterschied vorliegen **könnte**:\n",
    "* Überlappen sich die Notches der beiden Gruppen **nicht**, so **kann** der Gruppenunterschied signifikant sein: \"If two boxes' notches do not overlap there is ‘strong evidence’ (95% confidence) their medians differ\"\n",
    "* Überlappen sie sich, ist der Unterschied auf alle Fälle **nicht** signifikant.\n",
    "\n",
    "=> Boxplot mit Notches sehen allerdings nicht so schön aus (v.a., wenn das 95%-CI größer ist als die IQR) und sollten daher nur für eine kurze visuelle Inspektion der Ergebnisse aktiviert werden und nicht in den *finalen* Plots."
   ]
  },
  {
   "cell_type": "code",
   "execution_count": null,
   "metadata": {},
   "outputs": [],
   "source": [
    "fig, ax = plt.subplots(figsize=(8, 5))\n",
    "sns.boxplot(data=data_features.reset_index(), x='condition', y='cortisol_argmax', notch=True, ax=ax)\n",
    "fig.tight_layout()"
   ]
  },
  {
   "cell_type": "markdown",
   "metadata": {},
   "source": [
    "Daten im Long-Format: *x-Achse* ist das berechnete Feature, *y-Achse* der Wert des jeweiligen Features, *hue* die Gruppenzugehörigkeit"
   ]
  },
  {
   "cell_type": "code",
   "execution_count": null,
   "metadata": {},
   "outputs": [],
   "source": [
    "fig, ax = plt.subplots(figsize=(8, 5))\n",
    "sns.boxplot(data=data_long.reset_index(), x='feature', y='cortisol', hue='condition', notch=True, ax=ax)\n",
    "fig.tight_layout()"
   ]
  },
  {
   "cell_type": "markdown",
   "metadata": {},
   "source": [
    "Festlegen der Reihenfolge der Bedingungen `hue_order`"
   ]
  },
  {
   "cell_type": "code",
   "execution_count": null,
   "metadata": {},
   "outputs": [],
   "source": [
    "fig, ax = plt.subplots(figsize=(8, 5))\n",
    "sns.boxplot(data=data_long.reset_index(), x='feature', y='cortisol', hue='condition', hue_order=['Control', 'Intervention'], notch=True, ax=ax)\n",
    "fig.tight_layout()"
   ]
  },
  {
   "cell_type": "markdown",
   "metadata": {},
   "source": [
    "Boxplots ausgewählter Features in eigenen Subplots"
   ]
  },
  {
   "cell_type": "code",
   "execution_count": null,
   "metadata": {},
   "outputs": [],
   "source": [
    "fig, axs = plt.subplots(ncols=3, figsize=(10, 5))\n",
    "sns.boxplot(data=data_features.reset_index(), x='condition', y='cortisol_argmax', ax=axs[0])\n",
    "sns.boxplot(data=data_features.reset_index(), x='condition', y='cortisol_mean', ax=axs[1])\n",
    "sns.boxplot(data=data_features.reset_index(), x='condition', y='cortisol_std', ax=axs[2])\n",
    "\n",
    "axs[0].set_ylabel(r\"$argmax_{Cortisol}~[AU]$\")\n",
    "axs[1].set_ylabel(r\"$Cortisol~[nmol/l]$\")\n",
    "fig.tight_layout()"
   ]
  },
  {
   "cell_type": "markdown",
   "metadata": {},
   "source": [
    "### Violin-Plot"
   ]
  },
  {
   "cell_type": "markdown",
   "metadata": {},
   "source": [
    "Mischung aus Boxplot und Density-Plot"
   ]
  },
  {
   "cell_type": "code",
   "execution_count": null,
   "metadata": {},
   "outputs": [],
   "source": [
    "df_hr"
   ]
  },
  {
   "cell_type": "code",
   "execution_count": null,
   "metadata": {},
   "outputs": [],
   "source": [
    "fig, ax = plt.subplots(figsize=(8, 5))\n",
    "sns.violinplot(data=df_hr, x='group', y='ECG_Rate', ax=ax)\n",
    "fig.tight_layout()"
   ]
  },
  {
   "cell_type": "code",
   "execution_count": null,
   "metadata": {},
   "outputs": [],
   "source": [
    "fig, ax = plt.subplots(figsize=(8, 5))\n",
    "sns.violinplot(data=data_long.reset_index(), x='feature', y='cortisol', hue='condition', ax=ax)\n",
    "fig.tight_layout()"
   ]
  },
  {
   "cell_type": "code",
   "execution_count": null,
   "metadata": {},
   "outputs": [],
   "source": [
    "fig, ax = plt.subplots(figsize=(8, 5))\n",
    "sns.violinplot(data=data_long.reset_index(), x='feature', y='cortisol', hue='condition', split=True, inner='quartile', ax=ax)\n",
    "fig.tight_layout()"
   ]
  },
  {
   "cell_type": "code",
   "execution_count": null,
   "metadata": {},
   "outputs": [],
   "source": []
  }
 ],
 "metadata": {
  "kernelspec": {
   "display_name": "Python 3 (ipykernel)",
   "language": "python",
   "name": "python3"
  },
  "language_info": {
   "codemirror_mode": {
    "name": "ipython",
    "version": 3
   },
   "file_extension": ".py",
   "mimetype": "text/x-python",
   "name": "python",
   "nbconvert_exporter": "python",
   "pygments_lexer": "ipython3",
   "version": "3.9.8"
  }
 },
 "nbformat": 4,
 "nbformat_minor": 4
}
