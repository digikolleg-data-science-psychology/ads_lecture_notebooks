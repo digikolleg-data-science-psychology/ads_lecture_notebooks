{
 "cells": [
  {
   "cell_type": "markdown",
   "metadata": {},
   "source": [
    "## <b>NumPy<b>"
   ]
  },
  {
   "cell_type": "markdown",
   "metadata": {},
   "source": [
    "Documentation: https://numpy.org/doc/"
   ]
  },
  {
   "cell_type": "markdown",
   "metadata": {},
   "source": [
    "For the collection of numerical data of the same type, it is most of the time more efficient to use the type NumPy array instead of a generic list. A NumPy array is a datatype, that can hold elements with a fixed size. With NumPy arrays operations with the elements can be performed (signicificantly!) faster."
   ]
  },
  {
   "cell_type": "markdown",
   "metadata": {},
   "source": [
    "<div class=\"alert alert-block alert-info\">\n",
    "    numpy has to be imported\n",
    "</div>"
   ]
  },
  {
   "cell_type": "code",
   "execution_count": 1,
   "metadata": {},
   "outputs": [],
   "source": [
    "import numpy as np"
   ]
  },
  {
   "cell_type": "markdown",
   "metadata": {},
   "source": [
    "### <b>Manually construct NumPy arrays</b>"
   ]
  },
  {
   "cell_type": "markdown",
   "metadata": {},
   "source": [
    "#### One dimensional"
   ]
  },
  {
   "cell_type": "code",
   "execution_count": 2,
   "metadata": {},
   "outputs": [
    {
     "data": {
      "text/plain": [
       "[0, 1, 2, 3]"
      ]
     },
     "execution_count": 2,
     "metadata": {},
     "output_type": "execute_result"
    }
   ],
   "source": [
    "[0, 1, 2, 3]"
   ]
  },
  {
   "cell_type": "code",
   "execution_count": 3,
   "metadata": {},
   "outputs": [
    {
     "data": {
      "text/plain": [
       "1"
      ]
     },
     "execution_count": 3,
     "metadata": {},
     "output_type": "execute_result"
    }
   ],
   "source": [
    "a = np.array([0, 1, 2, 3])\n",
    "a.ndim"
   ]
  },
  {
   "cell_type": "code",
   "execution_count": 4,
   "metadata": {},
   "outputs": [
    {
     "data": {
      "text/plain": [
       "array([0, 1, 2, 3])"
      ]
     },
     "execution_count": 4,
     "metadata": {},
     "output_type": "execute_result"
    }
   ],
   "source": [
    "a"
   ]
  },
  {
   "cell_type": "code",
   "execution_count": 5,
   "metadata": {},
   "outputs": [
    {
     "data": {
      "text/plain": [
       "(4,)"
      ]
     },
     "execution_count": 5,
     "metadata": {},
     "output_type": "execute_result"
    }
   ],
   "source": [
    "a.shape"
   ]
  },
  {
   "cell_type": "code",
   "execution_count": 6,
   "metadata": {},
   "outputs": [
    {
     "data": {
      "text/plain": [
       "4"
      ]
     },
     "execution_count": 6,
     "metadata": {},
     "output_type": "execute_result"
    }
   ],
   "source": [
    "len(a)"
   ]
  },
  {
   "cell_type": "markdown",
   "metadata": {},
   "source": [
    "#### 2-D, 3-D, ..., n-D"
   ]
  },
  {
   "cell_type": "code",
   "execution_count": 7,
   "metadata": {},
   "outputs": [
    {
     "data": {
      "text/plain": [
       "array([[0, 1, 2],\n",
       "       [3, 4, 5]])"
      ]
     },
     "execution_count": 7,
     "metadata": {},
     "output_type": "execute_result"
    }
   ],
   "source": [
    "b = np.array([[0, 1, 2], [3, 4, 5]])    # 2 x 3 array\n",
    "b"
   ]
  },
  {
   "cell_type": "code",
   "execution_count": 8,
   "metadata": {},
   "outputs": [
    {
     "data": {
      "text/plain": [
       "2"
      ]
     },
     "execution_count": 8,
     "metadata": {},
     "output_type": "execute_result"
    }
   ],
   "source": [
    "b.ndim"
   ]
  },
  {
   "cell_type": "code",
   "execution_count": 9,
   "metadata": {},
   "outputs": [
    {
     "data": {
      "text/plain": [
       "(2, 3)"
      ]
     },
     "execution_count": 9,
     "metadata": {},
     "output_type": "execute_result"
    }
   ],
   "source": [
    "b.shape"
   ]
  },
  {
   "cell_type": "code",
   "execution_count": 10,
   "metadata": {},
   "outputs": [
    {
     "data": {
      "text/plain": [
       "2"
      ]
     },
     "execution_count": 10,
     "metadata": {},
     "output_type": "execute_result"
    }
   ],
   "source": [
    "len(b)"
   ]
  },
  {
   "cell_type": "markdown",
   "metadata": {},
   "source": [
    "<div class=\"alert alert-block alert-info\">\n",
    "\"len\" returns the length of the first dimension\n",
    "</div>"
   ]
  },
  {
   "cell_type": "code",
   "execution_count": 11,
   "metadata": {},
   "outputs": [
    {
     "data": {
      "text/plain": [
       "array([[[1],\n",
       "        [2]],\n",
       "\n",
       "       [[3],\n",
       "        [4]]])"
      ]
     },
     "execution_count": 11,
     "metadata": {},
     "output_type": "execute_result"
    }
   ],
   "source": [
    "c = np.array([[[1], [2]], [[3], [4]]])\n",
    "c"
   ]
  },
  {
   "cell_type": "code",
   "execution_count": 12,
   "metadata": {},
   "outputs": [
    {
     "data": {
      "text/plain": [
       "(2, 2, 1)"
      ]
     },
     "execution_count": 12,
     "metadata": {},
     "output_type": "execute_result"
    }
   ],
   "source": [
    "c.shape"
   ]
  },
  {
   "cell_type": "markdown",
   "metadata": {},
   "source": [
    "There are multiple functions to create arrays:\n",
    "\n",
    "* np.arange: returns array with equally spaced values\n",
    "* np.linspace: returns array with given number of values\n",
    "* np.ones / np.zeros: returns array with fixed values\n",
    "* np.eye / np.diag: returns diagonal array\n",
    "* ..."
   ]
  },
  {
   "cell_type": "markdown",
   "metadata": {},
   "source": [
    "### <b>Restructure arrays</b>"
   ]
  },
  {
   "cell_type": "code",
   "execution_count": 13,
   "metadata": {},
   "outputs": [
    {
     "data": {
      "text/plain": [
       "array([ 0,  1,  2,  3,  4,  5,  6,  7,  8,  9, 10, 11, 12, 13, 14, 15, 16,\n",
       "       17, 18, 19])"
      ]
     },
     "execution_count": 13,
     "metadata": {},
     "output_type": "execute_result"
    }
   ],
   "source": [
    "b = np.arange(0, 20)\n",
    "b"
   ]
  },
  {
   "cell_type": "markdown",
   "metadata": {},
   "source": [
    "Restructure values in the 2-dimensional array with 4 rows and 5 columns"
   ]
  },
  {
   "cell_type": "code",
   "execution_count": 14,
   "metadata": {},
   "outputs": [
    {
     "data": {
      "text/plain": [
       "array([[ 0,  1,  2,  3,  4],\n",
       "       [ 5,  6,  7,  8,  9],\n",
       "       [10, 11, 12, 13, 14],\n",
       "       [15, 16, 17, 18, 19]])"
      ]
     },
     "execution_count": 14,
     "metadata": {},
     "output_type": "execute_result"
    }
   ],
   "source": [
    "c = np.reshape(b, (4,5)) # neue Form des Arrays: 4x5\n",
    "c"
   ]
  },
  {
   "cell_type": "markdown",
   "metadata": {},
   "source": [
    "If you specify one dimension as `-1`in the function `np.reshape()`, this *free* dimension will be chosen to be fitted to the array dimensions and the number of elements."
   ]
  },
  {
   "cell_type": "code",
   "execution_count": 15,
   "metadata": {},
   "outputs": [
    {
     "data": {
      "text/plain": [
       "(5, 4)"
      ]
     },
     "execution_count": 15,
     "metadata": {},
     "output_type": "execute_result"
    }
   ],
   "source": [
    "c = np.reshape(b, (5,-1)) \n",
    "c.shape"
   ]
  },
  {
   "cell_type": "code",
   "execution_count": 16,
   "metadata": {},
   "outputs": [
    {
     "data": {
      "text/plain": [
       "(10, 2)"
      ]
     },
     "execution_count": 16,
     "metadata": {},
     "output_type": "execute_result"
    }
   ],
   "source": [
    "c = np.reshape(c, (10,-1)) \n",
    "c.shape"
   ]
  },
  {
   "cell_type": "code",
   "execution_count": 17,
   "metadata": {},
   "outputs": [
    {
     "data": {
      "text/plain": [
       "array([[ 0,  1],\n",
       "       [ 2,  3],\n",
       "       [ 4,  5],\n",
       "       [ 6,  7],\n",
       "       [ 8,  9],\n",
       "       [10, 11],\n",
       "       [12, 13],\n",
       "       [14, 15],\n",
       "       [16, 17],\n",
       "       [18, 19]])"
      ]
     },
     "execution_count": 17,
     "metadata": {},
     "output_type": "execute_result"
    }
   ],
   "source": [
    "c"
   ]
  },
  {
   "cell_type": "markdown",
   "metadata": {},
   "source": [
    "*Flatten* of a multidimensional array to a one-dimensional array"
   ]
  },
  {
   "cell_type": "code",
   "execution_count": 18,
   "metadata": {},
   "outputs": [
    {
     "data": {
      "text/plain": [
       "array([ 0,  1,  2,  3,  4,  5,  6,  7,  8,  9, 10, 11, 12, 13, 14, 15, 16,\n",
       "       17, 18, 19])"
      ]
     },
     "execution_count": 18,
     "metadata": {},
     "output_type": "execute_result"
    }
   ],
   "source": [
    "d = c.flatten()\n",
    "d"
   ]
  },
  {
   "cell_type": "markdown",
   "metadata": {},
   "source": [
    "Add new array dimensions"
   ]
  },
  {
   "cell_type": "code",
   "execution_count": 19,
   "metadata": {},
   "outputs": [
    {
     "data": {
      "text/plain": [
       "array([1, 2, 3, 4, 5])"
      ]
     },
     "execution_count": 19,
     "metadata": {},
     "output_type": "execute_result"
    }
   ],
   "source": [
    "a = np.array([1, 2, 3, 4, 5])\n",
    "a"
   ]
  },
  {
   "cell_type": "code",
   "execution_count": 20,
   "metadata": {},
   "outputs": [
    {
     "data": {
      "text/plain": [
       "array([[1],\n",
       "       [2],\n",
       "       [3],\n",
       "       [4],\n",
       "       [5]])"
      ]
     },
     "execution_count": 20,
     "metadata": {},
     "output_type": "execute_result"
    }
   ],
   "source": [
    "b = a[:, np.newaxis]\n",
    "b"
   ]
  },
  {
   "cell_type": "code",
   "execution_count": 21,
   "metadata": {},
   "outputs": [
    {
     "data": {
      "text/plain": [
       "array([[1],\n",
       "       [2],\n",
       "       [3],\n",
       "       [4],\n",
       "       [5]])"
      ]
     },
     "execution_count": 21,
     "metadata": {},
     "output_type": "execute_result"
    }
   ],
   "source": [
    "b"
   ]
  },
  {
   "cell_type": "code",
   "execution_count": 22,
   "metadata": {},
   "outputs": [
    {
     "data": {
      "text/plain": [
       "array([[1, 2, 3, 4, 5]])"
      ]
     },
     "execution_count": 22,
     "metadata": {},
     "output_type": "execute_result"
    }
   ],
   "source": [
    "c = a[np.newaxis, :]\n",
    "c"
   ]
  },
  {
   "cell_type": "code",
   "execution_count": 23,
   "metadata": {},
   "outputs": [
    {
     "data": {
      "text/plain": [
       "(1, 5)"
      ]
     },
     "execution_count": 23,
     "metadata": {},
     "output_type": "execute_result"
    }
   ],
   "source": [
    "c.shape"
   ]
  },
  {
   "cell_type": "markdown",
   "metadata": {},
   "source": [
    "### <b>Indexing</b>\n"
   ]
  },
  {
   "cell_type": "markdown",
   "metadata": {},
   "source": [
    "Values stored in an array can be accessed similarly to values in a list. Slicing works similar to lists, too.\n",
    "<div class=\"alert alert-block alert-info\">\n",
    "The index always starts at 0!"
   ]
  },
  {
   "cell_type": "markdown",
   "metadata": {},
   "source": [
    "#### Regulär"
   ]
  },
  {
   "cell_type": "code",
   "execution_count": 24,
   "metadata": {},
   "outputs": [
    {
     "data": {
      "text/plain": [
       "array([0, 1, 2, 3, 4, 5, 6, 7, 8, 9])"
      ]
     },
     "execution_count": 24,
     "metadata": {},
     "output_type": "execute_result"
    }
   ],
   "source": [
    "a = np.arange(10)\n",
    "a"
   ]
  },
  {
   "cell_type": "code",
   "execution_count": 25,
   "metadata": {},
   "outputs": [
    {
     "data": {
      "text/plain": [
       "(0, 2, 9)"
      ]
     },
     "execution_count": 25,
     "metadata": {},
     "output_type": "execute_result"
    }
   ],
   "source": [
    "a[0], a[2], a[-1]"
   ]
  },
  {
   "cell_type": "code",
   "execution_count": 26,
   "metadata": {},
   "outputs": [
    {
     "data": {
      "text/plain": [
       "array([0, 2, 4, 6, 8])"
      ]
     },
     "execution_count": 26,
     "metadata": {},
     "output_type": "execute_result"
    }
   ],
   "source": [
    "a[0::2]"
   ]
  },
  {
   "cell_type": "markdown",
   "metadata": {},
   "source": [
    "For multidimensional arrays: Indexing of rows and columns"
   ]
  },
  {
   "cell_type": "code",
   "execution_count": 27,
   "metadata": {},
   "outputs": [
    {
     "data": {
      "text/plain": [
       "array([[ 1,  2,  3,  4],\n",
       "       [ 5,  6,  7,  8],\n",
       "       [ 9, 10, 11, 12]])"
      ]
     },
     "execution_count": 27,
     "metadata": {},
     "output_type": "execute_result"
    }
   ],
   "source": [
    "b = np.array([[1, 2, 3, 4], [5, 6, 7, 8], [9, 10, 11, 12]])\n",
    "b"
   ]
  },
  {
   "cell_type": "code",
   "execution_count": 28,
   "metadata": {},
   "outputs": [
    {
     "data": {
      "text/plain": [
       "array([[ 1,  2,  3,  4],\n",
       "       [ 5,  6,  7,  8],\n",
       "       [ 9, 10, 11, 12]])"
      ]
     },
     "execution_count": 28,
     "metadata": {},
     "output_type": "execute_result"
    }
   ],
   "source": [
    "b[:] # Returns the whole array"
   ]
  },
  {
   "cell_type": "code",
   "execution_count": 29,
   "metadata": {},
   "outputs": [
    {
     "data": {
      "text/plain": [
       "array([1, 5, 9])"
      ]
     },
     "execution_count": 29,
     "metadata": {},
     "output_type": "execute_result"
    }
   ],
   "source": [
    "b[:, 0] # all rows, first column"
   ]
  },
  {
   "cell_type": "code",
   "execution_count": 30,
   "metadata": {},
   "outputs": [
    {
     "data": {
      "text/plain": [
       "array([ 9, 10, 11, 12])"
      ]
     },
     "execution_count": 30,
     "metadata": {},
     "output_type": "execute_result"
    }
   ],
   "source": [
    "b[2, :] # third row, all columns"
   ]
  },
  {
   "cell_type": "code",
   "execution_count": 31,
   "metadata": {},
   "outputs": [
    {
     "data": {
      "text/plain": [
       "array([[ 1,  2,  3,  4],\n",
       "       [ 9, 10, 11, 12]])"
      ]
     },
     "execution_count": 31,
     "metadata": {},
     "output_type": "execute_result"
    }
   ],
   "source": [
    "b[[0,2], :] # first and third row, all columns"
   ]
  },
  {
   "cell_type": "markdown",
   "metadata": {},
   "source": [
    "#### Using a bool mask"
   ]
  },
  {
   "cell_type": "code",
   "execution_count": 32,
   "metadata": {},
   "outputs": [
    {
     "data": {
      "text/plain": [
       "array([10,  3,  8,  0, 19, 10, 11,  9, 10,  6,  0, 20, 12,  7, 14])"
      ]
     },
     "execution_count": 32,
     "metadata": {},
     "output_type": "execute_result"
    }
   ],
   "source": [
    "np.random.seed(3)\n",
    "a = np.random.randint(0, 21, 15)\n",
    "a"
   ]
  },
  {
   "cell_type": "code",
   "execution_count": 33,
   "metadata": {},
   "outputs": [
    {
     "data": {
      "text/plain": [
       "array([ True, False,  True, False,  True,  True,  True, False,  True,\n",
       "       False, False,  True, False,  True,  True])"
      ]
     },
     "execution_count": 33,
     "metadata": {},
     "output_type": "execute_result"
    }
   ],
   "source": [
    "mask = (a % 3) == 0\n",
    "~mask"
   ]
  },
  {
   "cell_type": "markdown",
   "metadata": {},
   "source": [
    "Get only the values at the position, where the condition evaluates to `True`."
   ]
  },
  {
   "cell_type": "code",
   "execution_count": 34,
   "metadata": {},
   "outputs": [
    {
     "data": {
      "text/plain": [
       "array([ 3,  0,  9,  6,  0, 12])"
      ]
     },
     "execution_count": 34,
     "metadata": {},
     "output_type": "execute_result"
    }
   ],
   "source": [
    "a[mask]"
   ]
  },
  {
   "cell_type": "markdown",
   "metadata": {},
   "source": [
    "Invertieren der Maske mittels `~`"
   ]
  },
  {
   "cell_type": "code",
   "execution_count": 35,
   "metadata": {},
   "outputs": [
    {
     "data": {
      "text/plain": [
       "array([10,  8, 19, 10, 11, 10, 20,  7, 14])"
      ]
     },
     "execution_count": 35,
     "metadata": {},
     "output_type": "execute_result"
    }
   ],
   "source": [
    "a[~mask]"
   ]
  },
  {
   "cell_type": "code",
   "execution_count": 36,
   "metadata": {},
   "outputs": [
    {
     "data": {
      "text/plain": [
       "array([10, -1,  8, -1, 19, 10, 11, -1, 10, -1, -1, 20, -1,  7, 14])"
      ]
     },
     "execution_count": 36,
     "metadata": {},
     "output_type": "execute_result"
    }
   ],
   "source": [
    "a[a % 3 == 0] = -1\n",
    "a"
   ]
  },
  {
   "cell_type": "markdown",
   "metadata": {},
   "source": [
    "### <b>Arithmetic operations</b>"
   ]
  },
  {
   "cell_type": "code",
   "execution_count": 37,
   "metadata": {},
   "outputs": [
    {
     "data": {
      "text/plain": [
       "array([2, 3, 4, 5, 6])"
      ]
     },
     "execution_count": 37,
     "metadata": {},
     "output_type": "execute_result"
    }
   ],
   "source": [
    "a = np.array([1, 2, 3, 4, 5])\n",
    "a + 1"
   ]
  },
  {
   "cell_type": "code",
   "execution_count": 38,
   "metadata": {},
   "outputs": [
    {
     "data": {
      "text/plain": [
       "array([ 4,  8, 12, 16, 20])"
      ]
     },
     "execution_count": 38,
     "metadata": {},
     "output_type": "execute_result"
    }
   ],
   "source": [
    "a * 4"
   ]
  },
  {
   "cell_type": "markdown",
   "metadata": {},
   "source": [
    "<div class=\"alert alert-block alert-info\">\n",
    "The order of operations is important!\n",
    "</div>"
   ]
  },
  {
   "cell_type": "code",
   "execution_count": 39,
   "metadata": {},
   "outputs": [
    {
     "data": {
      "text/plain": [
       "array([ 1,  4,  9, 16, 25])"
      ]
     },
     "execution_count": 39,
     "metadata": {},
     "output_type": "execute_result"
    }
   ],
   "source": [
    "a ** 2"
   ]
  },
  {
   "cell_type": "markdown",
   "metadata": {},
   "source": [
    "$\\Rightarrow x^2~\\forall x \\in a$"
   ]
  },
  {
   "cell_type": "code",
   "execution_count": 40,
   "metadata": {},
   "outputs": [
    {
     "data": {
      "text/plain": [
       "array([ 2,  4,  8, 16, 32])"
      ]
     },
     "execution_count": 40,
     "metadata": {},
     "output_type": "execute_result"
    }
   ],
   "source": [
    "2 ** a"
   ]
  },
  {
   "cell_type": "markdown",
   "metadata": {},
   "source": [
    "$\\Rightarrow 2^x~\\forall x \\in a$"
   ]
  },
  {
   "cell_type": "code",
   "execution_count": 41,
   "metadata": {},
   "outputs": [
    {
     "name": "stdout",
     "output_type": "stream",
     "text": [
      "[2. 2. 2. 2. 2.]\n"
     ]
    },
    {
     "data": {
      "text/plain": [
       "array([-1.,  0.,  1.,  2.,  3.])"
      ]
     },
     "execution_count": 41,
     "metadata": {},
     "output_type": "execute_result"
    }
   ],
   "source": [
    "b = np.ones(5) + 1\n",
    "print(b)\n",
    "a - b"
   ]
  },
  {
   "cell_type": "code",
   "execution_count": 42,
   "metadata": {},
   "outputs": [
    {
     "data": {
      "text/plain": [
       "array([ 2.,  4.,  6.,  8., 10.])"
      ]
     },
     "execution_count": 42,
     "metadata": {},
     "output_type": "execute_result"
    }
   ],
   "source": [
    "a * b"
   ]
  },
  {
   "cell_type": "markdown",
   "metadata": {},
   "source": [
    "Dot product betwenn two 1D arrays"
   ]
  },
  {
   "cell_type": "code",
   "execution_count": 43,
   "metadata": {},
   "outputs": [
    {
     "data": {
      "text/plain": [
       "30.0"
      ]
     },
     "execution_count": 43,
     "metadata": {},
     "output_type": "execute_result"
    }
   ],
   "source": [
    "np.dot(a, b)\n",
    "# alternativ:\n",
    "a @ b"
   ]
  },
  {
   "cell_type": "code",
   "execution_count": 44,
   "metadata": {},
   "outputs": [
    {
     "data": {
      "text/plain": [
       "array([ 2,  3,  6, 13, 28])"
      ]
     },
     "execution_count": 44,
     "metadata": {},
     "output_type": "execute_result"
    }
   ],
   "source": [
    "j = np.arange(5)\n",
    "2 ** (j + 1) - j"
   ]
  },
  {
   "cell_type": "markdown",
   "metadata": {},
   "source": [
    "  "
   ]
  },
  {
   "cell_type": "markdown",
   "metadata": {},
   "source": [
    "Speed of the operations:"
   ]
  },
  {
   "cell_type": "code",
   "execution_count": 45,
   "metadata": {},
   "outputs": [
    {
     "name": "stdout",
     "output_type": "stream",
     "text": [
      "1.56 µs ± 46 ns per loop (mean ± std. dev. of 7 runs, 1,000,000 loops each)\n"
     ]
    }
   ],
   "source": [
    "a = np.arange(10000)\n",
    "%timeit a + 1"
   ]
  },
  {
   "cell_type": "code",
   "execution_count": 46,
   "metadata": {},
   "outputs": [
    {
     "name": "stdout",
     "output_type": "stream",
     "text": [
      "299 µs ± 2.56 µs per loop (mean ± std. dev. of 7 runs, 1,000 loops each)\n"
     ]
    }
   ],
   "source": [
    "l = range(10000)\n",
    "%timeit [i+1 for i in l] "
   ]
  },
  {
   "cell_type": "markdown",
   "metadata": {},
   "source": [
    "<div class=\"alert alert-block alert-info\">\n",
    "    NumPy operations are most of the time a lot faster than operations on lists!\n",
    "    Read more here: <a>https://towardsdatascience.com/how-to-make-your-pandas-loop-71-803-times-faster-805030df4f06</a>\n",
    "</div>"
   ]
  },
  {
   "cell_type": "markdown",
   "metadata": {},
   "source": [
    " "
   ]
  },
  {
   "cell_type": "markdown",
   "metadata": {},
   "source": [
    "Array multiplications:"
   ]
  },
  {
   "cell_type": "code",
   "execution_count": 47,
   "metadata": {},
   "outputs": [
    {
     "data": {
      "text/plain": [
       "array([[1., 1., 1.],\n",
       "       [1., 1., 1.],\n",
       "       [1., 1., 1.]])"
      ]
     },
     "execution_count": 47,
     "metadata": {},
     "output_type": "execute_result"
    }
   ],
   "source": [
    "c = np.ones((3,3))\n",
    "c * c"
   ]
  },
  {
   "cell_type": "markdown",
   "metadata": {},
   "source": [
    "Matrix multiplications:"
   ]
  },
  {
   "cell_type": "code",
   "execution_count": 48,
   "metadata": {},
   "outputs": [
    {
     "data": {
      "text/plain": [
       "array([[3., 3., 3.],\n",
       "       [3., 3., 3.],\n",
       "       [3., 3., 3.]])"
      ]
     },
     "execution_count": 48,
     "metadata": {},
     "output_type": "execute_result"
    }
   ],
   "source": [
    "c.dot(c)"
   ]
  },
  {
   "cell_type": "markdown",
   "metadata": {},
   "source": [
    "<div class=\"alert alert-block alert-info\">\n",
    "    Array multiplication is not a matrix multiplication!"
   ]
  },
  {
   "cell_type": "markdown",
   "metadata": {},
   "source": [
    "Matrix multiplication of two 2D arrays"
   ]
  },
  {
   "cell_type": "code",
   "execution_count": 49,
   "metadata": {},
   "outputs": [
    {
     "data": {
      "text/plain": [
       "array([[ 8,  1, 10],\n",
       "       [20,  4, 25],\n",
       "       [32,  7, 40]])"
      ]
     },
     "execution_count": 49,
     "metadata": {},
     "output_type": "execute_result"
    }
   ],
   "source": [
    "a = np.array([[1, 2, 3], [4, 5, 6], [7, 8, 9]])\n",
    "b = np.array([[1, 1, 2], [2, 0, 1], [1, 0, 2]])\n",
    "\n",
    "np.matmul(a, b)\n",
    "# alternativ:\n",
    "a @ b"
   ]
  },
  {
   "cell_type": "markdown",
   "metadata": {},
   "source": [
    " "
   ]
  },
  {
   "cell_type": "markdown",
   "metadata": {},
   "source": [
    "### <b>Reductions</b>"
   ]
  },
  {
   "cell_type": "markdown",
   "metadata": {},
   "source": [
    "*Reductions*: Reduce the dimension of an array, e.g. reduce a 1D array to a scalar value or a 2D array to a 1D array."
   ]
  },
  {
   "cell_type": "markdown",
   "metadata": {},
   "source": [
    "#### 1D"
   ]
  },
  {
   "cell_type": "code",
   "execution_count": 50,
   "metadata": {},
   "outputs": [
    {
     "data": {
      "text/plain": [
       "10"
      ]
     },
     "execution_count": 50,
     "metadata": {},
     "output_type": "execute_result"
    }
   ],
   "source": [
    "x = np.array([1, 2, 3, 4])\n",
    "np.sum(x)"
   ]
  },
  {
   "cell_type": "code",
   "execution_count": 51,
   "metadata": {},
   "outputs": [
    {
     "data": {
      "text/plain": [
       "10"
      ]
     },
     "execution_count": 51,
     "metadata": {},
     "output_type": "execute_result"
    }
   ],
   "source": [
    "x.sum()"
   ]
  },
  {
   "cell_type": "markdown",
   "metadata": {},
   "source": [
    "<div class=\"alert alert-block alert-info\">\n",
    "    <b>Warning:</b> This syntax does not work for all array functions! Preferred: <code>np.function()</code>.\n",
    "</div>"
   ]
  },
  {
   "cell_type": "markdown",
   "metadata": {},
   "source": [
    "#### 2D"
   ]
  },
  {
   "cell_type": "code",
   "execution_count": 52,
   "metadata": {},
   "outputs": [
    {
     "data": {
      "text/plain": [
       "array([[1, 2],\n",
       "       [3, 4]])"
      ]
     },
     "execution_count": 52,
     "metadata": {},
     "output_type": "execute_result"
    }
   ],
   "source": [
    "x = np.array([[1, 2], [3, 4]])\n",
    "x"
   ]
  },
  {
   "cell_type": "markdown",
   "metadata": {},
   "source": [
    "The `axis` parameter can be used in many functions to specify on which dimension the operation should be performed."
   ]
  },
  {
   "cell_type": "code",
   "execution_count": 53,
   "metadata": {},
   "outputs": [
    {
     "data": {
      "text/plain": [
       "array([4, 6])"
      ]
     },
     "execution_count": 53,
     "metadata": {},
     "output_type": "execute_result"
    }
   ],
   "source": [
    "x.sum(axis=0)   # columns (first dimension)"
   ]
  },
  {
   "cell_type": "code",
   "execution_count": 54,
   "metadata": {},
   "outputs": [
    {
     "name": "stdout",
     "output_type": "stream",
     "text": [
      "Spalte 1: 4\n",
      "Spalte 2: 6\n"
     ]
    }
   ],
   "source": [
    "# Check: sum of the individual columns\n",
    "print(\"Spalte 1: {}\".format(x[:, 0].sum()))\n",
    "print(\"Spalte 2: {}\".format(x[:, 1].sum()))"
   ]
  },
  {
   "cell_type": "code",
   "execution_count": 55,
   "metadata": {},
   "outputs": [
    {
     "data": {
      "text/plain": [
       "array([3, 7])"
      ]
     },
     "execution_count": 55,
     "metadata": {},
     "output_type": "execute_result"
    }
   ],
   "source": [
    "x.sum(axis=1)   # rows (second dimension)"
   ]
  },
  {
   "cell_type": "code",
   "execution_count": 56,
   "metadata": {},
   "outputs": [
    {
     "name": "stdout",
     "output_type": "stream",
     "text": [
      "Zeile 1: 3\n",
      "Zeile 2: 7\n"
     ]
    }
   ],
   "source": [
    "# Check: sum of the individual rows\n",
    "print(\"Zeile 1: {}\".format(x[0, :].sum()))\n",
    "print(\"Zeile 2: {}\".format(x[1, :].sum()))"
   ]
  },
  {
   "cell_type": "code",
   "execution_count": 57,
   "metadata": {},
   "outputs": [
    {
     "data": {
      "text/plain": [
       "10"
      ]
     },
     "execution_count": 57,
     "metadata": {},
     "output_type": "execute_result"
    }
   ],
   "source": [
    "x.sum(axis=None)"
   ]
  },
  {
   "cell_type": "markdown",
   "metadata": {},
   "source": [
    "#### Minimum & maximum"
   ]
  },
  {
   "cell_type": "code",
   "execution_count": 58,
   "metadata": {},
   "outputs": [
    {
     "data": {
      "text/plain": [
       "(1, 4)"
      ]
     },
     "execution_count": 58,
     "metadata": {},
     "output_type": "execute_result"
    }
   ],
   "source": [
    "np.min(x), np.max(x)"
   ]
  },
  {
   "cell_type": "code",
   "execution_count": 59,
   "metadata": {},
   "outputs": [
    {
     "data": {
      "text/plain": [
       "(0, 3)"
      ]
     },
     "execution_count": 59,
     "metadata": {},
     "output_type": "execute_result"
    }
   ],
   "source": [
    "np.argmin(x), np.argmax(x) # Index of the minimum and maximum"
   ]
  },
  {
   "cell_type": "markdown",
   "metadata": {},
   "source": [
    "#### Mean, median, std"
   ]
  },
  {
   "cell_type": "code",
   "execution_count": 60,
   "metadata": {},
   "outputs": [],
   "source": [
    "x = np.array([1, 2, 3, 1])\n",
    "y = np.array([[1, 2, 3], [5, 6, 1]])"
   ]
  },
  {
   "cell_type": "code",
   "execution_count": 61,
   "metadata": {},
   "outputs": [
    {
     "data": {
      "text/plain": [
       "1.75"
      ]
     },
     "execution_count": 61,
     "metadata": {},
     "output_type": "execute_result"
    }
   ],
   "source": [
    "np.mean(x)"
   ]
  },
  {
   "cell_type": "code",
   "execution_count": 62,
   "metadata": {},
   "outputs": [
    {
     "name": "stdout",
     "output_type": "stream",
     "text": [
      "3.0\n",
      "[3. 4. 2.]\n",
      "[2. 4.]\n"
     ]
    }
   ],
   "source": [
    "print(np.mean(y)) # axis = None => Mean of all values (reduction of 2 dimensions)\n",
    "print(np.mean(y, axis=0)) # Mean of all columnsMittelwert entlang der Spalten\n",
    "print(np.mean(y, axis=1)) # Mittelwert entlang der Zeilen"
   ]
  },
  {
   "cell_type": "code",
   "execution_count": 63,
   "metadata": {},
   "outputs": [
    {
     "data": {
      "text/plain": [
       "1.5"
      ]
     },
     "execution_count": 63,
     "metadata": {},
     "output_type": "execute_result"
    }
   ],
   "source": [
    "np.median(x)"
   ]
  },
  {
   "cell_type": "code",
   "execution_count": 64,
   "metadata": {},
   "outputs": [
    {
     "data": {
      "text/plain": [
       "0.82915619758885"
      ]
     },
     "execution_count": 64,
     "metadata": {},
     "output_type": "execute_result"
    }
   ],
   "source": [
    "np.std(x)"
   ]
  },
  {
   "cell_type": "markdown",
   "metadata": {},
   "source": [
    "#### Delete unnecessary dimensions"
   ]
  },
  {
   "cell_type": "code",
   "execution_count": 65,
   "metadata": {},
   "outputs": [
    {
     "data": {
      "text/plain": [
       "array([[1, 2, 3, 4, 5]])"
      ]
     },
     "execution_count": 65,
     "metadata": {},
     "output_type": "execute_result"
    }
   ],
   "source": [
    "x = np.array([[1, 2, 3, 4, 5]])\n",
    "x"
   ]
  },
  {
   "cell_type": "code",
   "execution_count": 66,
   "metadata": {},
   "outputs": [
    {
     "name": "stdout",
     "output_type": "stream",
     "text": [
      "2\n",
      "(1, 5)\n"
     ]
    }
   ],
   "source": [
    "print(x.ndim)\n",
    "print(x.shape)"
   ]
  },
  {
   "cell_type": "code",
   "execution_count": 67,
   "metadata": {},
   "outputs": [
    {
     "data": {
      "text/plain": [
       "array([1, 2, 3, 4, 5])"
      ]
     },
     "execution_count": 67,
     "metadata": {},
     "output_type": "execute_result"
    }
   ],
   "source": [
    "x = np.squeeze(x)\n",
    "x"
   ]
  },
  {
   "cell_type": "code",
   "execution_count": 68,
   "metadata": {},
   "outputs": [
    {
     "name": "stdout",
     "output_type": "stream",
     "text": [
      "1\n",
      "(5,)\n"
     ]
    }
   ],
   "source": [
    "print(x.ndim)\n",
    "print(x.shape)"
   ]
  },
  {
   "cell_type": "markdown",
   "metadata": {},
   "source": [
    "### <b>Sort data</b>"
   ]
  },
  {
   "cell_type": "code",
   "execution_count": 69,
   "metadata": {},
   "outputs": [
    {
     "data": {
      "text/plain": [
       "array([[4, 3, 5],\n",
       "       [1, 2, 1]])"
      ]
     },
     "execution_count": 69,
     "metadata": {},
     "output_type": "execute_result"
    }
   ],
   "source": [
    "a = np.array([[4, 3, 5], [1, 2, 1]])\n",
    "a"
   ]
  },
  {
   "cell_type": "code",
   "execution_count": 70,
   "metadata": {},
   "outputs": [
    {
     "data": {
      "text/plain": [
       "array([[3, 4, 5],\n",
       "       [1, 1, 2]])"
      ]
     },
     "execution_count": 70,
     "metadata": {},
     "output_type": "execute_result"
    }
   ],
   "source": [
    "a.sort(axis=1)\n",
    "a"
   ]
  },
  {
   "cell_type": "markdown",
   "metadata": {},
   "source": [
    "### <b>Missing values</b>\n",
    "\n",
    "Missing values in Python are typically noted with `None`or `NaN` (not a number) "
   ]
  },
  {
   "cell_type": "code",
   "execution_count": 71,
   "metadata": {},
   "outputs": [
    {
     "data": {
      "text/plain": [
       "array([ 1.,  2.,  3., nan,  5.,  6.])"
      ]
     },
     "execution_count": 71,
     "metadata": {},
     "output_type": "execute_result"
    }
   ],
   "source": [
    "x = np.array([1, 2, 3, np.nan, 5, 6]) # 4. Arrayeintrag fehlt\n",
    "x"
   ]
  },
  {
   "cell_type": "code",
   "execution_count": 72,
   "metadata": {},
   "outputs": [
    {
     "data": {
      "text/plain": [
       "(nan, nan, nan)"
      ]
     },
     "execution_count": 72,
     "metadata": {},
     "output_type": "execute_result"
    }
   ],
   "source": [
    "np.sum(x), np.mean(x), np.std(x)"
   ]
  },
  {
   "cell_type": "markdown",
   "metadata": {},
   "source": [
    "<div class=\"alert alert-block alert-info\">\n",
    "    <b>Caution:</b> Some functions do not work as expected if NaN values are contained in an arry. Never replace missing values with \"unrealistic\" numbers (e.g. -77.0, as typically used in SPSS).\n",
    "</div>"
   ]
  },
  {
   "cell_type": "markdown",
   "metadata": {},
   "source": [
    "#### 1D arrays"
   ]
  },
  {
   "cell_type": "markdown",
   "metadata": {},
   "source": [
    "**Option I**: Usage of specialized nan-safe functions, that ignore nan values"
   ]
  },
  {
   "cell_type": "code",
   "execution_count": 73,
   "metadata": {},
   "outputs": [
    {
     "data": {
      "text/plain": [
       "(17.0, 3.4, 1.854723699099141)"
      ]
     },
     "execution_count": 73,
     "metadata": {},
     "output_type": "execute_result"
    }
   ],
   "source": [
    "np.nansum(x), np.nanmean(x), np.nanstd(x)"
   ]
  },
  {
   "cell_type": "markdown",
   "metadata": {},
   "source": [
    "**Option II**: Find and mask nan values"
   ]
  },
  {
   "cell_type": "code",
   "execution_count": 74,
   "metadata": {},
   "outputs": [
    {
     "data": {
      "text/plain": [
       "array([False, False, False,  True, False, False])"
      ]
     },
     "execution_count": 74,
     "metadata": {},
     "output_type": "execute_result"
    }
   ],
   "source": [
    "np.isnan(x) # bool Maske mit fehlenden Werten"
   ]
  },
  {
   "cell_type": "code",
   "execution_count": 75,
   "metadata": {},
   "outputs": [
    {
     "data": {
      "text/plain": [
       "17.0"
      ]
     },
     "execution_count": 75,
     "metadata": {},
     "output_type": "execute_result"
    }
   ],
   "source": [
    "np.sum(x[~np.isnan(x)]) # Nur Nicht-NaN-Werte werden in die Berechnung mit einbezogen"
   ]
  },
  {
   "cell_type": "markdown",
   "metadata": {},
   "source": [
    "**Option III**: Remove nan values"
   ]
  },
  {
   "cell_type": "code",
   "execution_count": 76,
   "metadata": {},
   "outputs": [
    {
     "name": "stdout",
     "output_type": "stream",
     "text": [
      "[1. 2. 3. 5. 6.]\n"
     ]
    },
    {
     "data": {
      "text/plain": [
       "17.0"
      ]
     },
     "execution_count": 76,
     "metadata": {},
     "output_type": "execute_result"
    }
   ],
   "source": [
    "y = x[~np.isnan(x)] # NaN-Werte werden entfernt\n",
    "print(y)\n",
    "np.sum(y)"
   ]
  },
  {
   "cell_type": "markdown",
   "metadata": {},
   "source": [
    "### <b>Multidimensional arrays</b>"
   ]
  },
  {
   "cell_type": "markdown",
   "metadata": {},
   "source": [
    "Multidimensional arrays can be treated analogously:"
   ]
  },
  {
   "cell_type": "code",
   "execution_count": 77,
   "metadata": {},
   "outputs": [
    {
     "data": {
      "text/plain": [
       "array([[ 1.,  2.,  3.],\n",
       "       [ 4., nan,  5.],\n",
       "       [ 7.,  8., nan],\n",
       "       [nan, nan, nan]])"
      ]
     },
     "execution_count": 77,
     "metadata": {},
     "output_type": "execute_result"
    }
   ],
   "source": [
    "x = np.array([[1, 2, 3], [4, np.nan, 5], [7, 8, np.nan], [np.nan, np.nan, np.nan]])\n",
    "x"
   ]
  },
  {
   "cell_type": "code",
   "execution_count": 78,
   "metadata": {},
   "outputs": [
    {
     "data": {
      "text/plain": [
       "array([[False, False, False],\n",
       "       [False,  True, False],\n",
       "       [False, False,  True],\n",
       "       [ True,  True,  True]])"
      ]
     },
     "execution_count": 78,
     "metadata": {},
     "output_type": "execute_result"
    }
   ],
   "source": [
    "np.isnan(x)"
   ]
  },
  {
   "cell_type": "markdown",
   "metadata": {},
   "source": [
    "For 2D arrays, there are two possibilities to remove missing values:"
   ]
  },
  {
   "cell_type": "markdown",
   "metadata": {},
   "source": [
    "**Option I**: Remove rows/columns, if **one** of the values is nan (`any`)"
   ]
  },
  {
   "cell_type": "code",
   "execution_count": 79,
   "metadata": {},
   "outputs": [
    {
     "data": {
      "text/plain": [
       "array([[1., 2., 3.]])"
      ]
     },
     "execution_count": 79,
     "metadata": {},
     "output_type": "execute_result"
    }
   ],
   "source": [
    "x[~np.isnan(x).any(axis=1)] # rows"
   ]
  },
  {
   "cell_type": "code",
   "execution_count": 80,
   "metadata": {},
   "outputs": [
    {
     "data": {
      "text/plain": [
       "array([], shape=(4, 0), dtype=float64)"
      ]
     },
     "execution_count": 80,
     "metadata": {},
     "output_type": "execute_result"
    }
   ],
   "source": [
    "x[:, ~np.isnan(x).any(axis=0)] # columns"
   ]
  },
  {
   "cell_type": "markdown",
   "metadata": {},
   "source": [
    "**Option II**: Remove rows/columns if **all** values are nan (`all`)"
   ]
  },
  {
   "cell_type": "code",
   "execution_count": 81,
   "metadata": {},
   "outputs": [
    {
     "data": {
      "text/plain": [
       "array([[ 1.,  2.,  3.],\n",
       "       [ 4., nan,  5.],\n",
       "       [ 7.,  8., nan]])"
      ]
     },
     "execution_count": 81,
     "metadata": {},
     "output_type": "execute_result"
    }
   ],
   "source": [
    "x[~np.isnan(x).all(axis=1)] # rows"
   ]
  },
  {
   "cell_type": "code",
   "execution_count": 82,
   "metadata": {},
   "outputs": [
    {
     "data": {
      "text/plain": [
       "array([[ 1.,  2.,  3.],\n",
       "       [ 4., nan,  5.],\n",
       "       [ 7.,  8., nan],\n",
       "       [nan, nan, nan]])"
      ]
     },
     "execution_count": 82,
     "metadata": {},
     "output_type": "execute_result"
    }
   ],
   "source": [
    "x[:, ~np.isnan(x).all(axis=0)] # columns"
   ]
  },
  {
   "cell_type": "markdown",
   "metadata": {},
   "source": [
    "## <b>SciPy</b>"
   ]
  },
  {
   "cell_type": "markdown",
   "metadata": {},
   "source": [
    "Documentation: https://docs.scipy.org/doc/scipy/reference/index.html"
   ]
  },
  {
   "cell_type": "markdown",
   "metadata": {},
   "source": [
    "SciPy is a library containing algorithms and mathematical operations for the usage on numpy arrays:\n",
    "* Linear algebra: `scipy.linalg`\n",
    "* Statistics: `scipy.stats`\n",
    "* Optimization: `scipy.opimize`\n",
    "* Sparse matrices: `scipy.sparse`\n",
    "* Signal processing: `scipy.signal`\n",
    "* etc."
   ]
  },
  {
   "cell_type": "markdown",
   "metadata": {},
   "source": [
    "<div class=\"alert alert-block alert-info\">\n",
    "    Single components have to be imported"
   ]
  },
  {
   "cell_type": "markdown",
   "metadata": {},
   "source": [
    "### Example: Signal filtering"
   ]
  },
  {
   "cell_type": "code",
   "execution_count": 83,
   "metadata": {},
   "outputs": [],
   "source": [
    "from scipy.signal import sosfiltfilt, butter"
   ]
  },
  {
   "cell_type": "markdown",
   "metadata": {},
   "source": [
    "A filter can be used to remove noise from a signal:"
   ]
  },
  {
   "cell_type": "code",
   "execution_count": 84,
   "metadata": {},
   "outputs": [
    {
     "data": {
      "application/vnd.jupyter.widget-view+json": {
       "model_id": "59353cb41707475aa10b4177f166ec00",
       "version_major": 2,
       "version_minor": 0
      },
      "image/png": "[encoded data removed]",
      "text/html": [
       "\n",
       "            <div style=\"display: inline-block;\">\n",
       "                <div class=\"jupyter-widgets widget-label\" style=\"text-align: center;\">\n",
       "                    Figure\n",
       "                </div>\n",
       "                <img src='data:image/png;base64,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' width=640.0/>\n",
       "            </div>\n",
       "        "
      ],
      "text/plain": [
       "Canvas(toolbar=Toolbar(toolitems=[('Home', 'Reset original view', 'home', 'home'), ('Back', 'Back to previous …"
      ]
     },
     "metadata": {},
     "output_type": "display_data"
    }
   ],
   "source": [
    "import matplotlib.pyplot as plt\n",
    "%matplotlib widget \n",
    "n = 201\n",
    "t = np.linspace(0, 1, n)\n",
    "np.random.seed(123)\n",
    "signal = 1 + (t < 0.5) - 0.25 * t ** 2 + 0.05 * np.random.randn(n) # example signal with noise\n",
    "sos = butter(4, 0.125, output='sos')\n",
    "signal_filt = sosfiltfilt(sos, signal)\n",
    "\n",
    "fig, ax = plt.subplots()\n",
    "ax.plot(t, signal, alpha=0.5, label='ungefiltertes Signal')\n",
    "ax.plot(t, signal_filt, label='gefiltertes Signal')\n",
    "#ax.legend(framealpha=1, shadow=True)\n",
    "ax.grid(alpha=0.25)\n",
    "ax.set_xlabel('Time [s]');\n",
    "# more on plotting in the next videos"
   ]
  },
  {
   "cell_type": "code",
   "execution_count": null,
   "metadata": {},
   "outputs": [],
   "source": []
  }
 ],
 "metadata": {
  "kernelspec": {
   "display_name": "Python 3 (ipykernel)",
   "language": "python",
   "name": "python3"
  },
  "language_info": {
   "codemirror_mode": {
    "name": "ipython",
    "version": 3
   },
   "file_extension": ".py",
   "mimetype": "text/x-python",
   "name": "python",
   "nbconvert_exporter": "python",
   "pygments_lexer": "ipython3",
   "version": "3.9.8"
  }
 },
 "nbformat": 4,
 "nbformat_minor": 4
}
