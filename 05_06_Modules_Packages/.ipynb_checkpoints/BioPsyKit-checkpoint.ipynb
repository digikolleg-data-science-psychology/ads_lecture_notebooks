{
 "cells": [
  {
   "cell_type": "markdown",
   "metadata": {},
   "source": [
    "## BioPsyKit"
   ]
  },
  {
   "cell_type": "code",
   "execution_count": 17,
   "metadata": {},
   "outputs": [
    {
     "name": "stdout",
     "output_type": "stream",
     "text": [
      "The autoreload extension is already loaded. To reload it, use:\n",
      "  %reload_ext autoreload\n"
     ]
    }
   ],
   "source": [
    "import biopsykit as bp\n",
    "\n",
    "%load_ext autoreload\n",
    "%autoreload 2\n",
    "%matplotlib widget"
   ]
  },
  {
   "cell_type": "markdown",
   "metadata": {},
   "source": [
    "Mit diesem Python Package kann man biopsychologische Daten analysieren:\n",
    "- Datenverarbeitungspipeline für Biosignale (EKG, EEG, ...)\n",
    "- Methoden zur Analyse von Speichelproben (Corisol, Amylase)\n",
    "- Implementierung von verschiedenen Fragebögen\n",
    "- Montreal Imaging Stress Task (MIST)\n",
    "- Trier Social Stress Test (TSST)\n",
    "- ..."
   ]
  },
  {
   "cell_type": "markdown",
   "metadata": {},
   "source": [
    "### EKG Datenverarbeitung:"
   ]
  },
  {
   "cell_type": "markdown",
   "metadata": {},
   "source": [
    "Daten laden:"
   ]
  },
  {
   "cell_type": "code",
   "execution_count": 3,
   "metadata": {},
   "outputs": [],
   "source": [
    "ecg_data, sampling_rate = bp.example_data.get_ecg_example()\n",
    "ep = ecg.EcgProcessor(df=ecg_data, sampling_rate=sampling_rate)"
   ]
  },
  {
   "cell_type": "markdown",
   "metadata": {},
   "source": [
    "R-Peak-Erkennung und eine Ausreißerkorrektur:"
   ]
  },
  {
   "cell_type": "code",
   "execution_count": 4,
   "metadata": {},
   "outputs": [
    {
     "data": {
      "application/vnd.jupyter.widget-view+json": {
       "model_id": "49d41b8c731e49a295181b187b23cfbe",
       "version_major": 2,
       "version_minor": 0
      },
      "text/plain": [
       "  0%|          | 0/1 [00:00<?, ?it/s]"
      ]
     },
     "metadata": {},
     "output_type": "display_data"
    }
   ],
   "source": [
    "ep.ecg_process()"
   ]
  },
  {
   "cell_type": "markdown",
   "metadata": {},
   "source": [
    "Herzrate:"
   ]
  },
  {
   "cell_type": "code",
   "execution_count": 5,
   "metadata": {},
   "outputs": [
    {
     "data": {
      "text/html": [
       "<div>\n",
       "<style scoped>\n",
       "    .dataframe tbody tr th:only-of-type {\n",
       "        vertical-align: middle;\n",
       "    }\n",
       "\n",
       "    .dataframe tbody tr th {\n",
       "        vertical-align: top;\n",
       "    }\n",
       "\n",
       "    .dataframe thead th {\n",
       "        text-align: right;\n",
       "    }\n",
       "</style>\n",
       "<table border=\"1\" class=\"dataframe\">\n",
       "  <thead>\n",
       "    <tr style=\"text-align: right;\">\n",
       "      <th></th>\n",
       "      <th>ECG_Rate</th>\n",
       "    </tr>\n",
       "    <tr>\n",
       "      <th>time</th>\n",
       "      <th></th>\n",
       "    </tr>\n",
       "  </thead>\n",
       "  <tbody>\n",
       "    <tr>\n",
       "      <th>2019-10-23 12:31:51.582031+02:00</th>\n",
       "      <td>83.883495</td>\n",
       "    </tr>\n",
       "    <tr>\n",
       "      <th>2019-10-23 12:31:53.093750+02:00</th>\n",
       "      <td>88.275862</td>\n",
       "    </tr>\n",
       "    <tr>\n",
       "      <th>2019-10-23 12:31:53.773437+02:00</th>\n",
       "      <td>81.702128</td>\n",
       "    </tr>\n",
       "    <tr>\n",
       "      <th>2019-10-23 12:31:54.507812+02:00</th>\n",
       "      <td>79.585492</td>\n",
       "    </tr>\n",
       "    <tr>\n",
       "      <th>2019-10-23 12:31:55.261718+02:00</th>\n",
       "      <td>79.175258</td>\n",
       "    </tr>\n",
       "  </tbody>\n",
       "</table>\n",
       "</div>"
      ],
      "text/plain": [
       "                                   ECG_Rate\n",
       "time                                       \n",
       "2019-10-23 12:31:51.582031+02:00  83.883495\n",
       "2019-10-23 12:31:53.093750+02:00  88.275862\n",
       "2019-10-23 12:31:53.773437+02:00  81.702128\n",
       "2019-10-23 12:31:54.507812+02:00  79.585492\n",
       "2019-10-23 12:31:55.261718+02:00  79.175258"
      ]
     },
     "execution_count": 5,
     "metadata": {},
     "output_type": "execute_result"
    }
   ],
   "source": [
    "hr_data = ep.heart_rate['Data']\n",
    "hr_data.head()"
   ]
  },
  {
   "cell_type": "markdown",
   "metadata": {},
   "source": [
    "Daten plotten:"
   ]
  },
  {
   "cell_type": "code",
   "execution_count": 14,
   "metadata": {},
   "outputs": [
    {
     "data": {
      "application/vnd.jupyter.widget-view+json": {
       "model_id": "0ed7dcaa5c5c43baab49c7fdafe43eaf",
       "version_major": 2,
       "version_minor": 0
      },
      "text/plain": [
       "Canvas(toolbar=Toolbar(toolitems=[('Home', 'Reset original view', 'home', 'home'), ('Back', 'Back to previous …"
      ]
     },
     "metadata": {},
     "output_type": "display_data"
    }
   ],
   "source": [
    "fig, axs = ecg.plotting.ecg_plot(ep, key='Data', figsize=(10,5))"
   ]
  },
  {
   "cell_type": "markdown",
   "metadata": {},
   "source": [
    "## Herzratenvariablität"
   ]
  },
  {
   "cell_type": "code",
   "execution_count": 7,
   "metadata": {},
   "outputs": [
    {
     "data": {
      "text/html": [
       "<div>\n",
       "<style scoped>\n",
       "    .dataframe tbody tr th:only-of-type {\n",
       "        vertical-align: middle;\n",
       "    }\n",
       "\n",
       "    .dataframe tbody tr th {\n",
       "        vertical-align: top;\n",
       "    }\n",
       "\n",
       "    .dataframe thead th {\n",
       "        text-align: right;\n",
       "    }\n",
       "</style>\n",
       "<table border=\"1\" class=\"dataframe\">\n",
       "  <thead>\n",
       "    <tr style=\"text-align: right;\">\n",
       "      <th></th>\n",
       "      <th>HRV_RMSSD</th>\n",
       "      <th>HRV_MeanNN</th>\n",
       "      <th>HRV_SDNN</th>\n",
       "      <th>HRV_SDSD</th>\n",
       "      <th>HRV_CVNN</th>\n",
       "      <th>HRV_CVSD</th>\n",
       "      <th>HRV_MedianNN</th>\n",
       "      <th>HRV_MadNN</th>\n",
       "      <th>HRV_MCVNN</th>\n",
       "      <th>HRV_IQRNN</th>\n",
       "      <th>...</th>\n",
       "      <th>HRV_C2d</th>\n",
       "      <th>HRV_C2a</th>\n",
       "      <th>HRV_SD2d</th>\n",
       "      <th>HRV_SD2a</th>\n",
       "      <th>HRV_Cd</th>\n",
       "      <th>HRV_Ca</th>\n",
       "      <th>HRV_SDNNd</th>\n",
       "      <th>HRV_SDNNa</th>\n",
       "      <th>HRV_ApEn</th>\n",
       "      <th>HRV_SampEn</th>\n",
       "    </tr>\n",
       "    <tr>\n",
       "      <th>subject_id</th>\n",
       "      <th></th>\n",
       "      <th></th>\n",
       "      <th></th>\n",
       "      <th></th>\n",
       "      <th></th>\n",
       "      <th></th>\n",
       "      <th></th>\n",
       "      <th></th>\n",
       "      <th></th>\n",
       "      <th></th>\n",
       "      <th></th>\n",
       "      <th></th>\n",
       "      <th></th>\n",
       "      <th></th>\n",
       "      <th></th>\n",
       "      <th></th>\n",
       "      <th></th>\n",
       "      <th></th>\n",
       "      <th></th>\n",
       "      <th></th>\n",
       "      <th></th>\n",
       "    </tr>\n",
       "  </thead>\n",
       "  <tbody>\n",
       "    <tr>\n",
       "      <th>Vp01</th>\n",
       "      <td>36.06283</td>\n",
       "      <td>702.266876</td>\n",
       "      <td>59.242368</td>\n",
       "      <td>36.08348</td>\n",
       "      <td>0.084359</td>\n",
       "      <td>0.051352</td>\n",
       "      <td>699.21875</td>\n",
       "      <td>57.914062</td>\n",
       "      <td>0.082827</td>\n",
       "      <td>74.21875</td>\n",
       "      <td>...</td>\n",
       "      <td>0.506429</td>\n",
       "      <td>0.493571</td>\n",
       "      <td>56.822389</td>\n",
       "      <td>56.096404</td>\n",
       "      <td>0.506778</td>\n",
       "      <td>0.493222</td>\n",
       "      <td>42.195527</td>\n",
       "      <td>41.627364</td>\n",
       "      <td>1.415152</td>\n",
       "      <td>1.46064</td>\n",
       "    </tr>\n",
       "  </tbody>\n",
       "</table>\n",
       "<p>1 rows × 43 columns</p>\n",
       "</div>"
      ],
      "text/plain": [
       "            HRV_RMSSD  HRV_MeanNN   HRV_SDNN  HRV_SDSD  HRV_CVNN  HRV_CVSD  \\\n",
       "subject_id                                                                   \n",
       "Vp01         36.06283  702.266876  59.242368  36.08348  0.084359  0.051352   \n",
       "\n",
       "            HRV_MedianNN  HRV_MadNN  HRV_MCVNN  HRV_IQRNN  ...   HRV_C2d  \\\n",
       "subject_id                                                 ...             \n",
       "Vp01           699.21875  57.914062   0.082827   74.21875  ...  0.506429   \n",
       "\n",
       "             HRV_C2a   HRV_SD2d   HRV_SD2a    HRV_Cd    HRV_Ca  HRV_SDNNd  \\\n",
       "subject_id                                                                  \n",
       "Vp01        0.493571  56.822389  56.096404  0.506778  0.493222  42.195527   \n",
       "\n",
       "            HRV_SDNNa  HRV_ApEn  HRV_SampEn  \n",
       "subject_id                                   \n",
       "Vp01        41.627364  1.415152     1.46064  \n",
       "\n",
       "[1 rows x 43 columns]"
      ]
     },
     "execution_count": 7,
     "metadata": {},
     "output_type": "execute_result"
    }
   ],
   "source": [
    "ep.hrv_process(ep, 'Data', index='Vp01', index_name=\"subject_id\")"
   ]
  },
  {
   "cell_type": "markdown",
   "metadata": {},
   "source": [
    "Übersicht plotten:"
   ]
  },
  {
   "cell_type": "code",
   "execution_count": 9,
   "metadata": {},
   "outputs": [
    {
     "data": {
      "application/vnd.jupyter.widget-view+json": {
       "model_id": "ceb462e14c104504ae49702b76584c37",
       "version_major": 2,
       "version_minor": 0
      },
      "text/plain": [
       "Canvas(toolbar=Toolbar(toolitems=[('Home', 'Reset original view', 'home', 'home'), ('Back', 'Back to previous …"
      ]
     },
     "metadata": {},
     "output_type": "display_data"
    }
   ],
   "source": [
    "fig, axs = ecg.plotting.hrv_plot(ep, 'Data', figsize=(10,5))"
   ]
  },
  {
   "cell_type": "code",
   "execution_count": null,
   "metadata": {},
   "outputs": [],
   "source": []
  }
 ],
 "metadata": {
  "kernelspec": {
   "display_name": "Python 3",
   "language": "python",
   "name": "python3"
  },
  "language_info": {
   "codemirror_mode": {
    "name": "ipython",
    "version": 3
   },
   "file_extension": ".py",
   "mimetype": "text/x-python",
   "name": "python",
   "nbconvert_exporter": "python",
   "pygments_lexer": "ipython3",
   "version": "3.8.3"
  }
 },
 "nbformat": 4,
 "nbformat_minor": 4
}
