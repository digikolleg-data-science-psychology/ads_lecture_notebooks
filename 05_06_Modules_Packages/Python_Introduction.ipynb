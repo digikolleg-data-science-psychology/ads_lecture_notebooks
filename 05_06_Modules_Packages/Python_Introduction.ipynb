{
 "cells": [
  {
   "cell_type": "markdown",
   "metadata": {
    "id": "H2VtDhkya1Jq"
   },
   "source": [
    "# <b>Einführung in Python<b>"
   ]
  },
  {
   "cell_type": "markdown",
   "metadata": {
    "id": "YKki1sMYa1Jw"
   },
   "source": [
    "## <b>Ausgabe von Text:<b>"
   ]
  },
  {
   "cell_type": "code",
   "execution_count": 1,
   "metadata": {
    "id": "s8g2Ioy6a1Jx",
    "outputId": "fbb11ec0-e478-47c4-8a15-263728581388"
   },
   "outputs": [
    {
     "name": "stdout",
     "output_type": "stream",
     "text": [
      "Hello World\n"
     ]
    }
   ],
   "source": [
    "print(\"Hello World\")"
   ]
  },
  {
   "cell_type": "markdown",
   "metadata": {
    "id": "XJj28vzda1Jy"
   },
   "source": [
    "## <b>Variablen:<b>"
   ]
  },
  {
   "cell_type": "markdown",
   "metadata": {
    "id": "rmKuhUPza1Jz"
   },
   "source": [
    "https://scipy-lectures.org/intro/language/basic_types.html"
   ]
  },
  {
   "cell_type": "markdown",
   "metadata": {
    "id": "OUz1XGvPa1J0"
   },
   "source": [
    "Initialisierung von zwei Variablen, beide sind vom Typ `int`:"
   ]
  },
  {
   "cell_type": "code",
   "execution_count": 3,
   "metadata": {
    "id": "uEsobeQja1J0",
    "outputId": "9e3b8955-7cac-4098-8fc2-d2a3bd3ecb40"
   },
   "outputs": [
    {
     "name": "stdout",
     "output_type": "stream",
     "text": [
      "<class 'int'>\n"
     ]
    }
   ],
   "source": [
    "a = 10\n",
    "b = 4\n",
    "# type(x) gibt den Datentyp der Variable wieder\n",
    "print(type(b))"
   ]
  },
  {
   "cell_type": "markdown",
   "metadata": {
    "id": "7EjFaRK3a1J0"
   },
   "source": [
    "Arithmetische Operationen"
   ]
  },
  {
   "cell_type": "code",
   "execution_count": 6,
   "metadata": {
    "id": "NG7nO3uxa1J0",
    "outputId": "642989d1-d83c-4301-8f4c-826160a51e5d"
   },
   "outputs": [
    {
     "name": "stdout",
     "output_type": "stream",
     "text": [
      "40\n",
      "2.5\n",
      "2\n",
      "2\n",
      "10000\n"
     ]
    }
   ],
   "source": [
    "c = a * b    # Multiplikation\n",
    "d = a / b    # Division\n",
    "e = a // b   # Ganzzahldivision\n",
    "f = a % b    # Modulo (Rest der Ganzzahldivision)\n",
    "g = a ** b   # Potenz\n",
    "print(c)\n",
    "print(d)\n",
    "print(e)\n",
    "print(f)\n",
    "print(g)"
   ]
  },
  {
   "cell_type": "code",
   "execution_count": 10,
   "metadata": {
    "id": "JTghhDgca1J0",
    "outputId": "fef21b89-bd07-45e0-e85e-d97e0c57c56e"
   },
   "outputs": [
    {
     "data": {
      "text/plain": [
       "int"
      ]
     },
     "execution_count": 10,
     "metadata": {},
     "output_type": "execute_result"
    }
   ],
   "source": [
    "# Ausgeben des Rückgabewerts von type(b) ohne 'print'\n",
    "type(b)"
   ]
  },
  {
   "cell_type": "markdown",
   "metadata": {
    "id": "mkPqi75ga1J2"
   },
   "source": [
    "<div class=\"alert alert-block alert-info\">\n",
    "    <b>Exkurs:</b> Wird eine Notebook-Zelle mit dem Namen einer Variable oder einer nicht-zugewiesenen Anweisung beendet, gibt Jupyper diese direkt aus. Besonders pandas Dataframes (mehr dazu später) werden dadurch schön dargestellt. Mittels <code>display(variable)</code> kann man diese Jupyterfunktion manuell aufrufen.\n",
    "</div>"
   ]
  },
  {
   "cell_type": "markdown",
   "metadata": {
    "id": "DpzGqhCBa1J3"
   },
   "source": [
    "Der Typ von Variablen ist **nicht fest** (im Gegensatz zu Java oder C):"
   ]
  },
  {
   "cell_type": "code",
   "execution_count": 11,
   "metadata": {
    "id": "RJUGu7xTa1J3",
    "outputId": "53f06a60-ae48-4682-9a31-8dece4f4e20b"
   },
   "outputs": [
    {
     "name": "stdout",
     "output_type": "stream",
     "text": [
      "<class 'int'>\n",
      "<class 'float'>\n",
      "<class 'str'>\n"
     ]
    }
   ],
   "source": [
    "b = 2\n",
    "print(type(b))\n",
    "b = 2.0\n",
    "print(type(b))\n",
    "b = 'hello'\n",
    "print(type(b))"
   ]
  },
  {
   "cell_type": "markdown",
   "metadata": {
    "id": "tauZ4Zq7a1J4"
   },
   "source": [
    "## <b>Strings:</b>"
   ]
  },
  {
   "cell_type": "markdown",
   "metadata": {
    "id": "P1k3Z8XCa1J4"
   },
   "source": [
    "https://scipy-lectures.org/intro/language/basic_types.html#strings"
   ]
  },
  {
   "cell_type": "code",
   "execution_count": 14,
   "metadata": {
    "id": "Tydo95Iwa1J4",
    "outputId": "87e4af8b-5022-4acd-f73f-6cbd2f6c57c5"
   },
   "outputs": [
    {
     "data": {
      "text/plain": [
       "'Hello'"
      ]
     },
     "execution_count": 14,
     "metadata": {},
     "output_type": "execute_result"
    }
   ],
   "source": [
    "b = \"Hello\"\n",
    "b"
   ]
  },
  {
   "cell_type": "markdown",
   "metadata": {
    "id": "xsihnVrda1J5"
   },
   "source": [
    "Konkatenieren (Zusammenhängen) von Strings"
   ]
  },
  {
   "cell_type": "code",
   "execution_count": 15,
   "metadata": {
    "id": "YKOZDqC4a1J5",
    "outputId": "1993cce7-e4a1-487f-f9d9-364a6f3286e1"
   },
   "outputs": [
    {
     "name": "stdout",
     "output_type": "stream",
     "text": [
      "HelloHello\n",
      "HelloHelloHelloHello\n"
     ]
    }
   ],
   "source": [
    "print(b + b)\n",
    "print(4 * b)"
   ]
  },
  {
   "cell_type": "markdown",
   "metadata": {
    "id": "0_b8xQ0Za1J5"
   },
   "source": [
    "## <b>Funktionen:<b>"
   ]
  },
  {
   "cell_type": "markdown",
   "metadata": {
    "id": "9uLUivsCa1J5"
   },
   "source": [
    "https://scipy-lectures.org/intro/language/functions.html"
   ]
  },
  {
   "cell_type": "markdown",
   "metadata": {
    "id": "aUjvj4V7a1J6"
   },
   "source": [
    "Funktionen in Python werden mit `def` definiert."
   ]
  },
  {
   "cell_type": "code",
   "execution_count": 16,
   "metadata": {
    "id": "6iT-uoeya1J6"
   },
   "outputs": [],
   "source": [
    "def square(i):\n",
    "    return i * i"
   ]
  },
  {
   "cell_type": "code",
   "execution_count": 17,
   "metadata": {
    "id": "kusPTf5Da1J6",
    "outputId": "91a38b34-0378-4e0f-e315-de1e763dc4fe"
   },
   "outputs": [
    {
     "data": {
      "text/plain": [
       "25"
      ]
     },
     "execution_count": 17,
     "metadata": {},
     "output_type": "execute_result"
    }
   ],
   "source": [
    "square(5)"
   ]
  },
  {
   "cell_type": "markdown",
   "metadata": {
    "id": "zUycI7LSa1J6"
   },
   "source": [
    "<div class=\"alert alert-block alert-info\">\n",
    "    <b>Einrücken:</b> Code innerhalb einer Funktion muss eingerückt werden\n",
    "</div>"
   ]
  },
  {
   "cell_type": "markdown",
   "metadata": {
    "id": "8gL4Qh_Fa1J6"
   },
   "source": [
    "## <b>Container:</b>"
   ]
  },
  {
   "cell_type": "markdown",
   "metadata": {
    "id": "s0q7Louda1J7"
   },
   "source": [
    "Container: Konstrukte, in denen Sammlungen von Objekten gespeichert werden können.\n",
    "- Listen\n",
    "- Tuples\n",
    "- Dictionaries"
   ]
  },
  {
   "cell_type": "markdown",
   "metadata": {
    "id": "m4Td7YENa1J7"
   },
   "source": [
    "### <b>Listen:<b>"
   ]
  },
  {
   "cell_type": "markdown",
   "metadata": {
    "id": "2fTj1-Sqa1J7"
   },
   "source": [
    "https://scipy-lectures.org/intro/language/basic_types.html#containers"
   ]
  },
  {
   "cell_type": "markdown",
   "metadata": {
    "id": "OL2QtM0Ga1J7"
   },
   "source": [
    "Eine Liste ist eine geordnete Sammlung von Objecten, welche von unterschiedlichen Typen sein können, zum Beispiel:"
   ]
  },
  {
   "cell_type": "code",
   "execution_count": 18,
   "metadata": {
    "id": "JKHlKTIwa1J7",
    "outputId": "9c10e1cb-9372-4bd7-e0a8-7e58c806793d"
   },
   "outputs": [
    {
     "data": {
      "text/plain": [
       "list"
      ]
     },
     "execution_count": 18,
     "metadata": {},
     "output_type": "execute_result"
    }
   ],
   "source": [
    "colors = ['red', 'blue', 'green', 'black', 'white']\n",
    "type(colors)"
   ]
  },
  {
   "cell_type": "markdown",
   "metadata": {
    "id": "1FKevLlQa1J8"
   },
   "source": [
    "Länge der Liste mittels `len()`"
   ]
  },
  {
   "cell_type": "code",
   "execution_count": 19,
   "metadata": {
    "id": "29QsvIVta1J8",
    "outputId": "f32899ef-6e7e-4872-f01a-b743a0201e04"
   },
   "outputs": [
    {
     "data": {
      "text/plain": [
       "5"
      ]
     },
     "execution_count": 19,
     "metadata": {},
     "output_type": "execute_result"
    }
   ],
   "source": [
    "len(colors)"
   ]
  },
  {
   "cell_type": "markdown",
   "metadata": {
    "id": "m5cjXkLva1J9"
   },
   "source": [
    "#### Zugriff auf einzelne in der Liste enthaltenen Objekte:"
   ]
  },
  {
   "cell_type": "code",
   "execution_count": 21,
   "metadata": {
    "id": "T-KOW4RMa1J9",
    "outputId": "94469375-2e3d-47e6-f908-a343ca1932c7"
   },
   "outputs": [
    {
     "data": {
      "text/plain": [
       "'red'"
      ]
     },
     "execution_count": 21,
     "metadata": {},
     "output_type": "execute_result"
    }
   ],
   "source": [
    "colors[0]"
   ]
  },
  {
   "cell_type": "markdown",
   "metadata": {
    "id": "6y1Dsbpua1J9"
   },
   "source": [
    "Mit negativen Indizes kann vom Ende beginnend gezählt werden:"
   ]
  },
  {
   "cell_type": "code",
   "execution_count": 24,
   "metadata": {
    "id": "ycd2Gfcfa1J9",
    "outputId": "73d7e363-82f5-4022-f222-2737633f76b9"
   },
   "outputs": [
    {
     "data": {
      "text/plain": [
       "'white'"
      ]
     },
     "execution_count": 24,
     "metadata": {},
     "output_type": "execute_result"
    }
   ],
   "source": [
    "colors[-1]"
   ]
  },
  {
   "cell_type": "markdown",
   "metadata": {
    "id": "jS7ddAeba1J-"
   },
   "source": [
    "<div class=\"alert alert-block alert-info\">\n",
    "    <b>Indizes starten bei 0</b>, nicht bei 1!\n",
    "</div>"
   ]
  },
  {
   "cell_type": "markdown",
   "metadata": {
    "id": "5wO08rfLa1J-"
   },
   "source": [
    "#### Slicing: \"Ausschneiden\" von Teillisten aus der Liste.\n",
    "\n",
    "Syntax: `list[start:stop:stride]`, alle Parameter sind optional:"
   ]
  },
  {
   "cell_type": "markdown",
   "metadata": {
    "id": "hy1hxyGNa1J-"
   },
   "source": [
    "<div class=\"alert alert-block alert-info\">\n",
    "    $colors[start:stop]$ enthält die Elemente mit allen Indices $i$, wobei $start<= i < stop$ ($i$ reicht von $start$ bis $stop-1$).\n",
    "</div>"
   ]
  },
  {
   "cell_type": "code",
   "execution_count": 25,
   "metadata": {
    "id": "0xy9xdz9a1J-",
    "outputId": "6f8a492c-9edf-4430-ed7a-a5cda739b544"
   },
   "outputs": [
    {
     "data": {
      "text/plain": [
       "['red', 'blue', 'green', 'black', 'white']"
      ]
     },
     "execution_count": 25,
     "metadata": {},
     "output_type": "execute_result"
    }
   ],
   "source": [
    "colors"
   ]
  },
  {
   "cell_type": "code",
   "execution_count": 26,
   "metadata": {
    "id": "xDx15rRya1J-",
    "outputId": "6fa80fdd-36ae-45ad-934d-dca007bd6f53"
   },
   "outputs": [
    {
     "data": {
      "text/plain": [
       "['green', 'black']"
      ]
     },
     "execution_count": 26,
     "metadata": {},
     "output_type": "execute_result"
    }
   ],
   "source": [
    "colors[2:4]"
   ]
  },
  {
   "cell_type": "code",
   "execution_count": 27,
   "metadata": {
    "id": "UqOGmC7Da1J_",
    "outputId": "3e95471f-b7f0-475d-ec52-999ee5676055"
   },
   "outputs": [
    {
     "data": {
      "text/plain": [
       "['black', 'white']"
      ]
     },
     "execution_count": 27,
     "metadata": {},
     "output_type": "execute_result"
    }
   ],
   "source": [
    "colors[3:]"
   ]
  },
  {
   "cell_type": "code",
   "execution_count": 28,
   "metadata": {
    "id": "8O5U3Java1J_",
    "outputId": "4ad1aa52-9964-42af-a378-808781c54a5e"
   },
   "outputs": [
    {
     "data": {
      "text/plain": [
       "['red', 'green', 'white']"
      ]
     },
     "execution_count": 28,
     "metadata": {},
     "output_type": "execute_result"
    }
   ],
   "source": [
    "colors[::2]"
   ]
  },
  {
   "cell_type": "code",
   "execution_count": 29,
   "metadata": {
    "id": "G0dTmOVda1KA",
    "outputId": "2b5210a2-4771-48cc-e6df-b35aaf388baf"
   },
   "outputs": [
    {
     "data": {
      "text/plain": [
       "['red', 'blue', 'green']"
      ]
     },
     "execution_count": 29,
     "metadata": {},
     "output_type": "execute_result"
    }
   ],
   "source": [
    "colors[:3]"
   ]
  },
  {
   "cell_type": "markdown",
   "metadata": {
    "id": "XPjwKPk0a1KA"
   },
   "source": [
    "Umdrehen der Liste"
   ]
  },
  {
   "cell_type": "code",
   "execution_count": 30,
   "metadata": {
    "id": "7Xye62PRa1KA",
    "outputId": "cb3b4d76-87a3-44ae-fef4-65fe54b331db"
   },
   "outputs": [
    {
     "data": {
      "text/plain": [
       "['white', 'black', 'green', 'blue', 'red']"
      ]
     },
     "execution_count": 30,
     "metadata": {},
     "output_type": "execute_result"
    }
   ],
   "source": [
    "colors[::-1]"
   ]
  },
  {
   "cell_type": "markdown",
   "metadata": {
    "id": "DXdRNLgDa1KA"
   },
   "source": [
    "#### Modifizieren von Listen:"
   ]
  },
  {
   "cell_type": "markdown",
   "metadata": {
    "id": "kFf5aRIYa1KA"
   },
   "source": [
    "Listen sind *mutable* (veränderbar)"
   ]
  },
  {
   "cell_type": "code",
   "execution_count": 31,
   "metadata": {
    "id": "Hau04tNEa1KB",
    "outputId": "09e1c839-1a51-4419-faef-d564644d01c9"
   },
   "outputs": [
    {
     "name": "stdout",
     "output_type": "stream",
     "text": [
      "['red', 'blue', 'green', 'black', 'white']\n",
      "['red', 'cyan', 'green', 'black', 'white']\n",
      "['red', 'cyan', 'gray', 'orange', 'white']\n"
     ]
    }
   ],
   "source": [
    "print(colors)\n",
    "colors[1] = 'cyan'\n",
    "print(colors)\n",
    "colors[2:4] = ['gray', 'orange']\n",
    "print(colors)"
   ]
  },
  {
   "cell_type": "markdown",
   "metadata": {
    "id": "6vye5pmra1KB"
   },
   "source": [
    "Konkatenieren (Aneinanderhängen) zweier Listen:"
   ]
  },
  {
   "cell_type": "code",
   "execution_count": 32,
   "metadata": {
    "id": "MnDK8PlHa1KB"
   },
   "outputs": [],
   "source": [
    "colors = ['red', 'blue', 'green', 'black', 'white']"
   ]
  },
  {
   "cell_type": "code",
   "execution_count": 33,
   "metadata": {},
   "outputs": [
    {
     "data": {
      "text/plain": [
       "['red', 'blue', 'green', 'black', 'white']"
      ]
     },
     "execution_count": 33,
     "metadata": {},
     "output_type": "execute_result"
    }
   ],
   "source": [
    "colors"
   ]
  },
  {
   "cell_type": "code",
   "execution_count": 34,
   "metadata": {
    "id": "wKFTC0Oka1KB",
    "outputId": "98fc38cd-83fb-42b6-a0ae-c4d8527aa6ef"
   },
   "outputs": [
    {
     "name": "stdout",
     "output_type": "stream",
     "text": [
      "['red', 'blue', 'green', 'black', 'white', 'white', 'black', 'green', 'blue', 'red']\n"
     ]
    }
   ],
   "source": [
    "print(colors + colors[::-1])"
   ]
  },
  {
   "cell_type": "markdown",
   "metadata": {
    "id": "WcJgF_J9a1KB"
   },
   "source": [
    "Wiederholen von Listen:"
   ]
  },
  {
   "cell_type": "code",
   "execution_count": 35,
   "metadata": {
    "id": "FSAap-WLa1KB",
    "outputId": "b6408e1b-0061-4744-8755-03d328121291"
   },
   "outputs": [
    {
     "name": "stdout",
     "output_type": "stream",
     "text": [
      "['red', 'blue', 'green', 'black', 'white', 'red', 'blue', 'green', 'black', 'white', 'red', 'blue', 'green', 'black', 'white', 'red', 'blue', 'green', 'black', 'white', 'red', 'blue', 'green', 'black', 'white']\n"
     ]
    }
   ],
   "source": [
    "print(colors * 5)"
   ]
  },
  {
   "cell_type": "markdown",
   "metadata": {
    "id": "33JtGcHIa1KB"
   },
   "source": [
    "Sortieren von Listen (lexikographisch / aufsteigend):"
   ]
  },
  {
   "cell_type": "code",
   "execution_count": 36,
   "metadata": {
    "id": "1JuD53N0a1KC",
    "outputId": "93a42da2-d29b-49f2-96d9-e6f40e0266aa"
   },
   "outputs": [
    {
     "data": {
      "text/plain": [
       "['black', 'blue', 'green', 'red', 'white']"
      ]
     },
     "execution_count": 36,
     "metadata": {},
     "output_type": "execute_result"
    }
   ],
   "source": [
    "sorted(colors)"
   ]
  },
  {
   "cell_type": "markdown",
   "metadata": {
    "id": "fCBt3J6_a1KC"
   },
   "source": [
    "#### Slicen von Strings:"
   ]
  },
  {
   "cell_type": "markdown",
   "metadata": {
    "id": "ruc0xsHHa1KC"
   },
   "source": [
    "Analog zu Listen können auch Strings 'gesliced' werden."
   ]
  },
  {
   "cell_type": "code",
   "execution_count": 37,
   "metadata": {
    "id": "JBiwZqpRa1KC",
    "outputId": "b4b61ef9-d328-41ae-e609-6a35ef3150f2"
   },
   "outputs": [
    {
     "data": {
      "text/plain": [
       "'Hello Hello'"
      ]
     },
     "execution_count": 37,
     "metadata": {},
     "output_type": "execute_result"
    }
   ],
   "source": [
    "b = \"Hello Hello\"\n",
    "b"
   ]
  },
  {
   "cell_type": "code",
   "execution_count": 38,
   "metadata": {
    "id": "JBiwZqpRa1KC",
    "outputId": "b4b61ef9-d328-41ae-e609-6a35ef3150f2"
   },
   "outputs": [
    {
     "name": "stdout",
     "output_type": "stream",
     "text": [
      "Hello Hell\n",
      "ello Hello\n",
      "Hello\n",
      "ello Hell\n",
      "HloHl\n",
      "HloHlo\n"
     ]
    }
   ],
   "source": [
    "print(b[0:-1])\n",
    "print(b[1:])\n",
    "print(b[0:5])\n",
    "print(b[1:-1])\n",
    "print(b[0:-1:2])\n",
    "print(b[0::2])"
   ]
  },
  {
   "cell_type": "markdown",
   "metadata": {
    "id": "S_3k-vZga1KC"
   },
   "source": [
    "### <b>Tuples:</b>"
   ]
  },
  {
   "cell_type": "markdown",
   "metadata": {
    "id": "nhptO9XBa1KC"
   },
   "source": [
    "Im Prinzip *immutable* (unveränderliche) Listen"
   ]
  },
  {
   "cell_type": "code",
   "execution_count": 40,
   "metadata": {
    "id": "ynoR3P5fa1KD",
    "outputId": "1e2f1cc3-e50c-4089-fa1b-818572281918"
   },
   "outputs": [
    {
     "data": {
      "text/plain": [
       "tuple"
      ]
     },
     "execution_count": 40,
     "metadata": {},
     "output_type": "execute_result"
    }
   ],
   "source": [
    "colors = ('red', 'green', 'blue')\n",
    "type(colors)"
   ]
  },
  {
   "cell_type": "code",
   "execution_count": 41,
   "metadata": {
    "id": "9fyIVfM2a1KE",
    "outputId": "09f3d092-f5bd-41f9-d4b5-283f5d5894c2"
   },
   "outputs": [
    {
     "data": {
      "text/plain": [
       "'red'"
      ]
     },
     "execution_count": 41,
     "metadata": {},
     "output_type": "execute_result"
    }
   ],
   "source": [
    "colors[0]"
   ]
  },
  {
   "cell_type": "markdown",
   "metadata": {
    "id": "IjmctHNJa1KE"
   },
   "source": [
    "Tuple-Einträge können nach Anlegen nicht mehr verändert werden"
   ]
  },
  {
   "cell_type": "code",
   "execution_count": 42,
   "metadata": {
    "id": "Pc22YEp-a1KE",
    "outputId": "2c671446-74ff-4887-cb2e-cf10febd4c16"
   },
   "outputs": [
    {
     "ename": "TypeError",
     "evalue": "'tuple' object does not support item assignment",
     "output_type": "error",
     "traceback": [
      "\u001b[0;31m---------------------------------------------------------------------------\u001b[0m",
      "\u001b[0;31mTypeError\u001b[0m                                 Traceback (most recent call last)",
      "\u001b[0;32m<ipython-input-42-383f026ca54d>\u001b[0m in \u001b[0;36m<module>\u001b[0;34m\u001b[0m\n\u001b[0;32m----> 1\u001b[0;31m \u001b[0mcolors\u001b[0m\u001b[0;34m[\u001b[0m\u001b[0;36m0\u001b[0m\u001b[0;34m]\u001b[0m \u001b[0;34m=\u001b[0m \u001b[0;34m'red'\u001b[0m \u001b[0;31m# this will throw an error\u001b[0m\u001b[0;34m\u001b[0m\u001b[0;34m\u001b[0m\u001b[0m\n\u001b[0m",
      "\u001b[0;31mTypeError\u001b[0m: 'tuple' object does not support item assignment"
     ]
    }
   ],
   "source": [
    "colors[0] = 'red' # this will throw an error"
   ]
  },
  {
   "cell_type": "markdown",
   "metadata": {
    "id": "vSTBNbxZa1KE"
   },
   "source": [
    "### <b>Dictionaries:</b>"
   ]
  },
  {
   "cell_type": "markdown",
   "metadata": {
    "id": "qyzVE7kXa1KE"
   },
   "source": [
    "Effiziente Datenstruktur, um *Schlüssel-Wert-Paare* (*key-value-pairs*) zu speichern.  \n",
    "https://scipy-lectures.org/intro/language/basic_types.html#dictionaries"
   ]
  },
  {
   "cell_type": "code",
   "execution_count": 43,
   "metadata": {
    "id": "69YdYkIGa1KE",
    "outputId": "95851cc7-c0a7-4490-eb9c-9687a93f5bc6"
   },
   "outputs": [
    {
     "data": {
      "text/plain": [
       "{'age': 25, 'gender': 'male', 'subject_id': 'Vp01', 'data': [1, 2, 3, 4, 5, 6]}"
      ]
     },
     "execution_count": 43,
     "metadata": {},
     "output_type": "execute_result"
    }
   ],
   "source": [
    "subject_info = {\n",
    "    'age': 25,\n",
    "    'gender': 'male',\n",
    "    'subject_id': 'Vp01',\n",
    "    'data': [1, 2, 3, 4, 5, 6]\n",
    "}\n",
    "\n",
    "subject_info"
   ]
  },
  {
   "cell_type": "code",
   "execution_count": 45,
   "metadata": {},
   "outputs": [
    {
     "data": {
      "text/plain": [
       "'male'"
      ]
     },
     "execution_count": 45,
     "metadata": {},
     "output_type": "execute_result"
    }
   ],
   "source": [
    "subject_info['gender']"
   ]
  },
  {
   "cell_type": "markdown",
   "metadata": {
    "id": "uutvR6cea1KE"
   },
   "source": [
    "Liste der Keys"
   ]
  },
  {
   "cell_type": "code",
   "execution_count": 46,
   "metadata": {
    "id": "esyzkyhga1KE",
    "outputId": "d26f2334-323c-4d6a-8efc-b42404251d51"
   },
   "outputs": [
    {
     "data": {
      "text/plain": [
       "['age', 'gender', 'subject_id', 'data']"
      ]
     },
     "execution_count": 46,
     "metadata": {},
     "output_type": "execute_result"
    }
   ],
   "source": [
    "list(subject_info.keys())"
   ]
  },
  {
   "cell_type": "markdown",
   "metadata": {
    "id": "9Q6oweQMa1KF"
   },
   "source": [
    "Liste der Values"
   ]
  },
  {
   "cell_type": "code",
   "execution_count": 50,
   "metadata": {
    "id": "-RxSs_pIa1KF",
    "outputId": "be7a60bb-07a3-4dc7-a7f1-49883b08ca97"
   },
   "outputs": [
    {
     "data": {
      "text/plain": [
       "[25, 'male', 'Vp01', [1, 2, 3, 4, 5, 6]]"
      ]
     },
     "execution_count": 50,
     "metadata": {},
     "output_type": "execute_result"
    }
   ],
   "source": [
    "list(subject_info.values())"
   ]
  },
  {
   "cell_type": "markdown",
   "metadata": {
    "id": "8nQ43p63a1KF"
   },
   "source": [
    "Liste der Key-Value-Paare (jedes Paar als `tuple`)"
   ]
  },
  {
   "cell_type": "code",
   "execution_count": 51,
   "metadata": {
    "id": "9k3slxnSa1KF",
    "outputId": "80a39b5a-1a7c-43c6-d1c0-d2834a506cdf"
   },
   "outputs": [
    {
     "data": {
      "text/plain": [
       "[('age', 25),\n",
       " ('gender', 'male'),\n",
       " ('subject_id', 'Vp01'),\n",
       " ('data', [1, 2, 3, 4, 5, 6])]"
      ]
     },
     "execution_count": 51,
     "metadata": {},
     "output_type": "execute_result"
    }
   ],
   "source": [
    "list(subject_info.items())"
   ]
  },
  {
   "cell_type": "markdown",
   "metadata": {
    "id": "zbueGnX1a1KF"
   },
   "source": [
    "Überprüfen, ob ein *key* im Dictionary enthalten ist"
   ]
  },
  {
   "cell_type": "code",
   "execution_count": 52,
   "metadata": {
    "id": "fPPH6qTWa1KF",
    "outputId": "3f883801-ad2c-4a46-e933-2339714d9ee1"
   },
   "outputs": [
    {
     "name": "stdout",
     "output_type": "stream",
     "text": [
      "True\n",
      "False\n"
     ]
    }
   ],
   "source": [
    "print('subject_id' in subject_info)\n",
    "print('name' in subject_info)"
   ]
  },
  {
   "cell_type": "code",
   "execution_count": 55,
   "metadata": {},
   "outputs": [
    {
     "name": "stdout",
     "output_type": "stream",
     "text": [
      "Name not a key of subject_info!\n"
     ]
    }
   ],
   "source": [
    "if 'name' in subject_info:\n",
    "    print(subject_info['name'])\n",
    "else:\n",
    "    print(\"Name not a key of subject_info!\")"
   ]
  },
  {
   "cell_type": "markdown",
   "metadata": {
    "id": "ceOZYpbra1KG"
   },
   "source": [
    "## <b>Schleifen:<b>"
   ]
  },
  {
   "cell_type": "markdown",
   "metadata": {
    "id": "pHQjA5Ufa1KG"
   },
   "source": [
    "https://scipy-lectures.org/intro/language/control_flow.html"
   ]
  },
  {
   "cell_type": "code",
   "execution_count": 60,
   "metadata": {
    "id": "HQvj7Emta1KG",
    "outputId": "990fa32b-fcbe-4aff-8128-dc49b85612c6"
   },
   "outputs": [
    {
     "name": "stdout",
     "output_type": "stream",
     "text": [
      "0\n",
      "1\n",
      "2\n",
      "3\n",
      "4\n",
      "5\n",
      "6\n",
      "7\n",
      "8\n",
      "9\n"
     ]
    }
   ],
   "source": [
    "for i in range(10):\n",
    "    print(i)"
   ]
  },
  {
   "cell_type": "code",
   "execution_count": 61,
   "metadata": {},
   "outputs": [
    {
     "name": "stdout",
     "output_type": "stream",
     "text": [
      "red\n",
      "green\n",
      "blue\n"
     ]
    }
   ],
   "source": [
    "for item in colors:\n",
    "    print(item)"
   ]
  },
  {
   "cell_type": "code",
   "execution_count": 65,
   "metadata": {
    "id": "VvdoK4cva1KG",
    "outputId": "9b37de21-d319-4d9a-c572-607ce74f84e7"
   },
   "outputs": [
    {
     "name": "stdout",
     "output_type": "stream",
     "text": [
      "red 0\n",
      "green 1\n",
      "blue 2\n"
     ]
    }
   ],
   "source": [
    "for i, color in enumerate(colors):\n",
    "    #print('{}. list entry: {}'.format(i+1, color))\n",
    "    print(\"{} {}\".format(color, i))"
   ]
  },
  {
   "cell_type": "code",
   "execution_count": 66,
   "metadata": {
    "id": "y1LsYQS3a1KH",
    "outputId": "0ff49b29-83e6-430d-ca23-15c29795edad"
   },
   "outputs": [
    {
     "name": "stdout",
     "output_type": "stream",
     "text": [
      "Python is cool\n",
      "Python is powerful\n",
      "Python is readable\n"
     ]
    }
   ],
   "source": [
    "for word in ['cool', 'powerful', 'readable']:\n",
    "    print('Python is {}'.format(word))"
   ]
  },
  {
   "cell_type": "markdown",
   "metadata": {
    "id": "jaTd_rbHa1KH"
   },
   "source": [
    "### List Comprehension:\n",
    "\n",
    "https://scipy-lectures.org/intro/language/control_flow.html#list-comprehensions"
   ]
  },
  {
   "cell_type": "code",
   "execution_count": 68,
   "metadata": {
    "id": "Fp_18t2Pa1KH",
    "outputId": "61fd2770-89ea-4415-e07c-d4f9f242d369"
   },
   "outputs": [
    {
     "data": {
      "text/plain": [
       "[0, 1, 4, 9, 16, 25, 36, 49, 64, 81]"
      ]
     },
     "execution_count": 68,
     "metadata": {},
     "output_type": "execute_result"
    }
   ],
   "source": [
    "[i**2 for i in range(10)]"
   ]
  },
  {
   "cell_type": "code",
   "execution_count": 69,
   "metadata": {},
   "outputs": [
    {
     "data": {
      "text/plain": [
       "[0, 1, 2, 3, 4, 5, 6, 7, 8, 9]"
      ]
     },
     "execution_count": 69,
     "metadata": {},
     "output_type": "execute_result"
    }
   ],
   "source": [
    "[i for i in range(10)]"
   ]
  },
  {
   "cell_type": "code",
   "execution_count": 70,
   "metadata": {
    "id": "wUS2lrHJa1KH",
    "outputId": "00aab1ee-11d7-44f8-aba3-bd0ecc87df8a"
   },
   "outputs": [
    {
     "data": {
      "text/plain": [
       "[0, 2, 4, 6, 8]"
      ]
     },
     "execution_count": 70,
     "metadata": {},
     "output_type": "execute_result"
    }
   ],
   "source": [
    "[i for i in range(10) if i % 2 == 0]"
   ]
  },
  {
   "cell_type": "code",
   "execution_count": 71,
   "metadata": {
    "id": "KRHJQBNwa1KH",
    "outputId": "0678187d-8d1d-4e8b-8b2b-74cd2d7a64cc"
   },
   "outputs": [
    {
     "data": {
      "text/plain": [
       "[(0, 'even'),\n",
       " (1, 'uneven'),\n",
       " (2, 'even'),\n",
       " (3, 'uneven'),\n",
       " (4, 'even'),\n",
       " (5, 'uneven'),\n",
       " (6, 'even'),\n",
       " (7, 'uneven'),\n",
       " (8, 'even'),\n",
       " (9, 'uneven')]"
      ]
     },
     "execution_count": 71,
     "metadata": {},
     "output_type": "execute_result"
    }
   ],
   "source": [
    "[(i, 'even') if i % 2 == 0 else (i, 'uneven') for i in range(10)]"
   ]
  },
  {
   "cell_type": "markdown",
   "metadata": {
    "id": "HgoqZ3Mka1KH"
   },
   "source": [
    "Analog zur *List Comprehension* gibt es auch *Tuple Comprehension* und *Dict Comprehension*:"
   ]
  },
  {
   "cell_type": "code",
   "execution_count": 72,
   "metadata": {
    "id": "2Y3a1vVIa1KI"
   },
   "outputs": [],
   "source": [
    "data_list = [[0, 1, 2, 3, 4], [0, 2, 4, 6, 8], [1, 3, 5, 7, 9]]\n",
    "key_list = ['Vp01', 'Vp02', 'Vp03']"
   ]
  },
  {
   "cell_type": "code",
   "execution_count": 76,
   "metadata": {},
   "outputs": [
    {
     "data": {
      "text/plain": [
       "[[0, 1, 2, 3, 4], [0, 2, 4, 6, 8], [1, 3, 5, 7, 9]]"
      ]
     },
     "execution_count": 76,
     "metadata": {},
     "output_type": "execute_result"
    }
   ],
   "source": [
    "data_list"
   ]
  },
  {
   "cell_type": "code",
   "execution_count": 79,
   "metadata": {
    "id": "_SEey-OUa1KI",
    "outputId": "777100d1-5977-42f8-88b5-d6fb845b429e"
   },
   "outputs": [
    {
     "data": {
      "text/plain": [
       "{'Vp01': [0, 1, 2, 3, 4], 'Vp02': [0, 2, 4, 6, 8], 'Vp03': [1, 3, 5, 7, 9]}"
      ]
     },
     "execution_count": 79,
     "metadata": {},
     "output_type": "execute_result"
    }
   ],
   "source": [
    "{key: data for key, data in zip(key_list, data_list)}"
   ]
  },
  {
   "cell_type": "code",
   "execution_count": 82,
   "metadata": {
    "id": "xEWYJ-QMa1KI",
    "outputId": "b9dc06c8-301c-452e-c5af-c0c4322221ab"
   },
   "outputs": [
    {
     "data": {
      "text/plain": [
       "{'Vp01': 10, 'Vp02': 20, 'Vp03': 25}"
      ]
     },
     "execution_count": 82,
     "metadata": {},
     "output_type": "execute_result"
    }
   ],
   "source": [
    "{key: sum(data) for key, data in zip(key_list, data_list)}"
   ]
  },
  {
   "cell_type": "markdown",
   "metadata": {
    "id": "l4KuPQKta1KJ"
   },
   "source": [
    "## <b>Arbeiten mit Dateien/Ordnern</b>"
   ]
  },
  {
   "cell_type": "markdown",
   "metadata": {
    "id": "ZVIDaf3Xa1KJ"
   },
   "source": [
    "Zuerst muss die Klasse `Path` importiert werden:"
   ]
  },
  {
   "cell_type": "code",
   "execution_count": 89,
   "metadata": {
    "id": "TU92kNmda1KJ"
   },
   "outputs": [],
   "source": [
    "from pathlib import Path"
   ]
  },
  {
   "cell_type": "markdown",
   "metadata": {
    "id": "hTUaENhXa1KJ"
   },
   "source": [
    "Syntax: `path = Path(\"<Pfad-zum-Ordner-oder-zur-Datei>\")`\n",
    "\n",
    "Aktuelles Verzeichnis:"
   ]
  },
  {
   "cell_type": "code",
   "execution_count": 90,
   "metadata": {
    "id": "xEpi-HOsa1KJ"
   },
   "outputs": [],
   "source": [
    "path = Path(\"\")"
   ]
  },
  {
   "cell_type": "markdown",
   "metadata": {},
   "source": [
    "Erzeugen von Pfaden mittels `Path.joinpath()`"
   ]
  },
  {
   "cell_type": "code",
   "execution_count": 93,
   "metadata": {},
   "outputs": [
    {
     "data": {
      "text/plain": [
       "PosixPath('data')"
      ]
     },
     "execution_count": 93,
     "metadata": {},
     "output_type": "execute_result"
    }
   ],
   "source": [
    "data_path = Path(\"data\")\n",
    "data_path"
   ]
  },
  {
   "cell_type": "code",
   "execution_count": 95,
   "metadata": {},
   "outputs": [
    {
     "data": {
      "text/plain": [
       "PosixPath('data/cortisol_sample.csv')"
      ]
     },
     "execution_count": 95,
     "metadata": {},
     "output_type": "execute_result"
    }
   ],
   "source": [
    "file_path = data_path.joinpath(\"cortisol_sample.csv\")\n",
    "file_path"
   ]
  },
  {
   "cell_type": "markdown",
   "metadata": {
    "id": "FnCrKWnxa1KJ"
   },
   "source": [
    "Operationen für eine spezifische Datei/Ordner:"
   ]
  },
  {
   "cell_type": "code",
   "execution_count": 98,
   "metadata": {
    "id": "eV8ihirAa1KJ",
    "outputId": "099471c7-3956-4795-c186-4c1c476a3f14"
   },
   "outputs": [
    {
     "name": "stdout",
     "output_type": "stream",
     "text": [
      "/Users/Richer/Google Drive/MaD/Health Psychology/Digital_Psychology_Lab/WS_202021/Vorlesung/Asynchron/04_Python-I/data\n",
      "False\n",
      "True\n",
      "\n",
      "/Users/Richer/Google Drive/MaD/Health Psychology/Digital_Psychology_Lab/WS_202021/Vorlesung/Asynchron/04_Python-I/data/cortisol_sample.csv\n",
      "True\n",
      "False\n",
      "\n"
     ]
    }
   ],
   "source": [
    "# Absoluter Pfad\n",
    "print(data_path.absolute())\n",
    "# Überprüfung, ob Pfad eine Datei oder ein Ordner ist\n",
    "print(data_path.is_file())\n",
    "print(data_path.is_dir())\n",
    "print(\"\")\n",
    "\n",
    "# Absoluter Pfad\n",
    "print(file_path.absolute())\n",
    "# Überprüfung, ob Pfad eine Datei oder ein Ordner ist\n",
    "print(file_path.is_file())\n",
    "print(file_path.is_dir())\n",
    "print(\"\")"
   ]
  },
  {
   "cell_type": "code",
   "execution_count": 101,
   "metadata": {
    "id": "eV8ihirAa1KJ",
    "outputId": "099471c7-3956-4795-c186-4c1c476a3f14"
   },
   "outputs": [
    {
     "name": "stdout",
     "output_type": "stream",
     "text": [
      ".csv\n",
      "cortisol_sample.csv\n",
      "data\n"
     ]
    }
   ],
   "source": [
    "# Dateiendung\n",
    "print(file_path.suffix)\n",
    "\n",
    "# Dateiname (inkl. Dateiendung)\n",
    "print(file_path.name)\n",
    "\n",
    "# Übergeordneter Pfad\n",
    "print(file_path.parent)"
   ]
  },
  {
   "cell_type": "markdown",
   "metadata": {
    "id": "VVd_PdpIa1KJ"
   },
   "source": [
    "Alles im aktuellen Verzeichnis auflisten (Dateien und Ordner):"
   ]
  },
  {
   "cell_type": "code",
   "execution_count": 104,
   "metadata": {
    "id": "zd49yFtra1KJ",
    "outputId": "f96758da-033b-4fdf-d2af-8f0496c2c84b"
   },
   "outputs": [
    {
     "data": {
      "text/plain": [
       "[PosixPath('.DS_Store'),\n",
       " PosixPath('.ipynb_checkpoints'),\n",
       " PosixPath('04_Python_I.pptx'),\n",
       " PosixPath('NumPy_SciPy.ipynb'),\n",
       " PosixPath('Pandas_Introduction.ipynb'),\n",
       " PosixPath('Python_Installationsanleitung.docx'),\n",
       " PosixPath('Python_Installationsanleitung.pdf'),\n",
       " PosixPath('Python_Introduction.ipynb'),\n",
       " PosixPath('Untitled.ipynb'),\n",
       " PosixPath('data'),\n",
       " PosixPath('~$04_Python_I.pptx')]"
      ]
     },
     "execution_count": 104,
     "metadata": {},
     "output_type": "execute_result"
    }
   ],
   "source": [
    "list(sorted(path.glob(\"*\")))"
   ]
  },
  {
   "cell_type": "markdown",
   "metadata": {
    "id": "Sd6a5HVha1KK"
   },
   "source": [
    "Alle Dateien im aktuellen Verzeichnis auflisten:"
   ]
  },
  {
   "cell_type": "code",
   "execution_count": 105,
   "metadata": {
    "id": "FDsa41FTa1KK",
    "outputId": "e06e5f26-6f3c-4587-8dc6-5e0df2266b37"
   },
   "outputs": [
    {
     "data": {
      "text/plain": [
       "[PosixPath('.DS_Store'),\n",
       " PosixPath('04_Python_I.pptx'),\n",
       " PosixPath('NumPy_SciPy.ipynb'),\n",
       " PosixPath('Pandas_Introduction.ipynb'),\n",
       " PosixPath('Python_Installationsanleitung.docx'),\n",
       " PosixPath('Python_Installationsanleitung.pdf'),\n",
       " PosixPath('Python_Introduction.ipynb'),\n",
       " PosixPath('Untitled.ipynb'),\n",
       " PosixPath('~$04_Python_I.pptx')]"
      ]
     },
     "execution_count": 105,
     "metadata": {},
     "output_type": "execute_result"
    }
   ],
   "source": [
    "[p for p in list(sorted(path.glob(\"*\"))) if Path.is_file(p)]"
   ]
  },
  {
   "cell_type": "markdown",
   "metadata": {
    "id": "EA8nteGEa1KL"
   },
   "source": [
    "Alle Ordner im aktuellen Verzeichnis auflisten:"
   ]
  },
  {
   "cell_type": "code",
   "execution_count": 106,
   "metadata": {
    "id": "M8DnljUXa1KL"
   },
   "outputs": [
    {
     "data": {
      "text/plain": [
       "[PosixPath('.ipynb_checkpoints'), PosixPath('data')]"
      ]
     },
     "execution_count": 106,
     "metadata": {},
     "output_type": "execute_result"
    }
   ],
   "source": [
    "[p for p in list(sorted(path.glob(\"*\"))) if Path.is_dir(p)]"
   ]
  },
  {
   "cell_type": "markdown",
   "metadata": {
    "id": "uVwEEdRga1KL"
   },
   "source": [
    "Alle Jupyter Notebooks (Endung: `.ipynb`) im aktuellen Verzeichnis auflisten:"
   ]
  },
  {
   "cell_type": "code",
   "execution_count": 107,
   "metadata": {
    "id": "L7cPCMtIa1KL",
    "outputId": "589ff9e5-3229-453d-c453-f438f9fcfd44"
   },
   "outputs": [
    {
     "data": {
      "text/plain": [
       "[PosixPath('NumPy_SciPy.ipynb'),\n",
       " PosixPath('Pandas_Introduction.ipynb'),\n",
       " PosixPath('Python_Introduction.ipynb'),\n",
       " PosixPath('Untitled.ipynb')]"
      ]
     },
     "execution_count": 107,
     "metadata": {},
     "output_type": "execute_result"
    }
   ],
   "source": [
    "[p for p in list(sorted(Path(\"\").glob(\"*.ipynb\")))]"
   ]
  },
  {
   "cell_type": "markdown",
   "metadata": {
    "id": "7kvn-5maa1KM"
   },
   "source": [
    "Alle `csv`-Dateien im Verzeichnis `data` auflisten:"
   ]
  },
  {
   "cell_type": "code",
   "execution_count": 110,
   "metadata": {
    "id": "rdsasVCra1KM",
    "outputId": "1e2b5780-d41a-4a52-ce11-6d90b0074742"
   },
   "outputs": [
    {
     "data": {
      "text/plain": [
       "[PosixPath('data/cortisol_sample.csv')]"
      ]
     },
     "execution_count": 110,
     "metadata": {},
     "output_type": "execute_result"
    }
   ],
   "source": [
    "[p for p in list(sorted(Path(\"data\").glob(\"*.csv\")))]"
   ]
  },
  {
   "cell_type": "code",
   "execution_count": null,
   "metadata": {
    "id": "q34kJT54a1KM"
   },
   "outputs": [],
   "source": []
  }
 ],
 "metadata": {
  "colab": {
   "name": "Einführung_Python.ipynb",
   "provenance": []
  },
  "kernelspec": {
   "display_name": "Python 3 (ipykernel)",
   "language": "python",
   "name": "python3"
  },
  "language_info": {
   "codemirror_mode": {
    "name": "ipython",
    "version": 3
   },
   "file_extension": ".py",
   "mimetype": "text/x-python",
   "name": "python",
   "nbconvert_exporter": "python",
   "pygments_lexer": "ipython3",
   "version": "3.9.8"
  }
 },
 "nbformat": 4,
 "nbformat_minor": 4
}
